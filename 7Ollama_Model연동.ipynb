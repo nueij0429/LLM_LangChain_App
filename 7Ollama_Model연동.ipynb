{
 "cells": [
  {
   "cell_type": "code",
   "execution_count": 1,
   "id": "7245f102",
   "metadata": {},
   "outputs": [
    {
     "name": "stdout",
     "output_type": "stream",
     "text": [
      "Ollama is running\n"
     ]
    }
   ],
   "source": [
    "import requests\n",
    "\n",
    "response = requests.get(\"http://127.0.0.1:11434\")\n",
    "print(response.text)"
   ]
  },
  {
   "cell_type": "markdown",
   "id": "ad42ae1c",
   "metadata": {},
   "source": [
    "### deepseek-r1:1.5b 모델 사용하기"
   ]
  },
  {
   "cell_type": "code",
   "execution_count": 4,
   "id": "aff0926d",
   "metadata": {},
   "outputs": [
    {
     "name": "stdout",
     "output_type": "stream",
     "text": [
      "<class 'langchain_core.messages.ai.AIMessage'>\n",
      "('<think>\\n'\n",
      " 'Alright, the user asked about \"LangChain.\" I know it\\'s a Python library for '\n",
      " 'LLMs, so I should explain what that means. Let me break it down.\\n'\n",
      " '\\n'\n",
      " \"First, I'll mention LangChain is built on open-source libraries like PyTorch \"\n",
      " \"and TensorFlow. It's designed to simplify working with language models \"\n",
      " 'because of its flexible architecture. That makes sense.\\n'\n",
      " '\\n'\n",
      " 'I should list the main features to give a clear picture. Maybe include '\n",
      " 'things like easy model management, integration into pipelines, customizable '\n",
      " 'training functions, and support for multiple languages or dialects. These '\n",
      " 'points will help users understand what they can do with LangChain.\\n'\n",
      " '\\n'\n",
      " 'I need to make sure I cover installation, configuration, data handling, '\n",
      " \"deployment options, and community support since that's important. Also, \"\n",
      " 'mentioning the open-source nature gives credit to the developers for '\n",
      " 'high-quality code.\\n'\n",
      " '\\n'\n",
      " \"Finally, I'll offer more information if needed so the user feels comfortable \"\n",
      " 'asking further questions.\\n'\n",
      " '</think>\\n'\n",
      " '\\n'\n",
      " 'LangChain is a Python library designed to simplify working with large '\n",
      " 'language models (LLMs). It provides a flexible and intuitive architecture '\n",
      " 'for building and managing LLM-based applications. Here are some key features '\n",
      " 'of LangChain:\\n'\n",
      " '\\n'\n",
      " '1. **Open-Source Underlying Libraries**: LangChain leverages open-source '\n",
      " 'libraries like PyTorch, TensorFlow, and NLTK under the hood. This ensures '\n",
      " 'that it is well-supported by a large community of developers.\\n'\n",
      " '\\n'\n",
      " '2. **Simplified Model Management**: LangChain allows users to easily manage '\n",
      " 'their LLM models through its modular architecture. Users can create custom '\n",
      " 'model configurations or use pre-trained models from popular frameworks like '\n",
      " \"HuggingFace's transformers.\\n\"\n",
      " '\\n'\n",
      " '3. **Integration with Machine Learning Pipelines**: LangChain is designed to '\n",
      " 'work seamlessly with machine learning pipelines, enabling the building of '\n",
      " 'applications that integrate text generation, classification, and other '\n",
      " 'tasks.\\n'\n",
      " '\\n'\n",
      " '4. **Customizable Training Functions**: Users can define their own training '\n",
      " 'functions for LLMs, allowing them to customize the training process based on '\n",
      " 'their specific needs.\\n'\n",
      " '\\n'\n",
      " '5. **Support for Multiple Languages/Dialects**: LangChain supports working '\n",
      " 'with language models in multiple languages or dialects through a simple '\n",
      " 'configuration layer.\\n'\n",
      " '\\n'\n",
      " '6. **Flexible Deployment Options**: The library is extensible and can be '\n",
      " 'deployed as both local and serverless applications, making it suitable for '\n",
      " 'use cases ranging from on-premises environments to cloud-based setups.\\n'\n",
      " '\\n'\n",
      " \"If you'd like more details about any of these features or need help with \"\n",
      " 'specific aspects of LangChain, feel free to ask!')\n"
     ]
    }
   ],
   "source": [
    "from langchain_ollama import ChatOllama\n",
    "from langchain_core.prompts import ChatPromptTemplate\n",
    "from pprint import pprint\n",
    "\n",
    "# Ollama를 사용하여 로컬에서 실행 중인 llama3.2 모델 로드\n",
    "llm = ChatOllama(model=\"deepseek-r1:1.5b\")\n",
    "\n",
    "# 더 정확한 응답을 위한 개선된 프롬프트\n",
    "prompt_template = ChatPromptTemplate.from_messages([\n",
    "    (\"system\", \"You are an AI assistant that provides accurate and detailed answers.\"),\n",
    "    (\"human\", \"Q: {question}\\nA:\")\n",
    "])\n",
    "\n",
    "# 최신 LangChain 방식: RunnableSequence 활용\n",
    "chain = prompt_template | llm\n",
    "\n",
    "# 실행 예시\n",
    "question = \"What is LangChain?\"\n",
    "response = chain.invoke({\"question\": question})\n",
    "\n",
    "print(type(response))\n",
    "pprint(response.content)"
   ]
  },
  {
   "cell_type": "markdown",
   "id": "dcf15845",
   "metadata": {},
   "source": [
    "### qwen2.5 모델 사용하기"
   ]
  },
  {
   "cell_type": "code",
   "execution_count": 5,
   "id": "23329af6",
   "metadata": {},
   "outputs": [
    {
     "name": "stdout",
     "output_type": "stream",
     "text": [
      "('파이썬은 컴퓨터 programming language (프로그래밍 언어)입니다. 이는 코드를 작성하고 실행하는 방법을 제공하는 특정 '\n",
      " '텍스트 파일 또는 프로그램 집합입니다.\\n'\n",
      " '\\n'\n",
      " '이 언어의 특징으로는:\\n'\n",
      " '\\n'\n",
      " '1. 명료한 설명을 요구하지 않음: 파이썬은 대개 명확하게 구조화된 코드를 사용하기 때문에 문장이 짧고 간결합니다.\\n'\n",
      " '\\n'\n",
      " '2. 인터페이스 평평함: 모든 기능들은 단일 함수나 메소드로 제공되며, 이는 애플리케이션의 분산화를 가능하게 합니다.\\n'\n",
      " '\\n'\n",
      " '3. 가볍고 높은 코드 쓰기 효율성: 파이썬은 실행 시간을 줄이는 스크립트 언어 중 하나로 알려져 있습니다.\\n'\n",
      " '\\n'\n",
      " '4. 국제화 및 지역화 지원: 파이썬은 다양한 언어와 문화를 지원하기 때문에 이는 글로벌 프로그래밍 환경에서 큰 이점을 제공합니다.\\n'\n",
      " '\\n'\n",
      " '5. 교육에 사용됨: 많은 대학과 학원에서 파이썬을 학습 대상으로 사용하여 컴퓨터 과학의 이해를 돕습니다.\\n'\n",
      " '\\n'\n",
      " '6. 빌드 및 배포 편리함: 설치가 필요 없이 쉽게 설치되어, 배포나 업데이트도 간단합니다.\\n'\n",
      " '\\n'\n",
      " '7. 개방형 프로젝트: 파이썬은 다양한 패키지와 모듈을 포함하여 이어진 프로젝트를 만들 수 있게 해 주므로, 복잡한 프로그래밍 작업을 '\n",
      " '쉽게 처리할 수 있습니다.\\n'\n",
      " '\\n'\n",
      " '8. 테스트 용량 증가: 테스트 코드를 작성하는 데 사용되는 자동화 프로그램이 훨씬 간편하게 작동하기 때문에 테스트 시간을 줄일 수 있는 '\n",
      " '장점도 있습니다.\\n'\n",
      " '\\n'\n",
      " '따라서 파이썬은 시스템 개발, 웹 배포, 데이터 분석 및 여러 다른 프로젝트를 위한 다양한 용도로 널리 사용되는 고급 프로그래밍 '\n",
      " '언어입니다.')\n"
     ]
    }
   ],
   "source": [
    "from langchain_ollama import ChatOllama\n",
    "from langchain_core.prompts import ChatPromptTemplate\n",
    "from pprint import pprint\n",
    "\n",
    "# Ollama를 사용하여 로컬에서 실행 중인 llama3.2 모델 로드\n",
    "llm = ChatOllama(model=\"qwen2.5:1.5b\")\n",
    "\n",
    "# 더 정확한 응답을 위한 개선된 프롬프트\n",
    "prompt_template = ChatPromptTemplate.from_messages([\n",
    "    (\"system\", \"You are an AI assistant that provides accurate and detailed answers.\"),\n",
    "    (\"human\", \"Q: {question}\\nA:\")\n",
    "])\n",
    "\n",
    "# 최신 LangChain 방식: RunnableSequence 활용\n",
    "chain = prompt_template | llm\n",
    "\n",
    "# 실행 예시\n",
    "question = \"파이썬은 무엇인가요?\"\n",
    "response = chain.invoke({\"question\": question})\n",
    "\n",
    "pprint(response.content)"
   ]
  },
  {
   "cell_type": "markdown",
   "id": "90dab6e6",
   "metadata": {},
   "source": [
    "### qwen3:1.7b 모델 사용하기"
   ]
  },
  {
   "cell_type": "code",
   "execution_count": 10,
   "id": "85a6b23c",
   "metadata": {},
   "outputs": [
    {
     "name": "stdout",
     "output_type": "stream",
     "text": [
      "<think>\n",
      "Okay, the user is asking what Python is, but they want the answer in Korean. Let me start by recalling the basic definition of Python. Python is a programming language, right? It's known for being easy to learn and powerful. I should mention that it's widely used in various fields like web development, data analysis, artificial intelligence, and more.\n",
      "\n",
      "Wait, the user might not know the basics, so I should explain it in simple terms. Maybe start with the word \"파이썬\" and then describe its features. Also, include that it's open-source and has a large community. Oh, and mention that it's interpreted, which means you don't need a compiler. That's a key point.\n",
      "\n",
      "I should also note that Python is object-oriented and has a simple syntax, which makes it accessible for beginners. Maybe add that it's used in projects like machine learning and data science. Oh, and the motto \"Readability counts\" is a good point to include.\n",
      "\n",
      "Wait, should I mention specific examples? Like, maybe mention that it's used in Django for web apps or TensorFlow for AI. But the user might not need specific examples. Keep it general.\n",
      "\n",
      "Also, check if there's any recent updates or features. Python 3.10 introduced some new features, but maybe that's too technical. The user might just want the core information.\n",
      "\n",
      "Make sure the answer is clear and concise. Avoid jargon. Use simple language. Alright, structure the answer with a definition, key features, and applications. That should cover it.\n",
      "</think>\n",
      "\n",
      "파이썬은 프로그래밍 언어로, 간결하고 직관적인 문법을 특징으로 합니다. 컴퓨터로 실행되는 코드를 작성하기 위해 사용되며, 웹 개발, 데이터 분석, 인공지능(AI), 라이브러리 개발 등 다양한 분야에서 널리 활용됩니다.  \n",
      "파이썬은 오픈소스로, 커뮤니티가 활발히 참여하여 다양한 라이브러리와 툴이 제공됩니다. 또한, 코드의 읽기 쉬움과 가독성에 강점을 갖추고 있어 신입 개발자나 기초적인 프로그래밍을 시작하는 사람들에게 적합합니다.\n"
     ]
    }
   ],
   "source": [
    "from langchain_ollama import ChatOllama\n",
    "from langchain_core.prompts import ChatPromptTemplate\n",
    "\n",
    "# Ollama를 사용하여 로컬에서 실행 중인 llama3.2 모델 로드\n",
    "llm = ChatOllama(model=\"qwen3:1.7b\")\n",
    "\n",
    "# 더 정확한 응답을 위한 개선된 프롬프트\n",
    "prompt_template = ChatPromptTemplate.from_messages([\n",
    "    (\"system\", \"You are an AI assistant that provides accurate and detailed answers.\"),\n",
    "    (\"human\", \"Q: {question}\\nA:\")\n",
    "])\n",
    "\n",
    "# 최신 LangChain 방식: RunnableSequence 활용\n",
    "chain = prompt_template | llm\n",
    "\n",
    "# 실행 예시\n",
    "question = \"파이썬은 무엇인가요? 한국어로 답변해주세요.\"\n",
    "response = chain.invoke({\"question\": question})\n",
    "\n",
    "print(response.content)"
   ]
  },
  {
   "cell_type": "markdown",
   "id": "2ecc4720",
   "metadata": {},
   "source": [
    "### LangGraph - Deepseek와 Qwen 연동"
   ]
  },
  {
   "cell_type": "code",
   "execution_count": 11,
   "id": "964df783",
   "metadata": {},
   "outputs": [
    {
     "name": "stdout",
     "output_type": "stream",
     "text": [
      "<think>\n",
      "First, I need to compare the two numbers: 9.9 and 9.11.\n",
      "\n",
      "Both numbers have the same whole number part, which is 9. To determine which decimal is larger, I should look at the tenths place of each.\n",
      "\n",
      "In 9.9, the digit in the tenths place is 9.\n",
      "In 9.11, the digit in the tenths place is 1.\n",
      "\n",
      "Since 9 is greater than 1, it follows that 9.9 is larger than 9.11.\n",
      "</think>\n",
      "\n",
      "To determine which number is bigger between **9.9** and **9.11**, let's compare them step by step.\n",
      "\n",
      "### Step 1: Understand the Numbers\n",
      "- **9.9** can be written as **9.90** to have the same decimal places as **9.11**.\n",
      "- **9.11** remains **9.11**.\n",
      "\n",
      "### Step 2: Compare the Whole Number Part\n",
      "Both numbers have the same whole number part:\n",
      "- **Whole number:** 9\n",
      "\n",
      "Since the whole number parts are equal, we need to compare the decimal parts.\n",
      "\n",
      "### Step 3: Compare the Tenths Place\n",
      "- In **9.90**, the tenths digit is **9**.\n",
      "- In **9.11**, the tenths digit is **1**.\n",
      "\n",
      "Comparing these:\n",
      "- **9 > 1**\n",
      "\n",
      "Since **9** (from **9.90**) is greater than **1** (from **9.11**), we can conclude that:\n",
      "\n",
      "\\[\n",
      "\\boxed{9.9 \\text{ is bigger}}\n",
      "\\]"
     ]
    }
   ],
   "source": [
    "from IPython.display import display, Markdown\n",
    "from langchain_ollama import ChatOllama\n",
    "\n",
    "deepseek = ChatOllama(model=\"deepseek-r1:1.5b\", temperature=0.5)\n",
    "\n",
    "answer = []\n",
    "for chunk in deepseek.stream(\"which is bigger between 9.9 and 9.11?\"):\n",
    "    answer.append(chunk.content)\n",
    "    print(chunk.content, end=\"\", flush=True)"
   ]
  },
  {
   "cell_type": "code",
   "execution_count": 12,
   "id": "c0caef49",
   "metadata": {},
   "outputs": [
    {
     "data": {
      "text/markdown": [
       "<think>\n",
       "First, I need to compare the two numbers: 9.9 and 9.11.\n",
       "\n",
       "Both numbers have the same whole number part, which is 9. To determine which decimal is larger, I should look at the tenths place of each.\n",
       "\n",
       "In 9.9, the digit in the tenths place is 9.\n",
       "In 9.11, the digit in the tenths place is 1.\n",
       "\n",
       "Since 9 is greater than 1, it follows that 9.9 is larger than 9.11.\n",
       "</think>\n",
       "\n",
       "To determine which number is bigger between **9.9** and **9.11**, let's compare them step by step.\n",
       "\n",
       "### Step 1: Understand the Numbers\n",
       "- **9.9** can be written as **9.90** to have the same decimal places as **9.11**.\n",
       "- **9.11** remains **9.11**.\n",
       "\n",
       "### Step 2: Compare the Whole Number Part\n",
       "Both numbers have the same whole number part:\n",
       "- **Whole number:** 9\n",
       "\n",
       "Since the whole number parts are equal, we need to compare the decimal parts.\n",
       "\n",
       "### Step 3: Compare the Tenths Place\n",
       "- In **9.90**, the tenths digit is **9**.\n",
       "- In **9.11**, the tenths digit is **1**.\n",
       "\n",
       "Comparing these:\n",
       "- **9 > 1**\n",
       "\n",
       "Since **9** (from **9.90**) is greater than **1** (from **9.11**), we can conclude that:\n",
       "\n",
       "\\[\n",
       "\\boxed{9.9 \\text{ is bigger}}\n",
       "\\]"
      ],
      "text/plain": [
       "<IPython.core.display.Markdown object>"
      ]
     },
     "metadata": {},
     "output_type": "display_data"
    }
   ],
   "source": [
    "answer_md=''.join([i for i in answer])\n",
    "display(Markdown(answer_md))    "
   ]
  },
  {
   "cell_type": "code",
   "execution_count": 17,
   "id": "046a955f",
   "metadata": {},
   "outputs": [
    {
     "name": "stdout",
     "output_type": "stream",
     "text": [
      "<think>\n",
      "Okay, so the question is asking which is bigger between 9.9 and 9.11. Let me think. Both numbers are decimals, right? So they have whole numbers and decimal parts. Let me break them down.\n",
      "\n",
      "First, 9.9. The whole number part is 9, and the decimal part is 0.9. Then 9.11. The whole number part is 9, and the decimal part is 0.11. Wait, so the decimal parts are 0.9 and 0.11. Hmm, 0.9 is larger than 0.11 because 0.9 is closer to 1. So even though both numbers have the same whole number part, the decimal part of 9.9 is bigger. Therefore, 9.9 should be larger than 9.11.\n",
      "\n",
      "But let me double-check. Maybe I should compare them digit by digit. Let's write them out:\n",
      "\n",
      "9.9 is the same as 9.90. So comparing 9.90 and 9.11. The first decimal place is 9 vs 1. Since 9 is greater than 1, the first number is larger. So yes, 9.9 is bigger than 9.11.\n",
      "\n",
      "I think that's right. There's no need to consider the whole numbers because they're the same. So the answer is 9.9.\n",
      "</think>\n",
      "\n",
      "9.9는 9.11보다 더 큰 수입니다. 두 수의 정수 부분은 모두 9입니다. 소수 부분을 비교하면, 9.9는 0.9, 9.11은 0.11입니다. 0.9는 0.11보다 크므로, 9.9가 더 큰 수입니다.\n",
      "\n",
      "**답변:** 9.9가 더 큰 수입니다."
     ]
    }
   ],
   "source": [
    "#model = ChatOllama(model=\"exaone3.5:2.4b\", temperature=0.5)\n",
    "model = ChatOllama(model=\"qwen3:1.7b\", temperature=0.1)\n",
    "\n",
    "answer = []\n",
    "for chunk in model.stream(\"9.9와 9.11 중 무엇이 더 큰가요?\"):\n",
    "    answer.append(chunk.content)\n",
    "    print(chunk.content, end=\"\", flush=True)"
   ]
  },
  {
   "cell_type": "code",
   "execution_count": 18,
   "id": "c52f72f4",
   "metadata": {},
   "outputs": [
    {
     "data": {
      "text/markdown": [
       "<think>\n",
       "Okay, so the question is asking which is bigger between 9.9 and 9.11. Let me think. Both numbers are decimals, right? So they have whole numbers and decimal parts. Let me break them down.\n",
       "\n",
       "First, 9.9. The whole number part is 9, and the decimal part is 0.9. Then 9.11. The whole number part is 9, and the decimal part is 0.11. Wait, so the decimal parts are 0.9 and 0.11. Hmm, 0.9 is larger than 0.11 because 0.9 is closer to 1. So even though both numbers have the same whole number part, the decimal part of 9.9 is bigger. Therefore, 9.9 should be larger than 9.11.\n",
       "\n",
       "But let me double-check. Maybe I should compare them digit by digit. Let's write them out:\n",
       "\n",
       "9.9 is the same as 9.90. So comparing 9.90 and 9.11. The first decimal place is 9 vs 1. Since 9 is greater than 1, the first number is larger. So yes, 9.9 is bigger than 9.11.\n",
       "\n",
       "I think that's right. There's no need to consider the whole numbers because they're the same. So the answer is 9.9.\n",
       "</think>\n",
       "\n",
       "9.9는 9.11보다 더 큰 수입니다. 두 수의 정수 부분은 모두 9입니다. 소수 부분을 비교하면, 9.9는 0.9, 9.11은 0.11입니다. 0.9는 0.11보다 크므로, 9.9가 더 큰 수입니다.\n",
       "\n",
       "**답변:** 9.9가 더 큰 수입니다."
      ],
      "text/plain": [
       "<IPython.core.display.Markdown object>"
      ]
     },
     "metadata": {},
     "output_type": "display_data"
    }
   ],
   "source": [
    "answer_md=''.join([i for i in answer])\n",
    "display(Markdown(answer_md))"
   ]
  },
  {
   "cell_type": "markdown",
   "id": "f0a9bdad",
   "metadata": {},
   "source": [
    "### LangGraph 기본 예제: 두 개의 AI 에이전트 협력"
   ]
  }
 ],
 "metadata": {
  "kernelspec": {
   "display_name": "langchain-basic-kGdHTiMZ-py3.12",
   "language": "python",
   "name": "python3"
  },
  "language_info": {
   "codemirror_mode": {
    "name": "ipython",
    "version": 3
   },
   "file_extension": ".py",
   "mimetype": "text/x-python",
   "name": "python",
   "nbconvert_exporter": "python",
   "pygments_lexer": "ipython3",
   "version": "3.12.7"
  }
 },
 "nbformat": 4,
 "nbformat_minor": 5
}
