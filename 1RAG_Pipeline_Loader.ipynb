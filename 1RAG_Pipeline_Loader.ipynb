{
 "cells": [
  {
   "cell_type": "code",
   "execution_count": 1,
   "id": "34a4712e",
   "metadata": {},
   "outputs": [],
   "source": [
    "import os\n",
    "from dotenv import load_dotenv\n",
    "\n",
    "load_dotenv()\n",
    "OPENAI_API_KEY = os.getenv(\"OPENAI_API_KEY\")"
   ]
  },
  {
   "cell_type": "code",
   "execution_count": 3,
   "id": "df8b756f",
   "metadata": {},
   "outputs": [],
   "source": [
    "import json\n",
    "from langchain_community.document_loaders import PyPDFLoader\n",
    "from langchain_text_splitters import RecursiveCharacterTextSplitter\n",
    "\n",
    "# PDF 파일 경로 설정\n",
    "pdf_filepath = 'data/tutorial-korean.pdf'\n",
    "\n",
    "# 파일 존재 여부 확인 (파일이 없으면 오류 발생)\n",
    "if not os.path.exists(pdf_filepath):\n",
    "    raise FileNotFoundError(f\"파일을 찾을 수 없습니다: {pdf_filepath}\")"
   ]
  },
  {
   "cell_type": "code",
   "execution_count": 4,
   "id": "89908162",
   "metadata": {},
   "outputs": [
    {
     "name": "stderr",
     "output_type": "stream",
     "text": [
      "incorrect startxref pointer(3)\n",
      "parsing for Object Streams\n",
      "incorrect startxref pointer(3)\n",
      "parsing for Object Streams\n"
     ]
    },
    {
     "name": "stdout",
     "output_type": "stream",
     "text": [
      "총 39개의 문서가 로드 되었습니다.\n",
      "첫 번째 문서 메타데이터:\n",
      "{\n",
      "  \"producer\": \"Acrobat Distiller with ezUniHFT\",\n",
      "  \"creator\": \"PScript5.dll Version 5.2\",\n",
      "  \"creationdate\": \"2005-04-26T15:21:34+09:00\",\n",
      "  \"moddate\": \"2005-04-26T15:21:34+09:00\",\n",
      "  \"author\": \"Owner\",\n",
      "  \"title\": \"<426C75654AC7D1B1DBC6A9C5E4B8AEBEF3B9AEBCAD283230292E687770>\",\n",
      "  \"source\": \"data/tutorial-korean.pdf\",\n",
      "  \"total_pages\": 39,\n",
      "  \"page\": 0,\n",
      "  \"page_label\": \"1\"\n",
      "}\n",
      "\n",
      "10번째 문서 내용: <class 'langchain_core.documents.base.Document'>\n",
      "page_content='' metadata={'producer': 'Acrobat Distiller with ezUniHFT', 'creator': 'PScript5.dll Version 5.2', 'creationdate': '2005-04-26T15:21:34+09:00', 'moddate': '2005-04-26T15:21:34+09:00', 'author': 'Owner', 'title': '<426C75654AC7D1B1DBC6A9C5E4B8AEBEF3B9AEBCAD283230292E687770>', 'source': 'data/tutorial-korean.pdf', 'total_pages': 39, 'page': 10, 'page_label': '11'}\n"
     ]
    },
    {
     "name": "stderr",
     "output_type": "stream",
     "text": [
      "incorrect startxref pointer(3)\n",
      "parsing for Object Streams\n"
     ]
    },
    {
     "name": "stdout",
     "output_type": "stream",
     "text": [
      "\n",
      "분할된 문서의 개수: 0 타입: <class 'list'>\n",
      "\n",
      "Lazy Load 방식으로 문서 로드:\n",
      "{\n",
      "  \"producer\": \"Acrobat Distiller with ezUniHFT\",\n",
      "  \"creator\": \"PScript5.dll Version 5.2\",\n",
      "  \"creationdate\": \"2005-04-26T15:21:34+09:00\",\n",
      "  \"moddate\": \"2005-04-26T15:21:34+09:00\",\n",
      "  \"author\": \"Owner\",\n",
      "  \"title\": \"<426C75654AC7D1B1DBC6A9C5E4B8AEBEF3B9AEBCAD283230292E687770>\",\n",
      "  \"source\": \"data/tutorial-korean.pdf\",\n",
      "  \"total_pages\": 39,\n",
      "  \"page\": 0,\n",
      "  \"page_label\": \"1\"\n",
      "}\n",
      "{\n",
      "  \"producer\": \"Acrobat Distiller with ezUniHFT\",\n",
      "  \"creator\": \"PScript5.dll Version 5.2\",\n",
      "  \"creationdate\": \"2005-04-26T15:21:34+09:00\",\n",
      "  \"moddate\": \"2005-04-26T15:21:34+09:00\",\n",
      "  \"author\": \"Owner\",\n",
      "  \"title\": \"<426C75654AC7D1B1DBC6A9C5E4B8AEBEF3B9AEBCAD283230292E687770>\",\n",
      "  \"source\": \"data/tutorial-korean.pdf\",\n",
      "  \"total_pages\": 39,\n",
      "  \"page\": 1,\n",
      "  \"page_label\": \"2\"\n",
      "}\n",
      "{\n",
      "  \"producer\": \"Acrobat Distiller with ezUniHFT\",\n",
      "  \"creator\": \"PScript5.dll Version 5.2\",\n",
      "  \"creationdate\": \"2005-04-26T15:21:34+09:00\",\n",
      "  \"moddate\": \"2005-04-26T15:21:34+09:00\",\n",
      "  \"author\": \"Owner\",\n",
      "  \"title\": \"<426C75654AC7D1B1DBC6A9C5E4B8AEBEF3B9AEBCAD283230292E687770>\",\n",
      "  \"source\": \"data/tutorial-korean.pdf\",\n",
      "  \"total_pages\": 39,\n",
      "  \"page\": 2,\n",
      "  \"page_label\": \"3\"\n",
      "}\n",
      "{\n",
      "  \"producer\": \"Acrobat Distiller with ezUniHFT\",\n",
      "  \"creator\": \"PScript5.dll Version 5.2\",\n",
      "  \"creationdate\": \"2005-04-26T15:21:34+09:00\",\n",
      "  \"moddate\": \"2005-04-26T15:21:34+09:00\",\n",
      "  \"author\": \"Owner\",\n",
      "  \"title\": \"<426C75654AC7D1B1DBC6A9C5E4B8AEBEF3B9AEBCAD283230292E687770>\",\n",
      "  \"source\": \"data/tutorial-korean.pdf\",\n",
      "  \"total_pages\": 39,\n",
      "  \"page\": 3,\n",
      "  \"page_label\": \"4\"\n",
      "}\n",
      "{\n",
      "  \"producer\": \"Acrobat Distiller with ezUniHFT\",\n",
      "  \"creator\": \"PScript5.dll Version 5.2\",\n",
      "  \"creationdate\": \"2005-04-26T15:21:34+09:00\",\n",
      "  \"moddate\": \"2005-04-26T15:21:34+09:00\",\n",
      "  \"author\": \"Owner\",\n",
      "  \"title\": \"<426C75654AC7D1B1DBC6A9C5E4B8AEBEF3B9AEBCAD283230292E687770>\",\n",
      "  \"source\": \"data/tutorial-korean.pdf\",\n",
      "  \"total_pages\": 39,\n",
      "  \"page\": 4,\n",
      "  \"page_label\": \"5\"\n",
      "}\n"
     ]
    }
   ],
   "source": [
    "try:\n",
    "    # 1. PDF 파일 로드\n",
    "    loader = PyPDFLoader(pdf_filepath)  # PDF 파일을 로드할 객체 생성\n",
    "    docs = loader.load()  # 문서를 전체 로드\n",
    "\n",
    "    # 총 문서 개수 출력\n",
    "    print(f\"총 {len(docs)}개의 문서가 로드 되었습니다.\")\n",
    "\n",
    "    #  첫 번째 문서의 메타데이터 출력\n",
    "    print(\"첫 번째 문서 메타데이터:\")\n",
    "    print(json.dumps(docs[0].metadata, indent=2, ensure_ascii=False))\n",
    "\n",
    "    # 특정 인덱스(10번째) 문서의 내용 확인 (존재할 경우)\n",
    "    if len(docs) > 10:\n",
    "        print(\"\\n10번째 문서 내용:\", type(docs[10]))\n",
    "        print(docs[10])  # 10번째 문서 출력\n",
    "\n",
    "    #  2. 텍스트 분할 (200자 단위, 중첩 없음)\n",
    "    text_splitter = RecursiveCharacterTextSplitter(chunk_size=200, chunk_overlap=0)\n",
    "    split_docs = loader.load_and_split(text_splitter=text_splitter)  # 분할된 문서 로드\n",
    "\n",
    "    # 분할된 문서 개수 출력\n",
    "    print(f\"\\n분할된 문서의 개수: {len(split_docs)} 타입: {type(split_docs)}\")\n",
    "\n",
    "    # 10번째 분할된 문서 내용 출력 (존재할 경우)\n",
    "    if len(split_docs) > 10:\n",
    "        print(\"\\n10번째 분할된 문서:\")\n",
    "        print(split_docs[10])\n",
    "\n",
    "    # 3. Lazy Load 방식으로 문서 로드\n",
    "    print(\"\\nLazy Load 방식으로 문서 로드:\")\n",
    "    for i, doc in enumerate(loader.lazy_load()):\n",
    "        if i < 5:  # 너무 많은 출력 방지 (예제: 처음 5개만 출력)\n",
    "            print(json.dumps(doc.metadata, indent=2, ensure_ascii=False))\n",
    "\n",
    "except Exception as e:\n",
    "    # 오류 발생 시 메시지 출력\n",
    "    print(f\"오류 발생: {e}\")"
   ]
  },
  {
   "cell_type": "code",
   "execution_count": null,
   "id": "1aba752e",
   "metadata": {},
   "outputs": [],
   "source": []
  }
 ],
 "metadata": {
  "kernelspec": {
   "display_name": "langchain-basic-kGdHTiMZ-py3.12",
   "language": "python",
   "name": "python3"
  },
  "language_info": {
   "codemirror_mode": {
    "name": "ipython",
    "version": 3
   },
   "file_extension": ".py",
   "mimetype": "text/x-python",
   "name": "python",
   "nbconvert_exporter": "python",
   "pygments_lexer": "ipython3",
   "version": "3.12.7"
  }
 },
 "nbformat": 4,
 "nbformat_minor": 5
}
