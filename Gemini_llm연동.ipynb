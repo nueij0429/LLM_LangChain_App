{
 "cells": [
  {
   "cell_type": "code",
   "execution_count": 1,
   "id": "88466b85",
   "metadata": {},
   "outputs": [],
   "source": [
    "import os\n",
    "from dotenv import load_dotenv\n",
    "\n",
    "load_dotenv()\n",
    "GOOGLE_API_KEY = os.getenv(\"GOOGLE_API_KEY\")"
   ]
  },
  {
   "cell_type": "code",
   "execution_count": null,
   "id": "bd787a92",
   "metadata": {},
   "outputs": [
    {
     "name": "stdout",
     "output_type": "stream",
     "text": [
      " Google Gemini Response:\n",
      "LangChain은 대규모 언어 모델(LLM)을 애플리케이션에 통합하기 위한 프레임워크입니다.  단순히 LLM을 호출하는 것 이상으로, LLM의 기능을 확장하고, 다양한 데이터 소스와 상호 작용하며, 메모리와 같은 고급 기능을 제공하여 더욱 강력하고 유용한 애플리케이션을 구축할 수 있도록 지원합니다.\n",
      "\n",
      "LangChain의 주요 특징과 장점은 다음과 같습니다.\n",
      "\n",
      "* **모듈화:** LangChain은 다양한 구성 요소(LLM, 프로세서, 메모리 등)를 모듈화하여 재사용성과 유연성을 높였습니다.  개발자는 필요에 따라 구성 요소를 조합하여 원하는 기능을 구현할 수 있습니다.\n",
      "\n",
      "* **다양한 LLM 지원:**  OpenAI, Hugging Face Hub, Google AI 등 다양한 LLM 제공업체의 모델을 지원합니다.  이는 개발자가 특정 LLM에 종속되지 않고 최적의 모델을 선택할 수 있도록 합니다.\n",
      "\n",
      "* **데이터 연결:**  LangChain은 데이터베이스, 파일 시스템, 웹 API 등 다양한 데이터 소스에 연결하여 LLM이 외부 정보에 접근하고 활용할 수 있도록 합니다.  이를 통해 LLM의 지식 범위를 확장하고, 실제 문제 해결에 활용할 수 있습니다.\n",
      "\n",
      "* **메모리 관리:**  대화형 애플리케이션에서 이전 대화 내용을 기억하고 활용하는 메모리 기능을 제공합니다.  이는 LLM이 맥락을 이해하고 일관성 있는 응답을 생성하는 데 중요한 역할을 합니다.\n",
      "\n",
      "* **체인(Chains)과 인덱싱(Indexes):** LangChain은 여러 LLM 호출을 순차적으로 또는 병렬적으로 실행하는 체인과, 대량의 데이터를 효율적으로 처리하고 LLM에 전달하는 인덱싱 기능을 제공합니다. 이를 통해 복잡한 작업을 단순화하고 성능을 향상시킬 수 있습니다.\n",
      "\n",
      "* **에이전트(Agents):**  외부 도구(검색 엔진, 계산기 등)를 활용하여 LLM의 기능을 확장하는 에이전트 기능을 제공합니다.  LLM은 에이전트를 통해 필요한 정보를 수집하고 작업을 수행할 수 있습니다.\n",
      "\n",
      "\n",
      "**LangChain을 사용하면 다음과 같은 애플리케이션을 구축할 수 있습니다.**\n",
      "\n",
      "* **챗봇:**  사용자와 자연스러운 대화를 나누는 챗봇을 개발할 수 있습니다.\n",
      "* **요약 도구:**  긴 문서나 텍스트를 요약하는 도구를 개발할 수 있습니다.\n",
      "* **질문 응답 시스템:**  특정 데이터셋에 대한 질문에 답하는 시스템을 개발할 수 있습니다.\n",
      "* **자동화된 작업:**  다양한 작업을 자동화하는 시스템을 개발할 수 있습니다.\n",
      "\n",
      "\n",
      "요약하자면, LangChain은 LLM을 활용하여 다양한 애플리케이션을 개발하는 데 필요한 도구와 기능을 제공하는 강력한 프레임워크입니다.  모듈화된 설계와 다양한 기능 덕분에 개발자는 복잡한 애플리케이션을 효율적으로 구축하고, LLM의 잠재력을 최대한 활용할 수 있습니다.\n"
     ]
    }
   ],
   "source": [
    "from langchain_google_genai import ChatGoogleGenerativeAI\n",
    "from langchain_core.prompts import ChatPromptTemplate\n",
    "    \n",
    "\n",
    "# 모델 초기화\n",
    "llm = ChatGoogleGenerativeAI(\n",
    "    model=\"gemini-1.5-flash\",  # 또는 \"gemini-pro-vision\"\n",
    "    temperature=0.3    \n",
    ")\n",
    "\n",
    "# 프롬프트 설정\n",
    "prompt = ChatPromptTemplate.from_messages([\n",
    "    (\"system\", \"당신은 AI 전문가입니다.\"),\n",
    "    (\"human\", \"{topic}은 무엇인가요?\")\n",
    "])\n",
    "\n",
    "# 체인 실행\n",
    "chain = prompt | llm\n",
    "response = chain.invoke({\"topic\": \"LangChain\"})\n",
    "\n",
    "print(\" Google Gemini Response:\")\n",
    "print(response.content)"
   ]
  }
 ],
 "metadata": {
  "kernelspec": {
   "display_name": "langchain-basic-kGdHTiMZ-py3.12",
   "language": "python",
   "name": "python3"
  },
  "language_info": {
   "codemirror_mode": {
    "name": "ipython",
    "version": 3
   },
   "file_extension": ".py",
   "mimetype": "text/x-python",
   "name": "python",
   "nbconvert_exporter": "python",
   "pygments_lexer": "ipython3",
   "version": "3.12.7"
  }
 },
 "nbformat": 4,
 "nbformat_minor": 5
}
