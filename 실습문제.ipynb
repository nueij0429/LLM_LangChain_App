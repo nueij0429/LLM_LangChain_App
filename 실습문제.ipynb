{
 "cells": [
  {
   "cell_type": "markdown",
   "id": "36a06daa",
   "metadata": {},
   "source": [
    "### 문제 1-1 : 기본 체인 만들기 - AI 요리사"
   ]
  },
  {
   "cell_type": "code",
   "execution_count": 1,
   "id": "19fc8e20",
   "metadata": {},
   "outputs": [],
   "source": [
    "import os\n",
    "from dotenv import load_dotenv\n",
    "from langchain_core.prompts import ChatPromptTemplate\n",
    "from langchain_openai import ChatOpenAI \n",
    "\n",
    "\n",
    "load_dotenv()\n",
    "OPENAI_API_KEY = os.getenv(\"OPENAI_API_KEY\")"
   ]
  },
  {
   "cell_type": "code",
   "execution_count": null,
   "id": "1955c11c",
   "metadata": {},
   "outputs": [
    {
     "name": "stdout",
     "output_type": "stream",
     "text": [
      " 계란, 밥, 김치로 만들 수 있는 요리를 추천드립니다!\n",
      "\n",
      " 추천 요리: 김치 볶음밥\n",
      " 재료: 계란, 밥, 김치\n",
      " 조리법:\n",
      "1. 김치를 잘게 썰고, 계란은 풀어서 준비합니다.\n",
      "2. 팬에 기름을 두르고 썰어 놓은 김치를 볶다가 밥을 넣어 함께 볶습니다.\n",
      "3. 계란을 넣고 잘 섞어준 뒤, 간을 맞추면 김치 볶음밥이 완성됩니다!\n"
     ]
    }
   ],
   "source": [
    "from langchain_core.prompts import PromptTemplate\n",
    "from langchain_openai import ChatOpenAI\n",
    "from langchain_core.output_parsers import StrOutputParser\n",
    "\n",
    "prompt = PromptTemplate.from_template(\n",
    "    \"\"\"\n",
    "    당신은 창의적인 AI 요리사입니다.\n",
    "    사용자가 입력한 재료로 만들 수 있는 요리 하나를 추천하고,\n",
    "    간단한 레시피를 3단계로 설명해주세요.\n",
    "\n",
    "    사용자가 입력한 재료는 다음과 같습니다: {ingredients}\n",
    "    \n",
    "    출력 형식은 아래와 같아야 합니다:\n",
    "\n",
    "    {ingredients}로 만들 수 있는 요리를 추천드립니다!\n",
    "    \n",
    "    추천 요리: <요리 이름>\n",
    "    재료: <입력 재료>\n",
    "    조리법:\n",
    "    1. ...\n",
    "    2. ...\n",
    "    3. ...\n",
    "    \"\"\")\n",
    "prompt\n",
    "\n",
    "llm = ChatOpenAI(\n",
    "    api_key=OPENAI_API_KEY,\n",
    "    base_url=\"https://api.groq.com/openai/v1\",  # Groq API 엔드포인트\n",
    "    model=\"meta-llama/llama-4-scout-17b-16e-instruct\",\n",
    "    temperature=0.7\n",
    ")\n",
    "# output parser 지정\n",
    "output_parser = StrOutputParser()\n",
    "# chain 연결 (LCEL)\n",
    "chain = prompt | llm | output_parser\n",
    "\n",
    "# chain 호출\n",
    "try:\n",
    "    result = chain.invoke({\"ingredients\": \"계란, 밥, 김치\"})\n",
    "    print(result)\n",
    "except Exception as e:\n",
    "    print(f\"오류 발생: {e}\")"
   ]
  },
  {
   "cell_type": "markdown",
   "id": "43dacd9f",
   "metadata": {},
   "source": [
    "### 문제 1-2 : 2단계 체인 만들기 - 영화 추천 시스템"
   ]
  },
  {
   "cell_type": "code",
   "execution_count": null,
   "id": "dc86e676",
   "metadata": {},
   "outputs": [
    {
     "name": "stdout",
     "output_type": "stream",
     "text": [
      "입력: \"액션\"\n",
      "1단계 결과: \"존 윅\" 추천\n",
      "2단계 결과:\n",
      "영화: 존 윅\n",
      "줄거리:\n",
      "\n",
      "1. 전직 히트맨 존 윅은 은퇴 후 평화로운 삶을 살고자 하지만, 그의 집에 침입한 한 젊은 범죄자가 존 윅의 차를 훔치고, 그의 개를 죽이는 사건이 발생합니다.\n",
      "2. 이 사건으로 인해 존 윅은 다시 한번 전직 히트맨으로서의 삶을 살게 되며, 범죄자의 보스인 비고르 타라소프에게 복수를 결심합니다.\n",
      "3. 존 윅은 타라소프의 조직과 싸우며, 그 과정에서 많은 총격과 액션 장면이 펼쳐지게 되며, 존 윅은 과연 타라소프의 조직을 무너뜨리고 복수에 성공할 수 있을지 관심이 집중됩니다.\n"
     ]
    }
   ],
   "source": [
    "from langchain_core.prompts import ChatPromptTemplate\n",
    "from langchain_openai import ChatOpenAI\n",
    "from langchain_core.output_parsers import StrOutputParser\n",
    "import re\n",
    "\n",
    "llm = ChatOpenAI(\n",
    "    base_url=\"https://api.groq.com/openai/v1\",\n",
    "    model=\"meta-llama/llama-4-scout-17b-16e-instruct\",\n",
    "    temperature=0.7\n",
    ")\n",
    "# output parser 지정\n",
    "output_parser = StrOutputParser()\n",
    "\n",
    "# Step 1: 장르를 입력받아 영화 1편 추천\n",
    "prompt1 = ChatPromptTemplate.from_messages([\n",
    "    (\"system\", \"당신은 영화 추천 전문가입니다.\"),\n",
    "    (\"human\", \"{genre} 장르에서 추천할 만한 영화를 한 편 알려주세요. 영화 제목은 **이중 별표**로 감싸주세요.\")\n",
    "])\n",
    "\n",
    "# Step 2: 추천받은 영화의 3줄 줄거리 요약 제공\n",
    "prompt2 = ChatPromptTemplate.from_messages([\n",
    "    (\"system\", \"당신은 영화 줄거리 요약 전문가입니다.\"),\n",
    "    (\"human\", \n",
    "    \"\"\"\n",
    "    {movie}라는 영화에 대해 아래 형식처럼 요약해 주세요:\n",
    "\n",
    "    줄거리:\n",
    "    1. (첫 번째 문장)\n",
    "    2. (두 번째 문장)\n",
    "    3. (세 번째 문장)\n",
    "\n",
    "    위 형식에 따라 문장을 나눠서 간결하게 작성해 주세요.\n",
    "    \"\"\")\n",
    "])\n",
    "\n",
    "# 체인 1: 영화 추천 (입력: 장르 → 출력: 영화 제목)\n",
    "chain1 = prompt1 | llm | output_parser\n",
    "\n",
    "# 체인 2: 줄거리 요약 (입력: 영화 제목 → 출력: 줄거리)\n",
    "chain2 = prompt2 | llm | output_parser\n",
    "\n",
    "try:\n",
    "    genre_input = \"액션\"\n",
    "    step1_output = chain1.invoke({\"genre\": genre_input}).strip()\n",
    "    print(f'입력: \"{genre_input}\"')\n",
    "\n",
    "    # 제목만 추출\n",
    "    match = re.search(r\"\\*\\*(.+?)\\*\\*\", step1_output)\n",
    "    if match:\n",
    "        movie_title = match.group(1).strip()\n",
    "    else:\n",
    "        movie_title = step1_output.split(\"\\n\")[0].replace(\"추천 영화:\", \"\").strip()\n",
    "\n",
    "    print(f'1단계 결과: \"{movie_title}\" 추천')\n",
    "\n",
    "    step2_output = chain2.invoke({\"movie\": movie_title}).strip()\n",
    "    print(\"2단계 결과:\")\n",
    "    print(f\"영화: {movie_title}\")\n",
    "    print(step2_output)\n",
    "\n",
    "except Exception as e:\n",
    "    print(f\"오류 발생: {e}\")"
   ]
  },
  {
   "cell_type": "markdown",
   "id": "15d0aa5b",
   "metadata": {},
   "source": [
    "### 문제 1-3 : FewShotPromptTemplate과 시스템 메시지 활용"
   ]
  },
  {
   "cell_type": "code",
   "execution_count": 15,
   "id": "dfa5aacf",
   "metadata": {},
   "outputs": [
    {
     "name": "stdout",
     "output_type": "stream",
     "text": [
      "키워드: 제미나이, AI, 구글\n"
     ]
    }
   ],
   "source": [
    "from langchain_core.prompts import (\n",
    "    FewShotChatMessagePromptTemplate, \n",
    "    ChatPromptTemplate\n",
    ")\n",
    "from langchain_openai import ChatOpenAI\n",
    "from langchain_core.output_parsers import StrOutputParser\n",
    "\n",
    "llm = ChatOpenAI(\n",
    "    base_url=\"https://api.groq.com/openai/v1\",\n",
    "    model=\"meta-llama/llama-4-scout-17b-16e-instruct\",\n",
    "    temperature=0.7\n",
    ")\n",
    "# output parser 지정\n",
    "output_parser = StrOutputParser()\n",
    "\n",
    "# 1. 예시 프롬프트\n",
    "example_prompt = ChatPromptTemplate.from_messages([\n",
    "    (\"human\", \"{news}\"),\n",
    "    (\"ai\", \"키워드: {keywords}\")\n",
    "])\n",
    "\n",
    "examples = [\n",
    "    {\n",
    "        \"news\": \"삼성전자가 내년 초에 자체적으로 개발한 인공지능(AI) 가속기를 처음으로 출시할 예정이다. 이는 AI 반도체 시장에서 지배적인 위치를 차지하고 있는 엔비디아의 독점을 도전하고, 세계 최고의 반도체 제조업체로서의 지위를 다시 확립하려는 삼성전자의 노력으로 해석된다.\",\n",
    "        \"keywords\": \"삼성전자, 인공지능, 엔비디아\"\n",
    "    },\n",
    "    {\n",
    "        \"news\": \"세계보건기구(WHO)는 최근 새로운 건강 위기에 대응하기 위해 국제 협력의 중요성을 강조했다. 전염병 대응 역량의 강화와 글로벌 보건 시스템의 개선이 필요하다고 발표했다.\",\n",
    "        \"keywords\": \"세계보건기구, 건강위기, 국제협력\"\n",
    "    },\n",
    "    {\n",
    "        \"news\": \"최근 연구에 따르면 고양이는 사람의 감정을 인식할 수 있으며, 주인의 스트레스 수준에 따라 행동이 달라지는 것으로 나타났다. 전문가들은 고양이와의 교감이 정신 건강에 긍정적인 영향을 줄 수 있다고 설명했다.\",\n",
    "        \"keywords\": \"고양이, 감정인식, 반려동물\"\n",
    "    }\n",
    "]\n",
    "\n",
    "# 2. Few-Shot 프롬프트\n",
    "few_shot_prompt = FewShotChatMessagePromptTemplate(\n",
    "    example_prompt=example_prompt,\n",
    "    examples=examples\n",
    ")\n",
    "\n",
    "# 3. 최종 프롬프트\n",
    "final_prompt = ChatPromptTemplate.from_messages([\n",
    "    (\"system\", \"뉴스 키워드 추출 전문가입니다. 핵심 키워드 3개를 추출하세요.\"),\n",
    "    few_shot_prompt,\n",
    "    (\"human\", \"{input}\")\n",
    "])\n",
    "\n",
    "chain = final_prompt | llm\n",
    "\n",
    "result = chain.invoke({\"input\": \"제미나이 2.0 플래시는 현재 구글 AI 스튜디오(Google AI Studio) 및 버텍스 AI(Vertex AI)에서 제미나이 API를 통해 개발자에게 실험 모델로 제공됩니다. 모든 개발자는 멀티모달 입력 및 텍스트 출력을 사용할 수 있으며, 텍스트 음성 변환(text-to-speech) 및 네이티브 이미지 생성은 일부 파트너들을 대상으로 제공됩니다. 내년 1월에는 더 많은 모델 사이즈와 함께 일반에 공개될 예정입니다.\"})\n",
    "print(result.content)"
   ]
  }
 ],
 "metadata": {
  "kernelspec": {
   "display_name": "langchain-basic-kGdHTiMZ-py3.12",
   "language": "python",
   "name": "python3"
  },
  "language_info": {
   "codemirror_mode": {
    "name": "ipython",
    "version": 3
   },
   "file_extension": ".py",
   "mimetype": "text/x-python",
   "name": "python",
   "nbconvert_exporter": "python",
   "pygments_lexer": "ipython3",
   "version": "3.12.7"
  }
 },
 "nbformat": 4,
 "nbformat_minor": 5
}
