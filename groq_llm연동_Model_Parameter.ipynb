{
 "cells": [
  {
   "cell_type": "code",
   "execution_count": 1,
   "id": "86d3fa29",
   "metadata": {},
   "outputs": [],
   "source": [
    "import os\n",
    "from dotenv import load_dotenv\n",
    "\n",
    "load_dotenv()\n",
    "OPENAI_API_KEY = os.getenv(\"OPENAI_API_KEY\")"
   ]
  },
  {
   "cell_type": "code",
   "execution_count": null,
   "id": "5ba756bc",
   "metadata": {},
   "outputs": [
    {
     "name": "stdout",
     "output_type": "stream",
     "text": [
      " Before (논리적이고 보수적인 이야기)\n",
      "어느 날, 마법의 세계에서 벌어지는 예상치 못한 사건이 있었습니다. 마법사들이 모여 있는 마법의 탑에서 갑자기 이상한 일이 벌어졌습니다. 탑의 중심에 있는 마법의 수정이 갑자기 터져버린 것입니다.\n",
      "\n",
      "탑의 마법사들은 수정의 폭발로 인해 탑이 무너질 위기에 처했습니다. 하지만, 탑의 수호자인 마법의 고양이, '마기'는 수정의 폭발을 막기 위해 자신의 마법을 사용했습니다.\n",
      "\n",
      "마기는 자신의 마법으로 수정을 안정시키고, 탑의 붕괴를 막았습니다. 하지만, 이 과정에서 마기는 자신의 마법력을 모두 소진하고 말았습니다.\n",
      "\n",
      "탑의 마법사들은\n",
      "\n",
      "-------------------------\n",
      "\n",
      " After (창의적인 이야기, 더 풍부한 표현)\n",
      "한밤중, 마법사 마을의 중심 광장에 위치한 오래된 오크 나무 아래서 마법사 모임이 열렸다. 모임에 참석한 마법사들은 저마다의 비밀을 공유하고 정보를 교환하기 위해 이곳에 모였다. 그런데 갑자기 나무 위에서 조용한 소리가 들렸다.\n",
      "\n",
      "모임에 참석한 마법사들은 놀라며 위를 쳐다보았다. 그리고 나무 위에서 조그만 새가 내려왔다. 새는 너무도 작아서 손바닥에 올려놓을 수 있을 정도였다.\n",
      "\n",
      "하지만 새는 평범한 새가 아니었다. 새는 놀라운 마법을 가지고 있었고, 마법사들은 그 마법에 놀라움을 금치 못했다. 새는 나무 위에서 내려와 마법사들에게 다가갔다.\n",
      "\n",
      "\"저는 '마법의 목소리'라는 새입니다.\" 새는 말했다. \"저는 마법사들의 비밀을 듣고 정보를 전달해 드릴 수 있습니다.\"\n",
      "\n",
      "마법사들은 새의 말에 놀라움을 금치 못했다. 그들은 새에게 자신들의 비밀을 공유하고 정보를 얻기 시작했다. 하지만 새는 그들만의 비밀을 듣고 정보를 전달하는 것을 넘어서서, 마법사들의 마음속에 있는 비밀까지도 알고 있었다.\n",
      "\n",
      "마법사들은 새의 능력에 놀라움을 금치 못했다. 그들은 새를 자신의 동료로 삼고, 함께 마법을 연구하고 발전시키기 시작했다. 하지만 새의 능력은 마법사\n"
     ]
    }
   ],
   "source": [
    "from langchain_openai import ChatOpenAI\n",
    "\n",
    "#  보수적인 설정 (일관된, 논리적인 이야기)\n",
    "llm_before = ChatOpenAI(\n",
    "    base_url=\"https://api.groq.com/openai/v1\",\n",
    "    model=\"meta-llama/llama-4-scout-17b-16e-instruct\",\n",
    "    temperature=0.2,  # 낮은 온도로 예측 가능한 출력\n",
    "    presence_penalty=0.0,  # 기존 패턴 유지\n",
    "    frequency_penalty=0.0,  # 반복 허용\n",
    "    max_tokens=150,  # 출력 길이 제한\n",
    "    top_p=1.0  # 확률 상위 100% 내에서 선택 (제한 없음)\n",
    ")\n",
    "\n",
    "#  창의적인 설정 (더 독창적이고 예측 불가능한 이야기)\n",
    "llm_after = ChatOpenAI(\n",
    "    base_url=\"https://api.groq.com/openai/v1\",\n",
    "    model=\"meta-llama/llama-4-scout-17b-16e-instruct\",\n",
    "    temperature=1.2,  # 높은 온도로 창의적인 답변 유도\n",
    "    presence_penalty=1.2,  # 새로운 단어와 개념 유도\n",
    "    frequency_penalty=0.5,  # 반복을 억제하여 더 다양한 표현 생성\n",
    "    max_tokens=300,  # 더 긴 이야기 허용\n",
    "    top_p=0.8  # 제한 없이 다양한 단어 선택 가능\n",
    ")\n",
    "\n",
    "# 질문 설정: 짧은 판타지 이야기 생성\n",
    "question = \"마법의 세계에서 벌어지는 예상치 못한 사건을 주제로 독창적인 짧은 이야기를 만들어 주세요.\"\n",
    "\n",
    "# 모델 호출\n",
    "response_before = llm_before.invoke(question)\n",
    "response_after = llm_after.invoke(question)\n",
    "\n",
    "# 결과 출력\n",
    "print(\" Before (논리적이고 보수적인 이야기)\")\n",
    "print(response_before.content)\n",
    "\n",
    "print(\"\\n-------------------------\\n\")\n",
    "\n",
    "print(\" After (창의적인 이야기, 더 풍부한 표현)\")\n",
    "print(response_after.content)"
   ]
  }
 ],
 "metadata": {
  "kernelspec": {
   "display_name": "langchain-basic-kGdHTiMZ-py3.12",
   "language": "python",
   "name": "python3"
  },
  "language_info": {
   "codemirror_mode": {
    "name": "ipython",
    "version": 3
   },
   "file_extension": ".py",
   "mimetype": "text/x-python",
   "name": "python",
   "nbconvert_exporter": "python",
   "pygments_lexer": "ipython3",
   "version": "3.12.7"
  }
 },
 "nbformat": 4,
 "nbformat_minor": 5
}
