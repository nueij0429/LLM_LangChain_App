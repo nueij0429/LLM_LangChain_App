{
 "cells": [
  {
   "cell_type": "code",
   "execution_count": 1,
   "id": "af9b8121",
   "metadata": {},
   "outputs": [
    {
     "name": "stdout",
     "output_type": "stream",
     "text": [
      "Hello LangChain ChatGPT\n"
     ]
    }
   ],
   "source": [
    "print('Hello LangChain ChatGPT')"
   ]
  },
  {
   "cell_type": "code",
   "execution_count": 3,
   "id": "0693468d",
   "metadata": {},
   "outputs": [],
   "source": [
    "import os\n",
    "from dotenv import load_dotenv\n",
    "from langchain_core.prompts import ChatPromptTemplate\n",
    "from langchain_openai import ChatOpenAI \n",
    "\n",
    "\n",
    "load_dotenv()\n",
    "OPENAI_API_KEY = os.getenv(\"OPENAI_API_KEY\")"
   ]
  },
  {
   "cell_type": "code",
   "execution_count": 4,
   "id": "0ee98644",
   "metadata": {},
   "outputs": [
    {
     "name": "stdout",
     "output_type": "stream",
     "text": [
      "input_variables=['input'] input_types={} partial_variables={} messages=[SystemMessagePromptTemplate(prompt=PromptTemplate(input_variables=[], input_types={}, partial_variables={}, template='당신은 개발자입니다.'), additional_kwargs={}), HumanMessagePromptTemplate(prompt=PromptTemplate(input_variables=['input'], input_types={}, partial_variables={}, template='{input}'), additional_kwargs={})]\n"
     ]
    }
   ],
   "source": [
    "# prompt\n",
    "prompt = ChatPromptTemplate.from_messages(\n",
    "    [ (\"system\", \"당신은 개발자입니다.\") , \n",
    "     (\"user\", \"{input}\") ]\n",
    ")\n",
    "print(prompt)\n",
    "\n",
    "prompt_text = prompt.format(input=\"LangServe는 무엇인가요? 자세히 알려주세요.\")"
   ]
  },
  {
   "cell_type": "code",
   "execution_count": 10,
   "id": "c8a270f9",
   "metadata": {},
   "outputs": [
    {
     "name": "stdout",
     "output_type": "stream",
     "text": [
      "client=<openai.resources.chat.completions.completions.Completions object at 0x0000024256FE0BC0> async_client=<openai.resources.chat.completions.completions.AsyncCompletions object at 0x0000024256FE0530> root_client=<openai.OpenAI object at 0x0000024256FE18E0> root_async_client=<openai.AsyncOpenAI object at 0x0000024256FE1040> model_name='gpt-4o-mini' temperature=0.7 model_kwargs={} openai_api_key=SecretStr('**********')\n"
     ]
    }
   ],
   "source": [
    "# ChatGPT API를 사용하는 ChatOpenAI 인스턴스 생성\n",
    "llm = ChatOpenAI(\n",
    "    model=\"gpt-4o-mini\",\n",
    "    temperature=0.7\n",
    ")\n",
    "print(llm)"
   ]
  },
  {
   "cell_type": "code",
   "execution_count": 11,
   "id": "e09ca344",
   "metadata": {},
   "outputs": [
    {
     "name": "stdout",
     "output_type": "stream",
     "text": [
      "응답: LangServe는 다양한 언어 모델과 자연어 처리(NLP) 기능을 제공하는 플랫폼입니다. 주로 개발자들이 애플리케이션에 언어 모델을 통합하거나, 자연어 처리 기능을 구현할 수 있도록 돕는 도구와 API를 제공합니다. LangServe의 주요 기능은 다음과 같습니다:\n",
      "\n",
      "1. **언어 모델 통합**: LangServe는 여러 언어 모델(예: GPT, BERT 등)을 쉽게 통합할 수 있는 인터페이스를 제공합니다. 이를 통해 개발자는 복잡한 설정 없이도 강력한 NLP 기능을 자신의 애플리케이션에 추가할 수 있습니다.\n",
      "\n",
      "2. **API 제공**: RESTful API를 통해 언어 모델을 호출하고, 텍스트 생성, 요약, 번역, 감정 분석 등 다양한 NLP 작업을 수행할 수 있습니다.\n",
      "\n",
      "3. **사용자 친화적**: LangServe는 개발자 친화적인 문서와 예제 코드를 제공하여, 사용자가 빠르게 학습하고 적용할 수 있도록 돕습니다.\n",
      "\n",
      "4. **스케일링**: 대규모 애플리케이션에서도 안정적으로 작동하도록 설계되어, 필요에 따라 쉽게 스케일링할 수 있습니다.\n",
      "\n",
      "5. **다양한 언어 지원**: 여러 언어를 지원하여 글로벌 사용자에게도 서비스를 제공할 수 있습니다.\n",
      "\n",
      "LangServe는 기업이나 스타트업이 자연어 처리 기술을 활용하여 고객 경험을 개선하고, 자동화된 솔루션을 구축할 수 있는 유용한 도구입니다.\n"
     ]
    }
   ],
   "source": [
    "try:\n",
    "    response = llm.invoke(prompt_text)\n",
    "    print(\"응답:\", response.content)\n",
    "except Exception as e:\n",
    "    print(f\"오류 발생: {e}\")"
   ]
  }
 ],
 "metadata": {
  "kernelspec": {
   "display_name": "langchain-basic-kGdHTiMZ-py3.12",
   "language": "python",
   "name": "python3"
  },
  "language_info": {
   "codemirror_mode": {
    "name": "ipython",
    "version": 3
   },
   "file_extension": ".py",
   "mimetype": "text/x-python",
   "name": "python",
   "nbconvert_exporter": "python",
   "pygments_lexer": "ipython3",
   "version": "3.12.7"
  }
 },
 "nbformat": 4,
 "nbformat_minor": 5
}
