{
 "cells": [
  {
   "cell_type": "code",
   "execution_count": 1,
   "id": "7d338045",
   "metadata": {},
   "outputs": [],
   "source": [
    "import os\n",
    "from dotenv import load_dotenv\n",
    "\n",
    "load_dotenv()\n",
    "OPENAI_API_KEY = os.getenv(\"OPENAI_API_KEY\")"
   ]
  },
  {
   "cell_type": "code",
   "execution_count": 2,
   "id": "e6cf4963",
   "metadata": {},
   "outputs": [
    {
     "name": "stdout",
     "output_type": "stream",
     "text": [
      "\n",
      "[Agent 1] 원본 질문: LangGraph는 무엇이며, LangChain과 어떤 차이점이 있나요? 그리고 LangGraph를 사용해야 하는 이유는 무엇인가요?\n",
      "[Agent 1] 핵심 키워드: content='LangGraph, LangChain, 차이점, 사용 이유' additional_kwargs={'refusal': None} response_metadata={'token_usage': {'completion_tokens': 16, 'prompt_tokens': 89, 'total_tokens': 105, 'completion_tokens_details': {'accepted_prediction_tokens': 0, 'audio_tokens': 0, 'reasoning_tokens': 0, 'rejected_prediction_tokens': 0}, 'prompt_tokens_details': {'audio_tokens': 0, 'cached_tokens': 0}}, 'model_name': 'gpt-3.5-turbo-0125', 'system_fingerprint': None, 'id': 'chatcmpl-BhtLkZ9kz6VWPvkNoYeQaLByBFb1c', 'service_tier': 'default', 'finish_reason': 'stop', 'logprobs': None} id='run--8a4edc05-79c1-473c-abb5-af8c25cafcb0-0' usage_metadata={'input_tokens': 89, 'output_tokens': 16, 'total_tokens': 105, 'input_token_details': {'audio': 0, 'cache_read': 0}, 'output_token_details': {'audio': 0, 'reasoning': 0}}\n",
      "[Agent 1] 배경 정보: content='LangGraph는 언어 모델간의 상호작용을 시각적으로 나타내는 그래프 모델입니다. 이는 다양한 언어 모델이 어떻게 상호작용하고 연결되는지를 시각적으로 이해할 수 있도록 도와줍니다.\\n\\nLangChain은 LangGraph와 유사한 개념이지만, 조금 다릅니다. LangChain은 언어 모델 간의 연쇄적인 상호작용을 나타내는 모델로, 한 언어 모델이 다른 모델에 영향을 미치고 그 영향이 또다시 다른 모델에 전달되는 과정을 보여줍니다.\\n\\nLangGraph를 사용해야 하는 이유는 언어 모델 간의 복잡한 상호작용을 직관적으로 파악할 수 있도록 해주기 때문입니다. 이를 통해 언어 모델의 연결 구조와 영향력을 더 잘 이해하고 모델 간의 협력이나 경쟁 관계를 파악할 수 있습니다. 또한, LangGraph를 활용하면 다양한 언어 모델을 비교하고 분석하는데 도움이 될 수 있습니다.' additional_kwargs={'refusal': None} response_metadata={'token_usage': {'completion_tokens': 360, 'prompt_tokens': 91, 'total_tokens': 451, 'completion_tokens_details': {'accepted_prediction_tokens': 0, 'audio_tokens': 0, 'reasoning_tokens': 0, 'rejected_prediction_tokens': 0}, 'prompt_tokens_details': {'audio_tokens': 0, 'cached_tokens': 0}}, 'model_name': 'gpt-3.5-turbo-0125', 'system_fingerprint': None, 'id': 'chatcmpl-BhtLlaidNVKWYypiBkmHUTIK7Tyss', 'service_tier': 'default', 'finish_reason': 'stop', 'logprobs': None} id='run--f512ef05-44ec-464a-b913-db177521807d-0' usage_metadata={'input_tokens': 91, 'output_tokens': 360, 'total_tokens': 451, 'input_token_details': {'audio': 0, 'cache_read': 0}, 'output_token_details': {'audio': 0, 'reasoning': 0}}\n",
      "\n",
      "[Agent 2] 최종 답변 생성 완료\n",
      "\n",
      "\n",
      "🔹 [AI 최종 답변]:\n",
      "content='LangGraph는 언어 모델 간의 상호작용을 시각적으로 보여주는 그래프 모델입니다. 이는 다양한 언어 모델이 어떻게 상호작용하고 연결되는지를 시각적으로 이해할 수 있도록 도와줍니다. 반면에 LangChain은 LangGraph와 비슷한 개념이지만, 언어 모델 간의 연쇄적인 상호작용을 보여주는 모델로, 한 언어 모델이 다른 모델에 영향을 주고 그 영향이 다시 다른 모델로 전달되는 과정을 보여줍니다.\\n\\nLangGraph를 사용해야 하는 이유는 언어 모델 간의 복잡한 상호작용을 직관적으로 파악할 수 있기 때문입니다. 이를 통해 언어 모델의 연결 구조와 영향력을 더 잘 이해하고 모델 간의 협력이나 경쟁 관계를 파악할 수 있습니다. 또한, LangGraph를 활용하면 다양한 언어 모델을 비교하고 분석하는데 도움이 될 수 있습니다. 따라서 LangGraph는 언어 모델 간의 관계를 시각적으로 이해하고 분석하는 데 유용한 도구로 활용될 수 있습니다.' additional_kwargs={'refusal': None} response_metadata={'token_usage': {'completion_tokens': 394, 'prompt_tokens': 994, 'total_tokens': 1388, 'completion_tokens_details': {'accepted_prediction_tokens': 0, 'audio_tokens': 0, 'reasoning_tokens': 0, 'rejected_prediction_tokens': 0}, 'prompt_tokens_details': {'audio_tokens': 0, 'cached_tokens': 0}}, 'model_name': 'gpt-3.5-turbo-0125', 'system_fingerprint': None, 'id': 'chatcmpl-BhtLoqmfG6Pus1Lfmx2k7iwadIcBY', 'service_tier': 'default', 'finish_reason': 'stop', 'logprobs': None} id='run--fe370b63-f8fe-4a3d-8759-8721fc71c4dd-0' usage_metadata={'input_tokens': 994, 'output_tokens': 394, 'total_tokens': 1388, 'input_token_details': {'audio': 0, 'cache_read': 0}, 'output_token_details': {'audio': 0, 'reasoning': 0}}\n"
     ]
    }
   ],
   "source": [
    "from langgraph.graph import StateGraph\n",
    "from langchain_openai import ChatOpenAI\n",
    "\n",
    "# LLM 모델 설정\n",
    "llm = ChatOpenAI(model=\"gpt-3.5-turbo-0125\")\n",
    "\n",
    "# 첫 번째 AI 에이전트: 질문 분석 및 배경 정보 생성\n",
    "def agent_1(state):\n",
    "    \"\"\"사용자의 질문을 분석하고 핵심 키워드와 배경 정보를 추가\"\"\"\n",
    "    query = state[\"query\"]\n",
    "    \n",
    "    # 질문에서 핵심 키워드 추출\n",
    "    keywords = llm.invoke(f\"질문: {query}\\n이 질문에서 핵심 키워드를 3~5개 추출해 주세요.\")\n",
    "    \n",
    "    # 질문과 관련된 배경 정보 제공\n",
    "    background_info = llm.invoke(f\"질문: {query}\\n이 질문을 이해하는 데 도움이 될 만한 추가 정보를 제공해 주세요.\")\n",
    "\n",
    "    print(f\"\\n[Agent 1] 원본 질문: {query}\")\n",
    "    print(f\"[Agent 1] 핵심 키워드: {keywords}\")\n",
    "    print(f\"[Agent 1] 배경 정보: {background_info}\\n\")\n",
    "\n",
    "    return {\"refined_query\": query, \"keywords\": keywords, \"background_info\": background_info}\n",
    "\n",
    "# 두 번째 AI 에이전트: 키워드 및 배경 정보를 활용하여 답변 생성\n",
    "def agent_2(state):\n",
    "    \"\"\"Agent 1이 제공한 정보를 기반으로 보다 정교한 답변 생성\"\"\"\n",
    "    refined_query = state[\"refined_query\"]\n",
    "    keywords = state[\"keywords\"]\n",
    "    background_info = state[\"background_info\"]\n",
    "\n",
    "    # Agent 1이 제공한 정보를 활용하여 최종 답변 생성\n",
    "    final_response = llm.invoke(\n",
    "        f\"질문: {refined_query}\\n\"\n",
    "        f\"핵심 키워드: {keywords}\\n\"\n",
    "        f\"배경 정보: {background_info}\\n\"\n",
    "        f\"위 정보를 바탕으로 질문에 대해 깊이 있는 답변을 작성해 주세요.\"\n",
    "    )\n",
    "\n",
    "    print(f\"[Agent 2] 최종 답변 생성 완료\\n\")\n",
    "    \n",
    "    return {\"final_answer\": final_response}\n",
    "\n",
    "# LangGraph Workflow 설정\n",
    "workflow = StateGraph(dict)  \n",
    "\n",
    "# 그래프의 시작점 정의\n",
    "workflow.add_node(\"agent_1\", agent_1)\n",
    "workflow.add_node(\"agent_2\", agent_2)\n",
    "\n",
    "# 실행 흐름(Edges) 정의\n",
    "workflow.set_entry_point(\"agent_1\")  # Agent 1이 먼저 실행됨\n",
    "workflow.add_edge(\"agent_1\", \"agent_2\")  # Agent 1 -> Agent 2\n",
    "\n",
    "# 실행 엔진 빌드\n",
    "app = workflow.compile()\n",
    "\n",
    "# 실행 예제\n",
    "query = \"LangGraph는 무엇이며, LangChain과 어떤 차이점이 있나요? 그리고 LangGraph를 사용해야 하는 이유는 무엇인가요?\"\n",
    "state = {\"query\": query}\n",
    "result = app.invoke(state)\n",
    "\n",
    "# 최종 결과 출력\n",
    "print(\"\\n🔹 [AI 최종 답변]:\")\n",
    "print(result[\"final_answer\"])"
   ]
  }
 ],
 "metadata": {
  "kernelspec": {
   "display_name": "langchain-basic-kGdHTiMZ-py3.12",
   "language": "python",
   "name": "python3"
  },
  "language_info": {
   "codemirror_mode": {
    "name": "ipython",
    "version": 3
   },
   "file_extension": ".py",
   "mimetype": "text/x-python",
   "name": "python",
   "nbconvert_exporter": "python",
   "pygments_lexer": "ipython3",
   "version": "3.12.7"
  }
 },
 "nbformat": 4,
 "nbformat_minor": 5
}
