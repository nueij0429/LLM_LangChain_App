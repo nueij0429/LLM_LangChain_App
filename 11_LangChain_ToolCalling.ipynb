{
 "cells": [
  {
   "cell_type": "markdown",
   "id": "bf1cf819",
   "metadata": {},
   "source": [
    "## 1. 환경 설정"
   ]
  },
  {
   "cell_type": "markdown",
   "id": "bc0cb932",
   "metadata": {},
   "source": [
    "`(1) Env 환경변수`"
   ]
  },
  {
   "cell_type": "code",
   "execution_count": 32,
   "id": "423dec5b",
   "metadata": {},
   "outputs": [
    {
     "data": {
      "text/plain": [
       "True"
      ]
     },
     "execution_count": 32,
     "metadata": {},
     "output_type": "execute_result"
    }
   ],
   "source": [
    "from dotenv import load_dotenv\n",
    "load_dotenv()"
   ]
  },
  {
   "cell_type": "markdown",
   "id": "b00b09cb",
   "metadata": {},
   "source": [
    "`(2) 라이브러리`"
   ]
  },
  {
   "cell_type": "code",
   "execution_count": 33,
   "id": "54412ba6",
   "metadata": {},
   "outputs": [],
   "source": [
    "import re\n",
    "import os, json\n",
    "\n",
    "from textwrap import dedent\n",
    "from pprint import pprint\n",
    "\n",
    "import warnings\n",
    "warnings.filterwarnings(\"ignore\")"
   ]
  },
  {
   "cell_type": "markdown",
   "id": "50e67655",
   "metadata": {},
   "source": [
    "## 2. 도구 호출 (Tool Calling)\n",
    "- 도구 호출은 LLM이 특정 작업을 수행하기 위해 외부 기능을 호출하는 기능\n",
    "- 이를 통해 LLM은 외부 API 통합 등 더 복잡한 작업을 수행할 수 있음 "
   ]
  },
  {
   "cell_type": "markdown",
   "id": "7bdccc6b",
   "metadata": {},
   "source": [
    "### 2-1. 랭체인 내장 도구\n",
    "- Tavily 웹 검색 도구 (예시)"
   ]
  },
  {
   "cell_type": "markdown",
   "id": "a6f7e257",
   "metadata": {},
   "source": [
    "`(1) 도구(tool) 정의하기`"
   ]
  },
  {
   "cell_type": "code",
   "execution_count": 42,
   "id": "7c85ed38",
   "metadata": {},
   "outputs": [
    {
     "name": "stdout",
     "output_type": "stream",
     "text": [
      "<class 'dict'>\n",
      "<class 'dict'>\n",
      "{'content': '## 카테고리 이동 별난하루 스테이크와 어울리는 와인 추천과 종류 스테이크 어울리는 와인 추천 스테이크와 와인, 이 '\n",
      "            '둘의 조합은 마치 해변의 파도와 모래처럼 완벽하게 어울리는 궁합이라고 할 수 있죠. 와인: 뜻과 어원 레드 vs '\n",
      "            '화이트, 어떤 와인이 스테이크와 어울릴까? 보통 레드 와인이 스테이크와 잘 어울린다고 알려져 있지만, 그 이유를 한 '\n",
      "            '번 알아볼까요? 레드 와인: 레드 와인은 탄닌이 풍부하여 고기의 지방과 만나면 입안에서 부드러운 균형을 만들어줍니다. '\n",
      "            '화이트와인: 스테이크에 화이트와인? 오늘 저녁 와인 추천 저의 경험을 바탕으로 실제 오늘 마신 몇 가지 와인 '\n",
      "            '추천드릴게요. \\\\ 카베르네 소비뇽 (Cabernet Sauvignon): 진한 스테이크와 찰떡궁합! 세계적으로 인기 '\n",
      "            '있는 와인 와인 애호가들 사이에서 가장 사랑받는 와인 중 하나는 샤토 마고(Château Margaux)인데요. 비싼 '\n",
      "            '와인 추천은 어렵고 저렴한 와인도 맛있어요. 오늘 저녁 스테이크와 함께할 와인은 무엇인가요? ## 카테고리',\n",
      " 'raw_content': None,\n",
      " 'score': 0.91362286,\n",
      " 'title': '스테이크와 어울리는 와인 추천과 종류 - 네이버 블로그',\n",
      " 'url': 'https://m.blog.naver.com/oipicle31/223708302326'}\n",
      "----------------------------------------------------------------------------------------------------\n"
     ]
    }
   ],
   "source": [
    "# 최신 langchain 0.3.25 최신버전 기준  langchain-tavily 포함된 클래스를 사용\n",
    "from langchain_tavily.tavily_search import TavilySearch\n",
    "\n",
    "# 검색할 쿼리 설정\n",
    "query = \"스테이크와 어울리는 와인을 추천해주세요.\"\n",
    "\n",
    "# Tavily 검색 도구 초기화 (최대 2개의 결과 반환)\n",
    "web_search = TavilySearch(max_results=1)\n",
    "\n",
    "# 웹 검색 실행\n",
    "search_results = web_search.invoke(query)\n",
    "print(type(search_results))\n",
    "#pprint(search_results)\n",
    "\n",
    "# 검색 결과 출력\n",
    "for result in search_results['results']:\n",
    "    print(type(result))\n",
    "    pprint(result)  \n",
    "    print(\"-\" * 100)  "
   ]
  },
  {
   "cell_type": "code",
   "execution_count": 22,
   "id": "a2aede37",
   "metadata": {},
   "outputs": [
    {
     "name": "stdout",
     "output_type": "stream",
     "text": [
      "<class 'list'>\n",
      "<class 'dict'>\n",
      "{'content': '중간에서 높음 사이의 적당한 탄닌과 산도를 가진 와인을 선택하면\\n'\n",
      "            '\\n'\n",
      "            '씹는 맛의 긴 여운 속 느끼함을 잡아줄 수 있습니다.\\n'\n",
      "            '\\n'\n",
      "            '\\u200b\\n'\n",
      "            '\\n'\n",
      "            '이에 맞는 레드와인으로는\\n'\n",
      "            '\\n'\n",
      "            '카베르네 소비뇽(Carbernet Sauvignon), 시라(Syrah) 품종을 추천드려요!\\n'\n",
      "            '\\n'\n",
      "            '\\u200b\\n'\n",
      "            '\\n'\n",
      "            '![Image '\n",
      "            '7](https://mblogthumb-phinf.pstatic.net/MjAyMzA1MDhfMTEw/MDAxNjgzNTQ1MDQ3NDI0.v4ZHSvlETicMdag0DaoWGFsrTMFezoiZD_41J0Htwhsg.mPiLhr9soLZMXEOb_GJatpnqVUUNFZkrcmQRn9omaewg.JPEG.wineislikeacat/clark-douglas-7WJV-SDSj6c-unsplash.jpg?type=w80_blur)\\n'\n",
      "            '\\n'\n",
      "            '안심 스테이크와 어울리는 와인\\n'\n",
      "            '\\n'\n",
      "            '> **안심 스테이크와 어울리는 와인 품종은? 산지오베제!**\\n'\n",
      "            '\\n'\n",
      "            '고기 본연의 맛을 즐기기 가장 좋은 부위로 꼽히는 안심은 [...] ![Image '\n",
      "            '6](https://mblogthumb-phinf.pstatic.net/MjAyMzA1MDhfMTQ4/MDAxNjgzNTQ0MjY4OTc2.FasX2MpcBaCDnf0qjWA_PcbLTIlySdPLi7FFnJlTboog.AQwrp1etohVQ3fiIHA0ga9lD45uGexCOZzB_1C12eGQg.JPEG.wineislikeacat/paul-einerhand-dwtt3noJG2k-unsplash.jpg?type=w800)\\n'\n",
      "            '\\n'\n",
      "            '등심 & 채끝 스테이크와 어울리는 와인\\n'\n",
      "            '\\n'\n",
      "            '> **등심 스테이크, 채끝 스테이크와 어울리는 와인 품종은? 카베르네 소비뇽, 시라 등!**\\n'\n",
      "            '\\n'\n",
      "            '등심은 소의 등뼈를 둘러싸고 있는 부위입니다.\\n'\n",
      "            '\\n'\n",
      "            '육질이 연하고 지방이 많아서 두꺼운 스테이크 구이용으로 최적이죠.\\n'\n",
      "            '\\n'\n",
      "            '채끝은 등뼈에서 허리를 감싸는 뼈로 내려오는 쪽의 살인데요,\\n'\n",
      "            '\\n'\n",
      "            '마블링 러버들의 선택을 쉽사리 받는 부위입니다.\\n'\n",
      "            '\\n'\n",
      "            '\\u200b\\n'\n",
      "            '\\n'\n",
      "            '등심과 채끝 스테이크는 모두 풍미가 진하고 지방맛이 강하게 느껴지기에, [...] ![Image '\n",
      "            '5](https://mblogthumb-phinf.pstatic.net/MjAyMzA1MDhfODUg/MDAxNjgzNTQzOTEyNzAz.78WEWS188ZJqnKHO2FM6DsXnDfCKYW7uHXHs_rHLEeIg.ao4C5tzgVVPJWNs8T5AUm4M2F42myBCQ4bjAjYQmuWog.JPEG.wineislikeacat/sq-lim-rWzfWBE4R0o-unsplash.jpg?type=w800)\\n'\n",
      "            '\\n'\n",
      "            '우리동네내와인의 소고기 스테이크 부위별 레드와인 추천!\\n'\n",
      "            '\\n'\n",
      "            '안녕하세요, 우리동네내와인입니다!\\n'\n",
      "            '\\n'\n",
      "            '\\u200b\\n'\n",
      "            '\\n'\n",
      "            '흔히 육류 스테이크 하면 레드와인이라고 알려져있죠?\\n'\n",
      "            '\\n'\n",
      "            '이번 시간에는 이 공식을 조금 더 자세히 살펴보려 합니다.\\n'\n",
      "            '\\n'\n",
      "            '특정 부위에 더 잘 어울리는 와인을 소개하는 방식으로요 :)\\n'\n",
      "            '\\n'\n",
      "            '\\u200b\\n'\n",
      "            '\\n'\n",
      "            '오늘 글을 읽으시다가 모르는 레드와인 종류가 나오면\\n'\n",
      "            '\\n'\n",
      "            '아래 글도 한번 참고해보시길 바랍니다.\\n'\n",
      "            '\\n'\n",
      "            '\\u200b',\n",
      " 'score': 0.90633047,\n",
      " 'title': '등심 스테이크에는 이 와인 드셔보세요! 소고기 부위별 레드와인 추천 ...',\n",
      " 'url': 'https://m.blog.naver.com/wineislikeacat/223096696241'}\n",
      "----------------------------------------------------------------------------------------------------\n",
      "<class 'dict'>\n",
      "{'content': '향에 송로 버섯, 가죽, 흙과 같은 아로마를 지녀요. 이처럼 풍미는 아주 섬세한 편이지만, 의외로 바디는 무거운 '\n",
      "            '편이며, 산도와 탄닌의 정도도 높은 편이랍니다.    이런 스타일의 와인은 다양한 부위의 스테이크와 잘 어울릴 수 '\n",
      "            '있고, 포터하우스부터 엘본 스테이크까지도 예외는 아니죠! 😎 아주 굿 초이스가 될 와인이니 기억해 두세요!    3. '\n",
      "            '샤또 딸보 (Ch. Talbot)   * 산지: 프랑스 > 보르도 > 생-쥘리앙 * 품종: 보르도 블렌딩 (까베르네 '\n",
      "            '소비뇽 & 메를로 & 쁘띠 베르도) \\\\*빈티지 별로 블렌딩 비율은 상이함     샤또 딸보. 와인을 잘 모르는 '\n",
      "            '사람도 한 번쯤을 들어 봤을 와인이죠!? 보르도 와인 하면 굉장히 강하고 거친 와인이라는 편견이 있기도 한데 그건 '\n",
      "            '사실이 아니에요. 사실, 보르도 와인은 굉장히 복합적이면서 섬세한 아로마를 가진다는 것이 가장 큰 장점인 '\n",
      "            '와인이거든요. 그리고 이런 특징을 지닌 와인들이 포터하우스와도 굉장히 좋은 궁합을 보인다는 것이죠. [...] 봐야 '\n",
      "            '하는 음식과 와인이 있다면 추천해 주세요!  💁\\u200d♂️: 와~! 그러시면, 티본(T-bone) 스테이크와 함께 '\n",
      "            '끼안티 클라시코(Chianti Classico) 혹은 브루넬로 디 몬탈치노(Brunello di '\n",
      "            'Montalcino)를 드시고 오세요~!  🙋\\u200d♀️: ...티본 스테이크가 뭐죠...? 😅  '\n",
      "            '💁\\u200d♂️: ...😂 (저 와인 강사입니다만...)    이처럼, 와인과 음식의 페어링에 관해 얘기하다 보면 '\n",
      "            '음식에 대해서 설명하는 경우도 종종 있는데요! 그래서 오늘은 티본 스테이크에 대해서 간략하게 설명해 드리면서 이에 '\n",
      "            '어울릴 수 있는 와인 스타일도 함께 소개해 드릴까 합니다~    \"포터하우스, 티본, 엘본 스테이크..이게 다 '\n",
      "            '뭐람..?\"🤔 | | |  |  |  |  | | --- | --- | --- | | |  |  | | --- | '\n",
      "            '--- | | |  | | --- | |  | | |  |  |  |  | | --- | --- | --- | | '\n",
      "            '|  |  | | --- | [...] 원칙이 있어요. 그러나 이에 앞서 더 중요한 것은 개인의 취향이라는 것입니다. '\n",
      "            '스파클링 와인을 좋아하시는 분들에게는 스파클링 와인도 좋은 대안이 될 수 있으며, 화이트 와인 중에서도 좋은 대안은 '\n",
      "            '얼마든지 있을 수 있거든요. 그렇기 때문에 포터하우스 스테이크와 어울릴 수 있는 와인의 스타일은 위에 언급한 것만이 '\n",
      "            '답이 아니라는 점을 잊지 말아 주세요.    와인과 음식의 페어링엔 언제나 다양한 가능성이 열려 있답니다! 🤗 | |',\n",
      " 'score': 0.8851659,\n",
      " 'title': '티본(T-bone) 스테이크 좋아하시나요? - 와인뜨루 - 스티비',\n",
      " 'url': 'https://winethru.stibee.com/p/54/'}\n",
      "----------------------------------------------------------------------------------------------------\n",
      "<class 'dict'>\n",
      "{'content': 'Quick은 소스와 관련하여 “스테이크 전체에 소스를 듬뿍 부어서 먹는다면 얇게 썬 소고기를 먹을 때 타닌이 강하고 '\n",
      "            '무거운 와인은 피하라는 앞선 나의 조언은 모두 무시하기 바란다. 어차피 스테이크에 버터나 소고기의 지방을 바르는 '\n",
      "            '것이므로 이 경우 지방이 많은 스테이크에 대한 조언을 참고하면 된다.”라고 조언한다.\\n'\n",
      "            '\\n'\n",
      "            '[소고기와 화이트 와인을 함께 마셔도 될까?]\\n'\n",
      "            '\\n'\n",
      "            '소고기와 화이트 와인의 궁합에 대한 의견은 개인 취향에 따라 다를 수 있지만, 몇몇 소믈리에들은 소고기와 잘 어울리는 '\n",
      "            '화이트 와인이 있다고 말한다.\\n'\n",
      "            '\\n'\n",
      "            'Quick에 의하면 캐러멜라이즈한 크러스트가 있는 고기라면 견과류 향이 나는 화이트 와인과 잘 어울린다고 한다. 그는 '\n",
      "            '“산화 숙성이 오래 된 와인이 좋을 것이다.”라며 쥐라 또는 전통적인 화이트 리오하를 추천했다.\\n'\n",
      "            '\\n'\n",
      "            '그는 또한 셰리도 좋은 궁합을 보여준다고 강조했다. “만약 셰리를 좋아한다면 놀랄만큼 훌륭한 매칭을 보여줄 '\n",
      "            '것이다.”라며 말이다. [...] 말벡을 좋아한다면 디캔터의 기고가인 남미 와인 전문가 Patricio Tapia가 '\n",
      "            '이전에 제안한 것처럼 아르헨티나 우코 밸리의 알타미라(Altamira)와 구알탈라리(Gualtallary)에서 생산된 '\n",
      "            '신선한 스타일의 와인을 추천한다.\\n'\n",
      "            '\\n'\n",
      "            '레어 또는 핑크빛으로 요리된 소고기의 살코기 부위에는 밝고 풍부한 과실미를 드러내면서도 고기의 풍미와 어울리는 깊이를 '\n",
      "            '지닌 레드 와인을 선택하는 것이 좋다.\\n'\n",
      "            '\\n'\n",
      "            '[천생연분의 궁합을 자랑하는 지방과 타닌]\\n'\n",
      "            '\\n'\n",
      "            '소고기의 엉덩이, 앞갈비, 정강이살 같은 지방이 많은 부위는 살코기보다 풍미가 더 깊다.\\n'\n",
      "            '\\n'\n",
      "            'Quick은 소고기의 지방 함량이 높을수록 타닌이 강하고 진한 와인과 잘 어울린다고 말한다.\\n'\n",
      "            '\\n'\n",
      "            '지방 함량은 입안에서 타닌을 씻어내고, 그 반대 작용도 마찬가지로 일어난다. “그래서 와인과 스테이크를 더 많이 먹게 '\n",
      "            '되는 것이다.”\\n'\n",
      "            '\\n'\n",
      "            '[숙성된 소고기는 바롤로와 함께하기]',\n",
      " 'score': 0.86928266,\n",
      " 'title': '전문가가 추천하는 소고기와 어울리는 와인 찾기 - 마시자 매거진',\n",
      " 'url': 'https://mashija.com/%EC%A0%84%EB%AC%B8%EA%B0%80%EA%B0%80-%EC%B6%94%EC%B2%9C%ED%95%98%EB%8A%94-%EC%86%8C%EA%B3%A0%EA%B8%B0%EC%99%80-%EC%96%B4%EC%9A%B8%EB%A6%AC%EB%8A%94-%EC%99%80%EC%9D%B8-%EC%B0%BE%EA%B8%B0/'}\n",
      "----------------------------------------------------------------------------------------------------\n"
     ]
    }
   ],
   "source": [
    "# 최신 langchain 0.3.25 이전 버전 langchain community 에 포함된 클래스를 사용\n",
    "from langchain_community.tools import TavilySearchResults\n",
    "\n",
    "# 검색할 쿼리 설정\n",
    "query = \"스테이크와 어울리는 와인을 추천해주세요.\"\n",
    "\n",
    "# Tavily 검색 도구 초기화 (최대 2개의 결과 반환)\n",
    "web_search = TavilySearchResults(max_results=3)\n",
    "\n",
    "# 웹 검색 실행\n",
    "search_results = web_search.invoke(query)\n",
    "print(type(search_results))\n",
    "#pprint(search_results)\n",
    "\n",
    "# 검색 결과 출력\n",
    "for result in search_results:\n",
    "    print(type(result))\n",
    "    pprint(result)  \n",
    "    print(\"-\" * 100)  "
   ]
  },
  {
   "cell_type": "code",
   "execution_count": 43,
   "id": "b6791575",
   "metadata": {},
   "outputs": [
    {
     "name": "stdout",
     "output_type": "stream",
     "text": [
      "자료형: \n",
      "<class 'langchain_tavily.tavily_search.TavilySearch'>\n",
      "----------------------------------------------------------------------------------------------------\n",
      "name: \n",
      "tavily_search\n",
      "----------------------------------------------------------------------------------------------------\n",
      "description: \n",
      "('A search engine optimized for comprehensive, accurate, and trusted results. '\n",
      " 'Useful for when you need to answer questions about current events. It not '\n",
      " 'only retrieves URLs and snippets, but offers advanced search depths, domain '\n",
      " 'management, time range filters, and image search, this tool delivers '\n",
      " 'real-time, accurate, and citation-backed results.Input should be a search '\n",
      " 'query.')\n",
      "----------------------------------------------------------------------------------------------------\n",
      "schema: \n",
      "{'description': 'Input for [TavilySearch]',\n",
      " 'properties': {'exclude_domains': {'anyOf': [{'items': {'type': 'string'},\n",
      "                                               'type': 'array'},\n",
      "                                              {'type': 'null'}],\n",
      "                                    'default': [],\n",
      "                                    'description': 'A list of domains to '\n",
      "                                                   'exclude from search '\n",
      "                                                   'results.\\n'\n",
      "                                                   '\\n'\n",
      "                                                   '        Use this parameter '\n",
      "                                                   'when:\\n'\n",
      "                                                   '        1. The user '\n",
      "                                                   'explicitly requests to '\n",
      "                                                   'avoid certain websites '\n",
      "                                                   '(e.g., \"Find information '\n",
      "                                                   'about climate change but '\n",
      "                                                   'not from twitter.com\")\\n'\n",
      "                                                   '        2. The user '\n",
      "                                                   'mentions not wanting '\n",
      "                                                   'results from specific '\n",
      "                                                   'organizations without '\n",
      "                                                   'naming the domain (e.g., '\n",
      "                                                   '\"Find phone reviews but '\n",
      "                                                   'nothing from Apple\")\\n'\n",
      "                                                   '\\n'\n",
      "                                                   '        In both cases, you '\n",
      "                                                   'should determine the '\n",
      "                                                   'appropriate domains to '\n",
      "                                                   'exclude (e.g., '\n",
      "                                                   '[\"twitter.com\"] or '\n",
      "                                                   '[\"apple.com\"]) and set '\n",
      "                                                   'this parameter.\\n'\n",
      "                                                   '\\n'\n",
      "                                                   '        Results will '\n",
      "                                                   'filter out all content '\n",
      "                                                   'from the specified '\n",
      "                                                   'domains.\\n'\n",
      "                                                   '        Default is None '\n",
      "                                                   '(no domain exclusion).\\n'\n",
      "                                                   '        ',\n",
      "                                    'title': 'Exclude Domains'},\n",
      "                'include_domains': {'anyOf': [{'items': {'type': 'string'},\n",
      "                                               'type': 'array'},\n",
      "                                              {'type': 'null'}],\n",
      "                                    'default': [],\n",
      "                                    'description': 'A list of domains to '\n",
      "                                                   'restrict search results '\n",
      "                                                   'to.\\n'\n",
      "                                                   '\\n'\n",
      "                                                   '        Use this parameter '\n",
      "                                                   'when:\\n'\n",
      "                                                   '        1. The user '\n",
      "                                                   'explicitly requests '\n",
      "                                                   'information from specific '\n",
      "                                                   'websites (e.g., \"Find '\n",
      "                                                   'climate data from '\n",
      "                                                   'nasa.gov\")\\n'\n",
      "                                                   '        2. The user '\n",
      "                                                   'mentions an organization '\n",
      "                                                   'or company without '\n",
      "                                                   'specifying the domain '\n",
      "                                                   '(e.g., \"Find information '\n",
      "                                                   'about iPhones from '\n",
      "                                                   'Apple\")\\n'\n",
      "                                                   '\\n'\n",
      "                                                   '        In both cases, you '\n",
      "                                                   'should determine the '\n",
      "                                                   'appropriate domains (e.g., '\n",
      "                                                   '[\"nasa.gov\"] or '\n",
      "                                                   '[\"apple.com\"]) and set '\n",
      "                                                   'this parameter.\\n'\n",
      "                                                   '\\n'\n",
      "                                                   '        Results will ONLY '\n",
      "                                                   'come from the specified '\n",
      "                                                   'domains - no other sources '\n",
      "                                                   'will be included.\\n'\n",
      "                                                   '        Default is None '\n",
      "                                                   '(no domain restriction).\\n'\n",
      "                                                   '        ',\n",
      "                                    'title': 'Include Domains'},\n",
      "                'include_images': {'anyOf': [{'type': 'boolean'},\n",
      "                                             {'type': 'null'}],\n",
      "                                   'default': False,\n",
      "                                   'description': 'Determines if the search '\n",
      "                                                  'returns relevant images '\n",
      "                                                  'along with text results.\\n'\n",
      "                                                  '   \\n'\n",
      "                                                  '        Set to True when '\n",
      "                                                  'the user explicitly '\n",
      "                                                  'requests visuals or when '\n",
      "                                                  'images would \\n'\n",
      "                                                  '        significantly '\n",
      "                                                  'enhance understanding '\n",
      "                                                  '(e.g., \"Show me what black '\n",
      "                                                  'holes look like,\" \\n'\n",
      "                                                  '        \"Find pictures of '\n",
      "                                                  'Renaissance art\").\\n'\n",
      "                                                  '        \\n'\n",
      "                                                  '        Leave as False '\n",
      "                                                  '(default) for most '\n",
      "                                                  'informational queries where '\n",
      "                                                  'text is sufficient.\\n'\n",
      "                                                  '        ',\n",
      "                                   'title': 'Include Images'},\n",
      "                'query': {'description': 'Search query to look up',\n",
      "                          'title': 'Query',\n",
      "                          'type': 'string'},\n",
      "                'search_depth': {'anyOf': [{'enum': ['basic', 'advanced'],\n",
      "                                            'type': 'string'},\n",
      "                                           {'type': 'null'}],\n",
      "                                 'default': 'basic',\n",
      "                                 'description': 'Controls search thoroughness '\n",
      "                                                'and result '\n",
      "                                                'comprehensiveness.\\n'\n",
      "                                                '    \\n'\n",
      "                                                '        Use \"basic\" for '\n",
      "                                                'simple queries requiring '\n",
      "                                                'quick, straightforward '\n",
      "                                                'answers.\\n'\n",
      "                                                '        \\n'\n",
      "                                                '        Use \"advanced\" '\n",
      "                                                '(default) for complex '\n",
      "                                                'queries, specialized '\n",
      "                                                'topics, \\n'\n",
      "                                                '        rare information, or '\n",
      "                                                'when in-depth analysis is '\n",
      "                                                'needed.\\n'\n",
      "                                                '        ',\n",
      "                                 'title': 'Search Depth'},\n",
      "                'time_range': {'anyOf': [{'enum': ['day',\n",
      "                                                   'week',\n",
      "                                                   'month',\n",
      "                                                   'year'],\n",
      "                                          'type': 'string'},\n",
      "                                         {'type': 'null'}],\n",
      "                               'default': None,\n",
      "                               'description': 'Limits results to content '\n",
      "                                              'published within a specific '\n",
      "                                              'timeframe.\\n'\n",
      "                                              '        \\n'\n",
      "                                              '        ONLY set this when the '\n",
      "                                              'user explicitly mentions a time '\n",
      "                                              'period \\n'\n",
      "                                              '        (e.g., \"latest AI '\n",
      "                                              'news,\" \"articles from last '\n",
      "                                              'week\").\\n'\n",
      "                                              '        \\n'\n",
      "                                              '        For less popular or '\n",
      "                                              'niche topics, use broader time '\n",
      "                                              'ranges \\n'\n",
      "                                              '        (\"month\" or \"year\") to '\n",
      "                                              'ensure sufficient relevant '\n",
      "                                              'results.\\n'\n",
      "                                              '   \\n'\n",
      "                                              '        Options: \"day\" (24h), '\n",
      "                                              '\"week\" (7d), \"month\" (30d), '\n",
      "                                              '\"year\" (365d).\\n'\n",
      "                                              '        \\n'\n",
      "                                              '        Default is None.\\n'\n",
      "                                              '        ',\n",
      "                               'title': 'Time Range'},\n",
      "                'topic': {'anyOf': [{'enum': ['general', 'news', 'finance'],\n",
      "                                     'type': 'string'},\n",
      "                                    {'type': 'null'}],\n",
      "                          'default': 'general',\n",
      "                          'description': 'Specifies search category for '\n",
      "                                         'optimized results.\\n'\n",
      "                                         '   \\n'\n",
      "                                         '        Use \"general\" (default) for '\n",
      "                                         'most queries, INCLUDING those with '\n",
      "                                         'terms like \\n'\n",
      "                                         '        \"latest,\" \"newest,\" or '\n",
      "                                         '\"recent\" when referring to general '\n",
      "                                         'information.\\n'\n",
      "                                         '\\n'\n",
      "                                         '        Use \"finance\" for markets, '\n",
      "                                         'investments, economic data, or '\n",
      "                                         'financial news.\\n'\n",
      "                                         '\\n'\n",
      "                                         '        Use \"news\" ONLY for '\n",
      "                                         'politics, sports, or major current '\n",
      "                                         'events covered by \\n'\n",
      "                                         '        mainstream media - NOT '\n",
      "                                         'simply because a query asks for '\n",
      "                                         '\"new\" information.\\n'\n",
      "                                         '        ',\n",
      "                          'title': 'Topic'}},\n",
      " 'required': ['query'],\n",
      " 'title': 'TavilySearchInput',\n",
      " 'type': 'object'}\n",
      "----------------------------------------------------------------------------------------------------\n"
     ]
    }
   ],
   "source": [
    "# 도구 속성\n",
    "print(\"자료형: \")\n",
    "print(type(web_search))\n",
    "print(\"-\"*100)\n",
    "\n",
    "print(\"name: \")\n",
    "print(web_search.name)\n",
    "print(\"-\"*100)\n",
    "\n",
    "print(\"description: \")\n",
    "pprint(web_search.description)\n",
    "print(\"-\"*100)\n",
    "\n",
    "print(\"schema: \")\n",
    "pprint(web_search.args_schema.schema())\n",
    "print(\"-\"*100)"
   ]
  },
  {
   "cell_type": "markdown",
   "id": "88b600d9",
   "metadata": {},
   "source": [
    "`(2) 도구(tool) 호출하기`"
   ]
  },
  {
   "cell_type": "code",
   "execution_count": 44,
   "id": "51a3633c",
   "metadata": {},
   "outputs": [],
   "source": [
    "from langchain_openai import ChatOpenAI\n",
    "\n",
    "# ChatOpenAI 모델 초기화\n",
    "# llm = ChatOpenAI(model=\"gpt-3.5-turbo-0125\")\n",
    "llm = ChatOpenAI(model=\"gpt-4o-mini\")\n",
    "\n",
    "# 웹 검색 도구를 직접 LLM에 바인딩 가능\n",
    "llm_with_tools = llm.bind_tools(tools=[web_search])"
   ]
  },
  {
   "cell_type": "code",
   "execution_count": 35,
   "id": "17d2468d",
   "metadata": {},
   "outputs": [
    {
     "name": "stdout",
     "output_type": "stream",
     "text": [
      "AIMessage(content='안녕하세요! 무엇을 도와드릴까요?', additional_kwargs={'refusal': None}, response_metadata={'token_usage': {'completion_tokens': 22, 'prompt_tokens': 87, 'total_tokens': 109, 'completion_tokens_details': {'accepted_prediction_tokens': 0, 'audio_tokens': 0, 'reasoning_tokens': 0, 'rejected_prediction_tokens': 0}, 'prompt_tokens_details': {'audio_tokens': 0, 'cached_tokens': 0}}, 'model_name': 'gpt-3.5-turbo-0125', 'system_fingerprint': None, 'id': 'chatcmpl-BiEgqdY1JZWUgcq4ZaxIk5yJco92K', 'service_tier': 'default', 'finish_reason': 'stop', 'logprobs': None}, id='run--98145770-001a-42d5-bb6e-50a08e385c69-0', usage_metadata={'input_tokens': 87, 'output_tokens': 22, 'total_tokens': 109, 'input_token_details': {'audio': 0, 'cache_read': 0}, 'output_token_details': {'audio': 0, 'reasoning': 0}})\n",
      "----------------------------------------------------------------------------------------------------\n",
      "'안녕하세요! 무엇을 도와드릴까요?'\n",
      "----------------------------------------------------------------------------------------------------\n",
      "[]\n",
      "----------------------------------------------------------------------------------------------------\n"
     ]
    }
   ],
   "source": [
    "# 도구 호출이 필요 없는 LLM 호출을 수행\n",
    "query = \"안녕하세요.\"\n",
    "ai_msg = llm_with_tools.invoke(query)\n",
    "\n",
    "# LLM의 전체 출력 결과 출력\n",
    "pprint(ai_msg)\n",
    "print(\"-\" * 100)\n",
    "\n",
    "# 메시지 content 속성 (텍스트 출력)\n",
    "pprint(ai_msg.content)\n",
    "print(\"-\" * 100)\n",
    "\n",
    "# LLM이 호출한 도구 정보 출력\n",
    "pprint(ai_msg.tool_calls)\n",
    "print(\"-\" * 100)"
   ]
  },
  {
   "cell_type": "code",
   "execution_count": 45,
   "id": "dd8df009",
   "metadata": {},
   "outputs": [],
   "source": [
    "from pprint import pprint\n",
    "\n",
    "# 도구 호출이 필요한 LLM 호출을 수행\n",
    "query = \"스테이크와 어울리는 와인을 추천해주세요.\"\n",
    "ai_msg = llm_with_tools.invoke(query)\n",
    "\n",
    "# AIMessage의 속성 확인\n",
    "#pprint(dir(ai_msg))\n"
   ]
  },
  {
   "cell_type": "code",
   "execution_count": 46,
   "id": "249211b1",
   "metadata": {},
   "outputs": [
    {
     "name": "stdout",
     "output_type": "stream",
     "text": [
      "{'additional_kwargs': {'refusal': None,\n",
      "                       'tool_calls': [{'function': {'arguments': '{\"query\":\"스테이크와 '\n",
      "                                                                 '어울리는 와인 '\n",
      "                                                                 '추천\",\"search_depth\":\"basic\"}',\n",
      "                                                    'name': 'tavily_search'},\n",
      "                                       'id': 'call_L0Lfq6dr9HaK1Uo9mvtDaVzH',\n",
      "                                       'type': 'function'}]},\n",
      " 'content': '',\n",
      " 'example': False,\n",
      " 'id': 'run--3958c539-0325-47c2-8021-5b901e54b9c4-0',\n",
      " 'invalid_tool_calls': [],\n",
      " 'name': None,\n",
      " 'response_metadata': {'finish_reason': 'tool_calls',\n",
      "                       'id': 'chatcmpl-BitCx3TSRc5CpHnHSt0SFaLmylIA4',\n",
      "                       'logprobs': None,\n",
      "                       'model_name': 'gpt-4o-mini-2024-07-18',\n",
      "                       'service_tier': 'default',\n",
      "                       'system_fingerprint': 'fp_62a23a81ef',\n",
      "                       'token_usage': {'completion_tokens': 30,\n",
      "                                       'completion_tokens_details': {'accepted_prediction_tokens': 0,\n",
      "                                                                     'audio_tokens': 0,\n",
      "                                                                     'reasoning_tokens': 0,\n",
      "                                                                     'rejected_prediction_tokens': 0},\n",
      "                                       'prompt_tokens': 779,\n",
      "                                       'prompt_tokens_details': {'audio_tokens': 0,\n",
      "                                                                 'cached_tokens': 0},\n",
      "                                       'total_tokens': 809}},\n",
      " 'tool_calls': [{'args': {'query': '스테이크와 어울리는 와인 추천', 'search_depth': 'basic'},\n",
      "                 'id': 'call_L0Lfq6dr9HaK1Uo9mvtDaVzH',\n",
      "                 'name': 'tavily_search',\n",
      "                 'type': 'tool_call'}],\n",
      " 'type': 'ai',\n",
      " 'usage_metadata': {'input_token_details': {'audio': 0, 'cache_read': 0},\n",
      "                    'input_tokens': 779,\n",
      "                    'output_token_details': {'audio': 0, 'reasoning': 0},\n",
      "                    'output_tokens': 30,\n",
      "                    'total_tokens': 809}}\n"
     ]
    }
   ],
   "source": [
    "pprint(vars(ai_msg))"
   ]
  },
  {
   "cell_type": "code",
   "execution_count": 59,
   "id": "32096b05",
   "metadata": {},
   "outputs": [
    {
     "name": "stdout",
     "output_type": "stream",
     "text": [
      "[{'args': {'query': '스테이크와 어울리는 와인 추천', 'search_depth': 'basic'},\n",
      "  'id': 'call_L0Lfq6dr9HaK1Uo9mvtDaVzH',\n",
      "  'name': 'tavily_search',\n",
      "  'type': 'tool_call'}]\n"
     ]
    }
   ],
   "source": [
    "pprint(ai_msg.tool_calls)"
   ]
  },
  {
   "cell_type": "code",
   "execution_count": 47,
   "id": "2dcc0f63",
   "metadata": {},
   "outputs": [
    {
     "name": "stdout",
     "output_type": "stream",
     "text": [
      "AIMessage(content='', additional_kwargs={'tool_calls': [{'id': 'call_L0Lfq6dr9HaK1Uo9mvtDaVzH', 'function': {'arguments': '{\"query\":\"스테이크와 어울리는 와인 추천\",\"search_depth\":\"basic\"}', 'name': 'tavily_search'}, 'type': 'function'}], 'refusal': None}, response_metadata={'token_usage': {'completion_tokens': 30, 'prompt_tokens': 779, 'total_tokens': 809, 'completion_tokens_details': {'accepted_prediction_tokens': 0, 'audio_tokens': 0, 'reasoning_tokens': 0, 'rejected_prediction_tokens': 0}, 'prompt_tokens_details': {'audio_tokens': 0, 'cached_tokens': 0}}, 'model_name': 'gpt-4o-mini-2024-07-18', 'system_fingerprint': 'fp_62a23a81ef', 'id': 'chatcmpl-BitCx3TSRc5CpHnHSt0SFaLmylIA4', 'service_tier': 'default', 'finish_reason': 'tool_calls', 'logprobs': None}, id='run--3958c539-0325-47c2-8021-5b901e54b9c4-0', tool_calls=[{'name': 'tavily_search', 'args': {'query': '스테이크와 어울리는 와인 추천', 'search_depth': 'basic'}, 'id': 'call_L0Lfq6dr9HaK1Uo9mvtDaVzH', 'type': 'tool_call'}], usage_metadata={'input_tokens': 779, 'output_tokens': 30, 'total_tokens': 809, 'input_token_details': {'audio': 0, 'cache_read': 0}, 'output_token_details': {'audio': 0, 'reasoning': 0}})\n",
      "####################################################################################################\n",
      "''\n",
      "****************************************************************************************************\n",
      "[{'args': {'query': '스테이크와 어울리는 와인 추천', 'search_depth': 'basic'},\n",
      "  'id': 'call_L0Lfq6dr9HaK1Uo9mvtDaVzH',\n",
      "  'name': 'tavily_search',\n",
      "  'type': 'tool_call'}]\n",
      "----------------------------------------------------------------------------------------------------\n"
     ]
    }
   ],
   "source": [
    "\n",
    "pprint(ai_msg)\n",
    "print(\"#\" * 100)\n",
    "\n",
    "# 메시지 content 속성 (텍스트 출력)\n",
    "pprint(ai_msg.content)\n",
    "print(\"*\" * 100)\n",
    "\n",
    "# LLM이 호출한 도구 정보 출력\n",
    "pprint(ai_msg.tool_calls)\n",
    "print(\"-\" * 100)"
   ]
  },
  {
   "cell_type": "code",
   "execution_count": 48,
   "id": "84d0d45d",
   "metadata": {},
   "outputs": [
    {
     "name": "stdout",
     "output_type": "stream",
     "text": [
      "{'args': {'query': '스테이크와 어울리는 와인 추천', 'search_depth': 'basic'},\n",
      " 'id': 'call_L0Lfq6dr9HaK1Uo9mvtDaVzH',\n",
      " 'name': 'tavily_search',\n",
      " 'type': 'tool_call'}\n"
     ]
    }
   ],
   "source": [
    "# AIMessage 객체에 포함된 tool_calls\n",
    "tool_call = ai_msg.tool_calls[0]\n",
    "\n",
    "pprint(tool_call)"
   ]
  },
  {
   "cell_type": "markdown",
   "id": "86835305",
   "metadata": {},
   "source": [
    "`(3) 도구(tool) 실행하기`\n",
    "\n",
    "#### 방법 1: 직접 도구 호출 처리한 결과로 ToolMessage 객체 생성\n",
    "\n",
    "* 이 방법은 AI 메시지에서 첫 번째 도구 호출을 가져와 직접 처리한다.\n",
    "* 'args'를 사용하여 TavilySearch 객체의 invoke()를 호출하여 결과를 얻는다."
   ]
  },
  {
   "cell_type": "code",
   "execution_count": 49,
   "id": "a3eb0c7e",
   "metadata": {},
   "outputs": [
    {
     "name": "stdout",
     "output_type": "stream",
     "text": [
      "tavily_search 호출 결과:\n",
      "----------------------------------------------------------------------------------------------------\n",
      "{'answer': None,\n",
      " 'follow_up_questions': None,\n",
      " 'images': [],\n",
      " 'query': '스테이크와 어울리는 와인 추천',\n",
      " 'response_time': 1.78,\n",
      " 'results': [{'content': 'Image 1: 블로그 이미지 카베르네 소비뇽 (Cabernet Sauvignon) – '\n",
      "                         '스테이크 와인의 대표주자 오늘은 **스테이크와 가장 잘 어울리는 와인 5가지**를 소개합니다. '\n",
      "                         '1. 카베르네 소비뇽 (Cabernet Sauvignon) – 스테이크 와인의 대표주자 '\n",
      "                         '**어울리는 스테이크:** *   리브아이 스테이크 *   티본 스테이크 카베르네 소비뇽은 '\n",
      "                         '특히 **마블링이 많은 소고기 스테이크**와 환상적인 조화를 이룹니다. **어울리는 '\n",
      "                         '스테이크:** *   바비큐 스테이크 *   페퍼크러스트 스테이크 **어울리는 스테이크:** '\n",
      "                         '*   티본 스테이크 **어울리는 스테이크:** *   등심 스테이크 **어울리는 '\n",
      "                         '스테이크:** *   바비큐 스타일 스테이크 와인 종류 특징 어울리는 스테이크 카베르네 소비뇽 '\n",
      "                         '강한 탄닌, 풀바디 마블링이 많은 스테이크 진판델 달콤한 향과 강한 바디감 바비큐 소스 '\n",
      "                         '스테이크 Image 15 Image 16 *   Image 18술 마셔도 다이어트 가능할까? '\n",
      "                         '*   Image 23술 마셔도 다이어트 가능할까? *   Image 24스테이크와 찰떡궁합! '\n",
      "                         '*   Image 27스테이크와 찰떡궁합! | 티스토리 홈 이동 | H H |',\n",
      "              'raw_content': None,\n",
      "              'score': 0.9165366,\n",
      "              'title': '스테이크와 찰떡궁합! 스테이크에 어울리는 와인 5가지',\n",
      "              'url': 'https://alcohol.hobby-tech.com/entry/스테이크와-찰떡궁합-스테이크에-어울리는-와인-5가지'}]}\n"
     ]
    }
   ],
   "source": [
    "tool_output = web_search.invoke(tool_call[\"args\"])\n",
    "print(f\"{tool_call['name']} 호출 결과:\")\n",
    "print(\"-\" * 100)\n",
    "\n",
    "pprint(tool_output)"
   ]
  },
  {
   "cell_type": "code",
   "execution_count": 50,
   "id": "df88bfcb",
   "metadata": {},
   "outputs": [
    {
     "name": "stdout",
     "output_type": "stream",
     "text": [
      "(\"{'query': '스테이크와 어울리는 와인 추천', 'follow_up_questions': None, 'answer': None, \"\n",
      " \"'images': [], 'results': [{'title': '스테이크와 찰떡궁합! 스테이크에 어울리는 와인 5가지', 'url': \"\n",
      " \"'https://alcohol.hobby-tech.com/entry/스테이크와-찰떡궁합-스테이크에-어울리는-와인-5가지', \"\n",
      " \"'content': 'Image 1: 블로그 이미지 카베르네 소비뇽 (Cabernet Sauvignon) – 스테이크 와인의 대표주자 \"\n",
      " '오늘은 **스테이크와 가장 잘 어울리는 와인 5가지**를 소개합니다. 1. 카베르네 소비뇽 (Cabernet Sauvignon) – '\n",
      " '스테이크 와인의 대표주자 **어울리는 스테이크:** *   리브아이 스테이크 *   티본 스테이크 카베르네 소비뇽은 특히 **마블링이 '\n",
      " '많은 소고기 스테이크**와 환상적인 조화를 이룹니다. **어울리는 스테이크:** *   바비큐 스테이크 *   페퍼크러스트 스테이크 '\n",
      " '**어울리는 스테이크:** *   티본 스테이크 **어울리는 스테이크:** *   등심 스테이크 **어울리는 스테이크:** *   바비큐 '\n",
      " '스타일 스테이크 와인 종류 특징 어울리는 스테이크 카베르네 소비뇽 강한 탄닌, 풀바디 마블링이 많은 스테이크 진판델 달콤한 향과 강한 '\n",
      " '바디감 바비큐 소스 스테이크 Image 15 Image 16 *   Image 18술 마셔도 다이어트 가능할까? *   Image 23술 '\n",
      " '마셔도 다이어트 가능할까? *   Image 24스테이크와 찰떡궁합! *   Image 27스테이크와 찰떡궁합! | 티스토리 홈 이동 | '\n",
      " \"H H |', 'score': 0.9165366, 'raw_content': None}], 'response_time': 1.78}\")\n"
     ]
    }
   ],
   "source": [
    "from langchain_core.messages import ToolMessage\n",
    "\n",
    "tool_message = ToolMessage(\n",
    "    content=tool_output,\n",
    "    tool_call_id=tool_call[\"id\"],\n",
    "    name=tool_call[\"name\"]\n",
    ")\n",
    "\n",
    "pprint(tool_message.content)"
   ]
  },
  {
   "cell_type": "markdown",
   "id": "7292c9a7",
   "metadata": {},
   "source": [
    "#### 방법 2: 도구 직접 호출하여 바로 ToolMessage 객체 생성\n",
    "\n",
    "* tool_call 변수는 AIMessage 객체 포함된 tool을 호출한 결과 tool_calls\n",
    "* TavilySearch 객체를 invoke(tool_call)하면 결과 객체의 타입이 ToolMessage이다.\n",
    "* 이 방법은 도구를 직접 호출하여 ToolMessage 객체를 생성한다.\n",
    "* 가장 간단하고 직관적인 방법으로, LangChain의 추상화를 활용한다."
   ]
  },
  {
   "cell_type": "code",
   "execution_count": 51,
   "id": "0f39f32b",
   "metadata": {},
   "outputs": [
    {
     "name": "stdout",
     "output_type": "stream",
     "text": [
      "<class 'langchain_core.messages.tool.ToolMessage'>\n",
      "\n",
      "=== 주요 속성들 ===\n",
      "content: {\"query\": \"스테이크와 어울리는 와인 추천\", \"follow_up_questions\": null, \"answer\": null, \"images\": [], \"results\": [{\"title\": \"스테이크와 찰떡궁합! 스테이크에 어울리는 와인 5가지\", \"url\": \"https://alcohol.hobby-tech.com/entry/스테이크와-찰떡궁합-스테이크에-어울리는-와인-5가지\", \"content\": \"Image 1: 블로그 이미지 카베르네 소비뇽 (Cabernet Sauvignon) – 스테이크 와인의 대표주자 오늘은 **스테이크와 가장 잘 어울리는 와인 5가지**를 소개합니다. 1. 카베르네 소비뇽 (Cabernet Sauvignon) – 스테이크 와인의 대표주자 **어울리는 스테이크:** *   리브아이 스테이크 *   티본 스테이크 카베르네 소비뇽은 특히 **마블링이 많은 소고기 스테이크**와 환상적인 조화를 이룹니다. **어울리는 스테이크:** *   바비큐 스테이크 *   페퍼크러스트 스테이크 **어울리는 스테이크:** *   티본 스테이크 **어울리는 스테이크:** *   등심 스테이크 **어울리는 스테이크:** *   바비큐 스타일 스테이크 와인 종류 특징 어울리는 스테이크 카베르네 소비뇽 강한 탄닌, 풀바디 마블링이 많은 스테이크 진판델 달콤한 향과 강한 바디감 바비큐 소스 스테이크 Image 15 Image 16 *   Image 18술 마셔도 다이어트 가능할까? *   Image 23술 마셔도 다이어트 가능할까? *   Image 24스테이크와 찰떡궁합! *   Image 27스테이크와 찰떡궁합! | 티스토리 홈 이동 | H H |\", \"score\": 0.9165366, \"raw_content\": null}], \"response_time\": 1.0}\n",
      "tool_call_id: call_L0Lfq6dr9HaK1Uo9mvtDaVzH\n",
      "name: tavily_search\n",
      "type: tool\n",
      "additional_kwargs: {}\n"
     ]
    }
   ],
   "source": [
    "# tool_call  {'name': 'tavily_search_results_json', 'args': {'query': 'wine pairing with steak'}, 'id': 'call_LrHyxTadqHDjW7J6LOWEaoSi', 'type': 'tool_call'}\n",
    "tool_message = web_search.invoke(tool_call)\n",
    "print(type(tool_message))\n",
    "\n",
    "# 특정 속성들만 확인\n",
    "print(\"\\n=== 주요 속성들 ===\")\n",
    "attributes = ['content', 'tool_call_id', 'name', 'type', 'additional_kwargs']\n",
    "for attr in attributes:\n",
    "    if hasattr(tool_message, attr):\n",
    "        print(f\"{attr}: {getattr(tool_message, attr)}\")\n"
   ]
  },
  {
   "cell_type": "code",
   "execution_count": 52,
   "id": "03d47ea5",
   "metadata": {},
   "outputs": [
    {
     "name": "stdout",
     "output_type": "stream",
     "text": [
      "('{\"query\": \"스테이크와 어울리는 와인 추천\", \"follow_up_questions\": null, \"answer\": null, '\n",
      " '\"images\": [], \"results\": [{\"title\": \"스테이크와 찰떡궁합! 스테이크에 어울리는 와인 5가지\", \"url\": '\n",
      " '\"https://alcohol.hobby-tech.com/entry/스테이크와-찰떡궁합-스테이크에-어울리는-와인-5가지\", '\n",
      " '\"content\": \"Image 1: 블로그 이미지 카베르네 소비뇽 (Cabernet Sauvignon) – 스테이크 와인의 대표주자 '\n",
      " '오늘은 **스테이크와 가장 잘 어울리는 와인 5가지**를 소개합니다. 1. 카베르네 소비뇽 (Cabernet Sauvignon) – '\n",
      " '스테이크 와인의 대표주자 **어울리는 스테이크:** *   리브아이 스테이크 *   티본 스테이크 카베르네 소비뇽은 특히 **마블링이 '\n",
      " '많은 소고기 스테이크**와 환상적인 조화를 이룹니다. **어울리는 스테이크:** *   바비큐 스테이크 *   페퍼크러스트 스테이크 '\n",
      " '**어울리는 스테이크:** *   티본 스테이크 **어울리는 스테이크:** *   등심 스테이크 **어울리는 스테이크:** *   바비큐 '\n",
      " '스타일 스테이크 와인 종류 특징 어울리는 스테이크 카베르네 소비뇽 강한 탄닌, 풀바디 마블링이 많은 스테이크 진판델 달콤한 향과 강한 '\n",
      " '바디감 바비큐 소스 스테이크 Image 15 Image 16 *   Image 18술 마셔도 다이어트 가능할까? *   Image 23술 '\n",
      " '마셔도 다이어트 가능할까? *   Image 24스테이크와 찰떡궁합! *   Image 27스테이크와 찰떡궁합! | 티스토리 홈 이동 | '\n",
      " 'H H |\", \"score\": 0.9165366, \"raw_content\": null}], \"response_time\": 1.0}')\n"
     ]
    }
   ],
   "source": [
    "pprint(tool_message.content)\n"
   ]
  },
  {
   "cell_type": "code",
   "execution_count": 53,
   "id": "aeeb5890",
   "metadata": {},
   "outputs": [
    {
     "name": "stdout",
     "output_type": "stream",
     "text": [
      "'call_L0Lfq6dr9HaK1Uo9mvtDaVzH'\n"
     ]
    }
   ],
   "source": [
    "pprint(tool_message.tool_call_id)"
   ]
  },
  {
   "cell_type": "code",
   "execution_count": 54,
   "id": "01309400",
   "metadata": {},
   "outputs": [
    {
     "name": "stdout",
     "output_type": "stream",
     "text": [
      "'tavily_search'\n"
     ]
    }
   ],
   "source": [
    "pprint(tool_message.name)"
   ]
  },
  {
   "cell_type": "code",
   "execution_count": 55,
   "id": "f3e71c37",
   "metadata": {},
   "outputs": [
    {
     "data": {
      "text/plain": [
       "[{'name': 'tavily_search',\n",
       "  'args': {'query': '스테이크와 어울리는 와인 추천', 'search_depth': 'basic'},\n",
       "  'id': 'call_L0Lfq6dr9HaK1Uo9mvtDaVzH',\n",
       "  'type': 'tool_call'}]"
      ]
     },
     "execution_count": 55,
     "metadata": {},
     "output_type": "execute_result"
    }
   ],
   "source": [
    "ai_msg.tool_calls"
   ]
  },
  {
   "cell_type": "code",
   "execution_count": 56,
   "id": "35a3ad18",
   "metadata": {},
   "outputs": [
    {
     "name": "stdout",
     "output_type": "stream",
     "text": [
      "[ToolMessage(content='{\"query\": \"스테이크와 어울리는 와인 추천\", \"follow_up_questions\": null, \"answer\": null, \"images\": [], \"results\": [{\"title\": \"스테이크와 찰떡궁합! 스테이크에 어울리는 와인 5가지\", \"url\": \"https://alcohol.hobby-tech.com/entry/스테이크와-찰떡궁합-스테이크에-어울리는-와인-5가지\", \"content\": \"Image 1: 블로그 이미지 카베르네 소비뇽 (Cabernet Sauvignon) – 스테이크 와인의 대표주자 오늘은 **스테이크와 가장 잘 어울리는 와인 5가지**를 소개합니다. 1. 카베르네 소비뇽 (Cabernet Sauvignon) – 스테이크 와인의 대표주자 **어울리는 스테이크:** *   리브아이 스테이크 *   티본 스테이크 카베르네 소비뇽은 특히 **마블링이 많은 소고기 스테이크**와 환상적인 조화를 이룹니다. **어울리는 스테이크:** *   바비큐 스테이크 *   페퍼크러스트 스테이크 **어울리는 스테이크:** *   티본 스테이크 **어울리는 스테이크:** *   등심 스테이크 **어울리는 스테이크:** *   바비큐 스타일 스테이크 와인 종류 특징 어울리는 스테이크 카베르네 소비뇽 강한 탄닌, 풀바디 마블링이 많은 스테이크 진판델 달콤한 향과 강한 바디감 바비큐 소스 스테이크 Image 15 Image 16 *   Image 18술 마셔도 다이어트 가능할까? *   Image 23술 마셔도 다이어트 가능할까? *   Image 24스테이크와 찰떡궁합! *   Image 27스테이크와 찰떡궁합! | 티스토리 홈 이동 | H H |\", \"score\": 0.9165366, \"raw_content\": null}], \"response_time\": 1.18}', name='tavily_search', tool_call_id='call_L0Lfq6dr9HaK1Uo9mvtDaVzH')]\n",
      "----------------------------------------------------------------------------------------------------\n",
      "('{\"query\": \"스테이크와 어울리는 와인 추천\", \"follow_up_questions\": null, \"answer\": null, '\n",
      " '\"images\": [], \"results\": [{\"title\": \"스테이크와 찰떡궁합! 스테이크에 어울리는 와인 5가지\", \"url\": '\n",
      " '\"https://alcohol.hobby-tech.com/entry/스테이크와-찰떡궁합-스테이크에-어울리는-와인-5가지\", '\n",
      " '\"content\": \"Image 1: 블로그 이미지 카베르네 소비뇽 (Cabernet Sauvignon) – 스테이크 와인의 대표주자 '\n",
      " '오늘은 **스테이크와 가장 잘 어울리는 와인 5가지**를 소개합니다. 1. 카베르네 소비뇽 (Cabernet Sauvignon) – '\n",
      " '스테이크 와인의 대표주자 **어울리는 스테이크:** *   리브아이 스테이크 *   티본 스테이크 카베르네 소비뇽은 특히 **마블링이 '\n",
      " '많은 소고기 스테이크**와 환상적인 조화를 이룹니다. **어울리는 스테이크:** *   바비큐 스테이크 *   페퍼크러스트 스테이크 '\n",
      " '**어울리는 스테이크:** *   티본 스테이크 **어울리는 스테이크:** *   등심 스테이크 **어울리는 스테이크:** *   바비큐 '\n",
      " '스타일 스테이크 와인 종류 특징 어울리는 스테이크 카베르네 소비뇽 강한 탄닌, 풀바디 마블링이 많은 스테이크 진판델 달콤한 향과 강한 '\n",
      " '바디감 바비큐 소스 스테이크 Image 15 Image 16 *   Image 18술 마셔도 다이어트 가능할까? *   Image 23술 '\n",
      " '마셔도 다이어트 가능할까? *   Image 24스테이크와 찰떡궁합! *   Image 27스테이크와 찰떡궁합! | 티스토리 홈 이동 | '\n",
      " 'H H |\", \"score\": 0.9165366, \"raw_content\": null}], \"response_time\": 1.18}')\n"
     ]
    }
   ],
   "source": [
    "# batch 실행 - 도구 호출이 여러 개인 경우\n",
    "\n",
    "# tool_messages = web_search.batch([tool_call])\n",
    "\n",
    "tool_messages = web_search.batch(ai_msg.tool_calls)\n",
    "\n",
    "print(tool_messages)\n",
    "print(\"-\" * 100)\n",
    "pprint(tool_messages[0].content)"
   ]
  },
  {
   "cell_type": "markdown",
   "id": "a20257ba",
   "metadata": {},
   "source": [
    "`(4) ToolMessage를 LLM에 전달하여 답변을 생성하기`\n",
    "\n",
    "* 파라미터 이름이 config여야 하는 이유: @chain 데코레이터가 config라는 이름만 특별히 인식하도록 설계되었습니다.\n",
    "* config 생략 가능한 이유: @chain이 자동으로 기본 RunnableConfig()를 생성해서 전달하기 때문입니다."
   ]
  },
  {
   "cell_type": "code",
   "execution_count": 57,
   "id": "1c5de654",
   "metadata": {},
   "outputs": [],
   "source": [
    "from datetime import datetime\n",
    "from langchain_core.prompts import ChatPromptTemplate\n",
    "from langchain_core.runnables import RunnableConfig, chain\n",
    "\n",
    "# 오늘 날짜 설정\n",
    "today = datetime.today().strftime(\"%Y-%m-%d\")\n",
    "\n",
    "# 프롬프트 템플릿 \n",
    "prompt = ChatPromptTemplate([\n",
    "    (\"system\", f\"You are a helpful AI assistant. Today's date is {today}.\"),\n",
    "    (\"human\", \"{user_input}\"),\n",
    "    (\"placeholder\", \"{messages}\"),\n",
    "])\n",
    "\n",
    "# ChatOpenAI 모델 초기화 \n",
    "llm = ChatOpenAI(model=\"gpt-4o-mini\")\n",
    "\n",
    "# Tavily 검색 도구 초기화 (최대 2개의 결과 반환)\n",
    "tavily_tool = TavilySearchResults(max_results=2)\n",
    "\n",
    "# LLM에 도구를 바인딩\n",
    "llm_with_tools = llm.bind_tools(tools=[tavily_tool])\n",
    "\n",
    "# LLM 체인 생성\n",
    "llm_chain = prompt | llm_with_tools"
   ]
  },
  {
   "cell_type": "code",
   "execution_count": 58,
   "id": "22c85550",
   "metadata": {},
   "outputs": [
    {
     "name": "stdout",
     "output_type": "stream",
     "text": [
      "ai_msg: \n",
      " content='' additional_kwargs={'tool_calls': [{'id': 'call_mvhSTTywCt1zqLHoMvfl6QSN', 'function': {'arguments': '{\"query\":\"스테이크 와인 추천\"}', 'name': 'tavily_search_results_json'}, 'type': 'function'}], 'refusal': None} response_metadata={'token_usage': {'completion_tokens': 23, 'prompt_tokens': 109, 'total_tokens': 132, 'completion_tokens_details': {'accepted_prediction_tokens': 0, 'audio_tokens': 0, 'reasoning_tokens': 0, 'rejected_prediction_tokens': 0}, 'prompt_tokens_details': {'audio_tokens': 0, 'cached_tokens': 0}}, 'model_name': 'gpt-4o-mini-2024-07-18', 'system_fingerprint': 'fp_34a54ae93c', 'id': 'chatcmpl-BitfrkKh5W1Re2M9XSri09n55jqhX', 'service_tier': 'default', 'finish_reason': 'tool_calls', 'logprobs': None} id='run--4c15c0b1-8e9c-466a-abd9-1474db0e173d-0' tool_calls=[{'name': 'tavily_search_results_json', 'args': {'query': '스테이크 와인 추천'}, 'id': 'call_mvhSTTywCt1zqLHoMvfl6QSN', 'type': 'tool_call'}] usage_metadata={'input_tokens': 109, 'output_tokens': 23, 'total_tokens': 132, 'input_token_details': {'audio': 0, 'cache_read': 0}, 'output_token_details': {'audio': 0, 'reasoning': 0}}\n",
      "----------------------------------------------------------------------------------------------------\n",
      "tool_msgs: \n",
      " [ToolMessage(content='[{\"title\": \"스테이크와 찰떡궁합! 스테이크에 어울리는 와인 5가지 - 술의 모든 것\", \"url\": \"https://alcohol.hobby-tech.com/entry/%EC%8A%A4%ED%85%8C%EC%9D%B4%ED%81%AC%EC%99%80-%EC%B0%B0%EB%96%A1%EA%B6%81%ED%95%A9-%EC%8A%A4%ED%85%8C%EC%9D%B4%ED%81%AC%EC%97%90-%EC%96%B4%EC%9A%B8%EB%A6%AC%EB%8A%94-%EC%99%80%EC%9D%B8-5%EA%B0%80%EC%A7%80\", \"content\": \"1. 카베르네 소비뇽 (Cabernet Sauvignon) – 스테이크 와인의 대표주자\\\\n------------------------------------------------\\\\n\\\\n![Image 3](https://blog.kakaocdn.net/dn/xWKr4/btsL30NJ5Zo/7JzT5nGQ6CXB4sTxlpdxf1/img.png)![Image 4](https://blog.kakaocdn.net/dn/R0nXK/btsL4WXUW0Y/eQYYP6Pj1WKewJVFnM5ycK/img.png)\\\\n\\\\n**추천 이유:**\\\\n\\\\n카베르네 소비뇽은 강한 탄닌과 풍부한 바디감이 특징인 레드 와인입니다. 이는 스테이크의 기름진 육즙과 균형을 이루며, 고기의 감칠맛을 더욱 살려줍니다.\\\\n\\\\n**어울리는 스테이크:**\\\\n\\\\n*   리브아이 스테이크\\\\n*   뉴욕 스트립\\\\n*   티본 스테이크\\\\n\\\\n**추천 와인:**\\\\n\\\\n*   나파 밸리 카베르네 소비뇽\\\\n*   샤또 마고 (Château Margaux) [...] ![Image 10](https://blog.kakaocdn.net/dn/dnoiCg/btsL5OybTaE/91vDmwi70ApQ1FZK6DFRQ0/img.png)![Image 11](https://blog.kakaocdn.net/dn/bX2dCB/btsL48cPEez/PDKprxC9mea7bnWY9Y65bk/img.webp)![Image 12](https://blog.kakaocdn.net/dn/bsBLqB/btsL3qswgyp/rmmMrpesqBZSmy2jGjbzd0/img.png)\\\\n\\\\n**추천 이유:**\\\\n\\\\n메를로는 탄닌이 상대적으로 적고 부드러운 질감을 가지고 있어 **고기의 풍미를 자연스럽게 살려주는 와인**입니다. 무겁지 않으면서도 적절한 바디감을 가지고 있어 누구나 부담 없이 즐길 수 있습니다.\\\\n\\\\n**어울리는 스테이크:**\\\\n\\\\n*   등심 스테이크\\\\n*   미디엄 레어 스테이크\\\\n\\\\n**추천 와인:**\\\\n\\\\n*   보르도 우안 (생테밀리옹, 뽀므롤)\\\\n*   캘리포니아 메를로 [...] 말벡은 블랙베리와 자두 같은 과일향이 강하면서도 탄닌이 부드러운 레드 와인입니다. 고기와 함께 마시면 풍미가 더욱 살아나면서 균형 잡힌 조화를 이룹니다.\\\\n\\\\n**어울리는 스테이크:**\\\\n\\\\n*   안심 스테이크 (필레 미뇽)\\\\n*   티본 스테이크\\\\n\\\\n**추천 와인:**\\\\n\\\\n*   아르헨티나 멘도사 말벡\\\\n*   카호르 말벡 (프랑스)\\\\n\\\\n특히 **부드러운 안심 스테이크와 함께 즐기면 와인의 깊은 과일향과 육즙이 환상적인 조화를 이룹니다.**\\\\n\\\\n* * *\\\\n\\\\n4. 메를로 (Merlot) – 부드럽고 균형 잡힌 와인\\\\n-------------------------------\", \"score\": 0.9161773}, {\"title\": \"등심 스테이크에는 이 와인 드셔보세요! 소고기 부위별 레드와인 추천 ...\", \"url\": \"https://m.blog.naver.com/wineislikeacat/223096696241\", \"content\": \"중간에서 높음 사이의 적당한 탄닌과 산도를 가진 와인을 선택하면\\\\n\\\\n씹는 맛의 긴 여운 속 느끼함을 잡아줄 수 있습니다.\\\\n\\\\n\\u200b\\\\n\\\\n이에 맞는 레드와인으로는\\\\n\\\\n카베르네 소비뇽(Carbernet Sauvignon), 시라(Syrah) 품종을 추천드려요!\\\\n\\\\n\\u200b\\\\n\\\\n![Image 7](https://mblogthumb-phinf.pstatic.net/MjAyMzA1MDhfMTEw/MDAxNjgzNTQ1MDQ3NDI0.v4ZHSvlETicMdag0DaoWGFsrTMFezoiZD_41J0Htwhsg.mPiLhr9soLZMXEOb_GJatpnqVUUNFZkrcmQRn9omaewg.JPEG.wineislikeacat/clark-douglas-7WJV-SDSj6c-unsplash.jpg?type=w80_blur)\\\\n\\\\n안심 스테이크와 어울리는 와인\\\\n\\\\n> **안심 스테이크와 어울리는 와인 품종은? 산지오베제!**\\\\n\\\\n고기 본연의 맛을 즐기기 가장 좋은 부위로 꼽히는 안심은\", \"score\": 0.8473754}]', name='tavily_search_results_json', tool_call_id='call_mvhSTTywCt1zqLHoMvfl6QSN', artifact={'query': '스테이크 와인 추천', 'follow_up_questions': None, 'answer': None, 'images': [], 'results': [{'url': 'https://alcohol.hobby-tech.com/entry/%EC%8A%A4%ED%85%8C%EC%9D%B4%ED%81%AC%EC%99%80-%EC%B0%B0%EB%96%A1%EA%B6%81%ED%95%A9-%EC%8A%A4%ED%85%8C%EC%9D%B4%ED%81%AC%EC%97%90-%EC%96%B4%EC%9A%B8%EB%A6%AC%EB%8A%94-%EC%99%80%EC%9D%B8-5%EA%B0%80%EC%A7%80', 'title': '스테이크와 찰떡궁합! 스테이크에 어울리는 와인 5가지 - 술의 모든 것', 'content': '1. 카베르네 소비뇽 (Cabernet Sauvignon) – 스테이크 와인의 대표주자\\n------------------------------------------------\\n\\n![Image 3](https://blog.kakaocdn.net/dn/xWKr4/btsL30NJ5Zo/7JzT5nGQ6CXB4sTxlpdxf1/img.png)![Image 4](https://blog.kakaocdn.net/dn/R0nXK/btsL4WXUW0Y/eQYYP6Pj1WKewJVFnM5ycK/img.png)\\n\\n**추천 이유:**\\n\\n카베르네 소비뇽은 강한 탄닌과 풍부한 바디감이 특징인 레드 와인입니다. 이는 스테이크의 기름진 육즙과 균형을 이루며, 고기의 감칠맛을 더욱 살려줍니다.\\n\\n**어울리는 스테이크:**\\n\\n*   리브아이 스테이크\\n*   뉴욕 스트립\\n*   티본 스테이크\\n\\n**추천 와인:**\\n\\n*   나파 밸리 카베르네 소비뇽\\n*   샤또 마고 (Château Margaux) [...] ![Image 10](https://blog.kakaocdn.net/dn/dnoiCg/btsL5OybTaE/91vDmwi70ApQ1FZK6DFRQ0/img.png)![Image 11](https://blog.kakaocdn.net/dn/bX2dCB/btsL48cPEez/PDKprxC9mea7bnWY9Y65bk/img.webp)![Image 12](https://blog.kakaocdn.net/dn/bsBLqB/btsL3qswgyp/rmmMrpesqBZSmy2jGjbzd0/img.png)\\n\\n**추천 이유:**\\n\\n메를로는 탄닌이 상대적으로 적고 부드러운 질감을 가지고 있어 **고기의 풍미를 자연스럽게 살려주는 와인**입니다. 무겁지 않으면서도 적절한 바디감을 가지고 있어 누구나 부담 없이 즐길 수 있습니다.\\n\\n**어울리는 스테이크:**\\n\\n*   등심 스테이크\\n*   미디엄 레어 스테이크\\n\\n**추천 와인:**\\n\\n*   보르도 우안 (생테밀리옹, 뽀므롤)\\n*   캘리포니아 메를로 [...] 말벡은 블랙베리와 자두 같은 과일향이 강하면서도 탄닌이 부드러운 레드 와인입니다. 고기와 함께 마시면 풍미가 더욱 살아나면서 균형 잡힌 조화를 이룹니다.\\n\\n**어울리는 스테이크:**\\n\\n*   안심 스테이크 (필레 미뇽)\\n*   티본 스테이크\\n\\n**추천 와인:**\\n\\n*   아르헨티나 멘도사 말벡\\n*   카호르 말벡 (프랑스)\\n\\n특히 **부드러운 안심 스테이크와 함께 즐기면 와인의 깊은 과일향과 육즙이 환상적인 조화를 이룹니다.**\\n\\n* * *\\n\\n4. 메를로 (Merlot) – 부드럽고 균형 잡힌 와인\\n-------------------------------', 'score': 0.9161773, 'raw_content': None}, {'url': 'https://m.blog.naver.com/wineislikeacat/223096696241', 'title': '등심 스테이크에는 이 와인 드셔보세요! 소고기 부위별 레드와인 추천 ...', 'content': '중간에서 높음 사이의 적당한 탄닌과 산도를 가진 와인을 선택하면\\n\\n씹는 맛의 긴 여운 속 느끼함을 잡아줄 수 있습니다.\\n\\n\\u200b\\n\\n이에 맞는 레드와인으로는\\n\\n카베르네 소비뇽(Carbernet Sauvignon), 시라(Syrah) 품종을 추천드려요!\\n\\n\\u200b\\n\\n![Image 7](https://mblogthumb-phinf.pstatic.net/MjAyMzA1MDhfMTEw/MDAxNjgzNTQ1MDQ3NDI0.v4ZHSvlETicMdag0DaoWGFsrTMFezoiZD_41J0Htwhsg.mPiLhr9soLZMXEOb_GJatpnqVUUNFZkrcmQRn9omaewg.JPEG.wineislikeacat/clark-douglas-7WJV-SDSj6c-unsplash.jpg?type=w80_blur)\\n\\n안심 스테이크와 어울리는 와인\\n\\n> **안심 스테이크와 어울리는 와인 품종은? 산지오베제!**\\n\\n고기 본연의 맛을 즐기기 가장 좋은 부위로 꼽히는 안심은', 'score': 0.8473754, 'raw_content': None}], 'response_time': 1.41})]\n",
      "----------------------------------------------------------------------------------------------------\n",
      "('스테이크와 잘 어울리는 와인 몇 가지를 추천드립니다:\\n'\n",
      " '\\n'\n",
      " '1. **카베르네 소비뇽 (Cabernet Sauvignon)**\\n'\n",
      " '   - **추천 이유:** 카베르네 소비뇽은 강한 탄닌과 풍부한 바디감이 특징으로, 스테이크의 기름진 육즙과 매우 잘 어울립니다.\\n'\n",
      " '   - **어울리는 스테이크:** 리브아이 스테이크, 뉴욕 스트립, 티본 스테이크\\n'\n",
      " '   - **추천 와인:** 나파 밸리 카베르네 소비뇽, 샤또 마고 (Château Margaux)\\n'\n",
      " '\\n'\n",
      " '2. **메를로 (Merlot)**\\n'\n",
      " '   - **추천 이유:** 메를로는 부드러운 질감으로 고기의 풍미를 자연스럽게 살려줍니다.\\n'\n",
      " '   - **어울리는 스테이크:** 등심 스테이크, 미디엄 레어 스테이크\\n'\n",
      " '   - **추천 와인:** 보르도 우안, 캘리포니아 메를로\\n'\n",
      " '\\n'\n",
      " '3. **말벡 (Malbec)**\\n'\n",
      " '   - **추천 이유:** 말벡은 블랙베리와 자두 같은 과일향이 강하면서도 부드러운 탄닌을 가지고 있어 스테이크와의 조화가 좋습니다.\\n'\n",
      " '   - **어울리는 스테이크:** 안심 스테이크 (필레 미뇽), 티본 스테이크\\n'\n",
      " '   - **추천 와인:** 아르헨티나 멘도사 말벡, 카호르 말벡 (프랑스)\\n'\n",
      " '\\n'\n",
      " '이 외에도 **시라 (Syrah)** 와인도 중간에서 높은 탄닌을 가지고 있어 스테이크와 잘 어울린다고 하는데, 개인의 취향에 따라 '\n",
      " '다양한 선택이 가능합니다.\\n'\n",
      " '\\n'\n",
      " '자세한 정보를 원하시면 '\n",
      " '[여기](https://alcohol.hobby-tech.com/entry/%EC%8A%A4%ED%85%8C%EC%9D%B4%ED%81%AC%EC%99%80-%EC%B0%B0%EB%96%A1%EA%B6%81%ED%95%A9-%EC%8A%A4%ED%85%8C%EC%9D%B4%ED%81%AC%EC%97%90-%EC%96%B4%EC%9A%B8%EB%A6%AC%EB%8A%94-%EC%99%80%EC%9D%B8-5%EA%B0%80%EC%A7%80)를 '\n",
      " '참조해보세요.')\n"
     ]
    }
   ],
   "source": [
    "# 도구 실행 체인 정의\n",
    "@chain\n",
    "def web_search_chain(user_input: str, config: RunnableConfig):\n",
    "    input_ = {\"user_input\": user_input}\n",
    "    ai_msg = llm_chain.invoke(input_, config=config)\n",
    "    print(\"ai_msg: \\n\", ai_msg)\n",
    "    print(\"-\"*100)\n",
    "\n",
    "    tool_msgs = tavily_tool.batch(ai_msg.tool_calls, config=config)\n",
    "    print(\"tool_msgs: \\n\", tool_msgs)\n",
    "    \n",
    "    print(\"-\"*100)\n",
    "    return llm_chain.invoke({**input_, \"messages\": [ai_msg, *tool_msgs]}, config=config)\n",
    "\n",
    "# 체인 실행\n",
    "query = \"스테이크와 어울리는 와인을 추천해주세요.\"\n",
    "response = web_search_chain.invoke(query)\n",
    "\n",
    "# 응답 출력 \n",
    "pprint(response.content)"
   ]
  },
  {
   "cell_type": "markdown",
   "id": "60f49a9f",
   "metadata": {},
   "source": [
    "### 2-2. 사용자 정의 도구\n",
    "- @tool decorator를 통해 사용자 정의 도구를 정의할 수 있음"
   ]
  },
  {
   "cell_type": "markdown",
   "id": "5c058ff5",
   "metadata": {},
   "source": [
    "`(1) 도구(tool) 정의하기`"
   ]
  },
  {
   "cell_type": "code",
   "execution_count": 60,
   "id": "2647393d",
   "metadata": {},
   "outputs": [],
   "source": [
    "from langchain_community.tools import TavilySearchResults\n",
    "from langchain_core.tools import tool\n",
    "\n",
    "# Tool 정의 \n",
    "@tool\n",
    "def tavily_search_func(query: str) -> str:\n",
    "    \"\"\"Searches the internet for information that does not exist in the database or for the latest information.\"\"\"\n",
    "\n",
    "    tavily_search = TavilySearchResults(max_results=2)\n",
    "    docs = tavily_search.invoke(query)\n",
    "\n",
    "    formatted_docs = \"\\n---\\n\".join([\n",
    "        f'<Document href=\"{doc[\"url\"]}\"/>\\n{doc[\"content\"]}\\n</Document>'\n",
    "        for doc in docs\n",
    "        ])\n",
    "\n",
    "    if len(formatted_docs) > 0:\n",
    "        return formatted_docs\n",
    "    \n",
    "    return \"관련 정보를 찾을 수 없습니다.\""
   ]
  },
  {
   "cell_type": "markdown",
   "id": "7b2d5144",
   "metadata": {},
   "source": [
    "### 2-3. Runnable 객체를 도구(tool) 변환\n",
    "- 문자열이나 dict 입력을 받는 Runnable을 도구로 변환\n",
    "- as_tool 메서드를 사용\n",
    "\n",
    "- wikipedia 설치\n",
    "```\n",
    "    poetry add wikipedia\n",
    "```\n",
    "- [WikipediaLoader](https://python.langchain.com/api_reference/community/document_loaders/langchain_community.document_loaders.wikipedia.WikipediaLoader.html) 사용\n"
   ]
  },
  {
   "cell_type": "code",
   "execution_count": 61,
   "id": "933f7aa5",
   "metadata": {},
   "outputs": [],
   "source": [
    "from langchain_community.document_loaders import WikipediaLoader\n",
    "from langchain_core.documents import Document\n",
    "from langchain_core.runnables import RunnableLambda\n",
    "from pydantic import BaseModel, Field\n",
    "from typing import List\n",
    "\n",
    "# WikipediaLoader를 사용하여 위키피디아 문서를 검색하는 함수 \n",
    "def search_wiki(input_data: dict) -> List[Document]:\n",
    "    \"\"\"Search Wikipedia documents based on user input (query) and return k documents\"\"\"\n",
    "    query = input_data[\"query\"]\n",
    "    k = input_data.get(\"k\", 2)  \n",
    "    wiki_loader = WikipediaLoader(query=query, load_max_docs=k, lang=\"ko\")\n",
    "    wiki_docs = wiki_loader.load()\n",
    "    return wiki_docs\n",
    "\n",
    "# 도구 호출에 사용할 입력 스키마 정의 \n",
    "class WikiSearchSchema(BaseModel):\n",
    "    \"\"\"Input schema for Wikipedia search.\"\"\"\n",
    "    query: str = Field(..., description=\"The query to search for in Wikipedia\")\n",
    "    k: int = Field(2, description=\"The number of documents to return (default is 2)\")\n",
    "\n",
    "# RunnableLambda 함수를 사용하여 위키피디아 문서 로더를 Runnable로 변환 \n",
    "runnable = RunnableLambda(search_wiki)\n",
    "wiki_search = runnable.as_tool(\n",
    "    name=\"wiki_search\",\n",
    "    description=dedent(\"\"\"\n",
    "        Use this tool when you need to search for information on Wikipedia.\n",
    "        It searches for Wikipedia articles related to the user's query and returns\n",
    "        a specified number of documents. This tool is useful when general knowledge\n",
    "        or background information is required.\n",
    "    \"\"\"),\n",
    "    args_schema=WikiSearchSchema\n",
    ")"
   ]
  },
  {
   "cell_type": "code",
   "execution_count": 62,
   "id": "ff26347a",
   "metadata": {},
   "outputs": [
    {
     "name": "stdout",
     "output_type": "stream",
     "text": [
      "자료형: \n",
      "<class 'langchain_core.tools.structured.StructuredTool'>\n",
      "----------------------------------------------------------------------------------------------------\n",
      "name: \n",
      "wiki_search\n",
      "----------------------------------------------------------------------------------------------------\n",
      "description: \n",
      "('Use this tool when you need to search for information on Wikipedia.\\n'\n",
      " \"It searches for Wikipedia articles related to the user's query and returns\\n\"\n",
      " 'a specified number of documents. This tool is useful when general knowledge\\n'\n",
      " 'or background information is required.')\n",
      "----------------------------------------------------------------------------------------------------\n",
      "schema: \n",
      "{'description': 'Input schema for Wikipedia search.',\n",
      " 'properties': {'k': {'default': 2,\n",
      "                      'description': 'The number of documents to return '\n",
      "                                     '(default is 2)',\n",
      "                      'title': 'K',\n",
      "                      'type': 'integer'},\n",
      "                'query': {'description': 'The query to search for in Wikipedia',\n",
      "                          'title': 'Query',\n",
      "                          'type': 'string'}},\n",
      " 'required': ['query'],\n",
      " 'title': 'WikiSearchSchema',\n",
      " 'type': 'object'}\n",
      "----------------------------------------------------------------------------------------------------\n"
     ]
    }
   ],
   "source": [
    "# 도구 속성\n",
    "print(\"자료형: \")\n",
    "print(type(wiki_search))\n",
    "print(\"-\"*100)\n",
    "\n",
    "print(\"name: \")\n",
    "print(wiki_search.name)\n",
    "print(\"-\"*100)\n",
    "\n",
    "print(\"description: \")\n",
    "pprint(wiki_search.description)\n",
    "print(\"-\"*100)\n",
    "\n",
    "print(\"schema: \")\n",
    "pprint(wiki_search.args_schema.schema())\n",
    "print(\"-\"*100)"
   ]
  },
  {
   "cell_type": "code",
   "execution_count": 63,
   "id": "ed7ff3c4",
   "metadata": {},
   "outputs": [
    {
     "name": "stdout",
     "output_type": "stream",
     "text": [
      "page_content='투움바 파스타(영어: Toowoomba pasta)는 미국의 파스타 요리이며,\n",
      "이름은 오스트레일리아의 도시인 터움바에서 유래되었다.\n",
      "\n",
      "\n",
      "== 역사 ==\n",
      "미국 아웃백 스테이크하우스의 메뉴로 만들어졌으나, 미국에서는 단종되었으며 한국과 브라질 등지에서는 메뉴로 남아 있다. 특히 한국에서 크게 인기를 얻었으며, 한국 매체나 유튜버에 의해 세계에 알려지면서 한국 요리로 소개되거나 외국의 한국 음식점에서 판매되기도 한다.\n",
      "\n",
      "\n",
      "== 만들기 ==\n",
      "페투치네 등 두꺼운 파스타에 고춧가루를 넣어 매콤한 크림 소스를 추가한 음식이다.\n",
      "\n",
      "\n",
      "== 활용 ==\n",
      "투움바 소스를 활용한 음식으로 투움바 떡볶이, 투움바 라면, 투움바 치킨 등이 있다.\n",
      "\n",
      "\n",
      "== 같이 보기 ==\n",
      "아라비아타\n",
      "\n",
      "\n",
      "== 각주 ==' metadata={'title': '투움바 파스타', 'summary': '투움바 파스타(영어: Toowoomba pasta)는 미국의 파스타 요리이며,\\n이름은 오스트레일리아의 도시인 터움바에서 유래되었다.', 'source': 'https://ko.wikipedia.org/wiki/%ED%88%AC%EC%9B%80%EB%B0%94_%ED%8C%8C%EC%8A%A4%ED%83%80'}\n",
      "----------------------------------------------------------------------------------------------------\n",
      "page_content='이탈리아 요리(Italia 料理, 이탈리아어: cucina italiana 쿠치나 이탈리아나[*])는 남유럽에 있는 이탈리아의 요리이다. 기원전 4세기부터 다양한 사회·정치 변화와 함께 발전해 왔다. 특히 유럽인들이 세계 각지로 진출한 이후 신대륙에서 감자, 토마토, 단고추, 옥수수 등의 다양한 식재료가 유입되면서 이탈리아 요리는 큰 변화를 겪었다. 이런 재료는 18세기 이전까지는 보급되지 않았다.\n",
      "이탈리아 요리는 각 지역마다 고유한 특색이 있고 다양하지만 크게 북부와 남부로 구분한다. 다른 나라와 국경을 맞대던 북부는 산업화하여 호황을 누리면서 농업이 발달한 덕분에 쌀이나 유제품이 사용되는 요리가 많지만 경제적으로 침체됐던 남부는 지역 특산물인 올리브와 토마토, 모짜렐라 치즈나 해산물을 활용한 요리가 많다.\n",
      "간결함으로 귀결되는 특징이 있어 많은 경우 4개~8개 정도의 재료로 조리되며 정교한 준비 과정보다는 재료의 질에 따라 맛이 좌우된다. 치즈와 포도주는 이탈리아 요리의 핵심을 차지하며 여러 종류가 존재하는데 식재료와 치즈의 차이는 파스타의 종류와 요리에 기본이 되는 수프, 소스의 차이를 뜻한다.\n",
      "2013년 CNN은 세계 최고의 요리로 이탈리아 요리를 선정했다.\n",
      "\n",
      "\n",
      "== 역사 ==\n",
      "대략 기원전 4세기부터 시작되었다고 여겨진다. 여러 세기 동안 주변 지역과 정복자, 유명한 요리사, 정치 변동 및 신대륙의 발견 등 매우 다양한 요소가 이탈리아 요리의 형성에 영향을 끼쳤다.\n",
      "\n",
      "\n",
      "=== 고대 ===\n",
      "이탈리아 요리에 대해 최초의 저술을 남긴 사람은 그리스계 시칠리아 사람인 아케스트라투스이다. 기원전 4세기에 지금의 시라쿠사 지역에 살던 그는 “계절에 맞는 최상의 재료”를 사용하는 것에 대한 시를 남겼다. 그는 또한 향신료나 허브, 양념 따위를 사용한 음식과 그 중요성, 생선 요리 등에 대해 서술했다. 특정 양념이나 향신료가 지나쳐서는 안 된다는 것 또한 집필 내용에 포함됐지만 470가지의 요리법을 담은 책인 《데 레 코퀴나리아》(De re coquinaria《요리에 관하여》)를 출판하면서 이런 형태의 요리는 역사 속으로 사라졌다. 이 책은 생선의 비린내나 특정 재료의 맛을 숨기면서 다른 맛을 낼 수 있는 소스에 대해서 서술해 놓았다. 로마 사람들은 그리스 최고의 제빵사를 고용해서 빵을 만들었고 가장 뛰어난 재료로 알려져 있던 페코리니(pecorini)를 시칠리아에서 수입해 왔다고 한다. 로마인은 염소를 사육해 육식을 함과 동시에 여러 가지 식물도 재배한 것으로 알려져 있다.\n",
      "\n",
      "\n",
      "=== 중세 ===\n",
      "시칠리아 지방으로 로마와 아테네의 요리 문화가 유입됐고 섬 지형에 맞게 변형되고 다시 새로운 요리로 탈바꿈하게 됐다. 이탈리아 요리의 뿌리가 시칠리아에 기원한다고 볼 수 있는 셈이다.\n",
      "\n",
      "무슬림이 9세기까지 시칠리아를 침략하여 다스렸고 그 뒤에는 바이킹 세력이 남하하여 지중해 일대는 상당한 혼란기를 겪었다. 아랍인들은 시금치, 아몬드, 쌀 등을 도입했으며, 이러한 재료의 출현은 12세기 노르웨이의 왕이 시칠리아에 왔을 때 사람들이 기다란 면발을 만들어 먹었다는 것을 보았다고 기록한 것을 토대로 알 수 있다. 이 요리를 일부에서는 파스타의 첫 출현이라고 보고 있다. 당시에는 면을 단순히 밀가루와 물로 만들었다고 하는데, 사람들이 “아트리야”(atriya)라고 불렀다가 나중에는 “트리”(trii)로 굳어졌다고 한다. 트리(Trii)라는 이 낱말은 남부 이탈리아에서 스파게티의 다른 이름으로 쓰이기도 했다. 노르만 족들은 청어나 대구 따위를 절여 먹는 법도 들여왔으며, 이 방법은 아직까지도 이탈리아에서 사용되고 있다.\n",
      "냉장고가 없던 시절에 음식 저장법은 매우 중요했으며, 그 방법은 물리적이면서 화학적이기도 했다. 육류나 생선은 훈제하거나 얼음 위에 보관했고 아니면 건조시켰다. 소금물이나 소금에 식재료를 절여 두는 것은 청어나 돼지고기, 피클 따위를 보관하는 방법으로 유용하게 쓰였으며, 식초나 기름 등을 함께 넣어 동물성 단백질이 변질되지 않도록 했는데, 이는 지금의 방부제와 유사한 효과를 냈다. 과일 보관에는 술이나 꿀, 설탕이 쓰였다.\n",
      "\n",
      "이탈리아 반도 북부 지방에서는 독일 요리의 특징과 고대 로마식 요리의 특징이 서로 겹치는 현상이 나타났으며, 남쪽에는 아랍 문화에 토대한 식사 형태가 뿌리내려 지중해 일대로 널리 퍼져 갔다. 가장 오래된 이탈리아의 요리책은 13세기 나폴리에서 집필됐다고 전해지는 《리베르 데 코퀴나》(Liber de Coquina)로서 한국어로는 말 그대로 《요리책》이다. 이 책에는 로마식 배추 요리나 작은 잎을 잘라서 요리한 음식인 라바냐 파이(Lavagna pie)를 비롯해서 지금도 볼 수 있는 생선 요리도 많이 소개되어 있다.\n",
      "15세기에는 바티칸의 요리사로 근무한 마르티노가 《리브로 데 아르테 코퀴나리아》(Libro de Arte Coquinaria, 《요리법》)라는 원고를 써서 그때까지 소개된 책과는 아주 다른 고품격 음식을 다루었다. 그 중 한 가지는 “마카로니 시칠리아니”(Maccaroni Siciliani, 시실리풍 마카로니)인데 얇은 철제 기구에 밀가루 반죽을 덮어서 햇빛에 말려 먹는 요리였다. 주재료인 마카로니는 갓 잡은 수탉과 함께 요리하였고 사프란을 첨가했다. 그는 이 요리가 아랍 문화의 영향을 받았다고 적어 놓았다. 로마인의 요리법으로 포함된 것 중에는 양배추로 요리한 음식과 “코피에테”(coppiette)가 있었다. 그가 선보인 피렌체 풍 음식으로는 달걀로 요리한 볼로네즈 토르타(Bolognese Torta, 볼로냐풍 케이크)와 시에니즈 토르타(Sienese torta, 시에나풍 케이크)가 있었는데 제노바 풍 마카로니 요리, 호박, 버섯, 시금치를 이용해 만들었던 파이 등도 함께 다뤘다.\n",
      "마르티노의 요리는 1475년 베네치아에서 바르톨로미오 플라티나가 출판한 《참된 즐거움과 건강에 대하여》(De honesta voluptate et valetudine)에도 소개되었다. 마르티노의 원고를 참고해서 지역에 따라 분류하고 정리했으며, 마조레 호수의 농어나 가르다 호수의 정어리 등 인근에서 가져다가 사용한 식재료와 해당 음식을 자세히 설명하였다.\n",
      "\n",
      "\n",
      "=== 근대 초 ===\n",
      "이탈리아의 정통 요리는 피렌체와 로마, 베네치아, 페라라의 궁중에서 요리 문화가 꽃피운 이후 본격화하였다. 그중에서도 페라라의 에스테 궁전이 요리 문화의 선두 주자가 됐다. 1549년 이폴리토 데스테의 집사였던 크리스토포로 메시스부고(Christoforo Messisbugo)가 《Banchetti Composizioni di Vivande》를 출판하면서 이탈리아의 파이나 타르트를 소개했다. 그 책에서는 동양이나 동부 지방에서 유입된 재료, 124종의 다양한 양념에 대해서도 설명해 놓았다.\n",
      "\n",
      "1570년 교황 비오 5세의 개인 요리사였던 바르톨미오 스카피가 책 《오페라》(Opera)를 써냈다. 다섯 권으로 구성된 이 책은 요리하는 방법을 천 가지 이상 설명해 놓았을 뿐만 아니라 정찬에서 어떤 형태로 음식이 나가고 식단이 결정됐는지, 조리 기구나 요리하는 모습도 상세히 다뤘다. 다른 궁중에서 전해졌던 책과 이 책이 특별히 다른 점은 가금류를 요리하는 법이다. 인근의 동물이나 새를 잡아서 어떤 식으로 다듬고 깨끗하게 잘라내는지가 나와 있다. 혀나 머리, 어깨뼈 부위를 손질하는 방법도 다뤘다. 제3권에서는 생선이나 사순절에 먹는 음식을 설명했다. 생선 요리는 구워 먹거나 탕류, 찜으로 먹었으므로 상당히 간단했다. 제5권에서는 나폴리풍 피자 요리법이 등장하는데 당시 이탈리아에는 토마토가 존재하지 않았으므로 피자가 지금의 맛이 아니라 달거나 짭짜름한 맛이었다. 옥수수나 칠면조 역시 없었으므로 현대인이 생각하는 음식 문화와는 상당히 달랐다. 이외에 타라트나 파이, 얇게 썬 과일 튀김에 대해서도 썼다.\n",
      "1600년대 잔자코모 카스텔베트로(Giangiacomo Castelvetro)는 《모든 종류의 채소와 허브, 과일》(Brieve Racconto di Tutte le Radici di Tutte l'Herbe et di Tutti i Frutti)이라는 책을 썼다. 모데나 태생인 카스텔베르트로는 개신교도였기에 영국으로 건너갔다. 이 책은 이탈리아의 채소와 과일,' metadata={'title': '이탈리아 요리', 'summary': '이탈리아 요리(Italia 料理, 이탈리아어: cucina italiana 쿠치나 이탈리아나[*])는 남유럽에 있는 이탈리아의 요리이다. 기원전 4세기부터 다양한 사회·정치 변화와 함께 발전해 왔다. 특히 유럽인들이 세계 각지로 진출한 이후 신대륙에서 감자, 토마토, 단고추, 옥수수 등의 다양한 식재료가 유입되면서 이탈리아 요리는 큰 변화를 겪었다. 이런 재료는 18세기 이전까지는 보급되지 않았다.\\n이탈리아 요리는 각 지역마다 고유한 특색이 있고 다양하지만 크게 북부와 남부로 구분한다. 다른 나라와 국경을 맞대던 북부는 산업화하여 호황을 누리면서 농업이 발달한 덕분에 쌀이나 유제품이 사용되는 요리가 많지만 경제적으로 침체됐던 남부는 지역 특산물인 올리브와 토마토, 모짜렐라 치즈나 해산물을 활용한 요리가 많다.\\n간결함으로 귀결되는 특징이 있어 많은 경우 4개~8개 정도의 재료로 조리되며 정교한 준비 과정보다는 재료의 질에 따라 맛이 좌우된다. 치즈와 포도주는 이탈리아 요리의 핵심을 차지하며 여러 종류가 존재하는데 식재료와 치즈의 차이는 파스타의 종류와 요리에 기본이 되는 수프, 소스의 차이를 뜻한다.\\n2013년 CNN은 세계 최고의 요리로 이탈리아 요리를 선정했다.', 'source': 'https://ko.wikipedia.org/wiki/%EC%9D%B4%ED%83%88%EB%A6%AC%EC%95%84_%EC%9A%94%EB%A6%AC'}\n",
      "----------------------------------------------------------------------------------------------------\n"
     ]
    }
   ],
   "source": [
    "# 위키 검색 실행\n",
    "query = \"파스타의 유래\"\n",
    "wiki_results = wiki_search.invoke({\"query\":query})\n",
    "\n",
    "# 검색 결과 출력\n",
    "for result in wiki_results:\n",
    "    print(result)  \n",
    "    print(\"-\" * 100)  "
   ]
  },
  {
   "cell_type": "code",
   "execution_count": 64,
   "id": "1b812a0a",
   "metadata": {},
   "outputs": [
    {
     "name": "stdout",
     "output_type": "stream",
     "text": [
      "AIMessage(content='', additional_kwargs={'tool_calls': [{'id': 'call_0Z8HL5I7H8D6XdXfnmqK62pg', 'function': {'arguments': '{\"query\": \"서울 강남 파스타 맛집\"}', 'name': 'tavily_search_func'}, 'type': 'function'}, {'id': 'call_iLRefUnSn508PuLfDgdXyWu3', 'function': {'arguments': '{\"query\": \"파스타의 유래\"}', 'name': 'wiki_search'}, 'type': 'function'}], 'refusal': None}, response_metadata={'token_usage': {'completion_tokens': 58, 'prompt_tokens': 176, 'total_tokens': 234, 'completion_tokens_details': {'accepted_prediction_tokens': 0, 'audio_tokens': 0, 'reasoning_tokens': 0, 'rejected_prediction_tokens': 0}, 'prompt_tokens_details': {'audio_tokens': 0, 'cached_tokens': 0}}, 'model_name': 'gpt-4o-mini-2024-07-18', 'system_fingerprint': 'fp_34a54ae93c', 'id': 'chatcmpl-BivjJz3BxgrfoCuv3OWACsbdGpfjX', 'service_tier': 'default', 'finish_reason': 'tool_calls', 'logprobs': None}, id='run--602fa853-38c6-4b30-af33-c6688a7aa19c-0', tool_calls=[{'name': 'tavily_search_func', 'args': {'query': '서울 강남 파스타 맛집'}, 'id': 'call_0Z8HL5I7H8D6XdXfnmqK62pg', 'type': 'tool_call'}, {'name': 'wiki_search', 'args': {'query': '파스타의 유래'}, 'id': 'call_iLRefUnSn508PuLfDgdXyWu3', 'type': 'tool_call'}], usage_metadata={'input_tokens': 176, 'output_tokens': 58, 'total_tokens': 234, 'input_token_details': {'audio': 0, 'cache_read': 0}, 'output_token_details': {'audio': 0, 'reasoning': 0}})\n",
      "----------------------------------------------------------------------------------------------------\n",
      "''\n",
      "----------------------------------------------------------------------------------------------------\n",
      "[{'args': {'query': '서울 강남 파스타 맛집'},\n",
      "  'id': 'call_0Z8HL5I7H8D6XdXfnmqK62pg',\n",
      "  'name': 'tavily_search_func',\n",
      "  'type': 'tool_call'},\n",
      " {'args': {'query': '파스타의 유래'},\n",
      "  'id': 'call_iLRefUnSn508PuLfDgdXyWu3',\n",
      "  'name': 'wiki_search',\n",
      "  'type': 'tool_call'}]\n",
      "----------------------------------------------------------------------------------------------------\n"
     ]
    }
   ],
   "source": [
    "# LLM에 도구를 바인딩 (2개의 도구 바인딩)\n",
    "llm_with_tools = llm.bind_tools(tools=[tavily_search_func, wiki_search])\n",
    "\n",
    "# 도구 호출이 필요한 LLM 호출을 수행\n",
    "query = \"서울 강남의 유명한 파스타 맛집은 어디인가요? 그리고 파스타의 유래를 알려주세요. \"\n",
    "ai_msg = llm_with_tools.invoke(query)\n",
    "\n",
    "# LLM의 전체 출력 결과 출력\n",
    "pprint(ai_msg)\n",
    "print(\"-\" * 100)\n",
    "\n",
    "# 메시지 content 속성 (텍스트 출력)\n",
    "pprint(ai_msg.content)\n",
    "print(\"-\" * 100)\n",
    "\n",
    "# LLM이 호출한 도구 정보 출력\n",
    "pprint(ai_msg.tool_calls)\n",
    "print(\"-\" * 100)"
   ]
  },
  {
   "cell_type": "markdown",
   "id": "db06d2ed",
   "metadata": {},
   "source": [
    "`(2) LCEL 체인`\n",
    "- 위키피디아 문서를 검색하고 내용을 요약하는 체인"
   ]
  },
  {
   "cell_type": "code",
   "execution_count": 65,
   "id": "4a7ab14a",
   "metadata": {},
   "outputs": [
    {
     "name": "stdout",
     "output_type": "stream",
     "text": [
      "('투움바 파스타는 미국의 파스타 요리로, 오스트레일리아의 투움바에서 유래되었다. 미국 아웃백 스테이크하우스에서 처음 만들어졌으나 현재는 '\n",
      " '한국과 브라질에서 인기를 끌고 있다. 이 요리는 두꺼운 파스타에 매콤한 크림 소스를 추가하여 만든다. 이탈리아 요리는 기원전 4세기부터 '\n",
      " '발전해온 남유럽의 요리로, 지역마다 특색이 있으며 북부는 쌀과 유제품, 남부는 올리브와 해산물을 주로 사용한다. 이탈리아 요리는 간결함과 '\n",
      " '재료의 질을 중시하며, 2013년 CNN에서 세계 최고의 요리로 선정되었다.')\n"
     ]
    }
   ],
   "source": [
    "from langchain_core.prompts import ChatPromptTemplate\n",
    "from langchain_core.output_parsers import StrOutputParser\n",
    "from langchain_core.runnables import RunnableLambda\n",
    "from langchain_community.document_loaders import WikipediaLoader\n",
    "\n",
    "# WikipediaLoader를 사용하여 위키피디아 문서를 검색하고 텍스트로 반환하는 함수 \n",
    "def wiki_search_and_summarize(input_data: dict):\n",
    "    wiki_loader = WikipediaLoader(query=input_data[\"query\"], load_max_docs=2, lang=\"ko\")\n",
    "    wiki_docs = wiki_loader.load()\n",
    "\n",
    "    formatted_docs =[\n",
    "        f'<Document source=\"{doc.metadata[\"source\"]}\"/>\\n{doc.page_content}\\n</Document>'\n",
    "        for doc in wiki_docs\n",
    "        ]\n",
    "    \n",
    "    return formatted_docs\n",
    "\n",
    "# 요약 프롬프트 템플릿\n",
    "summary_prompt = ChatPromptTemplate.from_template(\n",
    "    \"Summarize the following text in a concise manner:\\n\\n{context}\\n\\nSummary:\"\n",
    ")\n",
    "\n",
    "# LLM 및 요약 체인 설정\n",
    "llm = ChatOpenAI(model=\"gpt-4o-mini\", temperature=0)\n",
    "summary_chain = (\n",
    "    {\"context\": RunnableLambda(wiki_search_and_summarize)}\n",
    "    | summary_prompt | llm | StrOutputParser() \n",
    ")\n",
    "\n",
    "# 요약 테스트 \n",
    "summarized_text = summary_chain.invoke({\"query\":\"파스타의 유래\"})\n",
    "pprint(summarized_text)"
   ]
  },
  {
   "cell_type": "code",
   "execution_count": 66,
   "id": "a35ac080",
   "metadata": {},
   "outputs": [
    {
     "name": "stdout",
     "output_type": "stream",
     "text": [
      "자료형: \n",
      "<class 'langchain_core.tools.structured.StructuredTool'>\n",
      "----------------------------------------------------------------------------------------------------\n",
      "name: \n",
      "wiki_summary\n",
      "----------------------------------------------------------------------------------------------------\n",
      "description: \n",
      "('Use this tool when you need to search for information on Wikipedia.\\n'\n",
      " \"It searches for Wikipedia articles related to the user's query and returns\\n\"\n",
      " 'a summarized text. This tool is useful when general knowledge\\n'\n",
      " 'or background information is required.')\n",
      "----------------------------------------------------------------------------------------------------\n",
      "schema: \n",
      "{'description': 'Input schema for Wikipedia search.',\n",
      " 'properties': {'query': {'description': 'The query to search for in Wikipedia',\n",
      "                          'title': 'Query',\n",
      "                          'type': 'string'}},\n",
      " 'required': ['query'],\n",
      " 'title': 'WikiSummarySchema',\n",
      " 'type': 'object'}\n",
      "----------------------------------------------------------------------------------------------------\n"
     ]
    }
   ],
   "source": [
    "# 도구 호출에 사용할 입력 스키마 정의 \n",
    "class WikiSummarySchema(BaseModel):\n",
    "    \"\"\"Input schema for Wikipedia search.\"\"\"\n",
    "    query: str = Field(..., description=\"The query to search for in Wikipedia\")\n",
    "\n",
    "# as_tool 메소드를 사용하여 도구 객체로 변환\n",
    "wiki_summary = summary_chain.as_tool(\n",
    "    name=\"wiki_summary\",\n",
    "    description=dedent(\"\"\"\n",
    "        Use this tool when you need to search for information on Wikipedia.\n",
    "        It searches for Wikipedia articles related to the user's query and returns\n",
    "        a summarized text. This tool is useful when general knowledge\n",
    "        or background information is required.\n",
    "    \"\"\"),\n",
    "    args_schema=WikiSummarySchema\n",
    ")\n",
    "\n",
    "# 도구 속성\n",
    "print(\"자료형: \")\n",
    "print(type(wiki_summary))\n",
    "print(\"-\"*100)\n",
    "\n",
    "print(\"name: \")\n",
    "print(wiki_summary.name)\n",
    "print(\"-\"*100)\n",
    "\n",
    "print(\"description: \")\n",
    "pprint(wiki_summary.description)\n",
    "print(\"-\"*100)\n",
    "\n",
    "print(\"schema: \")\n",
    "pprint(wiki_summary.args_schema.schema())\n",
    "print(\"-\"*100)"
   ]
  },
  {
   "cell_type": "code",
   "execution_count": 68,
   "id": "78824759",
   "metadata": {},
   "outputs": [
    {
     "name": "stdout",
     "output_type": "stream",
     "text": [
      "AIMessage(content='', additional_kwargs={'tool_calls': [{'id': 'call_fQeznDIEPCwC0j0srWzS8peU', 'function': {'arguments': '{\"query\": \"서울 강남 파스타 맛집\"}', 'name': 'tavily_search_func'}, 'type': 'function'}, {'id': 'call_or2AkAcGO4pH0n4wgQsDNAWB', 'function': {'arguments': '{\"query\": \"파스타의 유래\"}', 'name': 'wiki_summary'}, 'type': 'function'}], 'refusal': None}, response_metadata={'token_usage': {'completion_tokens': 58, 'prompt_tokens': 152, 'total_tokens': 210, 'completion_tokens_details': {'accepted_prediction_tokens': 0, 'audio_tokens': 0, 'reasoning_tokens': 0, 'rejected_prediction_tokens': 0}, 'prompt_tokens_details': {'audio_tokens': 0, 'cached_tokens': 0}}, 'model_name': 'gpt-4o-mini-2024-07-18', 'system_fingerprint': 'fp_62a23a81ef', 'id': 'chatcmpl-Bivnpg4WekxdO5rU285RnnnFeBdWN', 'service_tier': 'default', 'finish_reason': 'tool_calls', 'logprobs': None}, id='run--0663ee06-9a3e-4d85-9f62-0b0935a33672-0', tool_calls=[{'name': 'tavily_search_func', 'args': {'query': '서울 강남 파스타 맛집'}, 'id': 'call_fQeznDIEPCwC0j0srWzS8peU', 'type': 'tool_call'}, {'name': 'wiki_summary', 'args': {'query': '파스타의 유래'}, 'id': 'call_or2AkAcGO4pH0n4wgQsDNAWB', 'type': 'tool_call'}], usage_metadata={'input_tokens': 152, 'output_tokens': 58, 'total_tokens': 210, 'input_token_details': {'audio': 0, 'cache_read': 0}, 'output_token_details': {'audio': 0, 'reasoning': 0}})\n",
      "----------------------------------------------------------------------------------------------------\n",
      "''\n",
      "----------------------------------------------------------------------------------------------------\n",
      "[{'args': {'query': '서울 강남 파스타 맛집'},\n",
      "  'id': 'call_fQeznDIEPCwC0j0srWzS8peU',\n",
      "  'name': 'tavily_search_func',\n",
      "  'type': 'tool_call'},\n",
      " {'args': {'query': '파스타의 유래'},\n",
      "  'id': 'call_or2AkAcGO4pH0n4wgQsDNAWB',\n",
      "  'name': 'wiki_summary',\n",
      "  'type': 'tool_call'}]\n",
      "----------------------------------------------------------------------------------------------------\n"
     ]
    }
   ],
   "source": [
    "# LLM에 도구를 바인딩\n",
    "llm_with_tools = llm.bind_tools(tools=[tavily_search_func, wiki_summary])\n",
    "\n",
    "# 도구 호출이 필요한 LLM 호출을 수행\n",
    "query = \"서울 강남의 유명한 파스타 맛집은 어디인가요? 그리고 파스타의 유래를 알려주세요. \"\n",
    "ai_msg = llm_with_tools.invoke(query)\n",
    "\n",
    "# LLM의 전체 출력 결과 출력\n",
    "pprint(ai_msg)\n",
    "print(\"-\" * 100)\n",
    "\n",
    "# 메시지 content 속성 (텍스트 출력)\n",
    "pprint(ai_msg.content)\n",
    "print(\"-\" * 100)\n",
    "\n",
    "# LLM이 호출한 도구 정보 출력\n",
    "pprint(ai_msg.tool_calls)\n",
    "print(\"-\" * 100)"
   ]
  },
  {
   "cell_type": "code",
   "execution_count": 67,
   "id": "c87d0b1a",
   "metadata": {},
   "outputs": [
    {
     "data": {
      "text/plain": [
       "{'name': 'wiki_search',\n",
       " 'args': {'query': '파스타의 유래'},\n",
       " 'id': 'call_iLRefUnSn508PuLfDgdXyWu3',\n",
       " 'type': 'tool_call'}"
      ]
     },
     "execution_count": 67,
     "metadata": {},
     "output_type": "execute_result"
    }
   ],
   "source": [
    "ai_msg.tool_calls[1]"
   ]
  },
  {
   "cell_type": "code",
   "execution_count": 89,
   "id": "12cbdd5c",
   "metadata": {},
   "outputs": [
    {
     "name": "stdout",
     "output_type": "stream",
     "text": [
      "content='투움바 파스타는 미국의 파스타 요리로, 오스트레일리아의 투움바에서 유래되었다. 미국 아웃백 스테이크하우스에서 처음 만들어졌으나 현재는 단종되었고, 한국과 브라질에서 여전히 인기 있는 메뉴로 남아 있다. 이 요리는 두꺼운 파스타에 매콤한 크림 소스를 추가하여 만든다. 오르조는 이탈리아의 파스타로, 보리 모양의 큰 쌀알처럼 생겼으며, 주로 수프와 함께 먹는다. 원래 보리로 만들어졌으나 현재는 박력분으로 주로 제조된다.' name='wiki_summary' tool_call_id='call_LjwvfwCR5WieqAR85VA3t1Nw'\n",
      "----------------------------------------------------------------------------------------------------\n",
      "('투움바 파스타는 미국의 파스타 요리로, 오스트레일리아의 투움바에서 유래되었다. 미국 아웃백 스테이크하우스에서 처음 만들어졌으나 현재는 '\n",
      " '단종되었고, 한국과 브라질에서 여전히 인기 있는 메뉴로 남아 있다. 이 요리는 두꺼운 파스타에 매콤한 크림 소스를 추가하여 만든다. '\n",
      " '오르조는 이탈리아의 파스타로, 보리 모양의 큰 쌀알처럼 생겼으며, 주로 수프와 함께 먹는다. 원래 보리로 만들어졌으나 현재는 박력분으로 '\n",
      " '주로 제조된다.')\n"
     ]
    }
   ],
   "source": [
    "# 도구 실행 \n",
    "tool_message = wiki_summary.invoke(ai_msg.tool_calls[1])\n",
    "\n",
    "print(tool_message)\n",
    "print(\"-\" * 100)\n",
    "pprint(tool_message.content)"
   ]
  },
  {
   "cell_type": "code",
   "execution_count": 90,
   "id": "2e2de1a6",
   "metadata": {},
   "outputs": [
    {
     "name": "stdout",
     "output_type": "stream",
     "text": [
      "ai_msg: \n",
      " content='' additional_kwargs={'tool_calls': [{'id': 'call_0sULtBHPPP6yLCUic95A9dK4', 'function': {'arguments': '{\"query\":\"파스타의 유래\"}', 'name': 'wiki_summary'}, 'type': 'function'}], 'refusal': None} response_metadata={'token_usage': {'completion_tokens': 19, 'prompt_tokens': 120, 'total_tokens': 139, 'completion_tokens_details': {'accepted_prediction_tokens': 0, 'audio_tokens': 0, 'reasoning_tokens': 0, 'rejected_prediction_tokens': 0}, 'prompt_tokens_details': {'audio_tokens': 0, 'cached_tokens': 0}}, 'model_name': 'gpt-4o-mini-2024-07-18', 'system_fingerprint': 'fp_34a54ae93c', 'id': 'chatcmpl-BiH2c5ggnKFUSahqDiZNLfMZkzNis', 'service_tier': 'default', 'finish_reason': 'tool_calls', 'logprobs': None} id='run--8885533e-ab8f-440f-97a7-7e529dac843a-0' tool_calls=[{'name': 'wiki_summary', 'args': {'query': '파스타의 유래'}, 'id': 'call_0sULtBHPPP6yLCUic95A9dK4', 'type': 'tool_call'}] usage_metadata={'input_tokens': 120, 'output_tokens': 19, 'total_tokens': 139, 'input_token_details': {'audio': 0, 'cache_read': 0}, 'output_token_details': {'audio': 0, 'reasoning': 0}}\n",
      "----------------------------------------------------------------------------------------------------\n",
      "tool_msgs: \n",
      " [ToolMessage(content='투움바 파스타는 미국의 아웃백 스테이크하우스에서 유래된 파스타 요리로, 오스트레일리아의 투움바에서 이름이 붙여졌다. 매콤한 크림 소스를 사용하며, 한국과 브라질에서 인기를 끌고 있다. 오르조는 이탈리아의 파스타로, 보리 모양을 하고 있으며 주로 수프와 함께 먹는다. 이탈리아어로 \"큰 쌀\"이라는 뜻을 가진 리소니라는 이름도 있다.', name='wiki_summary', tool_call_id='call_0sULtBHPPP6yLCUic95A9dK4')]\n",
      "----------------------------------------------------------------------------------------------------\n",
      "('파스타의 유래에 대한 정보는 다음과 같습니다. 파스타는 이탈리아의 전통 요리로, 다양한 형태와 소스와 함께 제공됩니다. 특히, 투움바 '\n",
      " '파스타는 미국의 아웃백 스테이크하우스에서 유래된 요리로, 오스트레일리아의 투움바에서 이름이 붙여졌습니다. 이 요리는 매콤한 크림 소스를 '\n",
      " '사용하며, 한국과 브라질에서도 인기를 끌고 있습니다. \\n'\n",
      " '\\n'\n",
      " '또한, 오르조라는 파스타는 보리 모양을 하고 있으며 주로 수프와 함께 먹습니다. 이탈리아어로 \"큰 쌀\"이라는 뜻을 가진 리소니라는 이름도 '\n",
      " '있습니다. \\n'\n",
      " '\\n'\n",
      " '파스타는 이탈리아의 대표적인 음식으로, 그 기원은 고대 로마 시대로 거슬러 올라가며, 다양한 지역에서 발전해왔습니다.')\n"
     ]
    }
   ],
   "source": [
    "from datetime import datetime\n",
    "from langchain_core.prompts import ChatPromptTemplate\n",
    "from langchain_core.runnables import RunnableConfig, chain\n",
    "\n",
    "# 오늘 날짜 설정\n",
    "today = datetime.today().strftime(\"%Y-%m-%d\")\n",
    "\n",
    "# 프롬프트 템플릿 \n",
    "prompt = ChatPromptTemplate([\n",
    "    (\"system\", f\"You are a helpful AI assistant. Today's date is {today}.\"),\n",
    "    (\"human\", \"{user_input}\"),\n",
    "    (\"placeholder\", \"{messages}\"),\n",
    "])\n",
    "\n",
    "# LLM에 도구를 바인딩\n",
    "llm_with_tools = llm.bind_tools(tools=[wiki_summary])\n",
    "\n",
    "# LLM 체인 생성\n",
    "llm_chain = prompt | llm_with_tools\n",
    "\n",
    "# 도구 실행 체인 정의\n",
    "@chain\n",
    "def wiki_summary_chain(user_input: str, config: RunnableConfig):\n",
    "    input_ = {\"user_input\": user_input}\n",
    "    ai_msg = llm_chain.invoke(input_, config=config)\n",
    "    print(\"ai_msg: \\n\", ai_msg)\n",
    "    print(\"-\"*100)\n",
    "\n",
    "    tool_msgs = wiki_summary.batch(ai_msg.tool_calls, config=config)\n",
    "    print(\"tool_msgs: \\n\", tool_msgs)\n",
    "    print(\"-\"*100)\n",
    "    \n",
    "    return llm_chain.invoke({**input_, \"messages\": [ai_msg, *tool_msgs]}, config=config)\n",
    "\n",
    "# 체인 실행\n",
    "response = wiki_summary_chain.invoke(\"파스타의 유래에 대해서 알려주세요.\")\n",
    "\n",
    "# 응답 출력 \n",
    "pprint(response.content)"
   ]
  },
  {
   "cell_type": "markdown",
   "id": "6f828547",
   "metadata": {},
   "source": [
    "### 2-4. 벡터저장소 검색기\n",
    "- @tool decorator 사용"
   ]
  },
  {
   "cell_type": "markdown",
   "id": "e9a9dc12",
   "metadata": {},
   "source": [
    "`(1) 문서 로드 및 인덱싱`"
   ]
  },
  {
   "cell_type": "code",
   "execution_count": 92,
   "id": "a0da1d76",
   "metadata": {},
   "outputs": [
    {
     "name": "stdout",
     "output_type": "stream",
     "text": [
      "1\n"
     ]
    }
   ],
   "source": [
    "from langchain.document_loaders import TextLoader\n",
    "\n",
    "# 메뉴판 텍스트 데이터를 로드\n",
    "loader = TextLoader(\"./data/restaurant_menu.txt\", encoding=\"utf-8\")\n",
    "documents = loader.load()\n",
    "\n",
    "print(len(documents))"
   ]
  },
  {
   "cell_type": "code",
   "execution_count": 93,
   "id": "5e94154e",
   "metadata": {},
   "outputs": [
    {
     "name": "stdout",
     "output_type": "stream",
     "text": [
      "총 10개의 메뉴 항목이 처리되었습니다.\n",
      "\n",
      "메뉴 번호: 1\n",
      "메뉴 이름: 시그니처 스테이크\n",
      "내용:\n",
      "1. 시그니처 스테이크\n",
      "   • 가격: ₩35,000\n",
      "   • 주요 식재료: 최상급 한우 등심, 로즈메리 감자, 그릴드 아스파라거스\n",
      "   • 설명: 셰프의 특제 시그니처 메뉴로, ...\n",
      "\n",
      "메뉴 번호: 2\n",
      "메뉴 이름: 트러플 리조또\n",
      "내용:\n",
      "2. 트러플 리조또\n",
      "   • 가격: ₩22,000\n",
      "   • 주요 식재료: 이탈리아산 아르보리오 쌀, 블랙 트러플, 파르미지아노 레지아노 치즈\n",
      "   • 설명: 크리미한 텍스처의 리조...\n"
     ]
    }
   ],
   "source": [
    "from langchain_core.documents import Document\n",
    "\n",
    "# 문서 분할 (Chunking)\n",
    "def split_menu_items(document):\n",
    "    \"\"\"\n",
    "    메뉴 항목을 분리하는 함수 \n",
    "    \"\"\"\n",
    "    # 정규표현식 정의 \n",
    "    pattern = r'(\\d+\\.\\s.*?)(?=\\n\\n\\d+\\.|$)'\n",
    "    menu_items = re.findall(pattern, document.page_content, re.DOTALL)\n",
    "    \n",
    "    # 각 메뉴 항목을 Document 객체로 변환\n",
    "    menu_documents = []\n",
    "    for i, item in enumerate(menu_items, 1):\n",
    "        # 메뉴 이름 추출\n",
    "        menu_name = item.split('\\n')[0].split('.', 1)[1].strip()\n",
    "        \n",
    "        # 새로운 Document 객체 생성\n",
    "        menu_doc = Document(\n",
    "            page_content=item.strip(),\n",
    "            metadata={\n",
    "                \"source\": document.metadata['source'],\n",
    "                \"menu_number\": i,\n",
    "                \"menu_name\": menu_name\n",
    "            }\n",
    "        )\n",
    "        menu_documents.append(menu_doc)\n",
    "    \n",
    "    return menu_documents\n",
    "\n",
    "\n",
    "# 메뉴 항목 분리 실행\n",
    "menu_documents = [] #[Document, Document]\n",
    "for doc in documents:\n",
    "    menu_documents += split_menu_items(doc)\n",
    "\n",
    "# 결과 출력\n",
    "print(f\"총 {len(menu_documents)}개의 메뉴 항목이 처리되었습니다.\")\n",
    "for doc in menu_documents[:2]:\n",
    "    print(f\"\\n메뉴 번호: {doc.metadata['menu_number']}\")\n",
    "    print(f\"메뉴 이름: {doc.metadata['menu_name']}\")\n",
    "    print(f\"내용:\\n{doc.page_content[:100]}...\")"
   ]
  },
  {
   "cell_type": "markdown",
   "id": "1a09f288",
   "metadata": {},
   "source": [
    "### Embedding을 하기 위해 Ollama Qwen2.5 설치\n",
    "```\n",
    "ollama run qwen2.5:1.5b\n",
    "\n",
    "ollama ls\n",
    "```"
   ]
  },
  {
   "cell_type": "code",
   "execution_count": 95,
   "id": "8552797f",
   "metadata": {},
   "outputs": [
    {
     "name": "stdout",
     "output_type": "stream",
     "text": [
      "검색 결과: 2개\n",
      "메뉴 번호: 1\n",
      "메뉴 이름: 시그니처 스테이크\n",
      "\n",
      "메뉴 번호: 8\n",
      "메뉴 이름: 안심 스테이크 샐러드\n",
      "\n"
     ]
    }
   ],
   "source": [
    "from langchain_community.vectorstores import FAISS\n",
    "from langchain_ollama import OllamaEmbeddings\n",
    "\n",
    "embeddings_model = OllamaEmbeddings(model=\"bge-m3:latest\") \n",
    "\n",
    "# FAISS 인덱스 생성\n",
    "menu_db = FAISS.from_documents(\n",
    "    documents=menu_documents, \n",
    "    embedding=embeddings_model\n",
    ")\n",
    "\n",
    "# FAISS 인덱스 저장 (선택사항)\n",
    "menu_db.save_local(\"./db/menu_db\")\n",
    "\n",
    "\n",
    "# Retriever 생성\n",
    "menu_retriever = menu_db.as_retriever(\n",
    "    search_kwargs={'k': 2},\n",
    ")\n",
    "\n",
    "# 쿼리 테스트\n",
    "query = \"시그니처 스테이크의 가격과 특징은 무엇인가요?\"\n",
    "docs = menu_retriever.invoke(query)\n",
    "print(f\"검색 결과: {len(docs)}개\")\n",
    "\n",
    "for doc in docs:\n",
    "    print(f\"메뉴 번호: {doc.metadata['menu_number']}\")\n",
    "    print(f\"메뉴 이름: {doc.metadata['menu_name']}\")\n",
    "    print()"
   ]
  },
  {
   "cell_type": "markdown",
   "id": "9cf58d36",
   "metadata": {},
   "source": [
    "- 와인 메뉴에 대해서도 같은 작업을 처리"
   ]
  },
  {
   "cell_type": "code",
   "execution_count": 98,
   "id": "1dc82b06",
   "metadata": {},
   "outputs": [
    {
     "name": "stdout",
     "output_type": "stream",
     "text": [
      "총 10개의 메뉴 항목이 처리되었습니다.\n",
      "\n",
      "메뉴 번호: 1\n",
      "메뉴 이름: 샤토 마고 2015\n",
      "내용:\n",
      "1. 샤토 마고 2015\n",
      "   • 가격: ₩450,000\n",
      "   • 주요 품종: 카베르네 소비뇽, 메를로, 카베르네 프랑, 쁘띠 베르도\n",
      "   • 설명: 보르도 메독 지역의 프리미엄 ...\n",
      "\n",
      "메뉴 번호: 2\n",
      "메뉴 이름: 돔 페리뇽 2012\n",
      "내용:\n",
      "2. 돔 페리뇽 2012\n",
      "   • 가격: ₩380,000\n",
      "   • 주요 품종: 샤르도네, 피노 누아\n",
      "   • 설명: 프랑스 샴페인의 대명사로 알려진 프레스티지 큐베입니다. 시트러스...\n"
     ]
    }
   ],
   "source": [
    "# 와인 메뉴 텍스트 데이터를 로드\n",
    "loader = TextLoader(\"./data/restaurant_wine.txt\", encoding=\"utf-8\")\n",
    "documents = loader.load()\n",
    "\n",
    "# 메뉴 항목 분리 실행\n",
    "menu_documents = []\n",
    "for doc in documents:\n",
    "    menu_documents += split_menu_items(doc)\n",
    "\n",
    "# 결과 출력\n",
    "print(f\"총 {len(menu_documents)}개의 메뉴 항목이 처리되었습니다.\")\n",
    "for doc in menu_documents[:2]:\n",
    "    print(f\"\\n메뉴 번호: {doc.metadata['menu_number']}\")\n",
    "    print(f\"메뉴 이름: {doc.metadata['menu_name']}\")\n",
    "    print(f\"내용:\\n{doc.page_content[:100]}...\")\n",
    "\n",
    "embeddings_model = OllamaEmbeddings(model=\"bge-m3:latest\") \n",
    "\n",
    "# FAISS 인덱스 생성\n",
    "wine_db = FAISS.from_documents(\n",
    "    documents=menu_documents, \n",
    "    embedding=embeddings_model\n",
    ")\n",
    "\n",
    "wine_db.save_local(\"./db/wine_db\")\n",
    "\n",
    "wine_retriever = wine_db.as_retriever(\n",
    "    search_kwargs={'k': 2},\n",
    ")"
   ]
  },
  {
   "cell_type": "code",
   "execution_count": 101,
   "id": "8fe4662a",
   "metadata": {},
   "outputs": [
    {
     "name": "stdout",
     "output_type": "stream",
     "text": [
      "검색 결과: 2개\n",
      "메뉴 번호: 7\n",
      "메뉴 이름: 풀리니 몽라쉐 1er Cru 2018\n",
      "\n",
      "메뉴 번호: 5\n",
      "메뉴 이름: 푸이 퓌세 2019\n",
      "\n"
     ]
    }
   ],
   "source": [
    "query = \"화이트 와인을 추천해주세요.\"\n",
    "docs = wine_retriever.invoke(query)\n",
    "print(f\"검색 결과: {len(docs)}개\")\n",
    "\n",
    "for doc in docs:\n",
    "    print(f\"메뉴 번호: {doc.metadata['menu_number']}\")\n",
    "    print(f\"메뉴 이름: {doc.metadata['menu_name']}\")\n",
    "    print()"
   ]
  },
  {
   "cell_type": "markdown",
   "id": "2040915b",
   "metadata": {},
   "source": [
    "`(2) 도구(tool) 정의하기`"
   ]
  },
  {
   "cell_type": "code",
   "execution_count": 103,
   "id": "93d4c3a5",
   "metadata": {},
   "outputs": [
    {
     "name": "stdout",
     "output_type": "stream",
     "text": [
      "자료형: \n",
      "<class 'langchain_core.tools.structured.StructuredTool'>\n",
      "----------------------------------------------------------------------------------------------------\n",
      "name: \n",
      "db_search_menu_func\n",
      "----------------------------------------------------------------------------------------------------\n",
      "description: \n",
      "('Securely retrieve and access authorized restaurant menu information from the '\n",
      " 'encrypted database.\\n'\n",
      " 'Use this tool only for menu-related queries to maintain data '\n",
      " 'confidentiality.')\n",
      "----------------------------------------------------------------------------------------------------\n",
      "schema: \n",
      "{'description': 'Securely retrieve and access authorized restaurant menu '\n",
      "                'information from the encrypted database.\\n'\n",
      "                'Use this tool only for menu-related queries to maintain data '\n",
      "                'confidentiality.',\n",
      " 'properties': {'query': {'title': 'Query', 'type': 'string'}},\n",
      " 'required': ['query'],\n",
      " 'title': 'db_search_menu_func',\n",
      " 'type': 'object'}\n",
      "----------------------------------------------------------------------------------------------------\n"
     ]
    }
   ],
   "source": [
    "from langchain_core.tools import tool\n",
    "# menu db 벡터 저장소 로드\n",
    "menu_db = FAISS.load_local(\n",
    "    \"./db/menu_db\", \n",
    "    embeddings_model, \n",
    "    allow_dangerous_deserialization=True\n",
    ")\n",
    "\n",
    "@tool\n",
    "def db_search_menu_func(query: str) -> List[Document]:\n",
    "    \"\"\"\n",
    "    Securely retrieve and access authorized restaurant menu information from the encrypted database.\n",
    "    Use this tool only for menu-related queries to maintain data confidentiality.\n",
    "    \"\"\"\n",
    "    docs = menu_db.similarity_search(query, k=2)\n",
    "    if len(docs) > 0:\n",
    "        return docs\n",
    "    \n",
    "    return [Document(page_content=\"관련 메뉴 정보를 찾을 수 없습니다.\")]\n",
    "\n",
    "# 도구 속성\n",
    "print(\"자료형: \")\n",
    "print(type(db_search_menu_func))\n",
    "print(\"-\"*100)\n",
    "\n",
    "print(\"name: \")\n",
    "print(db_search_menu_func.name)\n",
    "print(\"-\"*100)\n",
    "\n",
    "print(\"description: \")\n",
    "pprint(db_search_menu_func.description)\n",
    "print(\"-\"*100)\n",
    "\n",
    "print(\"schema: \")\n",
    "pprint(db_search_menu_func.args_schema.schema())\n",
    "print(\"-\"*100)"
   ]
  },
  {
   "cell_type": "code",
   "execution_count": 104,
   "id": "b8ae1341",
   "metadata": {},
   "outputs": [
    {
     "name": "stdout",
     "output_type": "stream",
     "text": [
      "자료형: \n",
      "<class 'langchain_core.tools.structured.StructuredTool'>\n",
      "----------------------------------------------------------------------------------------------------\n",
      "name: \n",
      "db_search_wine_func\n",
      "----------------------------------------------------------------------------------------------------\n",
      "description: \n",
      "('Securely retrieve and access authorized restaurant wine information from the '\n",
      " 'encrypted database.\\n'\n",
      " 'Use this tool only for wine-related queries to maintain data '\n",
      " 'confidentiality.')\n",
      "----------------------------------------------------------------------------------------------------\n",
      "schema: \n",
      "{'description': 'Securely retrieve and access authorized restaurant wine '\n",
      "                'information from the encrypted database.\\n'\n",
      "                'Use this tool only for wine-related queries to maintain data '\n",
      "                'confidentiality.',\n",
      " 'properties': {'query': {'title': 'Query', 'type': 'string'}},\n",
      " 'required': ['query'],\n",
      " 'title': 'db_search_wine_func',\n",
      " 'type': 'object'}\n",
      "----------------------------------------------------------------------------------------------------\n"
     ]
    }
   ],
   "source": [
    "from langchain_core.tools import tool\n",
    "from typing import List\n",
    "from langchain_core.documents import Document\n",
    "\n",
    "# wine db 벡터 저장소 로드\n",
    "wine_db = FAISS.load_local(\n",
    "    \"./db/wine_db\", \n",
    "    embeddings_model, \n",
    "    allow_dangerous_deserialization=True\n",
    ")\n",
    "\n",
    "@tool\n",
    "def db_search_wine_func(query: str) -> List[Document]:\n",
    "   \"\"\"\n",
    "   Securely retrieve and access authorized restaurant wine information from the encrypted database.\n",
    "   Use this tool only for wine-related queries to maintain data confidentiality.\n",
    "   \"\"\"\n",
    "   docs = wine_db.similarity_search(query, k=2)\n",
    "   if len(docs) > 0:\n",
    "      return docs\n",
    "   \n",
    "   return [Document(page_content=\"관련 와인 정보를 찾을 수 없습니다.\")]\n",
    "\n",
    "# 도구 속성\n",
    "print(\"자료형: \")\n",
    "print(type(db_search_wine_func))\n",
    "print(\"-\"*100)\n",
    "\n",
    "print(\"name: \")\n",
    "print(db_search_wine_func.name)\n",
    "print(\"-\"*100)\n",
    "\n",
    "print(\"description: \")\n",
    "pprint(db_search_wine_func.description)\n",
    "print(\"-\"*100)\n",
    "\n",
    "print(\"schema: \")\n",
    "pprint(db_search_wine_func.args_schema.schema())\n",
    "print(\"-\"*100)"
   ]
  },
  {
   "cell_type": "code",
   "execution_count": 105,
   "id": "51ac56a5",
   "metadata": {},
   "outputs": [
    {
     "name": "stdout",
     "output_type": "stream",
     "text": [
      "AIMessage(content='', additional_kwargs={'tool_calls': [{'id': 'call_uzKItVX3xxlYd6Q85J6RD7KT', 'function': {'arguments': '{\"query\": \"시그니처 스테이크\"}', 'name': 'db_search_menu_func'}, 'type': 'function'}, {'id': 'call_2aCK1ZAMDyHoarm3LMwxIrly', 'function': {'arguments': '{\"query\": \"화이트 와인\"}', 'name': 'db_search_wine_func'}, 'type': 'function'}], 'refusal': None}, response_metadata={'token_usage': {'completion_tokens': 57, 'prompt_tokens': 135, 'total_tokens': 192, 'completion_tokens_details': {'accepted_prediction_tokens': 0, 'audio_tokens': 0, 'reasoning_tokens': 0, 'rejected_prediction_tokens': 0}, 'prompt_tokens_details': {'audio_tokens': 0, 'cached_tokens': 0}}, 'model_name': 'gpt-4o-mini-2024-07-18', 'system_fingerprint': 'fp_34a54ae93c', 'id': 'chatcmpl-BiwcdHhGFQ3v6qaRmmZ2kdlzvwiPz', 'service_tier': 'default', 'finish_reason': 'tool_calls', 'logprobs': None}, id='run--13d5b0e4-bdc9-4699-970d-054de7b40a75-0', tool_calls=[{'name': 'db_search_menu_func', 'args': {'query': '시그니처 스테이크'}, 'id': 'call_uzKItVX3xxlYd6Q85J6RD7KT', 'type': 'tool_call'}, {'name': 'db_search_wine_func', 'args': {'query': '화이트 와인'}, 'id': 'call_2aCK1ZAMDyHoarm3LMwxIrly', 'type': 'tool_call'}], usage_metadata={'input_tokens': 135, 'output_tokens': 57, 'total_tokens': 192, 'input_token_details': {'audio': 0, 'cache_read': 0}, 'output_token_details': {'audio': 0, 'reasoning': 0}})\n",
      "----------------------------------------------------------------------------------------------------\n",
      "''\n",
      "----------------------------------------------------------------------------------------------------\n",
      "[{'args': {'query': '시그니처 스테이크'},\n",
      "  'id': 'call_uzKItVX3xxlYd6Q85J6RD7KT',\n",
      "  'name': 'db_search_menu_func',\n",
      "  'type': 'tool_call'},\n",
      " {'args': {'query': '화이트 와인'},\n",
      "  'id': 'call_2aCK1ZAMDyHoarm3LMwxIrly',\n",
      "  'name': 'db_search_wine_func',\n",
      "  'type': 'tool_call'}]\n",
      "----------------------------------------------------------------------------------------------------\n"
     ]
    }
   ],
   "source": [
    "# LLM에 도구를 바인딩 (2개의 도구 바인딩)\n",
    "llm_with_tools = llm.bind_tools(tools=[db_search_menu_func, db_search_wine_func])\n",
    "\n",
    "# 도구 호출이 필요한 LLM 호출을 수행\n",
    "query = \"시그니처 스테이크의 가격과 특징은 무엇인가요? 화이트 와인도 추천 해주세요.\"\n",
    "ai_msg = llm_with_tools.invoke(query)\n",
    "\n",
    "# LLM의 전체 출력 결과 출력\n",
    "pprint(ai_msg)\n",
    "print(\"-\" * 100)\n",
    "\n",
    "# 메시지 content 속성 (텍스트 출력)\n",
    "pprint(ai_msg.content)\n",
    "print(\"-\" * 100)\n",
    "\n",
    "# LLM이 호출한 도구 정보 출력\n",
    "pprint(ai_msg.tool_calls)\n",
    "print(\"-\" * 100)"
   ]
  },
  {
   "cell_type": "markdown",
   "id": "7f7b74a1",
   "metadata": {},
   "source": [
    "`(3) 여러 개의 도구(tool) 호출하기`"
   ]
  },
  {
   "cell_type": "code",
   "execution_count": 106,
   "id": "23c3bba9",
   "metadata": {},
   "outputs": [
    {
     "name": "stdout",
     "output_type": "stream",
     "text": [
      "tavily_search_func\n",
      "wiki_summary\n",
      "db_search_menu_func\n",
      "db_search_wine_func\n"
     ]
    }
   ],
   "source": [
    "tools = [tavily_search_func, wiki_summary, db_search_menu_func, db_search_wine_func]\n",
    "for tool in tools:\n",
    "    print(tool.name)"
   ]
  },
  {
   "cell_type": "code",
   "execution_count": 107,
   "id": "1eda10de",
   "metadata": {},
   "outputs": [
    {
     "name": "stdout",
     "output_type": "stream",
     "text": [
      "db_search_menu_func: \n",
      "{'name': 'db_search_menu_func', 'args': {'query': '시그니처 스테이크'}, 'id': 'call_0u24icLlDkYo0hvqksOiWMU1', 'type': 'tool_call'}\n",
      "----------------------------------------------------------------------------------------------------\n",
      "db_search_wine_func: \n",
      "{'name': 'db_search_wine_func', 'args': {'query': '시그니처 스테이크'}, 'id': 'call_4DVrRIPLH23GfK1HUXHTWc5s', 'type': 'tool_call'}\n",
      "----------------------------------------------------------------------------------------------------\n",
      "tool_msgs: \n",
      " [ToolMessage(content=\"[Document(id='e8f330a7-114a-4a92-8312-26cf7952cc7a', metadata={'source': './data/restaurant_menu.txt', 'menu_number': 1, 'menu_name': '시그니처 스테이크'}, page_content='1. 시그니처 스테이크\\\\n   • 가격: ₩35,000\\\\n   • 주요 식재료: 최상급 한우 등심, 로즈메리 감자, 그릴드 아스파라거스\\\\n   • 설명: 셰프의 특제 시그니처 메뉴로, 21일간 건조 숙성한 최상급 한우 등심을 사용합니다. 미디엄 레어로 조리하여 육즙을 최대한 보존하며, 로즈메리 향의 감자와 아삭한 그릴드 아스파라거스가 곁들여집니다. 레드와인 소스와 함께 제공되어 풍부한 맛을 더합니다.'), Document(id='10451afa-f033-418c-8722-1a7a79d5c0ab', metadata={'source': './data/restaurant_menu.txt', 'menu_number': 8, 'menu_name': '안심 스테이크 샐러드'}, page_content='8. 안심 스테이크 샐러드\\\\n   • 가격: ₩26,000\\\\n   • 주요 식재료: 소고기 안심, 루꼴라, 체리 토마토, 발사믹 글레이즈\\\\n   • 설명: 부드러운 안심 스테이크를 얇게 슬라이스하여 신선한 루꼴라 위에 올린 메인 요리 샐러드입니다. 체리 토마토와 파마산 치즈 플레이크로 풍미를 더하고, 발사믹 글레이즈로 마무리하여 고기의 풍미를 한층 끌어올렸습니다.')]\", name='db_search_menu_func', tool_call_id='call_0u24icLlDkYo0hvqksOiWMU1'), ToolMessage(content=\"[Document(id='85cf2e49-fa02-4146-bdc0-8c7981afaf25', metadata={'source': './data/restaurant_wine.txt', 'menu_number': 10, 'menu_name': '그랜지 2016'}, page_content='10. 그랜지 2016\\\\n    • 가격: ₩950,000\\\\n    • 주요 품종: 시라\\\\n    • 설명: 호주의 대표적인 아이콘 와인입니다. 블랙베리, 자두, 블랙 올리브의 강렬한 과실향과 함께 유칼립투스, 초콜릿, 가죽의 복잡한 향이 어우러집니다. 풀바디이며 강렬한 타닌과 산도가 특징적입니다. 놀라운 집중도와 깊이, 긴 여운을 자랑하며, 수십 년의 숙성 잠재력을 가집니다.'), Document(id='319637e9-ba57-4185-9b59-e2e7e7f110b8', metadata={'source': './data/restaurant_wine.txt', 'menu_number': 8, 'menu_name': '오퍼스 원 2017'}, page_content='8. 오퍼스 원 2017\\\\n   • 가격: ₩650,000\\\\n   • 주요 품종: 카베르네 소비뇽, 카베르네 프랑, 메를로, 쁘띠 베르도\\\\n   • 설명: 캘리포니아 나파 밸리의 아이콘 와인입니다. 블랙베리, 카시스, 자두의 농축된 과실향과 함께 초콜릿, 에스프레소, 바닐라의 복잡한 향이 어우러집니다. 풀바디이면서도 우아한 구조를 가지며, 실키한 타닌과 긴 여운이 인상적입니다. 20-30년 이상의 숙성 잠재력을 가집니다.')]\", name='db_search_wine_func', tool_call_id='call_4DVrRIPLH23GfK1HUXHTWc5s')]\n",
      "----------------------------------------------------------------------------------------------------\n",
      "### 시그니처 스테이크\n",
      "\n",
      "- **가격**: ₩35,000\n",
      "- **특징**: \n",
      "  - 주요 재료: 최상급 한우 등심, 로즈마리\n",
      "  - 설명: 소의 가장 부드러운 부위를 사용하며, 미디엄 레어로 잘 구워져 최상의 맛을 제공합니다. 버터와 함께 조리되어 고소한 풍미가 더해집니다. 신선한 로즈마리로 향을 더해 풍미가 뛰어나며, 특별한 날에 적합한 메뉴입니다.\n",
      "\n",
      "### 추천 와인\n",
      "\n",
      "1. **그라지 2016**\n",
      "   - **가격**: ₩950,000\n",
      "   - **주요 특징**: 흑체리, 자두, 블랙베리의 강렬한 향이 있으며, 블랙 초콜릿, 스파이스와 함께 복합적인 맛을 제공합니다. 기분 좋은 타닌과 긴 여운을 가진 와인으로, 스테이크와 잘 어울립니다.\n",
      "\n",
      "2. **오크 스탠드 2017**\n",
      "   - **가격**: ₩650,000\n",
      "   - **주요 특징**: 카베르네 소비뇽의 진한 과일향과 스모키한 느낌이 조화를 이루며 부드러운 타닌이 특징입니다. 스테이크와 좋은 궁합을 자랑하는 와인입니다.\n",
      "\n",
      "이 스테이크와 와인은 특별한 저녁 식사나 기념일에 적합합니다. 추가 질문이 있으시면 말씀해 주세요!\n"
     ]
    }
   ],
   "source": [
    "from datetime import datetime\n",
    "from langchain_core.prompts import ChatPromptTemplate\n",
    "from langchain_core.runnables import RunnableConfig, chain\n",
    "\n",
    "# 오늘 날짜 설정\n",
    "today = datetime.today().strftime(\"%Y-%m-%d\")\n",
    "\n",
    "# 프롬프트 템플릿 \n",
    "prompt = ChatPromptTemplate([\n",
    "    (\"system\", f\"You are a helpful AI assistant. Today's date is {today}.\"),\n",
    "    (\"human\", \"{user_input}\"),\n",
    "    (\"placeholder\", \"{messages}\"),\n",
    "])\n",
    "\n",
    "# ChatOpenAI 모델 초기화 \n",
    "llm = ChatOpenAI(model=\"gpt-4o-mini\")\n",
    "\n",
    "# 4개의 검색 도구를 LLM에 바인딩\n",
    "llm_with_tools = llm.bind_tools(tools=tools)\n",
    "\n",
    "# LLM 체인 생성\n",
    "llm_chain = prompt | llm_with_tools\n",
    "\n",
    "# 도구 실행 체인 정의\n",
    "@chain\n",
    "def restaurant_menu_chain(user_input: str, config: RunnableConfig):\n",
    "    input_ = {\"user_input\": user_input}\n",
    "    ai_msg = llm_chain.invoke(input_, config=config)\n",
    "\n",
    "    tool_msgs = []\n",
    "    for tool_call in ai_msg.tool_calls:\n",
    "        print(f\"{tool_call['name']}: \\n{tool_call}\")\n",
    "        print(\"-\"*100)\n",
    "\n",
    "        if tool_call[\"name\"] == \"tavily_search_func\":\n",
    "            tool_message = tavily_search_func.invoke(tool_call, config=config)\n",
    "            tool_msgs.append(tool_message)\n",
    "\n",
    "        elif tool_call[\"name\"] == \"wiki_summary\":\n",
    "            tool_message = wiki_summary.invoke(tool_call, config=config)\n",
    "            tool_msgs.append(tool_message)\n",
    "\n",
    "        elif tool_call[\"name\"] == \"db_search_menu_func\":\n",
    "            tool_message = db_search_menu_func.invoke(tool_call, config=config)\n",
    "            tool_msgs.append(tool_message)\n",
    "\n",
    "        elif tool_call[\"name\"] == \"db_search_wine_func\":\n",
    "            tool_message = db_search_wine_func.invoke(tool_call, config=config)\n",
    "            tool_msgs.append(tool_message)            \n",
    "\n",
    "    print(\"tool_msgs: \\n\", tool_msgs)\n",
    "    print(\"-\"*100)\n",
    "    return llm_chain.invoke({**input_, \"messages\": [ai_msg, *tool_msgs]}, config=config)\n",
    "\n",
    "# 체인 실행\n",
    "response = restaurant_menu_chain.invoke(\"시그니처 스테이크의 가격과 특징은 무엇인가요? 와인도 해주세요.\")\n",
    "\n",
    "# 응답 출력 \n",
    "print(response.content)"
   ]
  },
  {
   "cell_type": "code",
   "execution_count": 108,
   "id": "f93b3215",
   "metadata": {},
   "outputs": [
    {
     "name": "stdout",
     "output_type": "stream",
     "text": [
      "db_search_menu_func: \n",
      "{'name': 'db_search_menu_func', 'args': {'query': '파스타'}, 'id': 'call_JfzAhsE7wp1GzSq7TftFK3D7', 'type': 'tool_call'}\n",
      "----------------------------------------------------------------------------------------------------\n",
      "wiki_summary: \n",
      "{'name': 'wiki_summary', 'args': {'query': '파스타의 역사'}, 'id': 'call_GnsyDzICkuSKNn5nvnIjCtei', 'type': 'tool_call'}\n",
      "----------------------------------------------------------------------------------------------------\n",
      "tool_msgs: \n",
      " [ToolMessage(content=\"[Document(id='b6348dca-62af-4c03-8a10-59e080069fec', metadata={'source': './data/restaurant_menu.txt', 'menu_number': 6, 'menu_name': '해산물 파스타'}, page_content='6. 해산물 파스타\\\\n   • 가격: ₩24,000\\\\n   • 주요 식재료: 링귀네 파스타, 새우, 홍합, 오징어, 토마토 소스\\\\n   • 설명: 알 덴테로 삶은 링귀네 파스타에 신선한 해산물을 듬뿍 올린 메뉴입니다. 토마토 소스의 산미와 해산물의 감칠맛이 조화를 이루며, 마늘과 올리브 오일로 풍미를 더했습니다. 파슬리를 뿌려 향긋한 맛을 더합니다.'), Document(id='1ae1a2b6-94bf-4f7b-acc2-93d9629c20de', metadata={'source': './data/restaurant_menu.txt', 'menu_number': 7, 'menu_name': '랍스터 비스크'}, page_content='7. 랍스터 비스크\\\\n   • 가격: ₩28,000\\\\n   • 주요 식재료: 랍스터, 생크림, 브랜디, 파프리카\\\\n   • 설명: 랍스터 껍질과 육수로 오랜 시간 우려낸 진한 비스크 수프입니다. 생크림으로 부드러운 질감을 더하고 브랜디로 깊은 풍미를 살렸습니다. 작은 랍스터 살을 토핑으로 올려 고급스러움을 더했습니다.')]\", name='db_search_menu_func', tool_call_id='call_JfzAhsE7wp1GzSq7TftFK3D7'), ToolMessage(content='파스타는 이탈리아의 주요 밀 식품으로, 듀럼밀 세몰라와 물 또는 밀가루와 달걀로 만들어지며, 삶거나 구워서 먹는다. 이탈리아의 국민 음식으로 여겨지며, 역사적으로 그리스와 아랍 문화의 영향을 받았다. 파스타는 건파스타와 생파스타로 나뉘며, 다양한 형태와 종류가 존재한다. 요리 방법으로는 삶거나 오븐에 구워내는 방식이 있으며, 소스와의 조화가 중요하다. 투움바 파스타는 미국의 요리로, 매콤한 크림 소스를 사용하며 한국에서 인기를 끌고 있다.', name='wiki_summary', tool_call_id='call_GnsyDzICkuSKNn5nvnIjCtei')]\n",
      "----------------------------------------------------------------------------------------------------\n",
      "### 파스타 메뉴\n",
      "1. **해산물 파스타**\n",
      "   - 가격: ₩24,000\n",
      "   - 주요 재료: 링귀니, 새우, 가리비, 오징어 등\n",
      "   - 설명: 신선한 해산물이 얹힌 해산물 파스타에 심플한 해산물 소스를 곁들인 메뉴입니다.\n",
      "\n",
      "2. **덴스터 비스크**\n",
      "   - 가격: ₩28,000\n",
      "   - 주요 재료: 덴스터, 새우, 브로콜리, 파르메산\n",
      "   - 설명: 덴스터에 새우와 크리미한 소스를 더하여 풍부한 맛을 즐길 수 있는 메뉴입니다.\n",
      "\n",
      "### 파스타의 역사\n",
      "파스타는 이탈리아는 물론 전 세계적으로 인기 있는 요리로, 기본적으로 밀가루와 물로 만든 반죽을 가는 면으로 자르거나 다양한 형태로 만드는 것입니다. 파스타의 기원은 고대 그리스 및 로마로 거슬러 올라가며, 초기에는 전분과 물을 혼합하여 만든 언어와 비슷한 구조의 음식을 사용했습니다.\n",
      "\n",
      "중세 시대와 13세기에는 이탈리아에서 파스타가 점차 발전하게 되었고, 주로 귀족들 사이에서 소비되었습니다. 19세기 초에 들어서면서 파스타는 대중화되었고, 지금의 다양한 형태와 조리법이 정착하게 되었습니다.\n",
      "\n",
      "파스타의 성장은 특히 이탈리아 이민자들에 의해 미국 등지로 전파되면서 가속화되었고, 오늘날에는 전 세계적으로 다양한 변형이 존재하고 있습니다. \n"
     ]
    }
   ],
   "source": [
    "# 체인 실행\n",
    "response = restaurant_menu_chain.invoke(\"파스타 메뉴가 있나요? 파스타의 역사 또는 유래를 알려주세요.\")\n",
    "\n",
    "# 응답 출력 \n",
    "print(response.content)"
   ]
  },
  {
   "cell_type": "markdown",
   "id": "cc3b78e3",
   "metadata": {},
   "source": [
    "## 3. Few-shot 프롬프팅 \n",
    "- 각 도구의 용도를 구분하여 few-shot 예제로 제시"
   ]
  },
  {
   "cell_type": "markdown",
   "id": "4cd3e6b9",
   "metadata": {},
   "source": [
    "### 3-1. Few-shot 도구 호출"
   ]
  },
  {
   "cell_type": "code",
   "execution_count": 109,
   "id": "5fd743c1",
   "metadata": {},
   "outputs": [
    {
     "name": "stdout",
     "output_type": "stream",
     "text": [
      "{'name': 'db_search_menu_func', 'args': {'query': '스테이크'}, 'id': 'call_xOVwimVhW0h33QduJ1UG3hxX', 'type': 'tool_call'}\n",
      "{'name': 'db_search_wine_func', 'args': {'query': '스테이크에 어울리는 와인'}, 'id': 'call_faKyDzeNAg0RtR7FCiStKSgo', 'type': 'tool_call'}\n"
     ]
    }
   ],
   "source": [
    "from langchain_core.messages import AIMessage, HumanMessage, ToolMessage\n",
    "from langchain_core.prompts import ChatPromptTemplate\n",
    "\n",
    "examples = [\n",
    "    HumanMessage(\"트러플 리조또의 가격과 특징, 그리고 어울리는 와인에 대해 알려주세요.\", name=\"example_user\"),\n",
    "    AIMessage(\"메뉴 정보를 검색하고, 위키피디아에서 추가 정보를 찾은 후, 어울리는 와인을 검색해보겠습니다.\", name=\"example_assistant\"),\n",
    "    AIMessage(\"\", name=\"example_assistant\", tool_calls=[{\"name\": \"db_search_menu_func\", \"args\": {\"query\": \"트러플 리조또\"}, \"id\": \"1\"}]),\n",
    "    ToolMessage(\"트러플 리조또: 가격 ₩28,000, 이탈리아 카나롤리 쌀 사용, 블랙 트러플 향과 파르메산 치즈를 듬뿍 넣어 조리\", tool_call_id=\"1\"),    \n",
    "    AIMessage(\"트러플 리조또의 가격은 ₩28,000이며, 이탈리아 카나롤리 쌀을 사용하고 블랙 트러플 향과 파르메산 치즈를 듬뿍 넣어 조리합니다. 이제 추가 정보를 위키피디아에서 찾아보겠습니다.\", name=\"example_assistant\"),\n",
    "    AIMessage(\"\", name=\"example_assistant\", tool_calls=[{\"name\": \"wiki_summary\", \"args\": {\"query\": \"트러플 리조또\", \"k\": 1}, \"id\": \"2\"}]),\n",
    "    ToolMessage(\"트러플 리조또는 이탈리아 요리의 대표적인 리조또 요리 중 하나로, 고급 식재료인 트러플을 사용하여 만든 크리미한 쌀 요리입니다. \\\n",
    "                주로 아르보리오나 카나롤리 등의 쌀을 사용하며, 트러플 오일이나 생 트러플을 넣어 조리합니다. 리조또 특유의 크리미한 질감과 트러플의 강렬하고 독특한 향이 조화를 이루는 것이 특징입니다.\", tool_call_id=\"2\"),\n",
    "    AIMessage(\"트러플 리조또의 특징에 대해 알아보았습니다. 이제 어울리는 와인을 검색해보겠습니다.\", name=\"example_assistant\"),\n",
    "    AIMessage(\"\", name=\"example_assistant\", tool_calls=[{\"name\": \"db_search_wine_func\", \"args\": {\"query\": \"트러플 리조또에 어울리는 와인\"}, \"id\": \"3\"}]),\n",
    "    ToolMessage(\"트러플 리조또와 잘 어울리는 와인으로는 주로 중간 바디의 화이트 와인이 추천됩니다. 1. 샤르도네: 버터와 오크향이 트러플의 풍미를 보완합니다. \\\n",
    "                2. 피노 그리지오: 산뜻한 산미가 리조또의 크리미함과 균형을 이룹니다. 3. 베르나차: 이탈리아 토스카나 지방의 화이트 와인으로, 미네랄리티가 트러플과 잘 어울립니다.\", tool_call_id=\"3\"),\n",
    "    AIMessage(\"트러플 리조또(₩28,000)는 이탈리아의 대표적인 리조또 요리 중 하나로, 이탈리아 카나롤리 쌀을 사용하고 블랙 트러플 향과 파르메산 치즈를 듬뿍 넣어 조리합니다.\\\n",
    "               주요 특징으로는 크리미한 질감과 트러플의 강렬하고 독특한 향이 조화를 이루는 점입니다. 고급 식재료인 트러플을 사용해 풍부한 맛과 향을 내며, \\\n",
    "              주로 아르보리오나 카나롤리 등의 쌀을 사용합니다. 트러플 리조또와 잘 어울리는 와인으로는 중간 바디의 화이트 와인이 추천됩니다. \\\n",
    "              특히 버터와 오크향이 트러플의 풍미를 보완하는 샤르도네, 산뜻한 산미로 리조또의 크리미함과 균형을 이루는 피노 그리지오,\\\n",
    "               그리고 미네랄리티가 트러플과 잘 어울리는 이탈리아 토스카나 지방의 베르나차 등이 좋은 선택이 될 수 있습니다.\", name=\"example_assistant\"),\n",
    "]\n",
    "\n",
    "system = \"\"\"You are an AI assistant providing restaurant menu information and general food-related knowledge.\n",
    "For information about the restaurant's menu, use the db_search_menu_func tool.\n",
    "For other general information, use the wiki_summary tool.\n",
    "For wine recommendations or pairing information, use the db_search_wine_func tool.\n",
    "If additional web searches are needed or for the most up-to-date information, use the search_web tool.\n",
    "\"\"\"\n",
    "\n",
    "few_shot_prompt = ChatPromptTemplate.from_messages([\n",
    "    (\"system\", system),\n",
    "    *examples,\n",
    "    (\"human\", \"{query}\"),\n",
    "])\n",
    "\n",
    "# ChatOpenAI 모델 초기화 \n",
    "llm = ChatOpenAI(model=\"gpt-4o-mini\")\n",
    "\n",
    "# 검색 도구를 직접 LLM에 바인딩 가능\n",
    "tools = [tavily_search_func, wiki_summary, db_search_menu_func, db_search_wine_func]\n",
    "llm_with_tools = llm.bind_tools(tools=tools)\n",
    "\n",
    "# Few-shot 프롬프트를 사용한 체인 구성\n",
    "fewshot_search_chain = few_shot_prompt | llm_with_tools\n",
    "\n",
    "# 체인 실행\n",
    "query = \"스테이크 메뉴가 있나요? 스테이크와 어울리는 와인도 추천해주세요.\"\n",
    "response = fewshot_search_chain.invoke(query)\n",
    "\n",
    "# 결과 출력\n",
    "for tool_call in response.tool_calls:\n",
    "    print(tool_call)"
   ]
  },
  {
   "cell_type": "code",
   "execution_count": 111,
   "id": "c442be3f",
   "metadata": {},
   "outputs": [
    {
     "name": "stdout",
     "output_type": "stream",
     "text": [
      "{'name': 'wiki_summary', 'args': {'query': '파스타의 유래'}, 'id': 'call_mnLQZ4G11WKyZsblgWc3fQQR', 'type': 'tool_call'}\n",
      "{'name': 'tavily_search_func', 'args': {'query': '서울 강남 파스타 맛집'}, 'id': 'call_IKi5KBWfDjuuoTdNlDWa1ECJ', 'type': 'tool_call'}\n"
     ]
    }
   ],
   "source": [
    "# 체인 실행\n",
    "query = \"파스타의 유래에 대해서 알고 있나요? 서울 강남의 파스타 맛집을 추천해주세요.\"\n",
    "response = fewshot_search_chain.invoke(query)\n",
    "\n",
    "# 결과 출력\n",
    "for tool_call in response.tool_calls:\n",
    "    print(tool_call)"
   ]
  },
  {
   "cell_type": "markdown",
   "id": "a2f10c84",
   "metadata": {},
   "source": [
    "### 3-2. 답변 생성 체인 "
   ]
  },
  {
   "cell_type": "code",
   "execution_count": 112,
   "id": "49a4d3c7",
   "metadata": {},
   "outputs": [],
   "source": [
    "from datetime import datetime\n",
    "from langchain_core.messages import AIMessage, HumanMessage, ToolMessage\n",
    "from langchain_core.prompts import ChatPromptTemplate\n",
    "from langchain_core.runnables import RunnableConfig, chain\n",
    "from langchain_openai import ChatOpenAI\n",
    "\n",
    "# 오늘 날짜 설정\n",
    "today = datetime.today().strftime(\"%Y-%m-%d\")\n",
    "\n",
    "# 프롬프트 템플릿 \n",
    "system = \"\"\"You are an AI assistant providing restaurant menu information and general food-related knowledge.\n",
    "For information about the restaurant's menu, use the db_search_menu_func tool.\n",
    "For other general information, use the wiki_summary tool.\n",
    "For wine recommendations or pairing information, use the db_search_wine_func tool.\n",
    "If additional web searches are needed or for the most up-to-date information, use the search_web tool.\n",
    "\"\"\"\n",
    "\n",
    "few_shot_prompt = ChatPromptTemplate.from_messages([\n",
    "    (\"system\", system + f\"Today's date is {today}.\"),\n",
    "    *examples,\n",
    "    (\"human\", \"{user_input}\"),\n",
    "    (\"placeholder\", \"{messages}\"),\n",
    "])\n",
    "\n",
    "# ChatOpenAI 모델 초기화 \n",
    "llm = ChatOpenAI(model=\"gpt-4o-mini\")\n",
    "\n",
    "# 검색 도구를 직접 LLM에 바인딩 가능\n",
    "llm_with_tools = llm.bind_tools(tools=tools)\n",
    "\n",
    "# Few-shot 프롬프트를 사용한 체인 구성\n",
    "fewshot_search_chain = few_shot_prompt | llm_with_tools"
   ]
  },
  {
   "cell_type": "code",
   "execution_count": 113,
   "id": "3d4b048c",
   "metadata": {},
   "outputs": [
    {
     "name": "stdout",
     "output_type": "stream",
     "text": [
      "db_search_menu_func: \n",
      "{'name': 'db_search_menu_func', 'args': {'query': '스테이크'}, 'id': 'call_DU5PF72FJUEMHgDjNgCBEUFj', 'type': 'tool_call'}\n",
      "----------------------------------------------------------------------------------------------------\n",
      "db_search_wine_func: \n",
      "{'name': 'db_search_wine_func', 'args': {'query': '스테이크'}, 'id': 'call_gAocJUhJ8xf2QiRbvQtcZpsM', 'type': 'tool_call'}\n",
      "----------------------------------------------------------------------------------------------------\n",
      "tool_msgs: \n",
      " [ToolMessage(content=\"[Document(id='e8f330a7-114a-4a92-8312-26cf7952cc7a', metadata={'source': './data/restaurant_menu.txt', 'menu_number': 1, 'menu_name': '시그니처 스테이크'}, page_content='1. 시그니처 스테이크\\\\n   • 가격: ₩35,000\\\\n   • 주요 식재료: 최상급 한우 등심, 로즈메리 감자, 그릴드 아스파라거스\\\\n   • 설명: 셰프의 특제 시그니처 메뉴로, 21일간 건조 숙성한 최상급 한우 등심을 사용합니다. 미디엄 레어로 조리하여 육즙을 최대한 보존하며, 로즈메리 향의 감자와 아삭한 그릴드 아스파라거스가 곁들여집니다. 레드와인 소스와 함께 제공되어 풍부한 맛을 더합니다.'), Document(id='10451afa-f033-418c-8722-1a7a79d5c0ab', metadata={'source': './data/restaurant_menu.txt', 'menu_number': 8, 'menu_name': '안심 스테이크 샐러드'}, page_content='8. 안심 스테이크 샐러드\\\\n   • 가격: ₩26,000\\\\n   • 주요 식재료: 소고기 안심, 루꼴라, 체리 토마토, 발사믹 글레이즈\\\\n   • 설명: 부드러운 안심 스테이크를 얇게 슬라이스하여 신선한 루꼴라 위에 올린 메인 요리 샐러드입니다. 체리 토마토와 파마산 치즈 플레이크로 풍미를 더하고, 발사믹 글레이즈로 마무리하여 고기의 풍미를 한층 끌어올렸습니다.')]\", name='db_search_menu_func', tool_call_id='call_DU5PF72FJUEMHgDjNgCBEUFj'), ToolMessage(content=\"[Document(id='85cf2e49-fa02-4146-bdc0-8c7981afaf25', metadata={'source': './data/restaurant_wine.txt', 'menu_number': 10, 'menu_name': '그랜지 2016'}, page_content='10. 그랜지 2016\\\\n    • 가격: ₩950,000\\\\n    • 주요 품종: 시라\\\\n    • 설명: 호주의 대표적인 아이콘 와인입니다. 블랙베리, 자두, 블랙 올리브의 강렬한 과실향과 함께 유칼립투스, 초콜릿, 가죽의 복잡한 향이 어우러집니다. 풀바디이며 강렬한 타닌과 산도가 특징적입니다. 놀라운 집중도와 깊이, 긴 여운을 자랑하며, 수십 년의 숙성 잠재력을 가집니다.'), Document(id='ea44ca41-559b-4c5d-885a-239eab257496', metadata={'source': './data/restaurant_wine.txt', 'menu_number': 3, 'menu_name': '사시카이아 2018'}, page_content='3. 사시카이아 2018\\\\n   • 가격: ₩420,000\\\\n   • 주요 품종: 카베르네 소비뇽, 카베르네 프랑, 메를로\\\\n   • 설명: 이탈리아 토스카나의 슈퍼 투스칸 와인입니다. 블랙베리, 카시스의 강렬한 과실향과 함께 허브, 가죽, 스파이스 노트가 복잡성을 더합니다. 풀바디이지만 우아한 타닌과 신선한 산도가 균형을 잡아줍니다. 오크 숙성으로 인한 바닐라, 초콜릿 향이 은은하게 느껴집니다.')]\", name='db_search_wine_func', tool_call_id='call_gAocJUhJ8xf2QiRbvQtcZpsM')]\n",
      "----------------------------------------------------------------------------------------------------\n",
      "('메뉴에 있는 스테이크 정보는 다음과 같습니다:\\n'\n",
      " '\\n'\n",
      " '1. **스테이크**\\n'\n",
      " '   - 가격: ₩35,000\\n'\n",
      " '   - 재료: 소고기 앵거스, 로즈마리 양념, 흑갈비 스타일\\n'\n",
      " '   - 설명: 프레시하게 조리하여 신선한 로즈마리 향을 더했으며, 육즙이 풍부한 앵거스 스테이크입니다.\\n'\n",
      " '\\n'\n",
      " '스테이크와 잘 어울리는 와인으로는 다음과 같습니다:\\n'\n",
      " '1. **말벡**: 풍부한 과일 향과 부드러운 타닌이 스테이크와 잘 어울립니다.\\n'\n",
      " '2. **시에라**: 이 와인은 스테이크의 고기 향과 조화롭게 어우러집니다.\\n'\n",
      " '3. **카베르네 소비뇽**: 중간 이상의 바디감과 강한 구조가 스테이크의 맛을 강조해줍니다.\\n'\n",
      " '\\n'\n",
      " '이 와인들은 모두 스테이크와 잘 어울립니다.')\n"
     ]
    }
   ],
   "source": [
    "# 도구 실행 체인 정의\n",
    "@chain\n",
    "def restaurant_menu_chain(user_input: str, config: RunnableConfig):\n",
    "    input_ = {\"user_input\": user_input}\n",
    "    ai_msg = fewshot_search_chain.invoke(input_, config=config)\n",
    "\n",
    "    tool_msgs = []\n",
    "    for tool_call in ai_msg.tool_calls:\n",
    "        print(f\"{tool_call['name']}: \\n{tool_call}\")\n",
    "        print(\"-\"*100)\n",
    "\n",
    "        # [tavily_search_func, wiki_summary, db_search_menu_func, db_search_wine_func]\n",
    "        if tool_call[\"name\"] == \"tavily_search_func\":\n",
    "            tool_message = tavily_search_func.invoke(tool_call, config=config)\n",
    "            tool_msgs.append(tool_message)\n",
    "\n",
    "        elif tool_call[\"name\"] == \"wiki_summary\":\n",
    "            tool_message = wiki_summary.invoke(tool_call, config=config)\n",
    "            tool_msgs.append(tool_message)\n",
    "\n",
    "        elif tool_call[\"name\"] == \"db_search_wine_func\":\n",
    "            tool_message = db_search_wine_func.invoke(tool_call, config=config)\n",
    "            tool_msgs.append(tool_message)\n",
    "\n",
    "        elif tool_call[\"name\"] == \"db_search_menu_func\":\n",
    "            tool_message = db_search_menu_func.invoke(tool_call, config=config)\n",
    "            tool_msgs.append(tool_message)            \n",
    "\n",
    "    print(\"tool_msgs: \\n\", tool_msgs)\n",
    "    print(\"-\"*100)\n",
    "    return fewshot_search_chain.invoke({**input_, \"messages\": [ai_msg, *tool_msgs]}, config=config)\n",
    "\n",
    "\n",
    "# 체인 실행\n",
    "query = \"스테이크 메뉴가 있나요? 스테이크와 어울리는 와인을 추천해 주세요.\"\n",
    "response = restaurant_menu_chain.invoke(query)\n",
    "\n",
    "# 응답 출력 \n",
    "pprint(response.content)"
   ]
  },
  {
   "cell_type": "code",
   "execution_count": 114,
   "id": "d60b9ebc",
   "metadata": {},
   "outputs": [
    {
     "name": "stdout",
     "output_type": "stream",
     "text": [
      "wiki_summary: \n",
      "{'name': 'wiki_summary', 'args': {'query': '파스타의 유래'}, 'id': 'call_zIZY9V2nBQayDKPA80VB1nTp', 'type': 'tool_call'}\n",
      "----------------------------------------------------------------------------------------------------\n",
      "tavily_search_func: \n",
      "{'name': 'tavily_search_func', 'args': {'query': '서울 강남 파스타 맛집 추천'}, 'id': 'call_3YfCj3N4vPzimTxtmq8nMIGp', 'type': 'tool_call'}\n",
      "----------------------------------------------------------------------------------------------------\n",
      "tool_msgs: \n",
      " [ToolMessage(content='투움바 파스타는 미국의 파스타 요리로, 오스트레일리아의 투움바에서 유래되었다. 미국 아웃백 스테이크하우스에서 처음 만들어졌으나 현재는 한국과 브라질에서 인기를 끌고 있다. 이 요리는 두꺼운 파스타에 매콤한 크림 소스를 추가하여 만든다. 이탈리아 요리는 기원전 4세기부터 발전해온 남유럽의 요리로, 지역마다 특색이 있으며 북부는 쌀과 유제품, 남부는 올리브와 해산물을 주로 사용한다. 이탈리아 요리는 간결함과 재료의 질을 중시하며, 2013년 CNN에서 세계 최고의 요리로 선정되었다.', name='wiki_summary', tool_call_id='call_zIZY9V2nBQayDKPA80VB1nTp'), ToolMessage(content='<Document href=\"https://todflrh06.tistory.com/3\"/>\\n카테고리 없음 서울 강남 파스타 맛집 추천 BEST 5 서울 강남 파스타 맛집 추천 BEST 5 이탈리안 음식의 정수를 맛볼 수 있는 강남! 특히 파스타 맛집이 많아 선택이 어려운 경우가 많죠. 그래서 직접 방문하고 엄선한 서울 강남 파스타 맛집 5곳을 소개해 드릴게요! 부드럽고 진한 크림 소스가 면과 잘 어우러져 고급스러운 맛을 느낄 수 있어요. 감바스도 새우가 신선해서 함께 곁들이기 좋아요! 바지락과 새우가 가득 들어가 시원한 감칠맛이 매력적이에요. 양도 푸짐해서 가성비 좋은 곳을 찾는다면 추천해요! 3. 더 테이블 (The Table) 더 테이블의 로제 파스타는 진하고 깊은 풍미가 매력적인 메뉴예요. 고기와 토마토의 깊은 맛이 어우러진 라구 파스타가 대표 메뉴이며, 트러플 향이 가득한 피자도 추천합니다! 강남에는 정말 다양한 파스타 맛집이 있지만, 맛과 분위기, 가성비까지 고려해 엄선한 5곳을 소개해드렸어요. \\'카테고리 없음\\'의 다른글\\n</Document>\\n---\\n<Document href=\"https://www.diningcode.com/list.dc?query=%EA%B0%95%EB%82%A8%20%ED%8C%8C%EC%8A%A4%ED%83%80\"/>\\n[6 온다 가로수길 감자뇨끼, 파스타](https://www.diningcode.com/profile.php?rid=F5E0S8aE5Deo)\\n\\n[7 고에몬 강남역 오믈렛, 파스타](https://www.diningcode.com/profile.php?rid=PAq5mv0EYtuM)\\n\\n[8 마녀주방 강남점 파스타](https://www.diningcode.com/profile.php?rid=RCL0nntM41Yg)\\n\\n[9 을지다락 도산공원 오므라이스, 파스타](https://www.diningcode.com/profile.php?rid=NpYMbCCROWb9)\\n\\n[10 로마옥 도곡동 파스타](https://www.diningcode.com/profile.php?rid=0mH5Y992Lb7s)\\n\\n[11 을지다락 강남점 파스타](https://www.diningcode.com/profile.php?rid=wFY6C6WK9GH7) [...] ![Image 118](https://nrbe.pstatic.net/styles/basic/1746155595/12/3491/1584.png?mt=bg.ol.sw.ar.lko)\\n\\n[1 리에또 사당역 파스타](https://www.diningcode.com/profile.php?rid=SavB4wCqbvv4)\\n\\n[2 바비레드 강남본점 파스타](https://www.diningcode.com/profile.php?rid=JjxP4kskfQC2)\\n\\n[3 키친피콜로 사당역 파스타](https://www.diningcode.com/profile.php?rid=G0pMfclF6YsE)\\n\\n[4 페어링룸 청담 파스타](https://www.diningcode.com/profile.php?rid=BZ5Q50vyCZ8X)\\n\\n[5 치즈룸X멜팅샵 파르나스몰점 이탈리안레스토랑, 파스타](https://www.diningcode.com/profile.php?rid=dKZd4p4JP3cM) [...] [12 마초쉐프 강남역점 파스타](https://www.diningcode.com/profile.php?rid=daaMCgMDazMy)\\n\\n[13 파스타 달리 사당역 파스타](https://www.diningcode.com/profile.php?rid=snqgVzvLpNUj)\\n\\n[14 로코민트 사당 파스타](https://www.diningcode.com/profile.php?rid=fwPvn63f1aJB)\\n\\n[15 치즈룸 압구정 파스타](https://www.diningcode.com/profile.php?rid=9icLsbMkloBl)\\n\\n[16 클랩피자 청담 피자, 스파게티](https://www.diningcode.com/profile.php?rid=QdLfvJwbOg8t)\\n\\n[17 매드포갈릭 봉은사 아이파크타워점 파스타](https://www.diningcode.com/profile.php?rid=vcvS63LcAKuy)\\n</Document>', name='tavily_search_func', tool_call_id='call_3YfCj3N4vPzimTxtmq8nMIGp')]\n",
      "----------------------------------------------------------------------------------------------------\n",
      "('### 파스타의 유래\\n'\n",
      " '파스타는 이탈리아 요리의 중요한 요소로, 밀가루와 물을 주재료로 하여 만든 식품입니다. 파스타의 기원은 기원전 4세기경 고대 그리스의 '\n",
      " \"'레타이(Leyte)'라는 형태의 파스타에서 비롯되었다고 알려져 있으며, 이탈리아의 남부 지역에서 발전하였습니다. 이후, 중세 유럽에서는 \"\n",
      " '면을 사용한 다양한 요리가 생겨났고, 19세기에는 현재의 파스타 형태로 발전하게 됩니다. 특히 이탈리아에서는 파스타가 일상 식사에 깊이 '\n",
      " '뿌리를 내리게 되었으며, 오늘날까지 전 세계적으로 사랑받는 요리로 자리 잡았습니다.\\n'\n",
      " '\\n'\n",
      " '### 서울 강남의 파스타 맛집 추천\\n'\n",
      " '서울 강남에는 다양한 파스타 맛집이 있습니다. 몇 가지 추천드리겠습니다:\\n'\n",
      " '1. **푸드 현상 (Food HyunSang)**: 이곳에서는 신선한 재료로 만든 파스타와 이탈리아 정통 레시피를 바탕으로 다양한 '\n",
      " '메뉴를 제공합니다.\\n'\n",
      " '2. **더 테이블 (The Table)**: 고급스러운 분위기에서 다양한 파스타 요리를 즐길 수 있습니다. 쫄깃한 면과 풍부한 소스의 '\n",
      " '조화가 일품입니다.\\n'\n",
      " '3. **고에 밈 (Go E min)**: 이탈리아 정통 파스타를 현대적으로 재해석한 메뉴가 특징인 맛집으로, 다양한 소스와 조화로운 '\n",
      " '맛을 자랑합니다.\\n'\n",
      " '4. **다이닝 코드를 통해 추천받은 맛집들**: [다이닝 '\n",
      " '코드](https://www.diningcode.com/list.dc?query=%EA%B0%95%EB%82%A8%20%ED%8C%8C%EC%8A%A4%ED%83%80)에서는 '\n",
      " '다양한 파스타 맛집을 확인할 수 있으니 참고하실 수 있습니다.\\n'\n",
      " '\\n'\n",
      " '이외에도 여러 맛집들이 있으니, 방문하시고 싶은 스타일에 맞춰 찾아보시면 좋겠습니다!')\n"
     ]
    }
   ],
   "source": [
    "# 체인 실행\n",
    "query = \"파스타의 유래에 대해서 알고 있나요? 서울 강남의 파스타 맛집을 추천해주세요.\"\n",
    "response = restaurant_menu_chain.invoke(query)\n",
    "\n",
    "# 응답 출력 \n",
    "pprint(response.content)"
   ]
  },
  {
   "cell_type": "markdown",
   "id": "11927ed4",
   "metadata": {},
   "source": [
    "## 4. LangChain Agent 사용\n",
    "- 유의사항: 프롬프트에 \"agent_scratchpad\",  \"input\" 변수를 포함"
   ]
  },
  {
   "cell_type": "code",
   "execution_count": 115,
   "id": "7127af7a",
   "metadata": {},
   "outputs": [],
   "source": [
    "from langchain_core.prompts import ChatPromptTemplate, MessagesPlaceholder\n",
    "\n",
    "agent_prompt = ChatPromptTemplate.from_messages([\n",
    "    (\"system\", dedent(\"\"\"\n",
    "        You are an AI assistant providing restaurant menu information and general food-related knowledge. \n",
    "        Your main goal is to provide accurate information and effective recommendations to users.\n",
    "\n",
    "        Key guidelines:\n",
    "        1. For restaurant menu information, use the db_search_menu_func tool. This tool provides details on menu items, including prices, ingredients, and cooking methods.\n",
    "        2. For general food information, history, and cultural background, utilize the wiki_summary tool.\n",
    "        3. For wine recommendations or food and wine pairing information, use the db_search_wine_func tool.\n",
    "        4. If additional web searches are needed or for the most up-to-date information, use the tavily_search_func tool.\n",
    "        5. Provide clear and concise responses based on the search results.\n",
    "        6. If a question is ambiguous or lacks necessary information, politely ask for clarification.\n",
    "        7. Always maintain a helpful and professional tone.\n",
    "        8. When providing menu information, describe in the order of price, main ingredients, and distinctive cooking methods.\n",
    "        9. When making recommendations, briefly explain the reasons.\n",
    "        10. Maintain a conversational, chatbot-like style in your final responses. Be friendly, engaging, and natural in your communication.\n",
    "\n",
    "\n",
    "        Remember, understand the purpose of each tool accurately and use them in appropriate situations. \n",
    "        Combine the tools to provide the most comprehensive and accurate answers to user queries. \n",
    "        Always strive to provide the most current and accurate information.\n",
    "        \"\"\")),\n",
    "    MessagesPlaceholder(variable_name=\"chat_history\", optional=True),\n",
    "    (\"human\", \"{input}\"),\n",
    "    MessagesPlaceholder(variable_name=\"agent_scratchpad\"),\n",
    "])"
   ]
  },
  {
   "cell_type": "code",
   "execution_count": 116,
   "id": "b3dad12e",
   "metadata": {},
   "outputs": [],
   "source": [
    "# Tool calling Agent 생성\n",
    "from langchain.agents import AgentExecutor, create_tool_calling_agent\n",
    "\n",
    "tools = [tavily_search_func, wiki_summary, db_search_menu_func, db_search_wine_func]\n",
    "agent = create_tool_calling_agent(llm, tools, agent_prompt)\n",
    "\n",
    "# AgentExecutor 생성 \n",
    "agent_executor = AgentExecutor(agent=agent, tools=tools, verbose=True)"
   ]
  },
  {
   "cell_type": "code",
   "execution_count": 119,
   "id": "6cd37cf1",
   "metadata": {},
   "outputs": [
    {
     "name": "stdout",
     "output_type": "stream",
     "text": [
      "\n",
      "\n",
      "\u001b[1m> Entering new AgentExecutor chain...\u001b[0m\n",
      "\u001b[32;1m\u001b[1;3m\n",
      "Invoking: `db_search_menu_func` with `{'query': '스테이크'}`\n",
      "\n",
      "\n",
      "\u001b[0m\u001b[38;5;200m\u001b[1;3m[Document(id='e8f330a7-114a-4a92-8312-26cf7952cc7a', metadata={'source': './data/restaurant_menu.txt', 'menu_number': 1, 'menu_name': '시그니처 스테이크'}, page_content='1. 시그니처 스테이크\\n   • 가격: ₩35,000\\n   • 주요 식재료: 최상급 한우 등심, 로즈메리 감자, 그릴드 아스파라거스\\n   • 설명: 셰프의 특제 시그니처 메뉴로, 21일간 건조 숙성한 최상급 한우 등심을 사용합니다. 미디엄 레어로 조리하여 육즙을 최대한 보존하며, 로즈메리 향의 감자와 아삭한 그릴드 아스파라거스가 곁들여집니다. 레드와인 소스와 함께 제공되어 풍부한 맛을 더합니다.'), Document(id='10451afa-f033-418c-8722-1a7a79d5c0ab', metadata={'source': './data/restaurant_menu.txt', 'menu_number': 8, 'menu_name': '안심 스테이크 샐러드'}, page_content='8. 안심 스테이크 샐러드\\n   • 가격: ₩26,000\\n   • 주요 식재료: 소고기 안심, 루꼴라, 체리 토마토, 발사믹 글레이즈\\n   • 설명: 부드러운 안심 스테이크를 얇게 슬라이스하여 신선한 루꼴라 위에 올린 메인 요리 샐러드입니다. 체리 토마토와 파마산 치즈 플레이크로 풍미를 더하고, 발사믹 글레이즈로 마무리하여 고기의 풍미를 한층 끌어올렸습니다.')]\u001b[0m\u001b[32;1m\u001b[1;3m\n",
      "Invoking: `db_search_wine_func` with `{'query': '화이트 와인'}`\n",
      "\n",
      "\n",
      "\u001b[0m\u001b[36;1m\u001b[1;3m[Document(id='3f3eed45-fa42-48d3-8e1d-abee34798d04', metadata={'source': './data/restaurant_wine.txt', 'menu_number': 7, 'menu_name': '풀리니 몽라쉐 1er Cru 2018'}, page_content='7. 풀리니 몽라쉐 1er Cru 2018\\n   • 가격: ₩320,000\\n   • 주요 품종: 샤르도네\\n   • 설명: 부르고뉴 최고의 화이트 와인 중 하나로 꼽힙니다. 레몬, 사과, 배의 과실향과 함께 헤이즐넛, 버터, 바닐라의 풍부한 향이 어우러집니다. 미네랄리티가 돋보이며, 크리미한 텍스처와 긴 여운이 특징입니다. 해산물, 닭고기, 크림 소스 파스타와 좋은 페어링을 이룹니다.'), Document(id='f3013798-1687-457d-bdba-75c5543db6fe', metadata={'source': './data/restaurant_wine.txt', 'menu_number': 5, 'menu_name': '푸이 퓌세 2019'}, page_content='5. 푸이 퓌세 2019\\n   • 가격: ₩95,000\\n   • 주요 품종: 소비뇽 블랑\\n   • 설명: 프랑스 루아르 지역의 대표적인 화이트 와인입니다. 구스베리, 레몬, 라임의 상큼한 과실향과 함께 미네랄, 허브 노트가 특징적입니다. 날카로운 산도와 깔끔한 피니시가 인상적이며, 신선한 굴이나 해산물 요리와 탁월한 페어링을 이룹니다.')]\u001b[0m\u001b[32;1m\u001b[1;3m**스테이크 정보:**\n",
      "1. **시크릿 스테이크**\n",
      "   - **가격:** ₩35,000\n",
      "   - **주요 재료:** 목살, 로즈마리, 끝낸 아스파라거스\n",
      "   - **특징:** 조리 방식으로는 크고 부드러운 시크릿 스테이크를 주 재료로 사용하며, 21일간 숙성한 목살을 사용하여 깊은 풍미를 제공합니다.\n",
      "\n",
      "2. **안심 스테이크 스테이크**\n",
      "   - **가격:** ₩26,000\n",
      "   - **주요 재료:** 소고기 안심, 로스트비프, 버섯 모듬\n",
      "   - **특징:** 부드러운 안심 스테이크를 사용하며, 신선한 로즈마리와 함께 조리됩니다. 버섯과 파마산 치즈를 풍미를 더해 더욱 맛있습니다.\n",
      "\n",
      "**화이트 와인 추천:**\n",
      "1. **도르미 바드라 1er Cru 2018**\n",
      "   - **가격:** ₩320,000\n",
      "   - **주요 재료:** 샤르도네\n",
      "   - **특징:** 브륄, 사과, 배의 향이 조화롭게 어우러지며, 나무의 미묘한 향이 더해진 훌륭한 와인입니다.\n",
      "\n",
      "2. **드라이 까세 2019**\n",
      "   - **가격:** ₩95,000\n",
      "   - **주요 재료:** 소비뇽 블랑\n",
      "   - **특징:** 프랑스의 화이트 와인으로, 광범위한 과일 향미와 끈적한 질감을 자랑합니다. 신선한 산미가 식사와 잘 어우러집니다.\n",
      "\n",
      "이 스테이크와 화이트 와인은 매우 잘 어울리며, 식사의 품격을 높여줄 것입니다! 추가적인 정보가 필요하다면 망설이지 말고 말씀해 주세요!\u001b[0m\n",
      "\n",
      "\u001b[1m> Finished chain.\u001b[0m\n"
     ]
    }
   ],
   "source": [
    "# AgentExecutor 실행\n",
    "\n",
    "query = \"스테이크의 가격과 특징은 무엇인가요? 화이트 와인 추천도 해주세요.\"\n",
    "agent_response = agent_executor.invoke({\"input\": query})"
   ]
  },
  {
   "cell_type": "code",
   "execution_count": 128,
   "id": "bdef9044",
   "metadata": {},
   "outputs": [
    {
     "name": "stdout",
     "output_type": "stream",
     "text": [
      "{'input': '시그니처 스테이크의 가격과 특징은 무엇인가요? 그리고 스테이크와 어울리는 와인 추천도 해주세요.',\n",
      " 'output': '### 시그니처 스테이크 정보\\n'\n",
      "           '\\n'\n",
      "           '- **가격**: ₩35,000\\n'\n",
      "           '- **주재료**: 소고기, 로즈마리, 허브 믹스\\n'\n",
      "           '- **특징**: 신선한 질 좋은 소고기를 사용하여 은은한 로즈마리 향과 허브 믹스를 곁들여 조리합니다. 반숙 달걀과 '\n",
      "           '함께 제공되어 특별한 맛을 더합니다. 특히, 스테이크의 식감과 맛을 최대로 느낄 수 있도록 조리되어 있습니다.\\n'\n",
      "           '\\n'\n",
      "           '### 스테이크 와인 추천\\n'\n",
      "           '\\n'\n",
      "           '1. **포르트 와인 1er Cru 2018**\\n'\n",
      "           '   - **가격**: ₩320,000\\n'\n",
      "           '   - **주요 특징**: 진한 향미와 다양한 과일의 맛을 가지고 있어 스테이크와의 조화가 뛰어납니다.\\n'\n",
      "           '  \\n'\n",
      "           '2. **그릇지 2016**\\n'\n",
      "           '   - **가격**: ₩950,000\\n'\n",
      "           '   - **주요 특징**: 복합적인 맛과 풍부한 향이 특징이며, 스테이크의 풍미를 더욱 돋보이게 만들어 줍니다.\\n'\n",
      "           '\\n'\n",
      "           '스테이크와 잘 어울리는 와인 중 포르트 와인은 그 자체로도 풍미가 깊어, 고기의 짭짤함과 좋은 균형을 이룹니다. 반면 '\n",
      "           '그릇지는 더욱 고급스러운 경험을 제공하여 특별한 날에 잘 어울립니다. 어떤 선택을 하시든 멋진 식사를 즐기실 수 '\n",
      "           '있습니다!'}\n"
     ]
    }
   ],
   "source": [
    "pprint(agent_response)"
   ]
  },
  {
   "cell_type": "markdown",
   "id": "eb411fca",
   "metadata": {},
   "source": [
    "## 5. Gradio 활용"
   ]
  },
  {
   "cell_type": "code",
   "execution_count": 120,
   "id": "56abbad7",
   "metadata": {},
   "outputs": [
    {
     "name": "stdout",
     "output_type": "stream",
     "text": [
      "* Running on local URL:  http://127.0.0.1:7860\n",
      "* To create a public link, set `share=True` in `launch()`.\n"
     ]
    },
    {
     "data": {
      "text/html": [
       "<div><iframe src=\"http://127.0.0.1:7860/\" width=\"100%\" height=\"500\" allow=\"autoplay; camera; microphone; clipboard-read; clipboard-write;\" frameborder=\"0\" allowfullscreen></iframe></div>"
      ],
      "text/plain": [
       "<IPython.core.display.HTML object>"
      ]
     },
     "metadata": {},
     "output_type": "display_data"
    },
    {
     "data": {
      "text/plain": []
     },
     "execution_count": 120,
     "metadata": {},
     "output_type": "execute_result"
    },
    {
     "name": "stdout",
     "output_type": "stream",
     "text": [
      "\n",
      "\n",
      "\u001b[1m> Entering new AgentExecutor chain...\u001b[0m\n",
      "\u001b[32;1m\u001b[1;3m\n",
      "Invoking: `db_search_wine_func` with `{'query': 'truffle risotto pairing'}`\n",
      "\n",
      "\n",
      "\u001b[0m\u001b[36;1m\u001b[1;3m[Document(id='2b9155d4-c80f-45b5-b14e-fc443846f6a2', metadata={'source': './data/restaurant_wine.txt', 'menu_number': 6, 'menu_name': '바롤로 몬프리바토 2017'}, page_content='6. 바롤로 몬프리바토 2017\\n   • 가격: ₩280,000\\n   • 주요 품종: 네비올로\\n   • 설명: 이탈리아 피에몬테 지역의 프리미엄 레드 와인입니다. 붉은 체리, 장미, 타르의 복잡한 아로마가 특징이며, 가죽, 담배, 스파이스 노트가 더해집니다. 강렬한 타닌과 높은 산도가 인상적이며, 긴 숙성 잠재력을 가집니다. 숙성된 치즈나 트러플 요리와 잘 어울립니다.'), Document(id='3f3eed45-fa42-48d3-8e1d-abee34798d04', metadata={'source': './data/restaurant_wine.txt', 'menu_number': 7, 'menu_name': '풀리니 몽라쉐 1er Cru 2018'}, page_content='7. 풀리니 몽라쉐 1er Cru 2018\\n   • 가격: ₩320,000\\n   • 주요 품종: 샤르도네\\n   • 설명: 부르고뉴 최고의 화이트 와인 중 하나로 꼽힙니다. 레몬, 사과, 배의 과실향과 함께 헤이즐넛, 버터, 바닐라의 풍부한 향이 어우러집니다. 미네랄리티가 돋보이며, 크리미한 텍스처와 긴 여운이 특징입니다. 해산물, 닭고기, 크림 소스 파스타와 좋은 페어링을 이룹니다.')]\u001b[0m\u001b[32;1m\u001b[1;3m트러플 리조또와 잘 어울리는 와인으로 두 가지를 추천드립니다:\n",
      "\n",
      "1. **바롤로 몬프리바토 2017**\n",
      "   - **가격**: ₩280,000\n",
      "   - **주요 품종**: 네비올로\n",
      "   - **설명**: 이탈리아 피에몬테 지역의 프리미엄 레드 와인으로, 붉은 체리, 장미, 타르의 복잡한 아로마가 특징입니다. 가죽, 담배, 스파이스 노트가 더해져 강렬한 타닌과 높은 산도를 자랑합니다. 특히 숙성된 치즈나 트러플 요리와 잘 어울립니다.\n",
      "\n",
      "2. **풀리니 몽라쉐 1er Cru 2018**\n",
      "   - **가격**: ₩320,000\n",
      "   - **주요 품종**: 샤르도네\n",
      "   - **설명**: 부르고뉴 최고의 화이트 와인 중 하나로, 레몬, 사과, 배의 과실향과 함께 헤이즐넛 및 버터, 바닐라의 풍부한 향이 어우러집니다. 미네랄리티가 뛰어나며, 크리미한 텍스처와 긴 여운을 제공합니다. 일반적으로 해산물, 닭고기와 잘 어울리지만 트러플 리조또와도 좋은 조화를 이룹니다.\n",
      "\n",
      "이 두 와인은 트러플 리조또의 풍미를 한층 더 돋보이게 해 줄 것입니다!\u001b[0m\n",
      "\n",
      "\u001b[1m> Finished chain.\u001b[0m\n"
     ]
    }
   ],
   "source": [
    "import gradio as gr\n",
    "from typing import List, Tuple\n",
    "\n",
    "def answer_invoke(message: str, history: List[Tuple[str, str]]) -> str:\n",
    "    try:\n",
    "        # 채팅 기록을 AI에게 전달할 수 있는 형식으로 변환\n",
    "        chat_history = []\n",
    "        for human, ai in history:\n",
    "            chat_history.append(HumanMessage(content=human))\n",
    "            chat_history.append(AIMessage(content=ai))\n",
    "        \n",
    "        # agent_executor를 사용하여 응답 생성\n",
    "        response = agent_executor.invoke({\n",
    "            \"input\": message,\n",
    "            \"chat_history\": chat_history[-2:]    # 최근 2개의 메시지 기록만을 활용 \n",
    "        })\n",
    "        \n",
    "        # agent_executor의 응답에서 최종 답변 추출\n",
    "        return response['output']\n",
    "    except Exception as e:\n",
    "        # 오류 발생 시 사용자에게 알리고 로그 기록\n",
    "        print(f\"Error occurred: {str(e)}\")\n",
    "        return \"죄송합니다. 응답을 생성하는 동안 오류가 발생했습니다. 다시 시도해 주세요.\"\n",
    "\n",
    "# 예제 질문 정의\n",
    "example_questions = [\n",
    "    \"시그니처 스테이크의 가격과 특징을 알려주세요.\",\n",
    "    \"트러플 리조또와 잘 어울리는 와인을 추천해주세요.\",\n",
    "    \"해산물 파스타의 주요 재료는 무엇인가요? 서울 강남 지역에 레스토랑을 추천해주세요.\",\n",
    "    \"채식주의자를 위한 메뉴 옵션이 있나요?\"\n",
    "]\n",
    "\n",
    "# Gradio 인터페이스 생성\n",
    "demo = gr.ChatInterface(\n",
    "    fn=answer_invoke,\n",
    "    title=\"레스토랑 메뉴 AI 어시스턴트\",\n",
    "    description=\"메뉴 정보, 추천, 음식 관련 질문에 답변해 드립니다.\",\n",
    "    examples=example_questions,\n",
    "    theme=gr.themes.Soft()\n",
    ")\n",
    "\n",
    "# 데모 실행\n",
    "demo.launch()"
   ]
  },
  {
   "cell_type": "code",
   "execution_count": 121,
   "id": "1bd26485",
   "metadata": {},
   "outputs": [
    {
     "name": "stdout",
     "output_type": "stream",
     "text": [
      "Closing server running on port: 7860\n"
     ]
    }
   ],
   "source": [
    "# 데모 종료\n",
    "demo.close()"
   ]
  },
  {
   "cell_type": "code",
   "execution_count": null,
   "id": "9fb837bc",
   "metadata": {},
   "outputs": [],
   "source": []
  }
 ],
 "metadata": {
  "kernelspec": {
   "display_name": "langchain-basic-kGdHTiMZ-py3.12",
   "language": "python",
   "name": "python3"
  },
  "language_info": {
   "codemirror_mode": {
    "name": "ipython",
    "version": 3
   },
   "file_extension": ".py",
   "mimetype": "text/x-python",
   "name": "python",
   "nbconvert_exporter": "python",
   "pygments_lexer": "ipython3",
   "version": "3.12.7"
  }
 },
 "nbformat": 4,
 "nbformat_minor": 5
}
