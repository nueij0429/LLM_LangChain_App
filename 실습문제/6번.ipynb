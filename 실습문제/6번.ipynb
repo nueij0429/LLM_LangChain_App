{
 "cells": [
  {
   "cell_type": "markdown",
   "id": "57a839cc",
   "metadata": {},
   "source": [
    "### 문제 6-1 : 조건부 분기가 있는 메뉴 추천 시스템 ( LangGraph 사용하기)<br>\n",
    "MessagesState를 사용하여 고객의 카페 관련 문의에 자동으로 응답하는 시스템을 만드세요. 고객이 메뉴, 가격, 추천 등에 대해 질문하면 카페 메뉴 데이터를 바탕으로 적절한 답변을 생성하는 시스템을 구현하세요.<br>\n",
    "\n",
    "#### 학습 목표<br>\n",
    "* 의미론적 검색: 사용자 문의를 직접 검색어로 활용하는 방법<br>\n",
    "* MessagesState + Vector DB: 대화형 시스템과 벡터 검색 결합<br>\n",
    "* 동적 정보 추출: 검색된 문서에서 구조화된 정보 추출<br>\n",
    "* 실시간 검색 응답: 사용자 문의에 맞춤형 실시간 검색 결과 제공\n",
    "\n",
    "#### 핵심 개념 설명<br>\n",
    "* MessagesState: 메시지 리스트를 자동으로 관리하는 LangGraph의 특별한 상태 클래스<br>\n",
    "* HumanMessage/AIMessage: 사용자와 AI의 메시지를 구분하는 LangChain의 메시지 클래스<br>\n",
    "* 자연어 처리: 사용자의 텍스트 입력을 분석하여 의도를 파악하는 과정<br>\n",
    "* 상태 확장: MessagesState를 상속받아 추가 필드를 포함하는 방법\n",
    "\n",
    "#### 구현 단계별 가이드<br>\n",
    "* 상태 정의: MessagesState를 상속받아 필요한 추가 필드 정의<br>\n",
    "* 문의 분류 로직: 키워드 기반으로 사용자 문의 유형을 분류하는 함수 구현<br>\n",
    "* 응답 생성 함수들: 각 문의 유형별로 적절한 응답을 생성하는 함수들 작성<br>\n",
    "* 메시지 처리: 사용자의 마지막 메시지를 분석하고 적절한 응답 메시지 생성\n",
    "\n",
    "#### 요구사항:<br>\n",
    "* MessagesState 사용<br>\n",
    "* 질문 유형 분류 (메뉴 문의, 가격 문의, 추천 요청)<br>\n",
    "* 각 유형별 맞춤 응답 생성<br>\n",
    "대화 이력 유지"
   ]
  },
  {
   "cell_type": "markdown",
   "id": "26913379",
   "metadata": {},
   "source": [
    "### 환경 설정"
   ]
  },
  {
   "cell_type": "code",
   "execution_count": 1,
   "id": "6030b15b",
   "metadata": {},
   "outputs": [
    {
     "data": {
      "text/plain": [
       "True"
      ]
     },
     "execution_count": 1,
     "metadata": {},
     "output_type": "execute_result"
    }
   ],
   "source": [
    "from dotenv import load_dotenv\n",
    "load_dotenv()"
   ]
  },
  {
   "cell_type": "code",
   "execution_count": 2,
   "id": "f7ed7b35",
   "metadata": {},
   "outputs": [],
   "source": [
    "import re\n",
    "import os, json\n",
    "\n",
    "from textwrap import dedent\n",
    "from pprint import pprint\n",
    "\n",
    "import warnings\n",
    "warnings.filterwarnings(\"ignore\")"
   ]
  },
  {
   "cell_type": "markdown",
   "id": "7df852a6",
   "metadata": {},
   "source": [
    "### Messages State 정의"
   ]
  },
  {
   "cell_type": "code",
   "execution_count": 3,
   "id": "fbb45c20",
   "metadata": {},
   "outputs": [],
   "source": [
    "from langgraph.graph import MessagesState\n",
    "from typing import List\n",
    "from langchain_core.documents import Document\n",
    "\n",
    "class CafeState(MessagesState):\n",
    "    documents: List[Document] = []\n",
    "    query_type: str = \"\""
   ]
  },
  {
   "cell_type": "markdown",
   "id": "820fb652",
   "metadata": {},
   "source": [
    "### RAG Chain 구성"
   ]
  },
  {
   "cell_type": "code",
   "execution_count": 4,
   "id": "42b2103a",
   "metadata": {},
   "outputs": [
    {
     "name": "stdout",
     "output_type": "stream",
     "text": [
      "학생을 위한 메뉴를 추천해 드리겠습니다.\n",
      "\n",
      "1.  **예산** 학생의 경우 경제적인 부담이 적어야 하므로, 가격대가 저렴한 메뉴를 추천해 드리겠습니다.\n",
      "2.  **영양** 학생은 성장기에 있는 만큼, 영양소를 골고루 섭취하는 것이 중요합니다. 그러므로, 메뉴의 영양 정보도 고려하겠습니다.\n",
      "\n",
      "위의 두 가지 요소를 고려하여 추천해 드리는 메뉴는 다음과 같습니다.\n",
      "\n",
      "*   **아이스 아메리카노** - 가격: ₩4,500 - 주요 원료: 에스프레소, 차가운 물, 얼음 - 설명: 진한 에스프레소에 차가운 물과 얼음을 넣어 만든 시원한 아이스 커피입니다. 깔끔하고 시원한 맛이 특징이며, 원두 본연의 풍미를 느낄 수 있습니다. 더운 날씨에 인기가 높습니다.\n",
      "\n",
      "*   **카페라떼** - 가격: ₩5,500 - 주요 원료: 에스프레소, 스팀 밀크 - 설명: 진한 에스프레소에 부드럽게 스팀한 우유를 넣어 만든 대표적인 밀크 커피입니다. 크리미한 질감과 부드러운 맛이 특징이며, 다양한 시럽과 토핑 추가가 가능합니다. 라떼 아트로 시각적 즐거움도 제공합니다.\n",
      "\n",
      "두 메뉴 모두 가격대가 저렴하고, 성장기 학생에게 필요한 영양소를 함유하고 있습니다. 또한, 두 메뉴는 모두 커피를 베이스로 한 음료로, 집중력을 높이고 피로를 풀어주는 효과가 있습니다.\n"
     ]
    }
   ],
   "source": [
    "from langchain_community.vectorstores import FAISS\n",
    "from langchain_ollama  import OllamaEmbeddings\n",
    "from langchain_openai import ChatOpenAI\n",
    "from langchain_core.messages import HumanMessage, AIMessage\n",
    "from langchain_core.output_parsers import StrOutputParser\n",
    "from langchain_core.prompts import ChatPromptTemplate\n",
    "from langchain_core.runnables import RunnablePassthrough, RunnableLambda\n",
    "\n",
    "embeddings_model = OllamaEmbeddings(model=\"bge-m3:latest\") \n",
    "\n",
    "# cafe db 벡터 저장소 로드\n",
    "cafe_db = FAISS.load_local(\n",
    "    \"db/cafe_db\", \n",
    "    embeddings_model, \n",
    "    allow_dangerous_deserialization=True\n",
    ")\n",
    "\n",
    "# LLM 모델 \n",
    "llm = ChatOpenAI(\n",
    "    base_url=\"https://api.groq.com/openai/v1\",\n",
    "    model=\"meta-llama/llama-4-scout-17b-16e-instruct\",\n",
    "    temperature=0.7\n",
    ")\n",
    "\n",
    "# RAG 체인 구성\n",
    "def format_docs(docs):\n",
    "    return \"\\n\\n\".join(doc.page_content for doc in docs)\n",
    "\n",
    "# prompt 정의\n",
    "system = \"\"\"\n",
    "You are a helpful assistant. Use the following context to answer the user's question:\n",
    "\n",
    "[Context]\n",
    "{context}\n",
    "\"\"\"\n",
    "\n",
    "prompt = ChatPromptTemplate.from_messages([\n",
    "    (\"system\", system),\n",
    "    (\"human\", \"{question}\")\n",
    "])\n",
    "\n",
    "# 검색기 정의\n",
    "retriever = cafe_db.as_retriever(\n",
    "    search_kwargs={\"k\": 6}\n",
    ")\n",
    "\n",
    "# RAG 체인 구성\n",
    "rag_chain = (\n",
    "    {\"context\": retriever | format_docs, \"question\": RunnablePassthrough()}\n",
    "    | prompt\n",
    "    | llm\n",
    "    | StrOutputParser()\n",
    ")\n",
    "\n",
    "# RAG 체인 실행\n",
    "query = \"학생을 위한 메뉴를 추천해주세요.\"\n",
    "response = rag_chain.invoke(query)\n",
    "\n",
    "# 답변 출력\n",
    "print(response)"
   ]
  },
  {
   "cell_type": "markdown",
   "id": "1338ae43",
   "metadata": {},
   "source": [
    "### 노드(Node)"
   ]
  },
  {
   "cell_type": "code",
   "execution_count": 12,
   "id": "b6801733",
   "metadata": {},
   "outputs": [],
   "source": [
    "def classify_query(state: CafeState) -> Dict:\n",
    "    user_message = state[\"messages\"][-1].content\n",
    "\n",
    "    if \"추천\" in user_message:\n",
    "        query_type = \"recommend\"\n",
    "    elif \"가격\" in user_message or \"얼마\" in user_message:\n",
    "        query_type = \"price\"\n",
    "    elif \"메뉴\" in user_message or \"있어\" in user_message:\n",
    "        query_type = \"menu\"\n",
    "    else:\n",
    "        query_type = \"general\"\n",
    "\n",
    "    return {\"query_type\": query_type}"
   ]
  },
  {
   "cell_type": "code",
   "execution_count": 13,
   "id": "caec4bda",
   "metadata": {},
   "outputs": [],
   "source": [
    "from typing import Dict\n",
    "\n",
    "def search_cafe_docs(state: CafeState) -> Dict:\n",
    "    user_message = state[\"messages\"][-1].content\n",
    "    query_type = state.get(\"query_type\", \"general\")\n",
    "\n",
    "    # 기본값\n",
    "    docs = []\n",
    "\n",
    "    if query_type == \"price\":\n",
    "        docs = cafe_db.similarity_search(\"메뉴 가격\", k=5)\n",
    "\n",
    "    elif query_type == \"recommend\":\n",
    "        docs = cafe_db.similarity_search(user_message, k=3)\n",
    "        if not docs:\n",
    "            docs = cafe_db.similarity_search(\"인기 메뉴\", k=3)\n",
    "\n",
    "    elif query_type == \"menu\":\n",
    "        docs = cafe_db.similarity_search(user_message, k=4)\n",
    "\n",
    "    else:\n",
    "        docs = cafe_db.similarity_search(user_message, k=4)\n",
    "\n",
    "    return {\"documents\": docs}"
   ]
  },
  {
   "cell_type": "code",
   "execution_count": 14,
   "id": "28fc90ca",
   "metadata": {},
   "outputs": [],
   "source": [
    "import re\n",
    "from langchain_core.documents import Document\n",
    "\n",
    "def extract_menu_info(doc: Document) -> dict:\n",
    "    content = doc.page_content\n",
    "    menu_name = doc.metadata.get('menu_name', 'Unknown')\n",
    "    \n",
    "    price_match = re.search(r'₩([\\d,]+)', content)\n",
    "    description_match = re.search(r'설명:\\s*(.+?)(?:\\n|$)', content, re.DOTALL)\n",
    "\n",
    "    return {\n",
    "        \"name\": menu_name,\n",
    "        \"price\": price_match.group(0) if price_match else \"가격 정보 없음\",\n",
    "        \"description\": description_match.group(1).strip() if description_match else \"설명 없음\"\n",
    "    }\n"
   ]
  },
  {
   "cell_type": "code",
   "execution_count": 15,
   "id": "af502a39",
   "metadata": {},
   "outputs": [],
   "source": [
    "from langchain_core.messages import AIMessage\n",
    "\n",
    "def retrieve_and_respond(state: CafeState) -> Dict:\n",
    "    user_message = state[\"messages\"][-1].content\n",
    "\n",
    "    # RAG 체인 실행\n",
    "    response = rag_chain.invoke(user_message)\n",
    "\n",
    "    # 메시지 추가\n",
    "    new_messages = state[\"messages\"] + [AIMessage(content=response)]\n",
    "\n",
    "    return {\n",
    "        \"messages\": new_messages\n",
    "    }"
   ]
  },
  {
   "cell_type": "code",
   "execution_count": 38,
   "id": "714a1379",
   "metadata": {},
   "outputs": [],
   "source": [
    "from pydantic import BaseModel, Field\n",
    "\n",
    "class GradeResponse(BaseModel):\n",
    "    \"A score for answers\"\n",
    "    score: float = Field(..., description=\"A score from 0 to 1, where 1 is perfect\")\n",
    "    explanation: str = Field(..., description=\"An explanation for the given score\")\n",
    "\n",
    "# 답변 품질 평가 함수\n",
    "def grade_answer(state: CafeState):\n",
    "    messages = state['messages']\n",
    "    question = messages[-2].content\n",
    "    answer = messages[-1].content\n",
    "    context = format_docs(state['documents'])\n",
    "\n",
    "    grading_system = \"\"\"You are an expert grader. \n",
    "    Grade the following answer based on its relevance and accuracy to the question, considering the given context. \n",
    "    Provide a score from 0 to 1, where 1 is perfect, along with an explanation.\"\"\"\n",
    "\n",
    "    grading_prompt = ChatPromptTemplate.from_messages([\n",
    "        (\"system\", grading_system),\n",
    "        (\"human\", \"[Question]\\n{question}\\n\\n[Context]\\n{context}\\n\\n[Answer]\\n{answer}\\n\\n[Grade]\\n\")\n",
    "    ])\n",
    "    \n",
    "    try:\n",
    "        grading_chain = grading_prompt | llm.with_structured_output(schema=GradeResponse)\n",
    "        grade_response = grading_chain.invoke({\n",
    "            \"question\": question,\n",
    "            \"context\": context,\n",
    "            \"answer\": answer\n",
    "        })\n",
    "        \n",
    "        score = max(0, min(1, grade_response.score))\n",
    "        \n",
    "    except Exception as e:\n",
    "        print(f\"Error during grading: {e}\")\n",
    "        score = 0.5\n",
    "        grade_response = GradeResponse(score=score, explanation=\"Error occurred during grading\")\n",
    "\n",
    "    # 답변 생성 횟수를 증가 \n",
    "    num_generation = state.get('num_generation', 0)\n",
    "    num_generation += 1\n",
    "    \n",
    "    return {\n",
    "        \"messages\": messages,\n",
    "        \"documents\": state[\"documents\"],\n",
    "        \"query_type\": state.get(\"query_type\", \"\"),\n",
    "        \"grade\": score,\n",
    "        \"num_generation\": state.get(\"num_generation\", 0) + 1\n",
    "    }"
   ]
  },
  {
   "cell_type": "markdown",
   "id": "9531af75",
   "metadata": {},
   "source": [
    "### 엣지(Edge)"
   ]
  },
  {
   "cell_type": "code",
   "execution_count": 39,
   "id": "5a303da5",
   "metadata": {},
   "outputs": [],
   "source": [
    "from typing import Literal\n",
    "\n",
    "def should_retry(state: CafeState) -> Literal[\"retrieve_and_respond\", \"generate\"]:\n",
    "    print(\"----GRADING---\")\n",
    "    print(\"Grade Score: \", state.get(\"grade\"))\n",
    "\n",
    "    if state.get(\"num_generation\", 0) > 2:\n",
    "        return \"generate\"\n",
    "    \n",
    "    if state.get(\"grade\", 0.0) < 0.7:\n",
    "        return \"retrieve_and_respond\"\n",
    "    else:\n",
    "        return \"generate\"\n"
   ]
  },
  {
   "cell_type": "markdown",
   "id": "7783f147",
   "metadata": {},
   "source": [
    "### 그래프(Graph) 구성"
   ]
  },
  {
   "cell_type": "code",
   "execution_count": 40,
   "id": "ffffff4a",
   "metadata": {},
   "outputs": [
    {
     "data": {
      "image/png": "[encoded data removed]",
      "text/plain": [
       "<IPython.core.display.Image object>"
      ]
     },
     "metadata": {},
     "output_type": "display_data"
    }
   ],
   "source": [
    "from langgraph.graph import StateGraph, START, END\n",
    "from IPython.display import Image, display\n",
    "\n",
    "# 그래프 설정\n",
    "builder = StateGraph(CafeState)\n",
    "\n",
    "# 노드 추가\n",
    "builder.add_node(\"classify_query\", classify_query)\n",
    "builder.add_node(\"search_cafe_docs\", search_cafe_docs)\n",
    "builder.add_node(\"retrieve_and_respond\", retrieve_and_respond)\n",
    "builder.add_node(\"grade_answer\", grade_answer)\n",
    "\n",
    "# 엣지 연결\n",
    "builder.add_edge(START, \"classify_query\")\n",
    "builder.add_edge(\"classify_query\", \"search_cafe_docs\")\n",
    "builder.add_edge(\"search_cafe_docs\", \"retrieve_and_respond\")\n",
    "builder.add_edge(\"retrieve_and_respond\", \"grade_answer\")\n",
    "\n",
    "# 조건 분기 연결\n",
    "builder.add_conditional_edges(\n",
    "    \"grade_answer\",\n",
    "    should_retry,\n",
    "    {\n",
    "        \"retrieve_and_respond\": \"retrieve_and_respond\",\n",
    "        \"generate\": END\n",
    "    }\n",
    ")\n",
    "\n",
    "# 그래프 컴파일\n",
    "graph = builder.compile()\n",
    "\n",
    "# 그래프 시각화\n",
    "display(Image(graph.get_graph().draw_mermaid_png()))"
   ]
  },
  {
   "cell_type": "markdown",
   "id": "ff04d743",
   "metadata": {},
   "source": [
    "### 그래프(Graph) 실행"
   ]
  },
  {
   "cell_type": "code",
   "execution_count": 41,
   "id": "0859a124",
   "metadata": {},
   "outputs": [
    {
     "name": "stdout",
     "output_type": "stream",
     "text": [
      "----GRADING---\n",
      "Grade Score:  None\n",
      "----GRADING---\n",
      "Grade Score:  None\n",
      "----GRADING---\n",
      "Grade Score:  None\n",
      "----GRADING---\n",
      "Grade Score:  None\n",
      "----GRADING---\n",
      "Grade Score:  None\n",
      "----GRADING---\n",
      "Grade Score:  None\n",
      "----GRADING---\n",
      "Grade Score:  None\n",
      "----GRADING---\n",
      "Grade Score:  None\n",
      "----GRADING---\n",
      "Grade Score:  None\n",
      "----GRADING---\n",
      "Grade Score:  None\n",
      "----GRADING---\n",
      "Grade Score:  None\n"
     ]
    },
    {
     "ename": "GraphRecursionError",
     "evalue": "Recursion limit of 25 reached without hitting a stop condition. You can increase the limit by setting the `recursion_limit` config key.\nFor troubleshooting, visit: https://python.langchain.com/docs/troubleshooting/errors/GRAPH_RECURSION_LIMIT",
     "output_type": "error",
     "traceback": [
      "\u001b[31m---------------------------------------------------------------------------\u001b[39m",
      "\u001b[31mGraphRecursionError\u001b[39m                       Traceback (most recent call last)",
      "\u001b[36mCell\u001b[39m\u001b[36m \u001b[39m\u001b[32mIn[41]\u001b[39m\u001b[32m, line 12\u001b[39m\n\u001b[32m      2\u001b[39m \u001b[38;5;28;01mfrom\u001b[39;00m\u001b[38;5;250m \u001b[39m\u001b[34;01mpprint\u001b[39;00m\u001b[38;5;250m \u001b[39m\u001b[38;5;28;01mimport\u001b[39;00m pprint\n\u001b[32m      4\u001b[39m initial_state = CafeState(\n\u001b[32m      5\u001b[39m     messages=[HumanMessage(content=\u001b[33m\"\u001b[39m\u001b[33m학생을 위한 메뉴를 추천해주세요.\u001b[39m\u001b[33m\"\u001b[39m)],\n\u001b[32m      6\u001b[39m     documents=[],\n\u001b[32m   (...)\u001b[39m\u001b[32m      9\u001b[39m     num_generation=\u001b[32m0\u001b[39m\n\u001b[32m     10\u001b[39m )\n\u001b[32m---> \u001b[39m\u001b[32m12\u001b[39m final_state = \u001b[43mgraph\u001b[49m\u001b[43m.\u001b[49m\u001b[43minvoke\u001b[49m\u001b[43m(\u001b[49m\u001b[43minitial_state\u001b[49m\u001b[43m)\u001b[49m\n\u001b[32m     14\u001b[39m \u001b[38;5;66;03m# 출력\u001b[39;00m\n\u001b[32m     15\u001b[39m \u001b[38;5;28mprint\u001b[39m(\u001b[33m\"\u001b[39m\u001b[33m최종 상태:\u001b[39m\u001b[33m\"\u001b[39m)\n",
      "\u001b[36mFile \u001b[39m\u001b[32mc:\\Users\\user\\AppData\\Local\\pypoetry\\Cache\\virtualenvs\\langchain-basic-kGdHTiMZ-py3.12\\Lib\\site-packages\\langgraph\\pregel\\__init__.py:2719\u001b[39m, in \u001b[36mPregel.invoke\u001b[39m\u001b[34m(self, input, config, stream_mode, output_keys, interrupt_before, interrupt_after, checkpoint_during, debug, **kwargs)\u001b[39m\n\u001b[32m   2716\u001b[39m chunks: \u001b[38;5;28mlist\u001b[39m[Union[\u001b[38;5;28mdict\u001b[39m[\u001b[38;5;28mstr\u001b[39m, Any], Any]] = []\n\u001b[32m   2717\u001b[39m interrupts: \u001b[38;5;28mlist\u001b[39m[Interrupt] = []\n\u001b[32m-> \u001b[39m\u001b[32m2719\u001b[39m \u001b[43m\u001b[49m\u001b[38;5;28;43;01mfor\u001b[39;49;00m\u001b[43m \u001b[49m\u001b[43mchunk\u001b[49m\u001b[43m \u001b[49m\u001b[38;5;129;43;01min\u001b[39;49;00m\u001b[43m \u001b[49m\u001b[38;5;28;43mself\u001b[39;49m\u001b[43m.\u001b[49m\u001b[43mstream\u001b[49m\u001b[43m(\u001b[49m\n\u001b[32m   2720\u001b[39m \u001b[43m    \u001b[49m\u001b[38;5;28;43minput\u001b[39;49m\u001b[43m,\u001b[49m\n\u001b[32m   2721\u001b[39m \u001b[43m    \u001b[49m\u001b[43mconfig\u001b[49m\u001b[43m,\u001b[49m\n\u001b[32m   2722\u001b[39m \u001b[43m    \u001b[49m\u001b[43mstream_mode\u001b[49m\u001b[43m=\u001b[49m\u001b[43mstream_mode\u001b[49m\u001b[43m,\u001b[49m\n\u001b[32m   2723\u001b[39m \u001b[43m    \u001b[49m\u001b[43moutput_keys\u001b[49m\u001b[43m=\u001b[49m\u001b[43moutput_keys\u001b[49m\u001b[43m,\u001b[49m\n\u001b[32m   2724\u001b[39m \u001b[43m    \u001b[49m\u001b[43minterrupt_before\u001b[49m\u001b[43m=\u001b[49m\u001b[43minterrupt_before\u001b[49m\u001b[43m,\u001b[49m\n\u001b[32m   2725\u001b[39m \u001b[43m    \u001b[49m\u001b[43minterrupt_after\u001b[49m\u001b[43m=\u001b[49m\u001b[43minterrupt_after\u001b[49m\u001b[43m,\u001b[49m\n\u001b[32m   2726\u001b[39m \u001b[43m    \u001b[49m\u001b[43mcheckpoint_during\u001b[49m\u001b[43m=\u001b[49m\u001b[43mcheckpoint_during\u001b[49m\u001b[43m,\u001b[49m\n\u001b[32m   2727\u001b[39m \u001b[43m    \u001b[49m\u001b[43mdebug\u001b[49m\u001b[43m=\u001b[49m\u001b[43mdebug\u001b[49m\u001b[43m,\u001b[49m\n\u001b[32m   2728\u001b[39m \u001b[43m    \u001b[49m\u001b[43m*\u001b[49m\u001b[43m*\u001b[49m\u001b[43mkwargs\u001b[49m\u001b[43m,\u001b[49m\n\u001b[32m   2729\u001b[39m \u001b[43m\u001b[49m\u001b[43m)\u001b[49m\u001b[43m:\u001b[49m\n\u001b[32m   2730\u001b[39m \u001b[43m    \u001b[49m\u001b[38;5;28;43;01mif\u001b[39;49;00m\u001b[43m \u001b[49m\u001b[43mstream_mode\u001b[49m\u001b[43m \u001b[49m\u001b[43m==\u001b[49m\u001b[43m \u001b[49m\u001b[33;43m\"\u001b[39;49m\u001b[33;43mvalues\u001b[39;49m\u001b[33;43m\"\u001b[39;49m\u001b[43m:\u001b[49m\n\u001b[32m   2731\u001b[39m \u001b[43m        \u001b[49m\u001b[38;5;28;43;01mif\u001b[39;49;00m\u001b[43m \u001b[49m\u001b[43m(\u001b[49m\n\u001b[32m   2732\u001b[39m \u001b[43m            \u001b[49m\u001b[38;5;28;43misinstance\u001b[39;49m\u001b[43m(\u001b[49m\u001b[43mchunk\u001b[49m\u001b[43m,\u001b[49m\u001b[43m \u001b[49m\u001b[38;5;28;43mdict\u001b[39;49m\u001b[43m)\u001b[49m\n\u001b[32m   2733\u001b[39m \u001b[43m            \u001b[49m\u001b[38;5;129;43;01mand\u001b[39;49;00m\u001b[43m \u001b[49m\u001b[43m(\u001b[49m\u001b[43mints\u001b[49m\u001b[43m \u001b[49m\u001b[43m:=\u001b[49m\u001b[43m \u001b[49m\u001b[43mchunk\u001b[49m\u001b[43m.\u001b[49m\u001b[43mget\u001b[49m\u001b[43m(\u001b[49m\u001b[43mINTERRUPT\u001b[49m\u001b[43m)\u001b[49m\u001b[43m)\u001b[49m\u001b[43m \u001b[49m\u001b[38;5;129;43;01mis\u001b[39;49;00m\u001b[43m \u001b[49m\u001b[38;5;129;43;01mnot\u001b[39;49;00m\u001b[43m \u001b[49m\u001b[38;5;28;43;01mNone\u001b[39;49;00m\n\u001b[32m   2734\u001b[39m \u001b[43m        \u001b[49m\u001b[43m)\u001b[49m\u001b[43m:\u001b[49m\n",
      "\u001b[36mFile \u001b[39m\u001b[32mc:\\Users\\user\\AppData\\Local\\pypoetry\\Cache\\virtualenvs\\langchain-basic-kGdHTiMZ-py3.12\\Lib\\site-packages\\langgraph\\pregel\\__init__.py:2456\u001b[39m, in \u001b[36mPregel.stream\u001b[39m\u001b[34m(self, input, config, stream_mode, output_keys, interrupt_before, interrupt_after, checkpoint_during, debug, subgraphs)\u001b[39m\n\u001b[32m   2447\u001b[39m \u001b[38;5;28;01mif\u001b[39;00m loop.status == \u001b[33m\"\u001b[39m\u001b[33mout_of_steps\u001b[39m\u001b[33m\"\u001b[39m:\n\u001b[32m   2448\u001b[39m     msg = create_error_message(\n\u001b[32m   2449\u001b[39m         message=(\n\u001b[32m   2450\u001b[39m             \u001b[33mf\u001b[39m\u001b[33m\"\u001b[39m\u001b[33mRecursion limit of \u001b[39m\u001b[38;5;132;01m{\u001b[39;00mconfig[\u001b[33m'\u001b[39m\u001b[33mrecursion_limit\u001b[39m\u001b[33m'\u001b[39m]\u001b[38;5;132;01m}\u001b[39;00m\u001b[33m reached \u001b[39m\u001b[33m\"\u001b[39m\n\u001b[32m   (...)\u001b[39m\u001b[32m   2454\u001b[39m         error_code=ErrorCode.GRAPH_RECURSION_LIMIT,\n\u001b[32m   2455\u001b[39m     )\n\u001b[32m-> \u001b[39m\u001b[32m2456\u001b[39m     \u001b[38;5;28;01mraise\u001b[39;00m GraphRecursionError(msg)\n\u001b[32m   2457\u001b[39m \u001b[38;5;66;03m# set final channel values as run output\u001b[39;00m\n\u001b[32m   2458\u001b[39m run_manager.on_chain_end(loop.output)\n",
      "\u001b[31mGraphRecursionError\u001b[39m: Recursion limit of 25 reached without hitting a stop condition. You can increase the limit by setting the `recursion_limit` config key.\nFor troubleshooting, visit: https://python.langchain.com/docs/troubleshooting/errors/GRAPH_RECURSION_LIMIT"
     ]
    }
   ],
   "source": [
    "from langchain_core.messages import HumanMessage\n",
    "from pprint import pprint\n",
    "\n",
    "initial_state = CafeState(\n",
    "    messages=[HumanMessage(content=\"학생을 위한 메뉴를 추천해주세요.\")],\n",
    "    documents=[],\n",
    "    query_type=\"\",\n",
    "    grade=0.0,\n",
    "    num_generation=0\n",
    ")\n",
    "\n",
    "final_state = graph.invoke(initial_state)\n",
    "\n",
    "# 출력\n",
    "print(\"최종 상태:\")\n",
    "pprint(final_state)\n",
    "\n",
    "print(\"응답 내용:\")\n",
    "for m in final_state[\"messages\"]:\n",
    "    print(f\"{m.type.upper()}: {m.content}\")\n",
    "\n",
    "print(f\"평가 점수: {final_state['grade']}\")\n",
    "print(f\"생성 횟수: {final_state['num_generation']}\")\n"
   ]
  }
 ],
 "metadata": {
  "kernelspec": {
   "display_name": "langchain-basic-kGdHTiMZ-py3.12",
   "language": "python",
   "name": "python3"
  },
  "language_info": {
   "codemirror_mode": {
    "name": "ipython",
    "version": 3
   },
   "file_extension": ".py",
   "mimetype": "text/x-python",
   "name": "python",
   "nbconvert_exporter": "python",
   "pygments_lexer": "ipython3",
   "version": "3.12.7"
  }
 },
 "nbformat": 4,
 "nbformat_minor": 5
}
