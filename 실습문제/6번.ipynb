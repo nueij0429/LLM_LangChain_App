{
 "cells": [
  {
   "cell_type": "markdown",
   "id": "57a839cc",
   "metadata": {},
   "source": [
    "### 문제 6-1 : 조건부 분기가 있는 메뉴 추천 시스템 ( LangGraph 사용하기)<br>\n",
    "MessagesState를 사용하여 고객의 카페 관련 문의에 자동으로 응답하는 시스템을 만드세요. 고객이 메뉴, 가격, 추천 등에 대해 질문하면 카페 메뉴 데이터를 바탕으로 적절한 답변을 생성하는 시스템을 구현하세요.<br>\n",
    "\n",
    "#### 학습 목표<br>\n",
    "* 의미론적 검색: 사용자 문의를 직접 검색어로 활용하는 방법<br>\n",
    "* MessagesState + Vector DB: 대화형 시스템과 벡터 검색 결합<br>\n",
    "* 동적 정보 추출: 검색된 문서에서 구조화된 정보 추출<br>\n",
    "* 실시간 검색 응답: 사용자 문의에 맞춤형 실시간 검색 결과 제공\n",
    "\n",
    "#### 핵심 개념 설명<br>\n",
    "* MessagesState: 메시지 리스트를 자동으로 관리하는 LangGraph의 특별한 상태 클래스<br>\n",
    "* HumanMessage/AIMessage: 사용자와 AI의 메시지를 구분하는 LangChain의 메시지 클래스<br>\n",
    "* 자연어 처리: 사용자의 텍스트 입력을 분석하여 의도를 파악하는 과정<br>\n",
    "* 상태 확장: MessagesState를 상속받아 추가 필드를 포함하는 방법\n",
    "\n",
    "#### 구현 단계별 가이드<br>\n",
    "* 상태 정의: MessagesState를 상속받아 필요한 추가 필드 정의<br>\n",
    "* 문의 분류 로직: 키워드 기반으로 사용자 문의 유형을 분류하는 함수 구현<br>\n",
    "* 응답 생성 함수들: 각 문의 유형별로 적절한 응답을 생성하는 함수들 작성<br>\n",
    "* 메시지 처리: 사용자의 마지막 메시지를 분석하고 적절한 응답 메시지 생성\n",
    "\n",
    "#### 요구사항:<br>\n",
    "* MessagesState 사용<br>\n",
    "* 질문 유형 분류 (메뉴 문의, 가격 문의, 추천 요청)<br>\n",
    "* 각 유형별 맞춤 응답 생성<br>\n",
    "대화 이력 유지"
   ]
  },
  {
   "cell_type": "markdown",
   "id": "26913379",
   "metadata": {},
   "source": [
    "### 환경 설정"
   ]
  },
  {
   "cell_type": "code",
   "execution_count": 1,
   "id": "6030b15b",
   "metadata": {},
   "outputs": [
    {
     "data": {
      "text/plain": [
       "True"
      ]
     },
     "execution_count": 1,
     "metadata": {},
     "output_type": "execute_result"
    }
   ],
   "source": [
    "from dotenv import load_dotenv\n",
    "load_dotenv()"
   ]
  },
  {
   "cell_type": "code",
   "execution_count": 2,
   "id": "f7ed7b35",
   "metadata": {},
   "outputs": [],
   "source": [
    "import re\n",
    "import os, json\n",
    "\n",
    "from textwrap import dedent\n",
    "from pprint import pprint\n",
    "\n",
    "import warnings\n",
    "warnings.filterwarnings(\"ignore\")"
   ]
  },
  {
   "cell_type": "markdown",
   "id": "7df852a6",
   "metadata": {},
   "source": [
    "### Messages State 정의"
   ]
  },
  {
   "cell_type": "code",
   "execution_count": 3,
   "id": "fbb45c20",
   "metadata": {},
   "outputs": [],
   "source": [
    "from langgraph.graph import MessagesState\n",
    "from typing import List\n",
    "from langchain_core.documents import Document\n",
    "\n",
    "class CafeState(MessagesState):\n",
    "    documents: List[Document] = []\n",
    "    query_type: str = \"\""
   ]
  },
  {
   "cell_type": "markdown",
   "id": "820fb652",
   "metadata": {},
   "source": [
    "### RAG Chain 구성"
   ]
  },
  {
   "cell_type": "code",
   "execution_count": 4,
   "id": "42b2103a",
   "metadata": {},
   "outputs": [
    {
     "name": "stdout",
     "output_type": "stream",
     "text": [
      "학생을 위한 메뉴를 추천해 드리겠습니다.\n",
      "\n",
      "*   **카페라떼**: 5,500원으로 저렴한 가격에 즐길 수 있는 메뉴입니다. 에스프레소와 스팀 밀크가 조합된 고소한 커피입니다. \n",
      "*   **아이스 아메리카노**: 4,500원으로 저렴한 가격에 즐길 수 있는 메뉴입니다. 시원한 아이스 커피를 찾으시는 학생분들에게 안성맞춤인 메뉴입니다.\n",
      "\n",
      "위 메뉴들은 저렴한 가격에 비해 맛과 퀄리티가 훌륭하여 학생들에게 인기가 많습니다.\n"
     ]
    }
   ],
   "source": [
    "from langchain_community.vectorstores import FAISS\n",
    "from langchain_ollama  import OllamaEmbeddings\n",
    "from langchain_openai import ChatOpenAI\n",
    "from langchain_core.messages import HumanMessage, AIMessage\n",
    "from langchain_core.output_parsers import StrOutputParser\n",
    "from langchain_core.prompts import ChatPromptTemplate\n",
    "from langchain_core.runnables import RunnablePassthrough, RunnableLambda\n",
    "\n",
    "embeddings_model = OllamaEmbeddings(model=\"bge-m3:latest\") \n",
    "\n",
    "# cafe db 벡터 저장소 로드\n",
    "cafe_db = FAISS.load_local(\n",
    "    \"db/cafe_db\", \n",
    "    embeddings_model, \n",
    "    allow_dangerous_deserialization=True\n",
    ")\n",
    "\n",
    "# LLM 모델 \n",
    "llm = ChatOpenAI(\n",
    "    base_url=\"https://api.groq.com/openai/v1\",\n",
    "    model=\"meta-llama/llama-4-scout-17b-16e-instruct\",\n",
    "    temperature=0.7\n",
    ")\n",
    "\n",
    "# RAG 체인 구성\n",
    "def format_docs(docs):\n",
    "    return \"\\n\\n\".join(doc.page_content for doc in docs)\n",
    "\n",
    "# prompt 정의\n",
    "system = \"\"\"\n",
    "You are a helpful assistant. Use the following context to answer the user's question:\n",
    "\n",
    "[Context]\n",
    "{context}\n",
    "\"\"\"\n",
    "\n",
    "prompt = ChatPromptTemplate.from_messages([\n",
    "    (\"system\", system),\n",
    "    (\"human\", \"{question}\")\n",
    "])\n",
    "\n",
    "# 검색기 정의\n",
    "retriever = cafe_db.as_retriever(\n",
    "    search_kwargs={\"k\": 6}\n",
    ")\n",
    "\n",
    "# RAG 체인 구성\n",
    "rag_chain = (\n",
    "    {\"context\": retriever | format_docs, \"question\": RunnablePassthrough()}\n",
    "    | prompt\n",
    "    | llm\n",
    "    | StrOutputParser()\n",
    ")\n",
    "\n",
    "# RAG 체인 실행\n",
    "query = \"학생을 위한 메뉴를 추천해주세요.\"\n",
    "response = rag_chain.invoke(query)\n",
    "\n",
    "# 답변 출력\n",
    "print(response)"
   ]
  },
  {
   "cell_type": "markdown",
   "id": "1338ae43",
   "metadata": {},
   "source": [
    "### 노드(Node)"
   ]
  },
  {
   "cell_type": "code",
   "execution_count": 5,
   "id": "b6801733",
   "metadata": {},
   "outputs": [],
   "source": [
    "from typing import Dict\n",
    "\n",
    "def classify_query(state: CafeState) -> Dict:\n",
    "    user_message = state[\"messages\"][-1].content\n",
    "\n",
    "    if \"추천\" in user_message:\n",
    "        query_type = \"recommend\"\n",
    "    elif \"가격\" in user_message or \"얼마\" in user_message:\n",
    "        query_type = \"price\"\n",
    "    elif \"메뉴\" in user_message or \"있어\" in user_message:\n",
    "        query_type = \"menu\"\n",
    "    else:\n",
    "        query_type = \"general\"\n",
    "\n",
    "    return {\"query_type\": query_type}"
   ]
  },
  {
   "cell_type": "code",
   "execution_count": 6,
   "id": "caec4bda",
   "metadata": {},
   "outputs": [],
   "source": [
    "def search_cafe_docs(state: CafeState) -> Dict:\n",
    "    user_message = state[\"messages\"][-1].content\n",
    "    query_type = state.get(\"query_type\", \"general\")\n",
    "\n",
    "    # 기본값\n",
    "    docs = []\n",
    "\n",
    "    if query_type == \"price\":\n",
    "        docs = cafe_db.similarity_search(\"메뉴 가격\", k=5)\n",
    "\n",
    "    elif query_type == \"recommend\":\n",
    "        docs = cafe_db.similarity_search(user_message, k=3)\n",
    "        if not docs:\n",
    "            docs = cafe_db.similarity_search(\"인기 메뉴\", k=3)\n",
    "\n",
    "    elif query_type == \"menu\":\n",
    "        docs = cafe_db.similarity_search(user_message, k=4)\n",
    "\n",
    "    else:\n",
    "        docs = cafe_db.similarity_search(user_message, k=4)\n",
    "\n",
    "    return {\"documents\": docs}"
   ]
  },
  {
   "cell_type": "code",
   "execution_count": 7,
   "id": "28fc90ca",
   "metadata": {},
   "outputs": [],
   "source": [
    "import re\n",
    "from langchain_core.documents import Document\n",
    "\n",
    "def extract_menu_info(doc: Document) -> dict:\n",
    "    content = doc.page_content\n",
    "    menu_name = doc.metadata.get('menu_name', 'Unknown')\n",
    "    \n",
    "    price_match = re.search(r'₩([\\d,]+)', content)\n",
    "    description_match = re.search(r'설명:\\s*(.+?)(?:\\n|$)', content, re.DOTALL)\n",
    "\n",
    "    return {\n",
    "        \"name\": menu_name,\n",
    "        \"price\": price_match.group(0) if price_match else \"가격 정보 없음\",\n",
    "        \"description\": description_match.group(1).strip() if description_match else \"설명 없음\"\n",
    "    }\n"
   ]
  },
  {
   "cell_type": "code",
   "execution_count": 8,
   "id": "af502a39",
   "metadata": {},
   "outputs": [],
   "source": [
    "from langchain_core.messages import AIMessage\n",
    "\n",
    "def retrieve_and_respond(state: CafeState) -> Dict:\n",
    "    user_message = state[\"messages\"][-1].content\n",
    "\n",
    "    # RAG 체인 실행\n",
    "    response = rag_chain.invoke(user_message)\n",
    "\n",
    "    # 메시지 추가\n",
    "    new_messages = state[\"messages\"] + [AIMessage(content=response)]\n",
    "\n",
    "    return {\n",
    "        \"messages\": new_messages,\n",
    "        \"documents\": state.get(\"documents\", []),\n",
    "        \"query_type\": state.get(\"query_type\", \"\"),\n",
    "    }"
   ]
  },
  {
   "cell_type": "markdown",
   "id": "7783f147",
   "metadata": {},
   "source": [
    "### 그래프(Graph) 구성"
   ]
  },
  {
   "cell_type": "code",
   "execution_count": 9,
   "id": "ffffff4a",
   "metadata": {},
   "outputs": [
    {
     "data": {
      "image/png": "[encoded data removed]",
      "text/plain": [
       "<IPython.core.display.Image object>"
      ]
     },
     "metadata": {},
     "output_type": "display_data"
    }
   ],
   "source": [
    "from langgraph.graph import StateGraph, START, END\n",
    "from IPython.display import Image, display\n",
    "\n",
    "builder = StateGraph(CafeState)\n",
    "\n",
    "builder.add_node(\"classify_query\", classify_query)\n",
    "builder.add_node(\"search_cafe_docs\", search_cafe_docs)\n",
    "builder.add_node(\"retrieve_and_respond\", retrieve_and_respond)\n",
    "\n",
    "builder.add_edge(START, \"classify_query\")\n",
    "builder.add_edge(\"classify_query\", \"search_cafe_docs\")\n",
    "builder.add_edge(\"search_cafe_docs\", \"retrieve_and_respond\")\n",
    "builder.add_edge(\"retrieve_and_respond\", END)\n",
    "\n",
    "graph = builder.compile()\n",
    "\n",
    "\n",
    "# 그래프 시각화\n",
    "display(Image(graph.get_graph().draw_mermaid_png()))"
   ]
  },
  {
   "cell_type": "markdown",
   "id": "ff04d743",
   "metadata": {},
   "source": [
    "### 그래프(Graph) 실행"
   ]
  },
  {
   "cell_type": "code",
   "execution_count": 11,
   "id": "0859a124",
   "metadata": {},
   "outputs": [
    {
     "name": "stdout",
     "output_type": "stream",
     "text": [
      "\n",
      "[사용자 질문]\n",
      "👉 학생을 위한 메뉴를 추천해주세요.\n",
      "\n",
      "[AI의 추천 응답]\n",
      "학생을 위한 메뉴를 추천해 드리겠습니다.\n",
      "\n",
      "1. **예산 고려**: 학생의 경우 예산이 제한적일 수 있으므로, 가격대가 저렴한 메뉴를 고려해 볼게요.\n",
      "\n",
      "2. **영양가 있는 메뉴**: 학생들은 성장기이므로 영양가 있는 메뉴를 선택하는 것이 좋아요.\n",
      "\n",
      "3. **기호성**: 학생들의 기호를 고려하여 다양한 맛과 텍스처를 제공하는 메뉴를 선택할게요.\n",
      "\n",
      "추천 메뉴:\n",
      "\n",
      "*   **아이스 아메리카노**: 가격은 4,500원으로 저렴하면서도, 에스프레소의 진한 맛과 깔끔한 시원함을 즐길 수 있습니다. \n",
      "*   **카페라떼**: 5,500원으로, 에스프레소와 스팀 밀크가 조합된 부드럽고 풍부한 맛을 제공합니다. \n",
      "*   **바닐라 라떼**: 6,000원으로, 달콤한 바닐라 시럽이 추가된 라떼입니다. \n",
      "\n",
      "이 메뉴들은 가격대가 저렴하면서도, 학생들이 좋아할 만한 맛과 영양을 제공합니다.\n",
      "\n",
      "[참고한 메뉴 정보]\n",
      "\n",
      "1. 티라미수\n",
      "10. 티라미수\n",
      "    • 가격: ₩7,500\n",
      "    • 주요 원료: 마스카포네 치즈, 에스프레소, 레이디핑거, 코코아 파우더\n",
      "    • 설명: 이탈리아 전통 디저트로 마스카포네 치즈와 에스프레소에 적신 레이디핑거를 층층이 쌓아 만들었습니다. 부드럽고 달콤한 맛이 특징이며, 코코아 파우더로 마무리하여 깊은 풍미를 자랑합니다.\n",
      "\n",
      "2. 바닐라 라떼\n",
      "4. 바닐라 라떼\n",
      "   • 가격: ₩6,000\n",
      "   • 주요 원료: 에스프레소, 스팀 밀크, 바닐라 시럽\n",
      "   • 설명: 카페라떼에 달콤한 바닐라 시럽을 더한 인기 메뉴입니다. 바닐라의 달콤함과 커피의 쌉싸름함이 조화롭게 어우러지며, 휘핑크림 토핑으로 더욱 풍성한 맛을 즐길 수 있습니다.\n",
      "\n",
      "3. 카라멜 마키아토\n",
      "5. 카라멜 마키아토\n",
      "   • 가격: ₩6,500\n",
      "   • 주요 원료: 에스프레소, 스팀 밀크, 카라멜 시럽, 휘핑크림\n",
      "   • 설명: 스팀 밀크 위에 에스프레소를 부어 만든 후 카라멜 시럽과 휘핑크림으로 마무리한 달콤한 커피입니다. 카라멜의 진한 단맛과 커피의 깊은 맛이 조화를 이루며, 시각적으로도 아름다운 층을 형성합니다.\n"
     ]
    }
   ],
   "source": [
    "from langchain_core.messages import HumanMessage\n",
    "from pprint import pprint\n",
    "\n",
    "initial_state = CafeState(\n",
    "    messages=[HumanMessage(content=\"학생을 위한 메뉴를 추천해주세요.\")],\n",
    "    documents=[],\n",
    "    query_type=\"\"\n",
    ")\n",
    "\n",
    "final_state = graph.invoke(initial_state)\n",
    "\n",
    "# 결과 출력\n",
    "print(\"\\n[사용자 질문]\")\n",
    "for msg in final_state[\"messages\"]:\n",
    "    if isinstance(msg, HumanMessage):\n",
    "        print(f\"👉 {msg.content}\")\n",
    "\n",
    "print(\"\\n[AI의 추천 응답]\")\n",
    "for msg in final_state[\"messages\"]:\n",
    "    if isinstance(msg, AIMessage):\n",
    "        print(f\"{msg.content}\")\n",
    "\n",
    "print(\"\\n[참고한 메뉴 정보]\")\n",
    "for i, doc in enumerate(final_state[\"documents\"], 1):\n",
    "    name = doc.metadata.get(\"menu_name\", \"이름 없음\")\n",
    "    content = doc.page_content.strip()\n",
    "    print(f\"\\n{i}. {name}\")\n",
    "    print(content)"
   ]
  }
 ],
 "metadata": {
  "kernelspec": {
   "display_name": "langchain-basic-kGdHTiMZ-py3.12",
   "language": "python",
   "name": "python3"
  },
  "language_info": {
   "codemirror_mode": {
    "name": "ipython",
    "version": 3
   },
   "file_extension": ".py",
   "mimetype": "text/x-python",
   "name": "python",
   "nbconvert_exporter": "python",
   "pygments_lexer": "ipython3",
   "version": "3.12.7"
  }
 },
 "nbformat": 4,
 "nbformat_minor": 5
}
