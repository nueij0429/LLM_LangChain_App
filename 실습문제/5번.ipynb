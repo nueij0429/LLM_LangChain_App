{
 "cells": [
  {
   "cell_type": "markdown",
   "id": "7b98fe2b",
   "metadata": {},
   "source": [
    "### 문제 5-1 : 카페 메뉴 도구(Tool) 호출 체인 구현"
   ]
  },
  {
   "cell_type": "markdown",
   "id": "51d4953f",
   "metadata": {},
   "source": [
    "#### 환경 설정"
   ]
  },
  {
   "cell_type": "code",
   "execution_count": 1,
   "id": "ff731a9e",
   "metadata": {},
   "outputs": [
    {
     "data": {
      "text/plain": [
       "True"
      ]
     },
     "execution_count": 1,
     "metadata": {},
     "output_type": "execute_result"
    }
   ],
   "source": [
    "from dotenv import load_dotenv\n",
    "load_dotenv()"
   ]
  },
  {
   "cell_type": "code",
   "execution_count": 2,
   "id": "898926fe",
   "metadata": {},
   "outputs": [],
   "source": [
    "import re\n",
    "import os, json\n",
    "\n",
    "from textwrap import dedent\n",
    "from pprint import pprint\n",
    "\n",
    "import warnings\n",
    "warnings.filterwarnings(\"ignore\")"
   ]
  },
  {
   "cell_type": "code",
   "execution_count": 3,
   "id": "2483410d",
   "metadata": {},
   "outputs": [
    {
     "name": "stdout",
     "output_type": "stream",
     "text": [
      "1\n"
     ]
    }
   ],
   "source": [
    "from langchain.document_loaders import TextLoader\n",
    "\n",
    "# cafe_menu_data.txt 로드\n",
    "loader = TextLoader(\"../data/cafe_menu_data.txt\", encoding=\"utf-8\")\n",
    "documents = loader.load()\n",
    "\n",
    "print(len(documents))"
   ]
  },
  {
   "cell_type": "markdown",
   "id": "b39f15a1",
   "metadata": {},
   "source": [
    "#### 1. 카페 메뉴 데이터 파일 생성 및 벡터 DB 구축<br>\n",
    "구현 내용:\n",
    "- cafe_menu.txt 파일 생성 (10개 메뉴 항목 포함) \n",
    "- 각 메뉴별로 가격, 재료, 설명 정보 포함 \n",
    "- 텍스트를 Document 객체로 분할 \n",
    "- FAISS를 사용한 벡터 인덱스 생성 \n",
    "- 임베딩 모델로 텍스트를 벡터화하여 저장 \n",
    "예상 결과: \"./db/cafe_db\" 폴더에 벡터 인덱스 파일 생성"
   ]
  },
  {
   "cell_type": "code",
   "execution_count": 5,
   "id": "33863c06",
   "metadata": {},
   "outputs": [
    {
     "name": "stdout",
     "output_type": "stream",
     "text": [
      "총 10개의 메뉴 항목이 처리되었습니다.\n",
      "\n",
      "메뉴 번호: 1\n",
      "메뉴 이름: 아메리카노\n",
      "내용:\n",
      "1. 아메리카노\n",
      "   • 가격: ₩4,500\n",
      "   • 주요 원료: 에스프레소, 뜨거운 물\n",
      "   • 설명: 진한 에스프레소에 뜨거운 물을 더해 만든 클래식한 블랙 커피입니다. 원두 ...\n",
      "\n",
      "메뉴 번호: 2\n",
      "메뉴 이름: 카페라떼\n",
      "내용:\n",
      "2. 카페라떼\n",
      "   • 가격: ₩5,500\n",
      "   • 주요 원료: 에스프레소, 스팀 밀크\n",
      "   • 설명: 진한 에스프레소에 부드럽게 스팀한 우유를 넣어 만든 대표적인 밀크 커피입니다...\n"
     ]
    }
   ],
   "source": [
    "from langchain_core.documents import Document\n",
    "\n",
    "# 문서 분할 (Chunking)\n",
    "def split_menu_items(document):\n",
    "    \"\"\"\n",
    "    메뉴 항목을 분리하는 함수 \n",
    "    \"\"\"\n",
    "    # 정규표현식 정의 \n",
    "    pattern = r'(\\d+\\.\\s.*?)(?=\\n\\n\\d+\\.|$)'\n",
    "    menu_items = re.findall(pattern, document.page_content, re.DOTALL)\n",
    "    \n",
    "    # 각 메뉴 항목을 Document 객체로 변환\n",
    "    menu_documents = []\n",
    "    for i, item in enumerate(menu_items, 1):\n",
    "        # 메뉴 이름 추출\n",
    "        menu_name = item.split('\\n')[0].split('.', 1)[1].strip()\n",
    "        \n",
    "        # 새로운 Document 객체 생성\n",
    "        menu_doc = Document(\n",
    "            page_content=item.strip(),\n",
    "            metadata={\n",
    "                \"source\": document.metadata['source'],\n",
    "                \"menu_number\": i,\n",
    "                \"menu_name\": menu_name\n",
    "            }\n",
    "        )\n",
    "        menu_documents.append(menu_doc)\n",
    "    \n",
    "    return menu_documents\n",
    "\n",
    "\n",
    "# 메뉴 항목 분리 실행\n",
    "menu_documents = [] #[Document, Document]\n",
    "for doc in documents:\n",
    "    menu_documents += split_menu_items(doc)\n",
    "\n",
    "# 결과 출력\n",
    "print(f\"총 {len(menu_documents)}개의 메뉴 항목이 처리되었습니다.\")\n",
    "for doc in menu_documents[:2]:\n",
    "    print(f\"\\n메뉴 번호: {doc.metadata['menu_number']}\")\n",
    "    print(f\"메뉴 이름: {doc.metadata['menu_name']}\")\n",
    "    print(f\"내용:\\n{doc.page_content[:100]}...\")"
   ]
  },
  {
   "cell_type": "code",
   "execution_count": 6,
   "id": "c69f50c0",
   "metadata": {},
   "outputs": [
    {
     "name": "stdout",
     "output_type": "stream",
     "text": [
      "검색 결과: 2개\n",
      "메뉴 번호: 10\n",
      "메뉴 이름: 티라미수\n",
      "\n",
      "메뉴 번호: 4\n",
      "메뉴 이름: 바닐라 라떼\n",
      "\n"
     ]
    }
   ],
   "source": [
    "from langchain_community.vectorstores import FAISS\n",
    "from langchain_ollama import OllamaEmbeddings\n",
    "\n",
    "embeddings_model = OllamaEmbeddings(model=\"bge-m3:latest\") \n",
    "\n",
    "# FAISS 인덱스 생성\n",
    "menu_db = FAISS.from_documents(\n",
    "    documents=menu_documents, \n",
    "    embedding=embeddings_model\n",
    ")\n",
    "\n",
    "# FAISS 인덱스 저장\n",
    "menu_db.save_local(\"./db/cafe_db\")\n",
    "\n",
    "\n",
    "# Retriever 생성\n",
    "menu_retriever = menu_db.as_retriever(\n",
    "    search_kwargs={'k': 2},\n",
    ")\n",
    "\n",
    "# 쿼리 테스트\n",
    "query = \"가장 저렴한 메뉴는 무엇인가요?\"\n",
    "docs = menu_retriever.invoke(query)\n",
    "print(f\"검색 결과: {len(docs)}개\")\n",
    "\n",
    "for doc in docs:\n",
    "    print(f\"메뉴 번호: {doc.metadata['menu_number']}\")\n",
    "    print(f\"메뉴 이름: {doc.metadata['menu_name']}\")\n",
    "    print()"
   ]
  },
  {
   "cell_type": "markdown",
   "id": "1b0c8b05",
   "metadata": {},
   "source": [
    "#### 2. 3개의 도구를 정의하고 LLM에 바인딩<br>\n",
    "a) tavily_search_func\n",
    "   - 기능: 웹에서 최신 정보 검색\n",
    "   - 입력: 검색 쿼리 (str)\n",
    "   - 출력: 웹 검색 결과 (str)\n",
    "   - 사용 예: 최신 커피 트렌드, 카페 위치 정보 등\n",
    "\n",
    "b) wiki_summary\n",
    "   - 기능: 위키피디아에서 일반 지식 검색 및 요약\n",
    "   - 입력: 검색 주제 (str)\n",
    "   - 출력: 요약된 정보 (str)\n",
    "   - 사용 예: 커피 역사, 음료 제조 방법 등\n",
    "\n",
    "c) db_search_cafe_func\n",
    "   - 기능: 로컬 카페 메뉴 DB에서 정보 검색\n",
    "   - 입력: 메뉴 관련 쿼리 (str)\n",
    "   - 출력: 관련 메뉴 정보 (List[Document])\n",
    "   - 사용 예: 특정 메뉴의 가격, 재료, 설명\n"
   ]
  },
  {
   "cell_type": "code",
   "execution_count": 7,
   "id": "58d9f2ce",
   "metadata": {},
   "outputs": [
    {
     "name": "stdout",
     "output_type": "stream",
     "text": [
      "자료형: \n",
      "<class 'langchain_core.tools.structured.StructuredTool'>\n",
      "----------------------------------------------------------------------------------------------------\n",
      "name: \n",
      "db_search_cafe_func\n",
      "----------------------------------------------------------------------------------------------------\n",
      "description: \n",
      "('Securely retrieve and access authorized cafe menu information from the '\n",
      " 'encrypted database.\\n'\n",
      " 'Use this tool only for menu-related queries to maintain data '\n",
      " 'confidentiality.')\n",
      "----------------------------------------------------------------------------------------------------\n",
      "schema: \n",
      "{'description': 'Securely retrieve and access authorized cafe menu information '\n",
      "                'from the encrypted database.\\n'\n",
      "                'Use this tool only for menu-related queries to maintain data '\n",
      "                'confidentiality.',\n",
      " 'properties': {'query': {'title': 'Query', 'type': 'string'}},\n",
      " 'required': ['query'],\n",
      " 'title': 'db_search_cafe_func',\n",
      " 'type': 'object'}\n",
      "----------------------------------------------------------------------------------------------------\n"
     ]
    }
   ],
   "source": [
    "from langchain_core.tools import tool\n",
    "from typing import List\n",
    "from langchain_core.documents import Document\n",
    "\n",
    "# cafe_db 벡터 저장소 로드\n",
    "menu_db = FAISS.load_local(\n",
    "    \"./db/cafe_db\", \n",
    "    embeddings_model, \n",
    "    allow_dangerous_deserialization=True\n",
    ")\n",
    "\n",
    "@tool\n",
    "def db_search_cafe_func(query: str) -> List[Document]:\n",
    "    \"\"\"\n",
    "    Securely retrieve and access authorized cafe menu information from the encrypted database.\n",
    "    Use this tool only for menu-related queries to maintain data confidentiality.\n",
    "    \"\"\"\n",
    "    docs = menu_db.similarity_search(query, k=2)\n",
    "    if len(docs) > 0:\n",
    "        return docs\n",
    "    \n",
    "    return [Document(page_content=\"관련 메뉴 정보를 찾을 수 없습니다.\")]\n",
    "\n",
    "# 도구 속성\n",
    "print(\"자료형: \")\n",
    "print(type(db_search_cafe_func))\n",
    "print(\"-\"*100)\n",
    "\n",
    "print(\"name: \")\n",
    "print(db_search_cafe_func.name)\n",
    "print(\"-\"*100)\n",
    "\n",
    "print(\"description: \")\n",
    "pprint(db_search_cafe_func.description)\n",
    "print(\"-\"*100)\n",
    "\n",
    "print(\"schema: \")\n",
    "pprint(db_search_cafe_func.args_schema.schema())\n",
    "print(\"-\"*100)"
   ]
  },
  {
   "cell_type": "code",
   "execution_count": 8,
   "id": "6e0fabf9",
   "metadata": {},
   "outputs": [],
   "source": [
    "from langchain_community.tools import TavilySearchResults\n",
    "from langchain_core.tools import tool\n",
    "\n",
    "# Tool 정의 \n",
    "@tool\n",
    "def tavily_search_func(query: str) -> str:\n",
    "    \"\"\"Searches the internet for information that does not exist in the database or for the latest information.\"\"\"\n",
    "\n",
    "    tavily_search = TavilySearchResults(max_results=2)\n",
    "    docs = tavily_search.invoke(query)\n",
    "\n",
    "    formatted_docs = \"\\n---\\n\".join([\n",
    "        f'<Document href=\"{doc[\"url\"]}\"/>\\n{doc[\"content\"]}\\n</Document>'\n",
    "        for doc in docs\n",
    "        ])\n",
    "\n",
    "    if len(formatted_docs) > 0:\n",
    "        return formatted_docs\n",
    "    \n",
    "    return \"관련 정보를 찾을 수 없습니다.\""
   ]
  },
  {
   "cell_type": "code",
   "execution_count": 9,
   "id": "3dc324ae",
   "metadata": {},
   "outputs": [
    {
     "name": "stdout",
     "output_type": "stream",
     "text": [
      "(\"프라페 커피는 아이스 커피의 일종으로, 프랑스어로 '얼음으로 차갑게 하다'라는 의미를 지닌 음료입니다. 주로 에스프레소와 우유를 1:1 \"\n",
      " '비율로 섞고 바닐라 아이스크림을 추가해 만듭니다. 다양한 변형으로 모카 프라페와 캐러멜 프라페가 있으며, 이는 각각 초콜릿과 캐러멜 '\n",
      " '시럽을 추가해 만들어집니다.\\n'\n",
      " '\\n'\n",
      " '커피는 커피 나무 열매의 씨앗을 볶아 우려낸 짙은 갈색 음료로, 카페인 함량 덕분에 각성 효과가 있습니다. 15세기 중반 아라비아에서 '\n",
      " '처음으로 커피가 로스팅되고 양조된 것으로 알려져 있으며, 이후 중동과 북아프리카, 유럽으로 퍼졌습니다. 전 세계적으로 가장 많이 마시는 '\n",
      " \"음료로 자리잡았으나, 커피 원두를 생산하는 농부들의 생활 조건은 여전히 열악합니다. 커피의 이름은 에티오피아의 '카파'에서 유래했으며, \"\n",
      " '다양한 준비 방식이 존재합니다.')\n",
      "--------------------------------------------------\n"
     ]
    },
    {
     "name": "stderr",
     "output_type": "stream",
     "text": [
      "C:\\Users\\user\\AppData\\Local\\Temp\\ipykernel_15004\\1122389113.py:44: LangChainBetaWarning: This API is in beta and may change in the future.\n",
      "  wiki_summary = summary_chain.as_tool(\n"
     ]
    }
   ],
   "source": [
    "from langchain_core.prompts import ChatPromptTemplate\n",
    "from langchain_core.output_parsers import StrOutputParser\n",
    "from langchain_core.runnables import RunnableLambda\n",
    "from langchain_community.document_loaders import WikipediaLoader\n",
    "from langchain_openai import ChatOpenAI\n",
    "from pydantic import BaseModel, Field\n",
    "from typing import List\n",
    "\n",
    "# WikipediaLoader를 사용하여 위키피디아 문서를 검색하고 텍스트로 반환하는 함수 \n",
    "def wiki_search_and_summarize(input_data: dict):\n",
    "    wiki_loader = WikipediaLoader(query=input_data[\"query\"], load_max_docs=2, lang=\"ko\")\n",
    "    wiki_docs = wiki_loader.load()\n",
    "\n",
    "    formatted_docs =[\n",
    "        f'<Document source=\"{doc.metadata[\"source\"]}\"/>\\n{doc.page_content}\\n</Document>'\n",
    "        for doc in wiki_docs\n",
    "        ]\n",
    "    \n",
    "    return formatted_docs\n",
    "\n",
    "# 요약 프롬프트 템플릿\n",
    "summary_prompt = ChatPromptTemplate.from_template(\n",
    "    \"Summarize the following text in a concise manner:\\n\\n{context}\\n\\nSummary:\"\n",
    ")\n",
    "\n",
    "# ChatOpenAI 모델 초기화 \n",
    "llm = ChatOpenAI(model=\"gpt-4o-mini\")\n",
    "\n",
    "summary_chain = (\n",
    "    {\"context\": RunnableLambda(wiki_search_and_summarize)}\n",
    "    | summary_prompt | llm | StrOutputParser() \n",
    ")\n",
    "\n",
    "# 요약 테스트 \n",
    "summarized_text = summary_chain.invoke({\"query\":\"커피의 종류\"})\n",
    "pprint(summarized_text)\n",
    "print('-'*50)\n",
    "\n",
    "class WikiSummarySchema(BaseModel):\n",
    "    \"\"\"Input schema for Wikipedia search.\"\"\"\n",
    "    query: str = Field(..., description=\"The query to search for in Wikipedia\")\n",
    "\n",
    "# as_tool 메소드를 사용하여 도구 객체로 변환\n",
    "wiki_summary = summary_chain.as_tool(\n",
    "    name=\"wiki_summary\",\n",
    "    description=dedent(\"\"\"\n",
    "        Use this tool when you need to search for information on Wikipedia.\n",
    "        It searches for Wikipedia articles related to the user's query and returns\n",
    "        a summarized text. This tool is useful when general knowledge\n",
    "        or background information is required.\n",
    "    \"\"\"),\n",
    "    args_schema=WikiSummarySchema\n",
    ")"
   ]
  },
  {
   "cell_type": "markdown",
   "id": "a7bbdb98",
   "metadata": {},
   "source": [
    "#### 3. 간단한 도구 호출 체인 구현체인 구조:<br>\n",
    "사용자 질문 → LLM (도구 선택) → 도구 실행 → 결과 종합 → 최종 답변<br>\n",
    "구현 포인트:\n",
    "- @chain 데코레이터 사용\n",
    "- tool_calls 속성을 통한 도구 호출 결과 확인\n",
    "- 각 도구별 조건부 실행 로직\n",
    "- 도구 실행 결과를 최종 답변에 반영\n",
    "\n",
    "예상 플로우:\n",
    "1. \"아메리카노 가격\" 질문 입력\n",
    "2. LLM이 db_search_cafe_func 도구 선택\n",
    "3. 벡터 DB에서 아메리카노 정보 검색\n",
    "4. 검색 결과를 기반으로 최종 답변 생성\n"
   ]
  },
  {
   "cell_type": "code",
   "execution_count": 10,
   "id": "ac3c6fed",
   "metadata": {},
   "outputs": [],
   "source": [
    "from datetime import datetime\n",
    "from langchain_core.prompts import ChatPromptTemplate\n",
    "from langchain_core.runnables import RunnableConfig, chain\n",
    "from langchain_openai import ChatOpenAI\n",
    "\n",
    "tools = [tavily_search_func, wiki_summary, db_search_cafe_func]\n",
    "\n",
    "# 오늘 날짜 설정\n",
    "today = datetime.today().strftime(\"%Y-%m-%d\")\n",
    "\n",
    "# 프롬프트 템플릿\n",
    "prompt = ChatPromptTemplate.from_messages([\n",
    "    (\"system\", f\"You are a helpful AI assistant. Today's date is {today}.\"),\n",
    "    (\"human\", \"{user_input}\"),\n",
    "    (\"placeholder\", \"{messages}\")\n",
    "])\n",
    "\n",
    "# ChatOpenAI 모델 초기화 \n",
    "llm = ChatOpenAI(model=\"gpt-4o-mini\")\n",
    "\n",
    "# 3개의 검색 도구를 LLM에 바인딩\n",
    "llm_with_tools = llm.bind_tools(tools=tools)\n",
    "\n",
    "# LLM 체인 생성\n",
    "llm_chain = prompt | llm_with_tools\n",
    "\n",
    "# 도구 실행 체인 정의\n",
    "@chain\n",
    "def restaurant_menu_chain(user_input: str, config: RunnableConfig):\n",
    "    input_ = {\"user_input\": user_input}\n",
    "    \n",
    "    ai_msg = llm_chain.invoke(input_, config=config)\n",
    "\n",
    "    tool_msgs = []\n",
    "    for tool_call in ai_msg.tool_calls:\n",
    "        print(f\"{tool_call['name']}: \\n{tool_call}\")\n",
    "        print(\"-\"*100)\n",
    "\n",
    "        if tool_call[\"name\"] == \"tavily_search_func\":\n",
    "            tool_message = tavily_search_func.invoke(tool_call, config=config)\n",
    "            tool_msgs.append(tool_message)\n",
    "\n",
    "        elif tool_call[\"name\"] == \"wiki_summary\":\n",
    "            tool_message = wiki_summary.invoke(tool_call, config=config)\n",
    "            tool_msgs.append(tool_message)\n",
    "\n",
    "        elif tool_call[\"name\"] == \"db_search_cafe_func\":\n",
    "            tool_message = db_search_cafe_func.invoke(tool_call, config=config)\n",
    "            tool_msgs.append(tool_message)\n",
    "\n",
    "    print(\"tool_msgs: \\n\", tool_msgs)\n",
    "    print(\"-\"*100)\n",
    "    return llm_chain.invoke({**input_, \"messages\": [ai_msg, *tool_msgs]}, config=config)\n"
   ]
  },
  {
   "cell_type": "markdown",
   "id": "7f8a5922",
   "metadata": {},
   "source": [
    "#### 4. 테스트 질문 처리<br>\n",
    "질문: \"아메리카노의 가격과 특징은 무엇인가요?\"<br>\n",
    "예상 처리 과정:\n",
    "1. LLM이 질문 분석 → 메뉴 정보 필요 판단\n",
    "2. db_search_cafe_func 도구 호출\n",
    "3. 벡터 DB에서 \"아메리카노\" 관련 정보 검색\n",
    "4. 가격(₩4,500), 재료(에스프레소, 뜨거운 물), 특징(원두 본연의 맛) 정보 반환\n",
    "5. 정보를 자연어로 정리하여 사용자에게 답변<br>\n",
    "\n",
    "성공 기준: 정확한 가격과 메뉴 특징이 포함된 답변 생성"
   ]
  },
  {
   "cell_type": "code",
   "execution_count": 11,
   "id": "5bc8eccd",
   "metadata": {},
   "outputs": [
    {
     "name": "stdout",
     "output_type": "stream",
     "text": [
      "db_search_cafe_func: \n",
      "{'name': 'db_search_cafe_func', 'args': {'query': '아메리카노'}, 'id': 'call_o5FnY36dEof6BvTLxpY7dzdN', 'type': 'tool_call'}\n",
      "----------------------------------------------------------------------------------------------------\n",
      "wiki_summary: \n",
      "{'name': 'wiki_summary', 'args': {'query': '아메리카노'}, 'id': 'call_57KGm6eb8iItRlTRGhkZJdLw', 'type': 'tool_call'}\n",
      "----------------------------------------------------------------------------------------------------\n",
      "tool_msgs: \n",
      " [ToolMessage(content=\"[Document(id='46304d9d-9e11-4a8a-939a-9a3f9a20e3ba', metadata={'source': '../data/cafe_menu_data.txt', 'menu_number': 1, 'menu_name': '아메리카노'}, page_content='1. 아메리카노\\\\n   • 가격: ₩4,500\\\\n   • 주요 원료: 에스프레소, 뜨거운 물\\\\n   • 설명: 진한 에스프레소에 뜨거운 물을 더해 만든 클래식한 블랙 커피입니다. 원두 본연의 맛을 가장 잘 느낄 수 있으며, 깔끔하고 깊은 풍미가 특징입니다. 설탕이나 시럽 추가 가능합니다.'), Document(id='a4f653a5-ffe5-4f58-b4fc-0538c6ba371b', metadata={'source': '../data/cafe_menu_data.txt', 'menu_number': 9, 'menu_name': '아이스 아메리카노'}, page_content='9. 아이스 아메리카노\\\\n   • 가격: ₩4,500\\\\n   • 주요 원료: 에스프레소, 차가운 물, 얼음\\\\n   • 설명: 진한 에스프레소에 차가운 물과 얼음을 넣어 만든 시원한 아이스 커피입니다. 깔끔하고 시원한 맛이 특징이며, 원두 본연의 풍미를 느낄 수 있습니다. 더운 날씨에 인기가 높습니다.')]\", name='db_search_cafe_func', tool_call_id='call_o5FnY36dEof6BvTLxpY7dzdN'), ToolMessage(content='카페 아메리카노는 에스프레소를 뜨거운 물로 희석한 커피 음료로, 일반 드립 커피와 유사한 농도를 가진다. 역사적으로 미국에서 홍차 대신 커피를 연하게 마시는 스타일에서 유래했으며, 제2차 세계대전 중 미군이 에스프레소의 쓴맛을 줄이기 위해 물을 추가하면서 이름이 붙여졌다. 아메리카노는 에스프레소 샷과 뜨거운 물을 혼합하여 만들어지며, 취향에 따라 농도를 조절할 수 있다. 다양한 변형이 존재하고, 한국에서는 아이스 아메리카노와 관련된 유행어가 있다.', name='wiki_summary', tool_call_id='call_57KGm6eb8iItRlTRGhkZJdLw')]\n",
      "----------------------------------------------------------------------------------------------------\n",
      "아메리카노는 에스프레소에 뜨거운 물을 추가하여 만든 커피 음료입니다. 다음은 아메리카노의 가격, 특징 및 일반적인 정보입니다.\n",
      "\n",
      "### 가격\n",
      "- **아메리카노 가격**: 약 4,500원\n",
      "\n",
      "### 특징\n",
      "- 아메리카노는 에스프레소 기반의 음료로, 에스프레소 샷에 뜨거운 물을 부어서 희석한 형태입니다.\n",
      "- 일반적으로 진한 커피의 맛과 향을 유지하면서도 더 부드럽고 깔끔한 맛을 제공합니다.\n",
      "- 아메리카노는 다양한 카페에서 매우 인기 있는 메뉴 중 하나이며, 다양한 변형이 존재할 수 있습니다(예: 아이스 아메리카노).\n",
      "- 커피 베이스가 에스프레소이기 때문에 카페인이 다른 커피 음료들보다 상대적으로 많이 포함되어 있습니다.\n",
      "\n",
      "아메리카노는 간단하면서도 깊은 맛을 즐길 수 있어 많은 사람들이 선호하는 음료입니다.\n"
     ]
    }
   ],
   "source": [
    "# 체인 실행\n",
    "response = restaurant_menu_chain.invoke(\"아메리카노의 가격과 특징은 무엇인가요?\")\n",
    "\n",
    "# 응답 출력 \n",
    "print(response.content)"
   ]
  },
  {
   "cell_type": "markdown",
   "id": "db0c92c9",
   "metadata": {},
   "source": [
    "### 문제 5-2 : Few-shot 프롬프팅을 활용한 카페 AI 어시스턴트\n",
    "* Few-shot 프롬프팅 기법 적용"
   ]
  },
  {
   "cell_type": "markdown",
   "id": "4bd1a14d",
   "metadata": {},
   "source": [
    "#### 1. Few-shot 예제를 포함한 프롬프트 템플릿 작성\n",
    "구성 요소:<br>\n",
    "a) 시스템 메시지: 각 도구의 역할과 사용 시점 명시<br>\n",
    "b) 예제 대화: 실제 도구 사용 패턴을 보여주는 대화 시나리오<br>\n",
    "c) 현재 질문: 사용자의 실제 질문\n",
    "\n",
    "예제 대화 구조:<br>\n",
    "Human: \"아메리카노 정보와 커피 역사를 알려주세요\"<br>\n",
    "AI: \"메뉴 검색과 위키피디아 검색을 진행하겠습니다\"<br>\n",
    "AI: [db_search_cafe_func 도구 호출]<br>\n",
    "Tool: \"아메리카노 정보 반환\"<br>\n",
    "AI: [wiki_summary 도구 호출] <br>\n",
    "Tool: \"커피 역사 정보 반환\"<br>\n",
    "AI: \"종합된 최종 답변\"\n",
    "\n",
    "효과: AI가 비슷한 질문에서 적절한 도구 선택 패턴을 학습\n"
   ]
  },
  {
   "cell_type": "markdown",
   "id": "a742147a",
   "metadata": {},
   "source": [
    "#### 2. 각 도구의 용도를 명확히 구분하는 시스템 메시지 작성\n",
    "시스템 메시지 내용:<br>\n",
    "\n",
    "\"당신은 카페 메뉴 정보와 일반적인 음식/음료 지식을 제공하는 AI입니다.\n",
    "\n",
    "도구 사용 가이드라인:<br>\n",
    "- db_search_cafe_func: 카페 메뉴 정보 (가격, 재료, 설명)<br>\n",
    "- wiki_summary: 일반 지식 (역사, 제조법, 문화적 배경)<br>\n",
    "- tavily_search_func: 최신 정보 (트렌드, 뉴스, 실시간 정보)\n",
    "\n",
    "사용 원칙:<br>\n",
    "1. 카페 메뉴 관련 질문 → 반드시 메뉴 DB 먼저 검색<br>\n",
    "2. 역사/문화/일반 지식 → 위키피디아 활용<br>\n",
    "3. 최신 트렌드/뉴스 → 웹 검색 활용<br>\n",
    "4. 복합 질문 → 여러 도구 순차 사용<br>\n",
    "5. 정보 출처를 명확히 구분하여 답변\"\n",
    "\n",
    "효과: AI가 상황에 맞는 올바른 도구를 선택하도록 유도"
   ]
  },
  {
   "cell_type": "code",
   "execution_count": 12,
   "id": "72eac72a",
   "metadata": {},
   "outputs": [],
   "source": [
    "from langchain_core.prompts import ChatPromptTemplate\n",
    "from langchain_core.messages import HumanMessage, AIMessage, ToolMessage\n",
    "from langchain_openai import ChatOpenAI\n",
    "\n",
    "# 시스템 메시지\n",
    "system = \"\"\"당신은 카페 메뉴 정보와 일반적인 음식/음료 지식을 제공하는 AI입니다.\n",
    "\n",
    "도구 사용 가이드라인:\n",
    "- db_search_cafe_func: 카페 메뉴 정보 (가격, 재료, 설명)\n",
    "- wiki_summary: 일반 지식 (역사, 제조법, 문화적 배경)  \n",
    "- tavily_search_func: 최신 정보 (트렌드, 뉴스, 실시간 정보)\n",
    "음료 이름(예: 아메리카노, 라떼, 프라푸치노 등)이 포함된 질문은 db_search_cafe_func를 먼저 사용하세요.\n",
    "사용 원칙:\n",
    "1. 카페 메뉴 관련 질문 → 반드시 메뉴 DB 먼저 검색\n",
    "2. 역사/문화/일반 지식 → 위키피디아 활용\n",
    "3. 최신 트렌드/뉴스 → 웹 검색 활용\n",
    "4. 복합 질문 → 여러 도구 순차 사용\n",
    "5. 정보 출처를 명확히 구분하여 답변\"\"\"\n",
    "\n",
    "# Few-shot 예제 메시지\n",
    "examples = [\n",
    "    HumanMessage(\"아메리카노 정보와 커피 역사를 알려주세요\", name=\"example_user\"),\n",
    "    AIMessage(\"메뉴 검색과 위키피디아 검색을 진행하겠습니다.\", name=\"example_assistant\"),\n",
    "    AIMessage(\"\", name=\"example_assistant\", tool_calls=[{\"name\": \"db_search_cafe_func\", \"args\": {\"query\": \"아메리카노\"}, \"id\": \"1\"}]),\n",
    "    ToolMessage(\"아메리카노: 가격 ₩4,500, 에스프레소 + 뜨거운 물. 블랙 커피로 진한 맛이 특징입니다.\", tool_call_id=\"1\"),\n",
    "    AIMessage(\"아메리카노 메뉴 정보를 확인했습니다. 이어서 커피의 역사 정보를 찾아보겠습니다.\", name=\"example_assistant\"),\n",
    "    AIMessage(\"\", name=\"example_assistant\", tool_calls=[{\"name\": \"wiki_summary\", \"args\": {\"query\": \"커피 역사\"}, \"id\": \"2\"}]),\n",
    "    ToolMessage(\"커피는 15세기 아라비아 반도에서 처음으로 음료로 소비되었으며, 이후 유럽과 전 세계로 확산되었습니다.\", tool_call_id=\"2\"),\n",
    "    AIMessage(\"아메리카노는 ₩4,500이며, 에스프레소에 뜨거운 물을 넣어 만든 진한 블랙 커피입니다. 커피는 15세기 아라비아에서 시작되어 전 세계로 퍼졌습니다.\", name=\"example_assistant\"),\n",
    "]\n",
    "\n",
    "# 프롬프트 템플릿\n",
    "few_shot_prompt = ChatPromptTemplate.from_messages([\n",
    "    (\"system\", system),\n",
    "    *examples,\n",
    "    (\"human\", \"{query}\")\n",
    "])"
   ]
  },
  {
   "cell_type": "markdown",
   "id": "7cb34375",
   "metadata": {},
   "source": [
    "#### 3. 도구 실행 결과를 종합하여 최종 답변을 생성하는 체인 구현\n",
    "고급 체인 구조:<br>\n",
    "입력 → Few-shot 프롬프트 → LLM → 다중 도구 실행 → 결과 통합 → 최종 답변\n",
    "\n",
    "구현 특징:<br>\n",
    "- 도구별 실행 결과 로깅<br>\n",
    "- 오류 처리 및 예외 상황 대응<br>\n",
    "- 정보 출처별 구분된 답변 구성<br>\n",
    "- 사용자 친화적인 자연어 답변 생성\n",
    "\n",
    "통합 처리 과정:<br>\n",
    "1. 각 도구 결과를 구조화된 형태로 수집<br>\n",
    "2. 정보의 신뢰도와 관련성 평가<br>\n",
    "3. 논리적 순서로 정보 재배열<br>\n",
    "4. 일관성 있는 톤앤매너로 최종 답변 작성"
   ]
  },
  {
   "cell_type": "code",
   "execution_count": 13,
   "id": "f60c0c15",
   "metadata": {},
   "outputs": [
    {
     "name": "stdout",
     "output_type": "stream",
     "text": [
      "도구 호출됨: db_search_cafe_func({'query': '카페라떼'})\n",
      "도구 호출됨: wiki_summary({'query': '카페라떼'})\n"
     ]
    }
   ],
   "source": [
    "# LLM + 도구 바인딩\n",
    "llm = ChatOpenAI(model=\"gpt-4o-mini\")\n",
    "\n",
    "tools = [db_search_cafe_func, wiki_summary, tavily_search_func]\n",
    "\n",
    "llm_with_tools = llm.bind_tools(tools=tools)\n",
    "\n",
    "# 체인 구성\n",
    "fewshot_search_chain = few_shot_prompt | llm_with_tools\n",
    "\n",
    "# 복합 질문 테스트\n",
    "query = \"카페라떼와 어울리는 디저트는 무엇인가요? 그리고 라떼의 유래도 알려주세요.\"\n",
    "response = fewshot_search_chain.invoke(query)\n",
    "\n",
    "# 도구 호출 로그 출력\n",
    "for call in response.tool_calls:\n",
    "    print(f\"도구 호출됨: {call['name']}({call['args']})\")\n"
   ]
  },
  {
   "cell_type": "markdown",
   "id": "88ab9a68",
   "metadata": {},
   "source": [
    "#### 4. 복합 질문 처리 테스트\n",
    "질문: \"카페라떼와 어울리는 디저트는 무엇인가요? 그리고 라떼의 유래에 대해서도 알려주세요.\"<br>\n",
    "\n",
    "1단계: 질문 분석<br>\n",
    "- 메뉴 정보 필요: \"카페라떼\", \"디저트\"<br>\n",
    "- 일반 지식 필요: \"라떼의 유래\"\n",
    "\n",
    "2단계: 도구 선택 및 실행<br>\n",
    "- db_search_cafe_func(\"카페라떼\") → 라떼 정보<br>\n",
    "- db_search_cafe_func(\"디저트\") → 디저트 메뉴들<br>\n",
    "- wiki_summary(\"라떼 유래\") → 라떼 역사\n",
    "\n",
    "3단계: 정보 통합<br>\n",
    "- 카페라떼 특성 분석 (크림, 달콤함 등)<br>\n",
    "- 어울리는 디저트 추천 로직<br>\n",
    "- 라떼 역사 정보 요약\n",
    "\n",
    "4단계: 최종 답변 구성<br>\n",
    "\"카페라떼(₩5,500)는... [메뉴 정보]<br>\n",
    "어울리는 디저트로는 티라미수(₩7,500)를... [추천 근거]<br>\n",
    "라떼의 유래는... [역사 정보]\"\n",
    "\n",
    "성공 기준:<br>\n",
    "- 모든 질문 요소에 대한 정확한 답변<br>\n",
    "- 논리적이고 자연스러운 답변 구조<br>\n",
    "- 정보 출처의 명확한 구분"
   ]
  },
  {
   "cell_type": "code",
   "execution_count": 14,
   "id": "c0085121",
   "metadata": {},
   "outputs": [
    {
     "name": "stdout",
     "output_type": "stream",
     "text": [
      "db_search_cafe_func: \n",
      "{'name': 'db_search_cafe_func', 'args': {'query': '카페라떼 디저트 추천'}, 'id': 'call_3Hp62sn2yFoEckNzLwXa0r87', 'type': 'tool_call'}\n",
      "----------------------------------------------------------------------------------------------------\n",
      "wiki_summary: \n",
      "{'name': 'wiki_summary', 'args': {'query': '라떼'}, 'id': 'call_fRy1OCXspSrcx9KTzwCVEmW7', 'type': 'tool_call'}\n",
      "----------------------------------------------------------------------------------------------------\n",
      "tool_msgs: \n",
      " [ToolMessage(content=\"The text provides information on coffee and McDonald's product offerings. Coffee is a dark, bitter beverage made from roasted coffee beans, primarily consumed for its caffeine content and is the most popular hot drink globally. It has a rich history dating back to the 15th century in Yemen and spread to the Middle East and Europe. Major coffee species include Arabica and Robusta, with Brazil being a leading producer. The coffee industry faces criticism for environmental issues and disparities affecting farmers.\\n\\nOn the other hand, McDonald's is a leading fast-food chain established in 1940. Its menu has expanded significantly from the original limited offerings under the McDonald brothers to include a wide range of items, now featuring over 145 products. Key items include various burgers such as the Big Mac, Quarter Pounder, and different variations that cater to regional tastes. McDonald's remains a global innovator in the fast-food industry.\", name='wiki_summary', tool_call_id='call_3Hp62sn2yFoEckNzLwXa0r87'), ToolMessage(content=\"[Document(id='67e3c465-f96e-486c-8521-ec4c0acf1ce2', metadata={'source': '../data/cafe_menu_data.txt', 'menu_number': 4, 'menu_name': '바닐라 라떼'}, page_content='4. 바닐라 라떼\\\\n   • 가격: ₩6,000\\\\n   • 주요 원료: 에스프레소, 스팀 밀크, 바닐라 시럽\\\\n   • 설명: 카페라떼에 달콤한 바닐라 시럽을 더한 인기 메뉴입니다. 바닐라의 달콤함과 커피의 쌉싸름함이 조화롭게 어우러지며, 휘핑크림 토핑으로 더욱 풍성한 맛을 즐길 수 있습니다.'), Document(id='4d028fdf-586a-48e0-9ce6-a16fb62dcde2', metadata={'source': '../data/cafe_menu_data.txt', 'menu_number': 8, 'menu_name': '녹차 라떼'}, page_content='8. 녹차 라떼\\\\n   • 가격: ₩5,800\\\\n   • 주요 원료: 말차 파우더, 스팀 밀크, 설탕\\\\n   • 설명: 고급 말차 파우더와 부드러운 스팀 밀크로 만든 건강한 음료입니다. 녹차의 은은한 쓴맛과 우유의 부드러움이 조화를 이루며, 항산화 성분이 풍부합니다. 달콤함 조절이 가능합니다.')]\", name='db_search_cafe_func', tool_call_id='call_fRy1OCXspSrcx9KTzwCVEmW7')]\n",
      "----------------------------------------------------------------------------------------------------\n",
      "('카페라떼 메뉴는 ₩6,000이며, 에스프레소와 스팀 밀크, 그리고 우유 거품으로 만들어집니다. 일반적으로 초콜릿 케이크나 쿠키와 잘 '\n",
      " '어울리는 디저트입니다.\\n'\n",
      " '\\n'\n",
      " '라떼의 유래는 이탈리아에서 시작되었으며, \"Caffè e latte\"라는 표현이 사용되었습니다. 이는 \\'커피와 우유\\'라는 뜻으로, '\n",
      " '커피에 스팀 밀크를 더한 음료입니다.')\n"
     ]
    }
   ],
   "source": [
    "from datetime import datetime\n",
    "from langchain_core.messages import AIMessage, HumanMessage, ToolMessage\n",
    "from langchain_core.prompts import ChatPromptTemplate\n",
    "from langchain_core.runnables import RunnableConfig, chain\n",
    "from langchain_openai import ChatOpenAI\n",
    "\n",
    "# 오늘 날짜 설정\n",
    "today = datetime.today().strftime(\"%Y-%m-%d\")\n",
    "\n",
    "# 프롬프트 템플릿 \n",
    "system = \"\"\"You are an AI assistant providing cafe menu information and general cafe-related knowledge.\n",
    "For information about the cafe's menu, use the search_menu tool.\n",
    "For other general information, use the wiki_summary tool.\n",
    "For wine recommendations or pairing information, use the search_wine tool.\n",
    "If additional web searches are needed or for the most up-to-date information, use the search_web tool.\n",
    "\"\"\"\n",
    "\n",
    "few_shot_prompt = ChatPromptTemplate.from_messages([\n",
    "    (\"system\", system + f\"Today's date is {today}.\"),\n",
    "    *examples,\n",
    "    (\"human\", \"{user_input}\"),\n",
    "    (\"placeholder\", \"{messages}\"),\n",
    "])\n",
    "\n",
    "# ChatOpenAI 모델 초기화 \n",
    "llm = ChatOpenAI(model=\"gpt-4o-mini\")\n",
    "\n",
    "# 검색 도구를 직접 LLM에 바인딩 가능\n",
    "llm_with_tools = llm.bind_tools(tools=tools)\n",
    "\n",
    "# Few-shot 프롬프트를 사용한 체인 구성\n",
    "fewshot_search_chain = few_shot_prompt | llm_with_tools\n",
    "\n",
    "# 도구 실행 체인 정의\n",
    "@chain\n",
    "def cafe_menu_chain(user_input: str, config: RunnableConfig):\n",
    "    input_ = {\"user_input\": user_input}\n",
    "    ai_msg = llm_chain.invoke(input_, config=config)\n",
    "\n",
    "    tool_msgs = []\n",
    "    for tool_call in ai_msg.tool_calls:\n",
    "        print(f\"{tool_call['name']}: \\n{tool_call}\")\n",
    "        print(\"-\"*100)\n",
    "\n",
    "        if tool_call[\"name\"] == \"tavily_search_func\":\n",
    "            tool_message = tavily_search_func.invoke(tool_call, config=config)\n",
    "            tool_msgs.append(tool_message)\n",
    "\n",
    "        elif tool_call[\"name\"] == \"db_search_cafe_func\":\n",
    "            tool_message = wiki_summary.invoke(tool_call, config=config)\n",
    "            tool_msgs.append(tool_message)\n",
    "\n",
    "        elif tool_call[\"name\"] == \"wiki_summary\":\n",
    "            tool_message = db_search_cafe_func.invoke(tool_call, config=config)\n",
    "            tool_msgs.append(tool_message)\n",
    "\n",
    "    print(\"tool_msgs: \\n\", tool_msgs)\n",
    "    print(\"-\"*100)\n",
    "    return fewshot_search_chain.invoke({**input_, \"messages\": [ai_msg, *tool_msgs]}, config=config)\n",
    "\n",
    "# 체인 실행\n",
    "query = \"카페라떼 메뉴와 어울리는 디저트는 무엇인가요? 그리고 라떼의 유래에 대해서도 알려주세요.\"\n",
    "response = cafe_menu_chain.invoke(query)\n",
    "\n",
    "# 응답 출력 \n",
    "pprint(response.content)\n"
   ]
  },
  {
   "cell_type": "markdown",
   "id": "68cf293a",
   "metadata": {},
   "source": [
    "### Gradio"
   ]
  },
  {
   "cell_type": "code",
   "execution_count": 16,
   "id": "62505c9b",
   "metadata": {},
   "outputs": [
    {
     "name": "stdout",
     "output_type": "stream",
     "text": [
      "=== 카페 AI 어시스턴트 테스트 ===\n",
      "* Running on local URL:  http://127.0.0.1:7861\n",
      "* To create a public link, set `share=True` in `launch()`.\n"
     ]
    },
    {
     "data": {
      "text/html": [
       "<div><iframe src=\"http://127.0.0.1:7861/\" width=\"100%\" height=\"500\" allow=\"autoplay; camera; microphone; clipboard-read; clipboard-write;\" frameborder=\"0\" allowfullscreen></iframe></div>"
      ],
      "text/plain": [
       "<IPython.core.display.HTML object>"
      ]
     },
     "metadata": {},
     "output_type": "display_data"
    },
    {
     "name": "stdout",
     "output_type": "stream",
     "text": [
      "테스트 완료!\n"
     ]
    },
    {
     "name": "stdout",
     "output_type": "stream",
     "text": [
      "tavily_search_func: \n",
      "{'name': 'tavily_search_func', 'args': {'query': '2025 coffee trends'}, 'id': 'call_uslCHLFvlKCeli1ZSXh97lGO', 'type': 'tool_call'}\n",
      "----------------------------------------------------------------------------------------------------\n"
     ]
    },
    {
     "name": "stderr",
     "output_type": "stream",
     "text": [
      "C:\\Users\\user\\AppData\\Local\\Temp\\ipykernel_15004\\3430203717.py:9: LangChainDeprecationWarning: The class `TavilySearchResults` was deprecated in LangChain 0.3.25 and will be removed in 1.0. An updated version of the class exists in the :class:`~langchain-tavily package and should be used instead. To use it run `pip install -U :class:`~langchain-tavily` and import as `from :class:`~langchain_tavily import TavilySearch``.\n",
      "  tavily_search = TavilySearchResults(max_results=2)\n"
     ]
    },
    {
     "name": "stdout",
     "output_type": "stream",
     "text": [
      "tool_msgs: \n",
      " [ToolMessage(content='<Document href=\"https://www.cropster.com/blog-post/cafe-experience-coffee-trends-2025/\"/>\\nDelicious doesn’t have to mean unhealthy. The 2025 coffee scene is set to embrace a **new wave of indulgence** that’s all about **healthy pleasures**. Expect to see a range of superfood lattes featuring exciting infusions like turmeric, matcha, and adaptogenic mushrooms that redefine what it means to treat yourself. The market will also bloom with gluten-free and vegan options, complemented by a growing selection of plant-based milks, including popular picks like pistachio milk, walnut milk, [...] _**Welcome to the future** —where specialty blends delight the palate, eco-friendly practices restore our planet, and immersive brand experiences forge deep connections with customers. Welcome to the Trends of 2025._\\n\\nTable of Contents\\n-----------------\\n</Document>\\n---\\n<Document href=\"https://www.gourmetpro.co/blog/coffee-market-trends-expert-insights\"/>\\n**During the pandemic era, at-home consumption of coffee increased, boosting sales of instant coffee, coffee mixes, and ready-to-drink (RTD) coffee**. The trend remains strong, especially with recent inflationary pressures in markets across the world. [...] **Crucially, Millennials and Gen Z prioritize convenience**. While they enjoy beverages spanning a range of temperatures, brewing styles, and functionalities, they want products that are easy to purchase, prepare, and consume. This demand is fueling innovation across the industry, including growth in RTD and mix formats, and the rise of App-powered coffee ordering. [...] added value from what they consume, and this has resulted in how coffee brands are responding to their needs. Digital-first ordering, customizable orders, a range of options in flavors and milk/alt milk options appeal to these consumers. At the same time, they also want memorable experiences that they can share on social media.\\n</Document>', name='tavily_search_func', tool_call_id='call_uslCHLFvlKCeli1ZSXh97lGO')]\n",
      "----------------------------------------------------------------------------------------------------\n"
     ]
    }
   ],
   "source": [
    "def create_gradio_interface():\n",
    "    \"\"\"\n",
    "    Gradio를 사용한 웹 인터페이스 생성\n",
    "    \"\"\"\n",
    "    import gradio as gr\n",
    "    from typing import List, Tuple\n",
    "    \n",
    "    def chat_interface(message: str, history: List[Tuple[str, str]]) -> str:\n",
    "        try:\n",
    "            # 채팅 기록을 AI에게 전달할 수 있는 형식으로 변환\n",
    "            chat_history = []\n",
    "            for human, ai in history[-2:]:  # 최근 2개의 대화만 사용\n",
    "                chat_history.append(HumanMessage(content=human))\n",
    "                chat_history.append(AIMessage(content=ai))\n",
    "            \n",
    "            # 체인 실행\n",
    "            response = cafe_menu_chain.invoke(message)\n",
    "            return response.content\n",
    "            \n",
    "        except Exception as e:\n",
    "            return f\"죄송합니다. 응답을 생성하는 동안 오류가 발생했습니다: {str(e)}\"\n",
    "    \n",
    "    # 예제 질문들\n",
    "    example_questions = [\n",
    "        \"아메리카노의 가격과 특징을 알려주세요.\",\n",
    "        \"카페라떼와 어울리는 디저트는 무엇인가요?\",\n",
    "        \"콜드브루의 유래에 대해 설명해주세요.\",\n",
    "        \"최근 커피 트렌드를 검색해주세요.\"\n",
    "    ]\n",
    "    \n",
    "    # Gradio 인터페이스 생성\n",
    "    demo = gr.ChatInterface(\n",
    "        fn=chat_interface,\n",
    "        title=\"카페 메뉴 AI 어시스턴트\",\n",
    "        description=\"카페 메뉴 정보, 음료 추천, 음식 관련 질문에 답변해 드립니다.\",\n",
    "        examples=example_questions,\n",
    "        theme=gr.themes.Soft()\n",
    "    )\n",
    "    \n",
    "    return demo\n",
    "\n",
    "# 실행 예시\n",
    "if __name__ == \"__main__\":\n",
    "    # 기본 콘솔 테스트\n",
    "    print(\"=== 카페 AI 어시스턴트 테스트 ===\")\n",
    "    \n",
    "    # 웹 인터페이스 실행 (선택사항)\n",
    "    demo = create_gradio_interface()\n",
    "    demo.launch()\n",
    "    \n",
    "    print(\"테스트 완료!\")"
   ]
  }
 ],
 "metadata": {
  "kernelspec": {
   "display_name": "langchain-basic-kGdHTiMZ-py3.12",
   "language": "python",
   "name": "python3"
  },
  "language_info": {
   "codemirror_mode": {
    "name": "ipython",
    "version": 3
   },
   "file_extension": ".py",
   "mimetype": "text/x-python",
   "name": "python",
   "nbconvert_exporter": "python",
   "pygments_lexer": "ipython3",
   "version": "3.12.7"
  }
 },
 "nbformat": 4,
 "nbformat_minor": 5
}
