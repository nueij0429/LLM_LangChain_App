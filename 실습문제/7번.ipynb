{
 "cells": [
  {
   "cell_type": "markdown",
   "id": "010345d7",
   "metadata": {},
   "source": [
    "### 문제 7-1 : LangGraph ReAct Agent 실습 연습문제 (Vector DB + Tool 연동) <br>\n",
    "prebuilt 컴포넌트를 사용하지 않고, StateGraph와 조건부 엣지를 활용하여 사용자 정의 ReAct Agent를 구현하세요. Agent는 카페 메뉴 검색 도구를 활용하여 고객의 음료 및 디저트 관련 질문에 답변하며, LLM 응답에 도구 호출이 포함되어 있으면 도구를 실행하고, 그렇지 않으면 답변을 완료하는 구조로 작동해야 합니다.<br>\n",
    "\n",
    "#### 학습 목표<br>\n",
    "* 사용자 정의 Agent 구조: StateGraph를 사용한 커스텀 ReAct 패턴 구현<br>\n",
    "* 조건부 엣지 활용: tools_condition을 사용한 동적 흐름 제어<br>\n",
    "* ToolNode 이해: 카페 메뉴 검색을 담당하는 노드 활용<br>\n",
    "* 메시지 상태 관리: MessagesState를 통한 대화 히스토리 관리\n",
    "\n",
    "#### 핵심 개념 설명<br>\n",
    "1. 카페 도메인 특화 Agent<br>\n",
    "* 아메리카노 vs 아이스 아메리카노: 온도와 제조 방식의 차이점 설명<br>\n",
    "* 라떼 계열 메뉴: 카페라떼, 바닐라 라떼, 녹차 라떼 등의 특징 비교<br>\n",
    "* 가격대별 추천: ₩4,500~₩7,500 범위의 카페 메뉴 추천\n",
    "\n",
    "2. MessagesState 기반 상태 관리<br>\n",
    "from langgraph.graph import MessagesState<br>\n",
    "class AgentState(MessagesState):<br>\n",
    "    pass\n",
    "\n",
    "3. 조건부 엣지 함수<br>\n",
    "from langgraph.prebuilt import tools_condition<br>\n",
    "// tools_condition은 자동으로 도구 호출 여부를 판단<br>\n",
    "builder.add_conditional_edges(\"agent\", tools_condition)\n",
    "\n",
    "#### 구현 요구사항\n",
    "1. 카페 상태 정의: MessagesState를 상속한 Agent 상태 정의<br>\n",
    "2. 카페 Agent 노드: 카페 메뉴 관련 LLM 응답 생성 노드<br>\n",
    "3. 카페 메뉴 Tool 노드: search_cafe_menu를 사용한 도구 실행 노드<br>\n",
    "4. 조건부 분기: tools_condition을 사용한 자동 분기<br>\n",
    "5. 순환 구조: 도구 실행 후 다시 Agent로 돌아가는 구조\n",
    "\n",
    "#### 테스트 시나리오<br>\n",
    "* 아메리카노 비교: \"아메리카노와 아이스 아메리카노의 차이점과 가격을 알려주세요.\"<br>\n",
    "* 라떼 종류 문의: \"라떼 종류에는 어떤 메뉴들이 있고 각각의 특징은 무엇인가요?\"<br>\n",
    "* 디저트 문의: \"디저트 메뉴 중에서 티라미수에 대해 자세히 설명해주세요.\""
   ]
  },
  {
   "cell_type": "markdown",
   "id": "3c6e64cd",
   "metadata": {},
   "source": [
    "### 환경 설정"
   ]
  },
  {
   "cell_type": "code",
   "execution_count": 124,
   "id": "172a7c9b",
   "metadata": {},
   "outputs": [
    {
     "data": {
      "text/plain": [
       "True"
      ]
     },
     "execution_count": 124,
     "metadata": {},
     "output_type": "execute_result"
    }
   ],
   "source": [
    "from dotenv import load_dotenv\n",
    "load_dotenv()"
   ]
  },
  {
   "cell_type": "code",
   "execution_count": 125,
   "id": "5c067228",
   "metadata": {},
   "outputs": [],
   "source": [
    "import re\n",
    "import os, json\n",
    "\n",
    "from textwrap import dedent\n",
    "from pprint import pprint\n",
    "\n",
    "import warnings\n",
    "warnings.filterwarnings(\"ignore\")"
   ]
  },
  {
   "cell_type": "code",
   "execution_count": 126,
   "id": "7339d634",
   "metadata": {},
   "outputs": [],
   "source": [
    "from langchain_community.vectorstores import FAISS\n",
    "from langchain_ollama  import OllamaEmbeddings\n",
    "from langchain_openai import ChatOpenAI\n",
    "\n",
    "embeddings_model = OllamaEmbeddings(model=\"bge-m3:latest\") \n",
    "\n",
    "# cafe db 벡터 저장소 로드\n",
    "cafe_db = FAISS.load_local(\n",
    "    \"db/cafe_db\", \n",
    "    embeddings_model, \n",
    "    allow_dangerous_deserialization=True\n",
    ")\n",
    "\n",
    "# LLM 모델 \n",
    "llm = ChatOpenAI(\n",
    "    base_url=\"https://api.groq.com/openai/v1\",\n",
    "    model=\"meta-llama/llama-4-scout-17b-16e-instruct\",\n",
    "    temperature=0.7\n",
    ")"
   ]
  },
  {
   "cell_type": "markdown",
   "id": "6b4b4f60",
   "metadata": {},
   "source": [
    "### AgentState 정의"
   ]
  },
  {
   "cell_type": "code",
   "execution_count": 127,
   "id": "4f5ff94a",
   "metadata": {},
   "outputs": [],
   "source": [
    "from langgraph.graph import MessagesState\n",
    "\n",
    "class AgentState(MessagesState):\n",
    "    pass"
   ]
  },
  {
   "cell_type": "markdown",
   "id": "c1d7f6ca",
   "metadata": {},
   "source": [
    "### Tool 함수 정의"
   ]
  },
  {
   "cell_type": "code",
   "execution_count": 128,
   "id": "1f60efc1",
   "metadata": {},
   "outputs": [],
   "source": [
    "from langchain_core.tools import tool\n",
    "from langchain.chains import RetrievalQA\n",
    "\n",
    "@tool\n",
    "def search_cafe_menu(query: str) -> str:\n",
    "    \"\"\"카페 메뉴 정보 검색 도구입니다. 사용자의 쿼리를 받아 관련 메뉴 정보를 제공합니다.\"\"\"\n",
    "    retriever = cafe_db.as_retriever()\n",
    "    qa_chain = RetrievalQA.from_chain_type(\n",
    "        llm=llm,\n",
    "        retriever=retriever,\n",
    "        return_source_documents=False\n",
    "    )\n",
    "    result = qa_chain.run(query)\n",
    "    return result"
   ]
  },
  {
   "cell_type": "markdown",
   "id": "07a7210c",
   "metadata": {},
   "source": [
    "### Agent 노드 정의"
   ]
  },
  {
   "cell_type": "code",
   "execution_count": 129,
   "id": "5cf63bff",
   "metadata": {},
   "outputs": [],
   "source": [
    "from langchain_core.messages import AIMessage, HumanMessage\n",
    "\n",
    "def cafe_agent_node(state: AgentState) -> AgentState:\n",
    "    messages = state[\"messages\"]\n",
    "    response = llm.invoke(messages)\n",
    "    return {\"messages\": messages + [AIMessage(content=response.content)]}"
   ]
  },
  {
   "cell_type": "markdown",
   "id": "17d3128f",
   "metadata": {},
   "source": [
    "### Tool 실행 노드 정의"
   ]
  },
  {
   "cell_type": "code",
   "execution_count": 130,
   "id": "f5261db1",
   "metadata": {},
   "outputs": [],
   "source": [
    "def tool_node(state: AgentState) -> dict:\n",
    "    messages = state[\"messages\"]\n",
    "    last_msg = messages[-1]\n",
    "    tool_calls = getattr(last_msg, 'tool_calls', []) or []\n",
    "    outputs = []\n",
    "\n",
    "    for call in tool_calls:\n",
    "        tool_name = call['name']\n",
    "        tool_args = call['args']\n",
    "        if tool_name == 'search_cafe_menu':\n",
    "            result = search_cafe_menu.invoke(tool_args['query'])\n",
    "            outputs.append(AIMessage(content=result))\n",
    "\n",
    "    return {\"messages\": messages + outputs}"
   ]
  },
  {
   "cell_type": "markdown",
   "id": "261786de",
   "metadata": {},
   "source": [
    "### StateGraph 구성 및 실행"
   ]
  },
  {
   "cell_type": "code",
   "execution_count": null,
   "id": "d8b7cc71",
   "metadata": {},
   "outputs": [
    {
     "data": {
      "image/png": "[encoded data removed]",
      "text/plain": [
       "<IPython.core.display.Image object>"
      ]
     },
     "metadata": {},
     "output_type": "display_data"
    }
   ],
   "source": [
    "from langgraph.graph import StateGraph, END\n",
    "from IPython.display import Image, display\n",
    "from langgraph.prebuilt import tools_condition\n",
    "\n",
    "builder = StateGraph(AgentState)\n",
    "\n",
    "builder.add_node(\"agent\", cafe_agent_node)\n",
    "builder.add_node(\"tool\", tool_node)\n",
    "\n",
    "builder.set_entry_point(\"agent\")\n",
    "\n",
    "# 조건부 엣지 add\n",
    "builder.add_conditional_edges(\n",
    "    \"agent\",\n",
    "    tools_condition,\n",
    "    path_map={\n",
    "        \"tool\": \"tool\",\n",
    "        \"__end__\": END\n",
    "    }\n",
    ")\n",
    "\n",
    "builder.add_edge(\"tool\", \"agent\")\n",
    "\n",
    "graph = builder.compile()\n",
    "\n",
    "# 그래프 시각화\n",
    "display(Image(graph.get_graph().draw_mermaid_png()))"
   ]
  },
  {
   "cell_type": "markdown",
   "id": "6587da0b",
   "metadata": {},
   "source": [
    "### 테스트 실행"
   ]
  },
  {
   "cell_type": "code",
   "execution_count": 132,
   "id": "7a8b146e",
   "metadata": {},
   "outputs": [],
   "source": [
    "def run_scenario(prompt: str):\n",
    "    state = {\"messages\": [HumanMessage(content=prompt)]}\n",
    "    result = graph.invoke(state)\n",
    "    print(result[\"messages\"][-1].content.strip())"
   ]
  },
  {
   "cell_type": "markdown",
   "id": "b5888005",
   "metadata": {},
   "source": [
    "### 테스트 시나리오 실행"
   ]
  },
  {
   "cell_type": "code",
   "execution_count": 133,
   "id": "3dfa3a51",
   "metadata": {},
   "outputs": [
    {
     "name": "stdout",
     "output_type": "stream",
     "text": [
      "아메리카노 비교:\n",
      "아메리카노와 아이스 아메리카노는 커피의 종류에 따라 다음과 같은 차이점이 있습니다.\n",
      "\n",
      "1.  **온도**: 아메리카노는 뜨거운 커피이며, 아이스 아메리카노는 차가운 커피입니다.\n",
      "2.  **제조 방법**: 아메리카노는 에스프레소에 뜨거운 물을 부어 만듭니다. 아이스 아메리카노는 에스프레소에 얼음과 차가운 물을 부어 만듭니다.\n",
      "\n",
      "가격은 카페마다 다르지만, 일반적으로 아메리카노보다 아이스 아메리카노가 더 비싼 경우가 많습니다. 가격은 1,500원에서 5,000원까지 다양합니다.\n",
      "\n",
      "라떼 종류 문의:\n",
      "라떼는 에스프레소에 우유를 섞어 만든 커피입니다. 라떼의 종류는 다음과 같습니다.\n",
      "\n",
      "1.  **카푸치노**: 에스프레소와 우유 거품이 섞여 있는 라떼입니다. 카푸치노는 우유 거품이 많고, 우유 비율이 적습니다.\n",
      "2.  **마끼아또**: 에스프레소와 소량의 우유가 섞여 있는 라떼입니다. 마끼아또는 우유 비율이 적고, 에스프레소 향이 강합니다.\n",
      "3.  **플랫 화이트**: 에스프레소와 우유가 섞여 있는 라떼입니다. 플랫 화이트는 우유 비율이 많고, 에스프레소 향이 강합니다.\n",
      "4.  **콘파나**: 에스프레소와 우유가 섞여 있는 라떼입니다. 콘파나는 우유 비율이 많고, 에스프레소 향이 약합니다.\n",
      "5.  **모카**: 에스프레소와 우유, 그리고 초콜릿 시럽이 섞여 있는 라떼입니다. 모카는 초콜릿 향이 강하고, 우유 비율이 많습니다.\n",
      "\n",
      "디저트 티라미수:\n",
      "티라미수는 이탈리아의 전통 디저트입니다. 커피에 적신 레이디핑거 쿠키를 크림 치즈로 만든 마스카포네 크림과 함께 층층이 쌓아 만든 디저트입니다. 티라미수는 '나를 들어 올린다'라는 뜻으로, 카페인이 함유된 커피의 효과를 강조한 이름입니다. \n",
      "\n",
      "레이디핑거 쿠키를 커피에 적시면 안됩니다. 커피에 5초 정도만 담갔다가 꺼내야 레이디핑거 쿠키가 질기지 않고 촉촉합니다. 커피의 양이 많으면 레이디핑거 쿠키가 질겨지고, 커피가 적으면 커피 향이 나지 않을 수 있습니다. 마스카포네 크림은 크림치즈, 생크림, 설탕, 그리고 계란으로 만듭니다.\n"
     ]
    }
   ],
   "source": [
    "if __name__ == \"__main__\":\n",
    "    print(\"아메리카노 비교:\")\n",
    "    run_scenario(\"아메리카노와 아이스 아메리카노의 차이점과 가격을 알려주세요.\")\n",
    "\n",
    "    print(\"\\n라떼 종류 문의:\")\n",
    "    run_scenario(\"라떼 종류에는 어떤 메뉴들이 있고 각각의 특징은 무엇인가요?\")\n",
    "\n",
    "    print(\"\\n디저트 티라미수:\")\n",
    "    run_scenario(\"디저트 메뉴 중에서 티라미수에 대해 자세히 설명해주세요.\")"
   ]
  }
 ],
 "metadata": {
  "kernelspec": {
   "display_name": "langchain-basic-kGdHTiMZ-py3.12",
   "language": "python",
   "name": "python3"
  },
  "language_info": {
   "codemirror_mode": {
    "name": "ipython",
    "version": 3
   },
   "file_extension": ".py",
   "mimetype": "text/x-python",
   "name": "python",
   "nbconvert_exporter": "python",
   "pygments_lexer": "ipython3",
   "version": "3.12.7"
  }
 },
 "nbformat": 4,
 "nbformat_minor": 5
}
