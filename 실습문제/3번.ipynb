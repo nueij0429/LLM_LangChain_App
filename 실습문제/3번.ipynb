{
 "cells": [
  {
   "cell_type": "code",
   "execution_count": null,
   "id": "5f85080a",
   "metadata": {},
   "outputs": [],
   "source": [
    "import os\n",
    "from dotenv import load_dotenv\n",
    "\n",
    "load_dotenv()\n",
    "OPENAI_API_KEY = os.getenv(\"OPENAI_API_KEY\")"
   ]
  },
  {
   "cell_type": "markdown",
   "id": "593b0a8b",
   "metadata": {},
   "source": [
    "### 1단계: 문서 분할 설정"
   ]
  },
  {
   "cell_type": "markdown",
   "id": "2e80f213",
   "metadata": {},
   "source": [
    "### 2단계: 임베딩 모델 설정"
   ]
  },
  {
   "cell_type": "markdown",
   "id": "fdd3a55a",
   "metadata": {},
   "source": [
    "### 3단계: 검색기 설정"
   ]
  },
  {
   "cell_type": "markdown",
   "id": "21279738",
   "metadata": {},
   "source": [
    "### 4단계: LLM 설정"
   ]
  },
  {
   "cell_type": "markdown",
   "id": "f89ab749",
   "metadata": {},
   "source": [
    "### 5단계: 법률 자문 프롬프트 작성"
   ]
  },
  {
   "cell_type": "markdown",
   "id": "ca90fd9d",
   "metadata": {},
   "source": [
    "### 6단계: QA 체인 생성"
   ]
  },
  {
   "cell_type": "markdown",
   "id": "5d106536",
   "metadata": {},
   "source": [
    "### 7단계: 테스트 질문 작성"
   ]
  },
  {
   "cell_type": "markdown",
   "id": "fb36a9f4",
   "metadata": {},
   "source": [
    "### 8단계: 분쟁 유형 분류 함수"
   ]
  }
 ],
 "metadata": {
  "kernelspec": {
   "display_name": "langchain-basic-kGdHTiMZ-py3.12",
   "language": "python",
   "name": "python3"
  },
  "language_info": {
   "name": "python",
   "version": "3.12.7"
  }
 },
 "nbformat": 4,
 "nbformat_minor": 5
}
