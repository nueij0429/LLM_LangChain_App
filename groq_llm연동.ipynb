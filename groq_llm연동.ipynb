{
 "cells": [
  {
   "cell_type": "code",
   "execution_count": 1,
   "id": "af9b8121",
   "metadata": {},
   "outputs": [
    {
     "name": "stdout",
     "output_type": "stream",
     "text": [
      "Hello LangChain\n"
     ]
    }
   ],
   "source": [
    "print('Hello LangChain')"
   ]
  },
  {
   "cell_type": "code",
   "execution_count": 3,
   "id": "0693468d",
   "metadata": {},
   "outputs": [],
   "source": [
    "import os\n",
    "from dotenv import load_dotenv\n",
    "from langchain_core.prompts import ChatPromptTemplate\n",
    "from langchain_openai import ChatOpenAI \n",
    "\n",
    "\n",
    "load_dotenv()\n",
    "OPENAI_API_KEY = os.getenv(\"OPENAI_API_KEY\")"
   ]
  },
  {
   "cell_type": "code",
   "execution_count": 4,
   "id": "0ee98644",
   "metadata": {},
   "outputs": [
    {
     "name": "stdout",
     "output_type": "stream",
     "text": [
      "input_variables=['input'] input_types={} partial_variables={} messages=[SystemMessagePromptTemplate(prompt=PromptTemplate(input_variables=[], input_types={}, partial_variables={}, template='당신은 개발자입니다.'), additional_kwargs={}), HumanMessagePromptTemplate(prompt=PromptTemplate(input_variables=['input'], input_types={}, partial_variables={}, template='{input}'), additional_kwargs={})]\n"
     ]
    }
   ],
   "source": [
    "# prompt\n",
    "prompt = ChatPromptTemplate.from_messages(\n",
    "    [ (\"system\", \"당신은 개발자입니다.\") , \n",
    "     (\"user\", \"{input}\") ]\n",
    ")\n",
    "print(prompt)\n",
    "\n",
    "prompt_text = prompt.format(input=\"파이썬은 무엇인가요? 자세하게 설명해주세요\")"
   ]
  },
  {
   "cell_type": "code",
   "execution_count": 5,
   "id": "c8a270f9",
   "metadata": {},
   "outputs": [
    {
     "name": "stdout",
     "output_type": "stream",
     "text": [
      "client=<openai.resources.chat.completions.completions.Completions object at 0x0000018FBE9061E0> async_client=<openai.resources.chat.completions.completions.AsyncCompletions object at 0x0000018FBECDBC50> root_client=<openai.OpenAI object at 0x0000018FBE80DC70> root_async_client=<openai.AsyncOpenAI object at 0x0000018FBEA20260> model_name='meta-llama/llama-4-scout-17b-16e-instruct' temperature=0.7 model_kwargs={} openai_api_key=SecretStr('**********') openai_api_base='https://api.groq.com/openai/v1'\n"
     ]
    }
   ],
   "source": [
    "# Groq API를 사용하는 ChatOpenAI 인스턴스 생성\n",
    "llm = ChatOpenAI(\n",
    "    api_key=OPENAI_API_KEY,\n",
    "    base_url=\"https://api.groq.com/openai/v1\",  # Groq API 엔드포인트\n",
    "    model=\"meta-llama/llama-4-scout-17b-16e-instruct\",\n",
    "    temperature=0.7\n",
    ")\n",
    "print(llm)"
   ]
  },
  {
   "cell_type": "code",
   "execution_count": 6,
   "id": "e09ca344",
   "metadata": {},
   "outputs": [
    {
     "name": "stdout",
     "output_type": "stream",
     "text": [
      "응답: 파이썬! 프로그래밍 세계에서 가장 인기 있는 언어 중 하나입니다. 저는 개발자로서 파이썬에 대해 자세히 설명해 드리겠습니다.\n",
      "\n",
      "**파이썬이란?**\n",
      "\n",
      "파이썬은 1991년 Guido van Rossum에 의해 개발된 고수준 프로그래밍 언어입니다. 파이썬은 간단한 문법과 다양한 라이브러리, 프레임워크를 제공하여 개발자들이 쉽고 빠르게 프로그램을 만들 수 있도록 도와줍니다.\n",
      "\n",
      "**파이썬의 특징**\n",
      "\n",
      "파이썬의 주요 특징은 다음과 같습니다.\n",
      "\n",
      "1. **간단한 문법**: 파이썬은 다른 프로그래밍 언어에 비해 간단한 문법을 가지고 있습니다. 따라서 초보자들이 쉽게 배울 수 있습니다.\n",
      "2. **인터프리터 언어**: 파이썬은 인터프리터 언어로, 코드를 작성한 후 바로 실행할 수 있습니다. 컴파일러 언어가 아닌 인터프리터 언어라는 점이 특징입니다.\n",
      "3. **객체 지향 언어**: 파이썬은 객체 지향 언어입니다. 객체 지향 프로그래밍(OOP) 개념을 지원하여 모듈성과 재사용성을 제공합니다.\n",
      "4. **동적 타이핑**: 파이썬은 동적 타이핑 언어입니다. 변수의 타입을 선언할 필요가 없으며, 실행 시에 타입이 결정됩니다.\n",
      "5. **대규모 라이브러리**: 파이썬은 다양한 라이브러리와 프레임워크를 제공합니다. 데이터 과학, 머신러닝, 웹 개발, 게임 개발 등 다양한 분야에서 사용할 수 있는 라이브러리가 있습니다.\n",
      "\n",
      "**파이썬의 용도**\n",
      "\n",
      "파이썬은 다양한 분야에서 사용됩니다. 주요 용도는 다음과 같습니다.\n",
      "\n",
      "1. **웹 개발**: 파이썬은 웹 개발에 많이 사용됩니다. Flask, Django와 같은 웹 프레임워크를 사용하여 웹 애플리케이션을 개발할 수 있습니다.\n",
      "2. **데이터 과학**: 파이썬은 데이터 과학에 많이 사용됩니다. NumPy, pandas, scikit-learn과 같은 라이브러리를 사용하여 데이터 분석, 머신러닝을 수행할 수 있습니다.\n",
      "3. **자동화**: 파이썬은 자동화에 많이 사용됩니다. 스크립트를 작성하여 작업을 자동화할 수 있습니다.\n",
      "4. **게임 개발**: 파이썬은 게임 개발에 사용됩니다. Pygame와 같은 라이브러리를 사용하여 게임을 개발할 수 있습니다.\n",
      "5. **교육**: 파이썬은 교육에 많이 사용됩니다. 간단한 문법과 다양한 라이브러리로 인해 학생들이 프로그래밍을 배우기에 좋습니다.\n",
      "\n",
      "**파이썬의 장점**\n",
      "\n",
      "파이썬의 주요 장점은 다음과 같습니다.\n",
      "\n",
      "1. **쉽게 배울 수 있음**: 파이썬은 간단한 문법을 가지고 있어 초보자들이 쉽게 배울 수 있습니다.\n",
      "2. **빠른 개발**: 파이썬은 다양한 라이브러리와 프레임워크를 제공하여 개발 속도를 빠르게 할 수 있습니다.\n",
      "3. **대규모 커뮤니티**: 파이썬은 대규모 커뮤니티를 가지고 있어 문제가 발생했을 때 도움을 받을 수 있습니다.\n",
      "4. **다양한 분야에 사용**: 파이썬은 다양한 분야에서 사용되므로, 하나의 언어를 배워서 다양한 분야에 적용할 수 있습니다.\n",
      "\n",
      "**파이썬의 단점**\n",
      "\n",
      "파이썬의 주요 단점은 다음과 같습니다.\n",
      "\n",
      "1. **성능**: 파이썬은 다른 언어에 비해 성능이 떨어질 수 있습니다.\n",
      "2. **제한적인 멀티쓰레딩**: 파이썬은 멀티쓰레딩을 지원하지만, 제한적인 부분이 있습니다.\n",
      "\n",
      "결론적으로, 파이썬은 쉽고 빠르게 프로그래밍을 할 수 있는 언어입니다. 다양한 라이브러리와 프레임워크를 제공하여 개발 속도를 빠르게 할 수 있습니다. 대규모 커뮤니티와 다양한 분야에 사용되므로, 파이썬을 배우는 것은 좋은 선택입니다.\n"
     ]
    }
   ],
   "source": [
    "try:\n",
    "    response = llm.invoke(prompt_text)\n",
    "    print(\"응답:\", response.content)\n",
    "except Exception as e:\n",
    "    print(f\"오류 발생: {e}\")"
   ]
  }
 ],
 "metadata": {
  "kernelspec": {
   "display_name": "langchain-basic-kGdHTiMZ-py3.12",
   "language": "python",
   "name": "python3"
  },
  "language_info": {
   "codemirror_mode": {
    "name": "ipython",
    "version": 3
   },
   "file_extension": ".py",
   "mimetype": "text/x-python",
   "name": "python",
   "nbconvert_exporter": "python",
   "pygments_lexer": "ipython3",
   "version": "3.12.7"
  }
 },
 "nbformat": 4,
 "nbformat_minor": 5
}
