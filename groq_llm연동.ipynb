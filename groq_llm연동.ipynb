{
 "cells": [
  {
   "cell_type": "code",
   "execution_count": 1,
   "id": "af9b8121",
   "metadata": {},
   "outputs": [
    {
     "name": "stdout",
     "output_type": "stream",
     "text": [
      "Hello LangChain\n"
     ]
    }
   ],
   "source": [
    "print('Hello LangChain')"
   ]
  },
  {
   "cell_type": "code",
   "execution_count": 6,
   "id": "0693468d",
   "metadata": {},
   "outputs": [],
   "source": [
    "import os\n",
    "from dotenv import load_dotenv\n",
    "from langchain_core.prompts import ChatPromptTemplate\n",
    "from langchain_openai import ChatOpenAI \n",
    "\n",
    "\n",
    "load_dotenv()\n",
    "OPENAI_API_KEY = os.getenv(\"OPENAI_API_KEY\")"
   ]
  },
  {
   "cell_type": "code",
   "execution_count": 4,
   "id": "0ee98644",
   "metadata": {},
   "outputs": [
    {
     "name": "stdout",
     "output_type": "stream",
     "text": [
      "input_variables=['input'] input_types={} partial_variables={} messages=[SystemMessagePromptTemplate(prompt=PromptTemplate(input_variables=[], input_types={}, partial_variables={}, template='당신은 개발자입니다.'), additional_kwargs={}), HumanMessagePromptTemplate(prompt=PromptTemplate(input_variables=['input'], input_types={}, partial_variables={}, template='{input}'), additional_kwargs={})]\n"
     ]
    }
   ],
   "source": [
    "# prompt\n",
    "prompt = ChatPromptTemplate.from_messages(\n",
    "    [ (\"system\", \"당신은 개발자입니다.\") , \n",
    "     (\"user\", \"{input}\") ]\n",
    ")\n",
    "print(prompt)\n",
    "\n",
    "prompt_text = prompt.format(input=\"파이썬은 무엇인가요? 자세하게 설명해주세요\")"
   ]
  },
  {
   "cell_type": "code",
   "execution_count": 7,
   "id": "c8a270f9",
   "metadata": {},
   "outputs": [
    {
     "name": "stdout",
     "output_type": "stream",
     "text": [
      "client=<openai.resources.chat.completions.completions.Completions object at 0x000001E858617080> async_client=<openai.resources.chat.completions.completions.AsyncCompletions object at 0x000001E857A6A9C0> root_client=<openai.OpenAI object at 0x000001E857FCB8F0> root_async_client=<openai.AsyncOpenAI object at 0x000001E8581CF890> model_name='meta-llama/llama-4-scout-17b-16e-instruct' temperature=0.7 model_kwargs={} openai_api_key=SecretStr('**********') openai_api_base='https://api.groq.com/openai/v1'\n"
     ]
    }
   ],
   "source": [
    "# Groq API를 사용하는 ChatOpenAI 인스턴스 생성\n",
    "llm = ChatOpenAI(\n",
    "    api_key=OPENAI_API_KEY,\n",
    "    base_url=\"https://api.groq.com/openai/v1\",  # Groq API 엔드포인트\n",
    "    model=\"meta-llama/llama-4-scout-17b-16e-instruct\",\n",
    "    temperature=0.7\n",
    ")\n",
    "print(llm)"
   ]
  },
  {
   "cell_type": "code",
   "execution_count": 6,
   "id": "e09ca344",
   "metadata": {},
   "outputs": [
    {
     "name": "stdout",
     "output_type": "stream",
     "text": [
      "응답: 파이썬! 프로그래밍 세계에서 가장 인기 있는 언어 중 하나입니다. 저는 개발자로서 파이썬에 대해 자세히 설명해 드리겠습니다.\n",
      "\n",
      "**파이썬이란?**\n",
      "\n",
      "파이썬은 1991년 Guido van Rossum에 의해 개발된 고수준 프로그래밍 언어입니다. 파이썬은 간단한 문법과 다양한 라이브러리, 프레임워크를 제공하여 개발자들이 쉽고 빠르게 프로그램을 만들 수 있도록 도와줍니다.\n",
      "\n",
      "**파이썬의 특징**\n",
      "\n",
      "파이썬의 주요 특징은 다음과 같습니다.\n",
      "\n",
      "1. **간단한 문법**: 파이썬은 다른 프로그래밍 언어에 비해 간단한 문법을 가지고 있습니다. 따라서 초보자들이 쉽게 배울 수 있습니다.\n",
      "2. **인터프리터 언어**: 파이썬은 인터프리터 언어로, 코드를 작성한 후 바로 실행할 수 있습니다. 컴파일러 언어가 아닌 인터프리터 언어라는 점이 특징입니다.\n",
      "3. **객체 지향 언어**: 파이썬은 객체 지향 언어입니다. 객체 지향 프로그래밍(OOP) 개념을 지원하여 모듈성과 재사용성을 제공합니다.\n",
      "4. **동적 타이핑**: 파이썬은 동적 타이핑 언어입니다. 변수의 타입을 선언할 필요가 없으며, 실행 시에 타입이 결정됩니다.\n",
      "5. **대규모 라이브러리**: 파이썬은 다양한 라이브러리와 프레임워크를 제공합니다. 데이터 과학, 머신러닝, 웹 개발, 게임 개발 등 다양한 분야에서 사용할 수 있는 라이브러리가 있습니다.\n",
      "\n",
      "**파이썬의 용도**\n",
      "\n",
      "파이썬은 다양한 분야에서 사용됩니다. 주요 용도는 다음과 같습니다.\n",
      "\n",
      "1. **웹 개발**: 파이썬은 웹 개발에 많이 사용됩니다. Flask, Django와 같은 웹 프레임워크를 사용하여 웹 애플리케이션을 개발할 수 있습니다.\n",
      "2. **데이터 과학**: 파이썬은 데이터 과학에 많이 사용됩니다. NumPy, pandas, scikit-learn과 같은 라이브러리를 사용하여 데이터 분석, 머신러닝을 수행할 수 있습니다.\n",
      "3. **자동화**: 파이썬은 자동화에 많이 사용됩니다. 스크립트를 작성하여 작업을 자동화할 수 있습니다.\n",
      "4. **게임 개발**: 파이썬은 게임 개발에 사용됩니다. Pygame와 같은 라이브러리를 사용하여 게임을 개발할 수 있습니다.\n",
      "5. **교육**: 파이썬은 교육에 많이 사용됩니다. 간단한 문법과 다양한 라이브러리로 인해 학생들이 프로그래밍을 배우기에 좋습니다.\n",
      "\n",
      "**파이썬의 장점**\n",
      "\n",
      "파이썬의 주요 장점은 다음과 같습니다.\n",
      "\n",
      "1. **쉽게 배울 수 있음**: 파이썬은 간단한 문법을 가지고 있어 초보자들이 쉽게 배울 수 있습니다.\n",
      "2. **빠른 개발**: 파이썬은 다양한 라이브러리와 프레임워크를 제공하여 개발 속도를 빠르게 할 수 있습니다.\n",
      "3. **대규모 커뮤니티**: 파이썬은 대규모 커뮤니티를 가지고 있어 문제가 발생했을 때 도움을 받을 수 있습니다.\n",
      "4. **다양한 분야에 사용**: 파이썬은 다양한 분야에서 사용되므로, 하나의 언어를 배워서 다양한 분야에 적용할 수 있습니다.\n",
      "\n",
      "**파이썬의 단점**\n",
      "\n",
      "파이썬의 주요 단점은 다음과 같습니다.\n",
      "\n",
      "1. **성능**: 파이썬은 다른 언어에 비해 성능이 떨어질 수 있습니다.\n",
      "2. **제한적인 멀티쓰레딩**: 파이썬은 멀티쓰레딩을 지원하지만, 제한적인 부분이 있습니다.\n",
      "\n",
      "결론적으로, 파이썬은 쉽고 빠르게 프로그래밍을 할 수 있는 언어입니다. 다양한 라이브러리와 프레임워크를 제공하여 개발 속도를 빠르게 할 수 있습니다. 대규모 커뮤니티와 다양한 분야에 사용되므로, 파이썬을 배우는 것은 좋은 선택입니다.\n"
     ]
    }
   ],
   "source": [
    "try:\n",
    "    response = llm.invoke(prompt_text)\n",
    "    print(\"응답:\", response.content)\n",
    "except Exception as e:\n",
    "    print(f\"오류 발생: {e}\")"
   ]
  },
  {
   "cell_type": "markdown",
   "id": "c750b360",
   "metadata": {},
   "source": [
    "### LCEL\n",
    "* Prompt + LLM을 Chain으로 연결하기"
   ]
  },
  {
   "cell_type": "code",
   "execution_count": null,
   "id": "70824e76",
   "metadata": {},
   "outputs": [
    {
     "data": {
      "text/plain": [
       "PromptTemplate(input_variables=['input'], input_types={}, partial_variables={}, template='\\n    You are an expert in AI Expert. Answer the question. \\n    <Question>: {input}에 대해 쉽게 설명해주세요.\"\\n    ')"
      ]
     },
     "execution_count": 11,
     "metadata": {},
     "output_type": "execute_result"
    }
   ],
   "source": [
    "from langchain_core.prompts import PromptTemplate\n",
    "\n",
    "prompt = PromptTemplate.from_template(\n",
    "    \"\"\"\n",
    "    You are an expert in AI Expert. Answer the question. \n",
    "    <Question>: {input}에 대해 쉽게 설명해주세요.\"\n",
    "    \"\"\")\n",
    "prompt"
   ]
  },
  {
   "cell_type": "code",
   "execution_count": 9,
   "id": "15b4b6a6",
   "metadata": {},
   "outputs": [
    {
     "name": "stdout",
     "output_type": "stream",
     "text": [
      "<class 'langchain_core.runnables.base.RunnableSequence'>\n"
     ]
    }
   ],
   "source": [
    "# chain 연결 (LCEL)\n",
    "chain = prompt | llm\n",
    "print(type(chain))"
   ]
  },
  {
   "cell_type": "code",
   "execution_count": 15,
   "id": "e3c2d6c1",
   "metadata": {},
   "outputs": [
    {
     "name": "stdout",
     "output_type": "stream",
     "text": [
      "<class 'langchain_core.runnables.base.RunnableSequence'>\n"
     ]
    }
   ],
   "source": [
    "from langchain_core.output_parsers import StrOutputParser\n",
    "\n",
    "# chain 연결 (LCEL)\n",
    "output_parser = StrOutputParser()\n",
    "\n",
    "chain2 = prompt | llm | output_parser\n",
    "print(type(chain))"
   ]
  },
  {
   "cell_type": "code",
   "execution_count": 10,
   "id": "b7bd1096",
   "metadata": {},
   "outputs": [
    {
     "name": "stdout",
     "output_type": "stream",
     "text": [
      "<class 'langchain_core.messages.ai.AIMessage'>\n",
      "인공지능 모델의 학습 원리는 사람의 뇌가 학습하는 방식과 유사합니다. 컴퓨터가 데이터를 통해 스스로 학습하고, 주어진 문제에 대한 해결 능력을 키우는 과정이라고 생각하시면 됩니다.\n",
      "\n",
      "예를 들어, 어린 아이에게 고양이와 강아지의 사진을 보여주며 \"이건 고양이야\", \"이건 강아야\"라고 말해줍니다. 처음에는 아이가 고양이와 강아지를 구분하지 못할 수 있지만, 여러 번 사진을 보여주고 이름을 반복해서 말해 주면, 아이는 고양이와 강아지의 특징을 스스로 찾아내고 구분할 수 있게 됩니다.\n",
      "\n",
      "인공지능 모델도 이와 비슷한 원리로 학습합니다. 많은 데이터를 제공하고, 올바른 답을 알려주면, 모델은 스스로 패턴을 찾고, 주어진 문제에 대한 해결 능력을 향상시킵니다.\n",
      "\n",
      "구체적으로는 다음과 같은 과정으로 학습합니다.\n",
      "\n",
      "1. **데이터 수집**: 인공지능 모델을 학습시키기 위해 필요한 데이터를 수집합니다. 예를 들어, 이미지 분류 모델을 만들기 위해 고양이와 강아지의 사진을 많이 수집합니다.\n",
      "\n",
      "2. **데이터 전처리**: 수집한 데이터를 모델이 학습할 수 있도록 가공하는 과정입니다. 예를 들어, 이미지의 크기를 조정하거나, 노이즈를 제거하는 작업 등이 있습니다.\n",
      "\n",
      "3. **모델 훈련**: 준비한 데이터를 모델에 입력하고, 모델이 스스로 학습할 수 있도록 합니다. 이 과정에서 모델은 데이터의 패턴을 찾고, 주어진 문제에 대한 해결 능력을 키웁니다.\n",
      "\n",
      "4. **모델 평가**: 학습된 모델의 성능을 평가합니다. 이를 통해 모델의 정확도를 확인하고, 추가적인 학습이 필요한지 판단합니다.\n",
      "\n",
      "5. **모델 개선**: 모델의 성능이 만족할 만한 수준이 아닐 경우, 데이터를 추가 수집하거나, 모델의 구조를 변경하는 등의 방법으로 모델을 개선합니다.\n",
      "\n",
      "이렇게 인공지능 모델은 데이터를 통해 학습하고, 스스로 문제를 해결할 수 있는 능력을 키웁니다. 이를 통해 이미지 분류, 자연어 처리, 음성 인식 등 다양한 분야에서 활용할 수 있는 인공지능 모델을 만들 수 있습니다.\n"
     ]
    }
   ],
   "source": [
    "# chain 호출\n",
    "try:\n",
    "    result = chain.invoke({\"input\": \"인공지능 모델의 학습 원리\"})\n",
    "    print(type(result))\n",
    "    print(result.content)\n",
    "except Exception as e:\n",
    "    print(f\"오류 발생: {e}\")"
   ]
  },
  {
   "cell_type": "code",
   "execution_count": 16,
   "id": "9eea99f6",
   "metadata": {},
   "outputs": [
    {
     "name": "stdout",
     "output_type": "stream",
     "text": [
      "<class 'str'>\n",
      "LangChain은 다양한 AI 기반 제품 및 서비스를 제공하는 회사입니다. LangChain의 주요 제품은 다음과 같습니다:\n",
      "\n",
      "1. **LangChain**: 랭체인 플랫폼은 개발자가 대규모 언어 모델(LLM)을 쉽게 통합하고 활용할 수 있도록 설계되었습니다. 이 플랫폼은 언어 모델의 개발, 배포 및 관리를 간소화합니다.\n",
      "\n",
      "2. **LangServe**: LangServe는 LangChain을 기반으로 하는 API 서비스입니다. 이 서비스를 통해 개발자는 LangChain의 언어 모델을 쉽게 통합하고 사용할 수 있습니다.\n",
      "\n",
      "3. **LangSmith**: 랭스미스는 개발자가 LangChain을 활용하여 애플리케이션을 개발하고 관리할 수 있는 개발자 플랫폼입니다.\n",
      "\n",
      "이러한 제품들은 LangChain이 제공하는 주요 서비스이며, 개발자들이 AI 언어 모델을 활용하여 다양한 애플리케이션을 개발하고 배포할 수 있도록 지원합니다.\n",
      "\n",
      "LangChain은 언어 모델의 활용을 간소화하고, 개발자들이 창의적이고 혁신적인 애플리케이션을 개발할 수 있도록 돕습니다.\n"
     ]
    }
   ],
   "source": [
    "# chain 호출\n",
    "try:\n",
    "    result = chain2.invoke({\"input\": \"LangChain의 Products(제품)는 어떤 것들이 있나요?\"})\n",
    "    print(type(result))\n",
    "    print(result)\n",
    "except Exception as e:\n",
    "    print(f\"오류 발생: {e}\")"
   ]
  }
 ],
 "metadata": {
  "kernelspec": {
   "display_name": "langchain-basic-kGdHTiMZ-py3.12",
   "language": "python",
   "name": "python3"
  },
  "language_info": {
   "codemirror_mode": {
    "name": "ipython",
    "version": 3
   },
   "file_extension": ".py",
   "mimetype": "text/x-python",
   "name": "python",
   "nbconvert_exporter": "python",
   "pygments_lexer": "ipython3",
   "version": "3.12.7"
  }
 },
 "nbformat": 4,
 "nbformat_minor": 5
}
